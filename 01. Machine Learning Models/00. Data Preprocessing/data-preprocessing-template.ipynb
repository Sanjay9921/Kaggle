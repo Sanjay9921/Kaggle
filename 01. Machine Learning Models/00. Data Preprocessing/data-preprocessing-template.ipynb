{
 "cells": [
  {
   "cell_type": "code",
   "execution_count": 1,
   "id": "cfb44dfe",
   "metadata": {
    "_cell_guid": "b1076dfc-b9ad-4769-8c92-a6c4dae69d19",
    "_uuid": "8f2839f25d086af736a60e9eeb907d3b93b6e0e5",
    "execution": {
     "iopub.execute_input": "2023-10-14T11:43:29.331657Z",
     "iopub.status.busy": "2023-10-14T11:43:29.331084Z",
     "iopub.status.idle": "2023-10-14T11:43:29.742827Z",
     "shell.execute_reply": "2023-10-14T11:43:29.740067Z"
    },
    "papermill": {
     "duration": 0.422517,
     "end_time": "2023-10-14T11:43:29.745599",
     "exception": false,
     "start_time": "2023-10-14T11:43:29.323082",
     "status": "completed"
    },
    "tags": []
   },
   "outputs": [
    {
     "name": "stdout",
     "output_type": "stream",
     "text": [
      "/kaggle/input/years-of-experience-and-salary-dataset/Salary_Data.csv\n"
     ]
    }
   ],
   "source": [
    "# This Python 3 environment comes with many helpful analytics libraries installed\n",
    "# It is defined by the kaggle/python Docker image: https://github.com/kaggle/docker-python\n",
    "# For example, here's several helpful packages to load\n",
    "\n",
    "import numpy as np # linear algebra\n",
    "import pandas as pd # data processing, CSV file I/O (e.g. pd.read_csv)\n",
    "\n",
    "# Input data files are available in the read-only \"../input/\" directory\n",
    "# For example, running this (by clicking run or pressing Shift+Enter) will list all files under the input directory\n",
    "\n",
    "import os\n",
    "for dirname, _, filenames in os.walk('/kaggle/input'):\n",
    "    for filename in filenames:\n",
    "        print(os.path.join(dirname, filename))\n",
    "\n",
    "# You can write up to 20GB to the current directory (/kaggle/working/) that gets preserved as output when you create a version using \"Save & Run All\" \n",
    "# You can also write temporary files to /kaggle/temp/, but they won't be saved outside of the current session"
   ]
  },
  {
   "cell_type": "markdown",
   "id": "aa08d8ce",
   "metadata": {
    "papermill": {
     "duration": 0.006431,
     "end_time": "2023-10-14T11:43:29.758256",
     "exception": false,
     "start_time": "2023-10-14T11:43:29.751825",
     "status": "completed"
    },
    "tags": []
   },
   "source": [
    "<a id=\"index\"></a>\n",
    "# Table of Content\n",
    "\n",
    "1. [Importing Libraries](#1)\n",
    "2. [Importing Dataset](#2)\n",
    "3. [Creating Dependent and Independent Variables](#3)\n",
    "4. [Data Preprocessing](#4)\n",
    "    - [Missing Data](#4.1) \n",
    "    - [Encodings](#4.2) \n",
    "    - [Train and Test Split](#4.3)\n",
    "    - [Feature Scaling](#4.4)\n",
    "5. [Simple Linear Regression](#5)\n",
    "    - [Create a Model](#5.1)\n",
    "    - [Predict](#5.2)\n",
    "    - [Coefficient and Intercept](#5.3)\n",
    "6. [Visualization](#6)\n",
    "    - [Training Data Viz](#6.1)\n",
    "    - [Test Data Viz](#6.2)\n",
    "7. [Data Analysis](#7)"
   ]
  },
  {
   "cell_type": "markdown",
   "id": "d76ea914",
   "metadata": {
    "papermill": {
     "duration": 0.005475,
     "end_time": "2023-10-14T11:43:29.770339",
     "exception": false,
     "start_time": "2023-10-14T11:43:29.764864",
     "status": "completed"
    },
    "tags": []
   },
   "source": [
    "<a id=\"1\"></a>\n",
    "# 1. Importing Libraries\n",
    "\n",
    "[Go back to Index](#index)"
   ]
  },
  {
   "cell_type": "code",
   "execution_count": 2,
   "id": "07d7117f",
   "metadata": {
    "execution": {
     "iopub.execute_input": "2023-10-14T11:43:29.786678Z",
     "iopub.status.busy": "2023-10-14T11:43:29.784353Z",
     "iopub.status.idle": "2023-10-14T11:43:31.826412Z",
     "shell.execute_reply": "2023-10-14T11:43:31.824968Z"
    },
    "papermill": {
     "duration": 2.052424,
     "end_time": "2023-10-14T11:43:31.829703",
     "exception": false,
     "start_time": "2023-10-14T11:43:29.777279",
     "status": "completed"
    },
    "tags": []
   },
   "outputs": [],
   "source": [
    "#1. General\n",
    "import pandas as pd\n",
    "import numpy as np\n",
    "import os\n",
    "import matplotlib.pyplot as plt\n",
    "%matplotlib inline\n",
    "\n",
    "#2. Data Preprocessing\n",
    "##2.1 Fill Missing Data\n",
    "from sklearn.impute import SimpleImputer\n",
    "\n",
    "##2.2 Encoding\n",
    "from sklearn.compose import ColumnTransformer\n",
    "from sklearn.preprocessing import OneHotEncoder\n",
    "from sklearn.preprocessing import LabelEncoder\n",
    "\n",
    "##2.3 Splitting Train and Test\n",
    "from sklearn.model_selection import train_test_split\n",
    "\n",
    "##2.4 Feature Scaling\n",
    "from sklearn.preprocessing import StandardScaler\n",
    "\n",
    "#3. Linear Regression\n",
    "from sklearn.linear_model import LinearRegression"
   ]
  },
  {
   "cell_type": "markdown",
   "id": "77fd79e4",
   "metadata": {
    "papermill": {
     "duration": 0.0068,
     "end_time": "2023-10-14T11:43:31.843257",
     "exception": false,
     "start_time": "2023-10-14T11:43:31.836457",
     "status": "completed"
    },
    "tags": []
   },
   "source": [
    "<a id=\"2\"></a>\n",
    "# 2. Importing Dataset\n",
    "[Go back to Index](#index)"
   ]
  },
  {
   "cell_type": "code",
   "execution_count": 3,
   "id": "6c2c3aef",
   "metadata": {
    "execution": {
     "iopub.execute_input": "2023-10-14T11:43:31.856582Z",
     "iopub.status.busy": "2023-10-14T11:43:31.856248Z",
     "iopub.status.idle": "2023-10-14T11:43:31.896089Z",
     "shell.execute_reply": "2023-10-14T11:43:31.894367Z"
    },
    "papermill": {
     "duration": 0.048942,
     "end_time": "2023-10-14T11:43:31.897971",
     "exception": false,
     "start_time": "2023-10-14T11:43:31.849029",
     "status": "completed"
    },
    "tags": []
   },
   "outputs": [
    {
     "data": {
      "text/html": [
       "<div>\n",
       "<style scoped>\n",
       "    .dataframe tbody tr th:only-of-type {\n",
       "        vertical-align: middle;\n",
       "    }\n",
       "\n",
       "    .dataframe tbody tr th {\n",
       "        vertical-align: top;\n",
       "    }\n",
       "\n",
       "    .dataframe thead th {\n",
       "        text-align: right;\n",
       "    }\n",
       "</style>\n",
       "<table border=\"1\" class=\"dataframe\">\n",
       "  <thead>\n",
       "    <tr style=\"text-align: right;\">\n",
       "      <th></th>\n",
       "      <th>YearsExperience</th>\n",
       "      <th>Salary</th>\n",
       "    </tr>\n",
       "  </thead>\n",
       "  <tbody>\n",
       "    <tr>\n",
       "      <th>0</th>\n",
       "      <td>1.1</td>\n",
       "      <td>39343.0</td>\n",
       "    </tr>\n",
       "    <tr>\n",
       "      <th>1</th>\n",
       "      <td>1.3</td>\n",
       "      <td>46205.0</td>\n",
       "    </tr>\n",
       "  </tbody>\n",
       "</table>\n",
       "</div>"
      ],
      "text/plain": [
       "   YearsExperience   Salary\n",
       "0              1.1  39343.0\n",
       "1              1.3  46205.0"
      ]
     },
     "execution_count": 3,
     "metadata": {},
     "output_type": "execute_result"
    }
   ],
   "source": [
    "df = pd.read_csv(\"/kaggle/input/years-of-experience-and-salary-dataset/Salary_Data.csv\")\n",
    "df.head(2)"
   ]
  },
  {
   "cell_type": "markdown",
   "id": "af6c2206",
   "metadata": {
    "papermill": {
     "duration": 0.005773,
     "end_time": "2023-10-14T11:43:31.909834",
     "exception": false,
     "start_time": "2023-10-14T11:43:31.904061",
     "status": "completed"
    },
    "tags": []
   },
   "source": [
    "<a id=\"3\"></a>\n",
    "# 3. Dependent and Independent Variables\n",
    "[Go back to Index](#index)"
   ]
  },
  {
   "cell_type": "code",
   "execution_count": 4,
   "id": "49163449",
   "metadata": {
    "execution": {
     "iopub.execute_input": "2023-10-14T11:43:31.923889Z",
     "iopub.status.busy": "2023-10-14T11:43:31.923045Z",
     "iopub.status.idle": "2023-10-14T11:43:31.933650Z",
     "shell.execute_reply": "2023-10-14T11:43:31.932449Z"
    },
    "papermill": {
     "duration": 0.020243,
     "end_time": "2023-10-14T11:43:31.935590",
     "exception": false,
     "start_time": "2023-10-14T11:43:31.915347",
     "status": "completed"
    },
    "tags": []
   },
   "outputs": [
    {
     "data": {
      "text/html": [
       "<div>\n",
       "<style scoped>\n",
       "    .dataframe tbody tr th:only-of-type {\n",
       "        vertical-align: middle;\n",
       "    }\n",
       "\n",
       "    .dataframe tbody tr th {\n",
       "        vertical-align: top;\n",
       "    }\n",
       "\n",
       "    .dataframe thead th {\n",
       "        text-align: right;\n",
       "    }\n",
       "</style>\n",
       "<table border=\"1\" class=\"dataframe\">\n",
       "  <thead>\n",
       "    <tr style=\"text-align: right;\">\n",
       "      <th></th>\n",
       "      <th>YearsExperience</th>\n",
       "    </tr>\n",
       "  </thead>\n",
       "  <tbody>\n",
       "    <tr>\n",
       "      <th>0</th>\n",
       "      <td>1.1</td>\n",
       "    </tr>\n",
       "    <tr>\n",
       "      <th>1</th>\n",
       "      <td>1.3</td>\n",
       "    </tr>\n",
       "    <tr>\n",
       "      <th>2</th>\n",
       "      <td>1.5</td>\n",
       "    </tr>\n",
       "    <tr>\n",
       "      <th>3</th>\n",
       "      <td>2.0</td>\n",
       "    </tr>\n",
       "    <tr>\n",
       "      <th>4</th>\n",
       "      <td>2.2</td>\n",
       "    </tr>\n",
       "    <tr>\n",
       "      <th>5</th>\n",
       "      <td>2.9</td>\n",
       "    </tr>\n",
       "    <tr>\n",
       "      <th>6</th>\n",
       "      <td>3.0</td>\n",
       "    </tr>\n",
       "    <tr>\n",
       "      <th>7</th>\n",
       "      <td>3.2</td>\n",
       "    </tr>\n",
       "    <tr>\n",
       "      <th>8</th>\n",
       "      <td>3.2</td>\n",
       "    </tr>\n",
       "    <tr>\n",
       "      <th>9</th>\n",
       "      <td>3.7</td>\n",
       "    </tr>\n",
       "  </tbody>\n",
       "</table>\n",
       "</div>"
      ],
      "text/plain": [
       "   YearsExperience\n",
       "0              1.1\n",
       "1              1.3\n",
       "2              1.5\n",
       "3              2.0\n",
       "4              2.2\n",
       "5              2.9\n",
       "6              3.0\n",
       "7              3.2\n",
       "8              3.2\n",
       "9              3.7"
      ]
     },
     "execution_count": 4,
     "metadata": {},
     "output_type": "execute_result"
    }
   ],
   "source": [
    "#Independent Variable\n",
    "X = df.iloc[:,:-1]\n",
    "X[:10]"
   ]
  },
  {
   "cell_type": "code",
   "execution_count": 5,
   "id": "eb25bde9",
   "metadata": {
    "execution": {
     "iopub.execute_input": "2023-10-14T11:43:31.949352Z",
     "iopub.status.busy": "2023-10-14T11:43:31.949033Z",
     "iopub.status.idle": "2023-10-14T11:43:31.959080Z",
     "shell.execute_reply": "2023-10-14T11:43:31.956748Z"
    },
    "papermill": {
     "duration": 0.019521,
     "end_time": "2023-10-14T11:43:31.961250",
     "exception": false,
     "start_time": "2023-10-14T11:43:31.941729",
     "status": "completed"
    },
    "tags": []
   },
   "outputs": [
    {
     "data": {
      "text/plain": [
       "0    39343.0\n",
       "1    46205.0\n",
       "2    37731.0\n",
       "3    43525.0\n",
       "4    39891.0\n",
       "5    56642.0\n",
       "6    60150.0\n",
       "7    54445.0\n",
       "8    64445.0\n",
       "9    57189.0\n",
       "Name: Salary, dtype: float64"
      ]
     },
     "execution_count": 5,
     "metadata": {},
     "output_type": "execute_result"
    }
   ],
   "source": [
    "#Dependent Variable\n",
    "y = df.iloc[:,-1]\n",
    "y[:10]"
   ]
  },
  {
   "cell_type": "code",
   "execution_count": 6,
   "id": "be5634ef",
   "metadata": {
    "execution": {
     "iopub.execute_input": "2023-10-14T11:43:31.977150Z",
     "iopub.status.busy": "2023-10-14T11:43:31.975330Z",
     "iopub.status.idle": "2023-10-14T11:43:31.983179Z",
     "shell.execute_reply": "2023-10-14T11:43:31.981159Z"
    },
    "papermill": {
     "duration": 0.018954,
     "end_time": "2023-10-14T11:43:31.986433",
     "exception": false,
     "start_time": "2023-10-14T11:43:31.967479",
     "status": "completed"
    },
    "tags": []
   },
   "outputs": [],
   "source": [
    "#Convert the DataFrames/Series into Arrays\n",
    "X = X.values\n",
    "y = y.values"
   ]
  },
  {
   "cell_type": "code",
   "execution_count": 7,
   "id": "efc74e52",
   "metadata": {
    "execution": {
     "iopub.execute_input": "2023-10-14T11:43:32.002939Z",
     "iopub.status.busy": "2023-10-14T11:43:32.002563Z",
     "iopub.status.idle": "2023-10-14T11:43:32.013358Z",
     "shell.execute_reply": "2023-10-14T11:43:32.010015Z"
    },
    "papermill": {
     "duration": 0.023127,
     "end_time": "2023-10-14T11:43:32.017154",
     "exception": false,
     "start_time": "2023-10-14T11:43:31.994027",
     "status": "completed"
    },
    "tags": []
   },
   "outputs": [
    {
     "data": {
      "text/plain": [
       "array([[1.1],\n",
       "       [1.3],\n",
       "       [1.5],\n",
       "       [2. ],\n",
       "       [2.2],\n",
       "       [2.9],\n",
       "       [3. ],\n",
       "       [3.2],\n",
       "       [3.2],\n",
       "       [3.7]])"
      ]
     },
     "execution_count": 7,
     "metadata": {},
     "output_type": "execute_result"
    }
   ],
   "source": [
    "X[:10]"
   ]
  },
  {
   "cell_type": "code",
   "execution_count": 8,
   "id": "d84c7b59",
   "metadata": {
    "execution": {
     "iopub.execute_input": "2023-10-14T11:43:32.034299Z",
     "iopub.status.busy": "2023-10-14T11:43:32.033363Z",
     "iopub.status.idle": "2023-10-14T11:43:32.044182Z",
     "shell.execute_reply": "2023-10-14T11:43:32.041905Z"
    },
    "papermill": {
     "duration": 0.022084,
     "end_time": "2023-10-14T11:43:32.047180",
     "exception": false,
     "start_time": "2023-10-14T11:43:32.025096",
     "status": "completed"
    },
    "tags": []
   },
   "outputs": [
    {
     "data": {
      "text/plain": [
       "array([39343., 46205., 37731., 43525., 39891., 56642., 60150., 54445.,\n",
       "       64445., 57189.])"
      ]
     },
     "execution_count": 8,
     "metadata": {},
     "output_type": "execute_result"
    }
   ],
   "source": [
    "y[:10]"
   ]
  },
  {
   "cell_type": "markdown",
   "id": "f40da4fb",
   "metadata": {
    "papermill": {
     "duration": 0.006428,
     "end_time": "2023-10-14T11:43:32.061095",
     "exception": false,
     "start_time": "2023-10-14T11:43:32.054667",
     "status": "completed"
    },
    "tags": []
   },
   "source": [
    "<a id=\"4\"></a>\n",
    "# 4. Data Preprocessing\n",
    "[Go back to Index](#index)"
   ]
  },
  {
   "cell_type": "markdown",
   "id": "4c0682b4",
   "metadata": {
    "papermill": {
     "duration": 0.006952,
     "end_time": "2023-10-14T11:43:32.077143",
     "exception": false,
     "start_time": "2023-10-14T11:43:32.070191",
     "status": "completed"
    },
    "tags": []
   },
   "source": [
    "<a id=\"4.1\"></a>\n",
    "## 4.1 Missing Data \n",
    "[Go back to Index](#index)"
   ]
  },
  {
   "cell_type": "code",
   "execution_count": 9,
   "id": "6739d553",
   "metadata": {
    "execution": {
     "iopub.execute_input": "2023-10-14T11:43:32.091455Z",
     "iopub.status.busy": "2023-10-14T11:43:32.091092Z",
     "iopub.status.idle": "2023-10-14T11:43:32.103567Z",
     "shell.execute_reply": "2023-10-14T11:43:32.101497Z"
    },
    "papermill": {
     "duration": 0.023617,
     "end_time": "2023-10-14T11:43:32.107032",
     "exception": false,
     "start_time": "2023-10-14T11:43:32.083415",
     "status": "completed"
    },
    "tags": []
   },
   "outputs": [
    {
     "data": {
      "text/plain": [
       "YearsExperience    0\n",
       "dtype: int64"
      ]
     },
     "execution_count": 9,
     "metadata": {},
     "output_type": "execute_result"
    }
   ],
   "source": [
    "# X as DataFrame\n",
    "df.iloc[:,:-1].isnull().sum()"
   ]
  },
  {
   "cell_type": "code",
   "execution_count": 10,
   "id": "d896931d",
   "metadata": {
    "execution": {
     "iopub.execute_input": "2023-10-14T11:43:32.123699Z",
     "iopub.status.busy": "2023-10-14T11:43:32.123363Z",
     "iopub.status.idle": "2023-10-14T11:43:32.131765Z",
     "shell.execute_reply": "2023-10-14T11:43:32.130651Z"
    },
    "papermill": {
     "duration": 0.019165,
     "end_time": "2023-10-14T11:43:32.134220",
     "exception": false,
     "start_time": "2023-10-14T11:43:32.115055",
     "status": "completed"
    },
    "tags": []
   },
   "outputs": [
    {
     "data": {
      "text/plain": [
       "0"
      ]
     },
     "execution_count": 10,
     "metadata": {},
     "output_type": "execute_result"
    }
   ],
   "source": [
    "# y as DataFrame\n",
    "df.iloc[:,-1].isnull().sum()"
   ]
  },
  {
   "cell_type": "code",
   "execution_count": 11,
   "id": "be1cb9b8",
   "metadata": {
    "execution": {
     "iopub.execute_input": "2023-10-14T11:43:32.151113Z",
     "iopub.status.busy": "2023-10-14T11:43:32.150743Z",
     "iopub.status.idle": "2023-10-14T11:43:32.161315Z",
     "shell.execute_reply": "2023-10-14T11:43:32.159327Z"
    },
    "papermill": {
     "duration": 0.021896,
     "end_time": "2023-10-14T11:43:32.163981",
     "exception": false,
     "start_time": "2023-10-14T11:43:32.142085",
     "status": "completed"
    },
    "tags": []
   },
   "outputs": [
    {
     "data": {
      "text/plain": [
       "'\\n\"\"\"Sample code if missing data is found\"\"\"\\n\\n\"\"\"X:= array\"\"\"\\nimputer = SimpleImputer(missing_values=np.nan, strategy=\\'mean\\')\\nimputer.fit(X[:, 1:3])\\nX[:, 1:3] = imputer.transform(X[:, 1:3])\\n'"
      ]
     },
     "execution_count": 11,
     "metadata": {},
     "output_type": "execute_result"
    }
   ],
   "source": [
    "'''\n",
    "\"\"\"Sample code if missing data is found\"\"\"\n",
    "\n",
    "\"\"\"X:= array\"\"\"\n",
    "imputer = SimpleImputer(missing_values=np.nan, strategy='mean')\n",
    "imputer.fit(X[:, 1:3])\n",
    "X[:, 1:3] = imputer.transform(X[:, 1:3])\n",
    "'''"
   ]
  },
  {
   "cell_type": "markdown",
   "id": "fb2c1afb",
   "metadata": {
    "papermill": {
     "duration": 0.006779,
     "end_time": "2023-10-14T11:43:32.282218",
     "exception": false,
     "start_time": "2023-10-14T11:43:32.275439",
     "status": "completed"
    },
    "tags": []
   },
   "source": [
    "<a id=\"4.2\"></a>\n",
    "## 4.2 Encodings\n",
    "[Go back to Index](#index)"
   ]
  },
  {
   "cell_type": "code",
   "execution_count": 12,
   "id": "d6c04871",
   "metadata": {
    "execution": {
     "iopub.execute_input": "2023-10-14T11:43:32.297067Z",
     "iopub.status.busy": "2023-10-14T11:43:32.296674Z",
     "iopub.status.idle": "2023-10-14T11:43:32.304156Z",
     "shell.execute_reply": "2023-10-14T11:43:32.303013Z"
    },
    "papermill": {
     "duration": 0.018315,
     "end_time": "2023-10-14T11:43:32.307180",
     "exception": false,
     "start_time": "2023-10-14T11:43:32.288865",
     "status": "completed"
    },
    "tags": []
   },
   "outputs": [
    {
     "data": {
      "text/plain": [
       "Index(['YearsExperience', 'Salary'], dtype='object')"
      ]
     },
     "execution_count": 12,
     "metadata": {},
     "output_type": "execute_result"
    }
   ],
   "source": [
    "df.columns"
   ]
  },
  {
   "cell_type": "code",
   "execution_count": 13,
   "id": "18f79711",
   "metadata": {
    "execution": {
     "iopub.execute_input": "2023-10-14T11:43:32.326846Z",
     "iopub.status.busy": "2023-10-14T11:43:32.326429Z",
     "iopub.status.idle": "2023-10-14T11:43:32.332477Z",
     "shell.execute_reply": "2023-10-14T11:43:32.331720Z"
    },
    "papermill": {
     "duration": 0.021602,
     "end_time": "2023-10-14T11:43:32.336770",
     "exception": false,
     "start_time": "2023-10-14T11:43:32.315168",
     "status": "completed"
    },
    "tags": []
   },
   "outputs": [
    {
     "data": {
      "text/plain": [
       "'\\n\"\"\"Sample code if categorical variables exist\"\"\"\\n\\n\"\"\"X:= (independent) array\"\"\"\\n\\n# [0] = categorical column to perform OHE on\\nct = ColumnTransformer(transformers=[(\\'encoder\\', OneHotEncoder(), [0])], remainder=\\'passthrough\\')\\nnp.array(ct.fit_transform(X))\\nX = np.array(ct.fit_transform(X))\\n\\n\"\"\"y:= (dependent) array\"\"\"\\n\\nle = LabelEncoder()\\ny = le.fit_transform(y)\\n\\n'"
      ]
     },
     "execution_count": 13,
     "metadata": {},
     "output_type": "execute_result"
    }
   ],
   "source": [
    "'''\n",
    "\"\"\"Sample code if categorical variables exist\"\"\"\n",
    "\n",
    "\"\"\"X:= (independent) array\"\"\"\n",
    "\n",
    "# [0] = categorical column to perform OHE on\n",
    "ct = ColumnTransformer(transformers=[('encoder', OneHotEncoder(), [0])], remainder='passthrough')\n",
    "np.array(ct.fit_transform(X))\n",
    "X = np.array(ct.fit_transform(X))\n",
    "\n",
    "\"\"\"y:= (dependent) array\"\"\"\n",
    "\n",
    "le = LabelEncoder()\n",
    "y = le.fit_transform(y)\n",
    "\n",
    "'''"
   ]
  },
  {
   "cell_type": "markdown",
   "id": "9276ace1",
   "metadata": {
    "papermill": {
     "duration": 0.007411,
     "end_time": "2023-10-14T11:43:32.353129",
     "exception": false,
     "start_time": "2023-10-14T11:43:32.345718",
     "status": "completed"
    },
    "tags": []
   },
   "source": [
    "<a id=\"4.3\"></a>\n",
    "## 4.3 Splitting Dataset into Train and Test\n",
    "[Go back to Index](#index)"
   ]
  },
  {
   "cell_type": "code",
   "execution_count": 14,
   "id": "5d8eba25",
   "metadata": {
    "execution": {
     "iopub.execute_input": "2023-10-14T11:43:32.369851Z",
     "iopub.status.busy": "2023-10-14T11:43:32.369213Z",
     "iopub.status.idle": "2023-10-14T11:43:32.376447Z",
     "shell.execute_reply": "2023-10-14T11:43:32.375367Z"
    },
    "papermill": {
     "duration": 0.018466,
     "end_time": "2023-10-14T11:43:32.379065",
     "exception": false,
     "start_time": "2023-10-14T11:43:32.360599",
     "status": "completed"
    },
    "tags": []
   },
   "outputs": [
    {
     "data": {
      "text/plain": [
       "array([[1.1],\n",
       "       [1.3],\n",
       "       [1.5],\n",
       "       [2. ],\n",
       "       [2.2]])"
      ]
     },
     "execution_count": 14,
     "metadata": {},
     "output_type": "execute_result"
    }
   ],
   "source": [
    "X[:5]"
   ]
  },
  {
   "cell_type": "code",
   "execution_count": 15,
   "id": "3f313eb3",
   "metadata": {
    "execution": {
     "iopub.execute_input": "2023-10-14T11:43:32.396790Z",
     "iopub.status.busy": "2023-10-14T11:43:32.396207Z",
     "iopub.status.idle": "2023-10-14T11:43:32.404251Z",
     "shell.execute_reply": "2023-10-14T11:43:32.401444Z"
    },
    "papermill": {
     "duration": 0.019888,
     "end_time": "2023-10-14T11:43:32.407266",
     "exception": false,
     "start_time": "2023-10-14T11:43:32.387378",
     "status": "completed"
    },
    "tags": []
   },
   "outputs": [
    {
     "data": {
      "text/plain": [
       "array([39343., 46205., 37731., 43525., 39891.])"
      ]
     },
     "execution_count": 15,
     "metadata": {},
     "output_type": "execute_result"
    }
   ],
   "source": [
    "y[:5]"
   ]
  },
  {
   "cell_type": "code",
   "execution_count": 16,
   "id": "387604f7",
   "metadata": {
    "execution": {
     "iopub.execute_input": "2023-10-14T11:43:32.424416Z",
     "iopub.status.busy": "2023-10-14T11:43:32.424009Z",
     "iopub.status.idle": "2023-10-14T11:43:32.432157Z",
     "shell.execute_reply": "2023-10-14T11:43:32.430294Z"
    },
    "papermill": {
     "duration": 0.020732,
     "end_time": "2023-10-14T11:43:32.435894",
     "exception": false,
     "start_time": "2023-10-14T11:43:32.415162",
     "status": "completed"
    },
    "tags": []
   },
   "outputs": [],
   "source": [
    "#X, y:= arrays\n",
    "#test_size 0.2:= 20% of the dataset is taken for testing\n",
    "X_train, X_test, y_train, y_test = train_test_split(X, y, test_size=0.2, random_state=1)"
   ]
  },
  {
   "cell_type": "code",
   "execution_count": 17,
   "id": "a85b51ae",
   "metadata": {
    "execution": {
     "iopub.execute_input": "2023-10-14T11:43:32.466254Z",
     "iopub.status.busy": "2023-10-14T11:43:32.465901Z",
     "iopub.status.idle": "2023-10-14T11:43:32.478435Z",
     "shell.execute_reply": "2023-10-14T11:43:32.475216Z"
    },
    "papermill": {
     "duration": 0.03332,
     "end_time": "2023-10-14T11:43:32.482574",
     "exception": false,
     "start_time": "2023-10-14T11:43:32.449254",
     "status": "completed"
    },
    "tags": []
   },
   "outputs": [
    {
     "data": {
      "text/plain": [
       "array([[9.5],\n",
       "       [2. ],\n",
       "       [8.7],\n",
       "       [7.9],\n",
       "       [8.2],\n",
       "       [2.2],\n",
       "       [1.5],\n",
       "       [9. ],\n",
       "       [3. ],\n",
       "       [5.9]])"
      ]
     },
     "execution_count": 17,
     "metadata": {},
     "output_type": "execute_result"
    }
   ],
   "source": [
    "X_train[:10]"
   ]
  },
  {
   "cell_type": "code",
   "execution_count": 18,
   "id": "0211b571",
   "metadata": {
    "execution": {
     "iopub.execute_input": "2023-10-14T11:43:32.502415Z",
     "iopub.status.busy": "2023-10-14T11:43:32.502044Z",
     "iopub.status.idle": "2023-10-14T11:43:32.507295Z",
     "shell.execute_reply": "2023-10-14T11:43:32.506551Z"
    },
    "papermill": {
     "duration": 0.019487,
     "end_time": "2023-10-14T11:43:32.510476",
     "exception": false,
     "start_time": "2023-10-14T11:43:32.490989",
     "status": "completed"
    },
    "tags": []
   },
   "outputs": [
    {
     "data": {
      "text/plain": [
       "array([116969.,  43525., 109431., 101302., 113812.,  39891.,  37731.,\n",
       "       105582.,  60150.,  81363.])"
      ]
     },
     "execution_count": 18,
     "metadata": {},
     "output_type": "execute_result"
    }
   ],
   "source": [
    "y_train[:10]"
   ]
  },
  {
   "cell_type": "markdown",
   "id": "88621b66",
   "metadata": {
    "papermill": {
     "duration": 0.009446,
     "end_time": "2023-10-14T11:43:32.527320",
     "exception": false,
     "start_time": "2023-10-14T11:43:32.517874",
     "status": "completed"
    },
    "tags": []
   },
   "source": [
    "<a id=\"4.4\"></a>\n",
    "## 4.4 Feature Scaling\n",
    "[Go back to Index](#index)"
   ]
  },
  {
   "cell_type": "code",
   "execution_count": 19,
   "id": "85de6632",
   "metadata": {
    "execution": {
     "iopub.execute_input": "2023-10-14T11:43:32.545952Z",
     "iopub.status.busy": "2023-10-14T11:43:32.545657Z",
     "iopub.status.idle": "2023-10-14T11:43:32.553268Z",
     "shell.execute_reply": "2023-10-14T11:43:32.552236Z"
    },
    "papermill": {
     "duration": 0.021227,
     "end_time": "2023-10-14T11:43:32.556687",
     "exception": false,
     "start_time": "2023-10-14T11:43:32.535460",
     "status": "completed"
    },
    "tags": []
   },
   "outputs": [
    {
     "data": {
      "text/plain": [
       "'\\n\"\"\"Sample code if categorical variables exist\"\"\"\\n\\nsc = StandardScaler()\\nX_train = sc.fit_transform(X_train)\\nX_test = sc.transform(X_test)\\n\\n'"
      ]
     },
     "execution_count": 19,
     "metadata": {},
     "output_type": "execute_result"
    }
   ],
   "source": [
    "'''\n",
    "\"\"\"Sample code if categorical variables exist\"\"\"\n",
    "\n",
    "sc = StandardScaler()\n",
    "X_train = sc.fit_transform(X_train)\n",
    "X_test = sc.transform(X_test)\n",
    "\n",
    "'''"
   ]
  },
  {
   "cell_type": "markdown",
   "id": "6b5f90d8",
   "metadata": {
    "papermill": {
     "duration": 0.007498,
     "end_time": "2023-10-14T11:43:32.574070",
     "exception": false,
     "start_time": "2023-10-14T11:43:32.566572",
     "status": "completed"
    },
    "tags": []
   },
   "source": [
    "<a id=\"5\"></a>\n",
    "# 5. Simple Linear Regression\n",
    "[Go back to Index](#index)\n",
    "\n",
    "`y = bi*Xi + b0`\n",
    "\n",
    "`bi`:=Coefficient(s)\n",
    "\n",
    "`b0`:=Intercept"
   ]
  },
  {
   "cell_type": "markdown",
   "id": "18dd4e7f",
   "metadata": {
    "papermill": {
     "duration": 0.007224,
     "end_time": "2023-10-14T11:43:32.589063",
     "exception": false,
     "start_time": "2023-10-14T11:43:32.581839",
     "status": "completed"
    },
    "tags": []
   },
   "source": [
    "<a id=\"5.1\"></a>\n",
    "## 5.1 Create Model \n",
    "[Go back to Index](#index)"
   ]
  },
  {
   "cell_type": "code",
   "execution_count": 20,
   "id": "ba6376e2",
   "metadata": {
    "execution": {
     "iopub.execute_input": "2023-10-14T11:43:32.607740Z",
     "iopub.status.busy": "2023-10-14T11:43:32.607356Z",
     "iopub.status.idle": "2023-10-14T11:43:32.640328Z",
     "shell.execute_reply": "2023-10-14T11:43:32.638738Z"
    },
    "papermill": {
     "duration": 0.045895,
     "end_time": "2023-10-14T11:43:32.642655",
     "exception": false,
     "start_time": "2023-10-14T11:43:32.596760",
     "status": "completed"
    },
    "tags": []
   },
   "outputs": [
    {
     "data": {
      "text/html": [
       "<style>#sk-container-id-1 {color: black;background-color: white;}#sk-container-id-1 pre{padding: 0;}#sk-container-id-1 div.sk-toggleable {background-color: white;}#sk-container-id-1 label.sk-toggleable__label {cursor: pointer;display: block;width: 100%;margin-bottom: 0;padding: 0.3em;box-sizing: border-box;text-align: center;}#sk-container-id-1 label.sk-toggleable__label-arrow:before {content: \"▸\";float: left;margin-right: 0.25em;color: #696969;}#sk-container-id-1 label.sk-toggleable__label-arrow:hover:before {color: black;}#sk-container-id-1 div.sk-estimator:hover label.sk-toggleable__label-arrow:before {color: black;}#sk-container-id-1 div.sk-toggleable__content {max-height: 0;max-width: 0;overflow: hidden;text-align: left;background-color: #f0f8ff;}#sk-container-id-1 div.sk-toggleable__content pre {margin: 0.2em;color: black;border-radius: 0.25em;background-color: #f0f8ff;}#sk-container-id-1 input.sk-toggleable__control:checked~div.sk-toggleable__content {max-height: 200px;max-width: 100%;overflow: auto;}#sk-container-id-1 input.sk-toggleable__control:checked~label.sk-toggleable__label-arrow:before {content: \"▾\";}#sk-container-id-1 div.sk-estimator input.sk-toggleable__control:checked~label.sk-toggleable__label {background-color: #d4ebff;}#sk-container-id-1 div.sk-label input.sk-toggleable__control:checked~label.sk-toggleable__label {background-color: #d4ebff;}#sk-container-id-1 input.sk-hidden--visually {border: 0;clip: rect(1px 1px 1px 1px);clip: rect(1px, 1px, 1px, 1px);height: 1px;margin: -1px;overflow: hidden;padding: 0;position: absolute;width: 1px;}#sk-container-id-1 div.sk-estimator {font-family: monospace;background-color: #f0f8ff;border: 1px dotted black;border-radius: 0.25em;box-sizing: border-box;margin-bottom: 0.5em;}#sk-container-id-1 div.sk-estimator:hover {background-color: #d4ebff;}#sk-container-id-1 div.sk-parallel-item::after {content: \"\";width: 100%;border-bottom: 1px solid gray;flex-grow: 1;}#sk-container-id-1 div.sk-label:hover label.sk-toggleable__label {background-color: #d4ebff;}#sk-container-id-1 div.sk-serial::before {content: \"\";position: absolute;border-left: 1px solid gray;box-sizing: border-box;top: 0;bottom: 0;left: 50%;z-index: 0;}#sk-container-id-1 div.sk-serial {display: flex;flex-direction: column;align-items: center;background-color: white;padding-right: 0.2em;padding-left: 0.2em;position: relative;}#sk-container-id-1 div.sk-item {position: relative;z-index: 1;}#sk-container-id-1 div.sk-parallel {display: flex;align-items: stretch;justify-content: center;background-color: white;position: relative;}#sk-container-id-1 div.sk-item::before, #sk-container-id-1 div.sk-parallel-item::before {content: \"\";position: absolute;border-left: 1px solid gray;box-sizing: border-box;top: 0;bottom: 0;left: 50%;z-index: -1;}#sk-container-id-1 div.sk-parallel-item {display: flex;flex-direction: column;z-index: 1;position: relative;background-color: white;}#sk-container-id-1 div.sk-parallel-item:first-child::after {align-self: flex-end;width: 50%;}#sk-container-id-1 div.sk-parallel-item:last-child::after {align-self: flex-start;width: 50%;}#sk-container-id-1 div.sk-parallel-item:only-child::after {width: 0;}#sk-container-id-1 div.sk-dashed-wrapped {border: 1px dashed gray;margin: 0 0.4em 0.5em 0.4em;box-sizing: border-box;padding-bottom: 0.4em;background-color: white;}#sk-container-id-1 div.sk-label label {font-family: monospace;font-weight: bold;display: inline-block;line-height: 1.2em;}#sk-container-id-1 div.sk-label-container {text-align: center;}#sk-container-id-1 div.sk-container {/* jupyter's `normalize.less` sets `[hidden] { display: none; }` but bootstrap.min.css set `[hidden] { display: none !important; }` so we also need the `!important` here to be able to override the default hidden behavior on the sphinx rendered scikit-learn.org. See: https://github.com/scikit-learn/scikit-learn/issues/21755 */display: inline-block !important;position: relative;}#sk-container-id-1 div.sk-text-repr-fallback {display: none;}</style><div id=\"sk-container-id-1\" class=\"sk-top-container\"><div class=\"sk-text-repr-fallback\"><pre>LinearRegression()</pre><b>In a Jupyter environment, please rerun this cell to show the HTML representation or trust the notebook. <br />On GitHub, the HTML representation is unable to render, please try loading this page with nbviewer.org.</b></div><div class=\"sk-container\" hidden><div class=\"sk-item\"><div class=\"sk-estimator sk-toggleable\"><input class=\"sk-toggleable__control sk-hidden--visually\" id=\"sk-estimator-id-1\" type=\"checkbox\" checked><label for=\"sk-estimator-id-1\" class=\"sk-toggleable__label sk-toggleable__label-arrow\">LinearRegression</label><div class=\"sk-toggleable__content\"><pre>LinearRegression()</pre></div></div></div></div></div>"
      ],
      "text/plain": [
       "LinearRegression()"
      ]
     },
     "execution_count": 20,
     "metadata": {},
     "output_type": "execute_result"
    }
   ],
   "source": [
    "simple_regressor = LinearRegression()\n",
    "simple_regressor.fit(X_train, y_train)"
   ]
  },
  {
   "cell_type": "markdown",
   "id": "a1774709",
   "metadata": {
    "papermill": {
     "duration": 0.011883,
     "end_time": "2023-10-14T11:43:32.665822",
     "exception": false,
     "start_time": "2023-10-14T11:43:32.653939",
     "status": "completed"
    },
    "tags": []
   },
   "source": [
    "<a id=\"5.2\"></a>\n",
    "## 5.2 Predict \n",
    "[Go back to Index](#index)"
   ]
  },
  {
   "cell_type": "code",
   "execution_count": 21,
   "id": "13440fca",
   "metadata": {
    "execution": {
     "iopub.execute_input": "2023-10-14T11:43:32.684767Z",
     "iopub.status.busy": "2023-10-14T11:43:32.684393Z",
     "iopub.status.idle": "2023-10-14T11:43:32.693116Z",
     "shell.execute_reply": "2023-10-14T11:43:32.691385Z"
    },
    "papermill": {
     "duration": 0.021412,
     "end_time": "2023-10-14T11:43:32.696018",
     "exception": false,
     "start_time": "2023-10-14T11:43:32.674606",
     "status": "completed"
    },
    "tags": []
   },
   "outputs": [
    {
     "data": {
      "text/plain": [
       "array([75074.50510972, 91873.8056381 , 62008.38247653, 81607.56642631,\n",
       "       67608.14931932, 89073.92221671])"
      ]
     },
     "execution_count": 21,
     "metadata": {},
     "output_type": "execute_result"
    }
   ],
   "source": [
    "y_pred = simple_regressor.predict(X_test)\n",
    "y_pred[:10]"
   ]
  },
  {
   "cell_type": "code",
   "execution_count": 22,
   "id": "4055054d",
   "metadata": {
    "execution": {
     "iopub.execute_input": "2023-10-14T11:43:32.714498Z",
     "iopub.status.busy": "2023-10-14T11:43:32.714171Z",
     "iopub.status.idle": "2023-10-14T11:43:32.721580Z",
     "shell.execute_reply": "2023-10-14T11:43:32.719704Z"
    },
    "papermill": {
     "duration": 0.019038,
     "end_time": "2023-10-14T11:43:32.723673",
     "exception": false,
     "start_time": "2023-10-14T11:43:32.704635",
     "status": "completed"
    },
    "tags": []
   },
   "outputs": [
    {
     "data": {
      "text/plain": [
       "array([83088., 98273., 63218., 93940., 61111., 91738.])"
      ]
     },
     "execution_count": 22,
     "metadata": {},
     "output_type": "execute_result"
    }
   ],
   "source": [
    "y_test[:10]"
   ]
  },
  {
   "cell_type": "code",
   "execution_count": 23,
   "id": "8587c61e",
   "metadata": {
    "execution": {
     "iopub.execute_input": "2023-10-14T11:43:32.741880Z",
     "iopub.status.busy": "2023-10-14T11:43:32.741297Z",
     "iopub.status.idle": "2023-10-14T11:43:32.750415Z",
     "shell.execute_reply": "2023-10-14T11:43:32.748250Z"
    },
    "papermill": {
     "duration": 0.021934,
     "end_time": "2023-10-14T11:43:32.753717",
     "exception": false,
     "start_time": "2023-10-14T11:43:32.731783",
     "status": "completed"
    },
    "tags": []
   },
   "outputs": [
    {
     "data": {
      "text/plain": [
       "array([137605.23485427])"
      ]
     },
     "execution_count": 23,
     "metadata": {},
     "output_type": "execute_result"
    }
   ],
   "source": [
    "#Predict the salary if the years of experience = 12\n",
    "simple_regressor.predict([[12]]) #Input must be 2D Array"
   ]
  },
  {
   "cell_type": "markdown",
   "id": "b3b2b248",
   "metadata": {
    "papermill": {
     "duration": 0.009202,
     "end_time": "2023-10-14T11:43:32.771073",
     "exception": false,
     "start_time": "2023-10-14T11:43:32.761871",
     "status": "completed"
    },
    "tags": []
   },
   "source": [
    "<a id=\"5.3\"></a>\n",
    "## 5.3 Coefficient and Intercept\n",
    "[Go back to Index](#index)"
   ]
  },
  {
   "cell_type": "code",
   "execution_count": 24,
   "id": "55abed9e",
   "metadata": {
    "execution": {
     "iopub.execute_input": "2023-10-14T11:43:32.788364Z",
     "iopub.status.busy": "2023-10-14T11:43:32.787896Z",
     "iopub.status.idle": "2023-10-14T11:43:32.797389Z",
     "shell.execute_reply": "2023-10-14T11:43:32.794833Z"
    },
    "papermill": {
     "duration": 0.022121,
     "end_time": "2023-10-14T11:43:32.800350",
     "exception": false,
     "start_time": "2023-10-14T11:43:32.778229",
     "status": "completed"
    },
    "tags": []
   },
   "outputs": [
    {
     "data": {
      "text/plain": [
       "array([9332.94473799])"
      ]
     },
     "execution_count": 24,
     "metadata": {},
     "output_type": "execute_result"
    }
   ],
   "source": [
    "m = simple_regressor.coef_\n",
    "m"
   ]
  },
  {
   "cell_type": "code",
   "execution_count": 25,
   "id": "17fd0c45",
   "metadata": {
    "execution": {
     "iopub.execute_input": "2023-10-14T11:43:32.819917Z",
     "iopub.status.busy": "2023-10-14T11:43:32.819556Z",
     "iopub.status.idle": "2023-10-14T11:43:32.827886Z",
     "shell.execute_reply": "2023-10-14T11:43:32.825576Z"
    },
    "papermill": {
     "duration": 0.021372,
     "end_time": "2023-10-14T11:43:32.830960",
     "exception": false,
     "start_time": "2023-10-14T11:43:32.809588",
     "status": "completed"
    },
    "tags": []
   },
   "outputs": [
    {
     "data": {
      "text/plain": [
       "25609.89799835482"
      ]
     },
     "execution_count": 25,
     "metadata": {},
     "output_type": "execute_result"
    }
   ],
   "source": [
    "b = simple_regressor.intercept_\n",
    "b"
   ]
  },
  {
   "cell_type": "code",
   "execution_count": 26,
   "id": "30e4a470",
   "metadata": {
    "execution": {
     "iopub.execute_input": "2023-10-14T11:43:32.855098Z",
     "iopub.status.busy": "2023-10-14T11:43:32.854681Z",
     "iopub.status.idle": "2023-10-14T11:43:32.866599Z",
     "shell.execute_reply": "2023-10-14T11:43:32.863183Z"
    },
    "papermill": {
     "duration": 0.028561,
     "end_time": "2023-10-14T11:43:32.870011",
     "exception": false,
     "start_time": "2023-10-14T11:43:32.841450",
     "status": "completed"
    },
    "tags": []
   },
   "outputs": [
    {
     "data": {
      "text/plain": [
       "array([137605.23485427])"
      ]
     },
     "execution_count": 26,
     "metadata": {},
     "output_type": "execute_result"
    }
   ],
   "source": [
    "#y = b1*X+b0\n",
    "np.dot(m,np.array(12))+b"
   ]
  },
  {
   "cell_type": "markdown",
   "id": "e77c30c5",
   "metadata": {
    "papermill": {
     "duration": 0.01133,
     "end_time": "2023-10-14T11:43:32.892792",
     "exception": false,
     "start_time": "2023-10-14T11:43:32.881462",
     "status": "completed"
    },
    "tags": []
   },
   "source": [
    "<a id=\"6\"></a>\n",
    "# 6. Visualizations\n",
    "[Go back to Index](#index)"
   ]
  },
  {
   "cell_type": "markdown",
   "id": "7147e082",
   "metadata": {
    "papermill": {
     "duration": 0.008423,
     "end_time": "2023-10-14T11:43:32.910129",
     "exception": false,
     "start_time": "2023-10-14T11:43:32.901706",
     "status": "completed"
    },
    "tags": []
   },
   "source": [
    "<a id=\"6.1\"></a>\n",
    "## 6.1 Training Set Results\n",
    "[Go back to Index](#index)"
   ]
  },
  {
   "cell_type": "code",
   "execution_count": 27,
   "id": "24d03be3",
   "metadata": {
    "execution": {
     "iopub.execute_input": "2023-10-14T11:43:32.927909Z",
     "iopub.status.busy": "2023-10-14T11:43:32.927501Z",
     "iopub.status.idle": "2023-10-14T11:43:33.245589Z",
     "shell.execute_reply": "2023-10-14T11:43:33.244452Z"
    },
    "papermill": {
     "duration": 0.329375,
     "end_time": "2023-10-14T11:43:33.247389",
     "exception": false,
     "start_time": "2023-10-14T11:43:32.918014",
     "status": "completed"
    },
    "tags": []
   },
   "outputs": [
    {
     "data": {
      "image/png": "[encoded data removed]",
      "text/plain": [
       "<Figure size 640x480 with 1 Axes>"
      ]
     },
     "metadata": {},
     "output_type": "display_data"
    }
   ],
   "source": [
    "#Formatting\n",
    "plt.title(\"Salary vs Experience (Training Set)\")\n",
    "plt.xlabel(\"Years of Experience\")\n",
    "plt.ylabel(\"Salary ($)\")\n",
    "\n",
    "#Scatter Plot\n",
    "plt.scatter(X_train, y_train, color=\"red\")\n",
    "\n",
    "#Line Plot\n",
    "plt.plot(X_train, simple_regressor.predict(X_train), color=\"blue\")\n",
    "plt.show()"
   ]
  },
  {
   "cell_type": "markdown",
   "id": "4932965a",
   "metadata": {
    "papermill": {
     "duration": 0.009331,
     "end_time": "2023-10-14T11:43:33.264998",
     "exception": false,
     "start_time": "2023-10-14T11:43:33.255667",
     "status": "completed"
    },
    "tags": []
   },
   "source": [
    "<a id=\"6.2\"></a>\n",
    "## 6.2 Test Set Results\n",
    "[Go back to Index](#index)"
   ]
  },
  {
   "cell_type": "code",
   "execution_count": 28,
   "id": "48924a3f",
   "metadata": {
    "execution": {
     "iopub.execute_input": "2023-10-14T11:43:33.284879Z",
     "iopub.status.busy": "2023-10-14T11:43:33.283356Z",
     "iopub.status.idle": "2023-10-14T11:43:33.455175Z",
     "shell.execute_reply": "2023-10-14T11:43:33.454224Z"
    },
    "papermill": {
     "duration": 0.185052,
     "end_time": "2023-10-14T11:43:33.458449",
     "exception": false,
     "start_time": "2023-10-14T11:43:33.273397",
     "status": "completed"
    },
    "tags": []
   },
   "outputs": [
    {
     "data": {
      "image/png": "[encoded data removed]",
      "text/plain": [
       "<Figure size 640x480 with 1 Axes>"
      ]
     },
     "metadata": {},
     "output_type": "display_data"
    }
   ],
   "source": [
    "#Formatting\n",
    "plt.title(\"Salary vs Experience (Training Set)\")\n",
    "plt.xlabel(\"Years of Experience\")\n",
    "plt.ylabel(\"Salary ($)\")\n",
    "\n",
    "#Scatter Plot\n",
    "plt.scatter(X_test, y_test, color=\"red\")\n",
    "\n",
    "#Line Plot\n",
    "plt.plot(X_train, simple_regressor.predict(X_train), color=\"blue\")\n",
    "plt.show()"
   ]
  },
  {
   "cell_type": "markdown",
   "id": "bc0e1b9a",
   "metadata": {
    "papermill": {
     "duration": 0.020182,
     "end_time": "2023-10-14T11:43:33.494331",
     "exception": false,
     "start_time": "2023-10-14T11:43:33.474149",
     "status": "completed"
    },
    "tags": []
   },
   "source": [
    "<a id=\"7\"></a>\n",
    "# 7. Data Analysis \n",
    "[Go back to Index](#index)"
   ]
  },
  {
   "cell_type": "markdown",
   "id": "51f1d445",
   "metadata": {
    "papermill": {
     "duration": 0.013784,
     "end_time": "2023-10-14T11:43:33.530446",
     "exception": false,
     "start_time": "2023-10-14T11:43:33.516662",
     "status": "completed"
    },
    "tags": []
   },
   "source": [
    "## Q1. Predict the salary of an employee with 10 years of experience"
   ]
  },
  {
   "cell_type": "code",
   "execution_count": 29,
   "id": "6c5c9284",
   "metadata": {
    "execution": {
     "iopub.execute_input": "2023-10-14T11:43:33.553547Z",
     "iopub.status.busy": "2023-10-14T11:43:33.552872Z",
     "iopub.status.idle": "2023-10-14T11:43:33.561971Z",
     "shell.execute_reply": "2023-10-14T11:43:33.560088Z"
    },
    "papermill": {
     "duration": 0.023541,
     "end_time": "2023-10-14T11:43:33.565569",
     "exception": false,
     "start_time": "2023-10-14T11:43:33.542028",
     "status": "completed"
    },
    "tags": []
   },
   "outputs": [
    {
     "name": "stdout",
     "output_type": "stream",
     "text": [
      "The expected salary is: $118939.34537828203\n"
     ]
    }
   ],
   "source": [
    "y_pred = simple_regressor.predict([[10]])\n",
    "y_pred = \"\".join(str(x) for x in y_pred)\n",
    "print(\"The expected salary is: $\" + y_pred)"
   ]
  }
 ],
 "metadata": {
  "kernelspec": {
   "display_name": "Python 3",
   "language": "python",
   "name": "python3"
  },
  "language_info": {
   "codemirror_mode": {
    "name": "ipython",
    "version": 3
   },
   "file_extension": ".py",
   "mimetype": "text/x-python",
   "name": "python",
   "nbconvert_exporter": "python",
   "pygments_lexer": "ipython3",
   "version": "3.10.12"
  },
  "papermill": {
   "default_parameters": {},
   "duration": 7.734482,
   "end_time": "2023-10-14T11:43:34.197376",
   "environment_variables": {},
   "exception": null,
   "input_path": "__notebook__.ipynb",
   "output_path": "__notebook__.ipynb",
   "parameters": {},
   "start_time": "2023-10-14T11:43:26.462894",
   "version": "2.4.0"
  }
 },
 "nbformat": 4,
 "nbformat_minor": 5
}
