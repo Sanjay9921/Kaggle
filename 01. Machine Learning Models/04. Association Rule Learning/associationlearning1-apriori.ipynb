{
 "cells": [
  {
   "cell_type": "code",
   "execution_count": 1,
   "id": "51a5390c",
   "metadata": {
    "_cell_guid": "b1076dfc-b9ad-4769-8c92-a6c4dae69d19",
    "_uuid": "8f2839f25d086af736a60e9eeb907d3b93b6e0e5",
    "execution": {
     "iopub.execute_input": "2023-10-24T14:50:14.235306Z",
     "iopub.status.busy": "2023-10-24T14:50:14.234800Z",
     "iopub.status.idle": "2023-10-24T14:50:14.691686Z",
     "shell.execute_reply": "2023-10-24T14:50:14.690187Z"
    },
    "papermill": {
     "duration": 0.471296,
     "end_time": "2023-10-24T14:50:14.694921",
     "exception": false,
     "start_time": "2023-10-24T14:50:14.223625",
     "status": "completed"
    },
    "tags": []
   },
   "outputs": [
    {
     "name": "stdout",
     "output_type": "stream",
     "text": [
      "/kaggle/input/market-basket-optimization/Market_Basket_Optimisation.csv\n"
     ]
    }
   ],
   "source": [
    "# This Python 3 environment comes with many helpful analytics libraries installed\n",
    "# It is defined by the kaggle/python Docker image: https://github.com/kaggle/docker-python\n",
    "# For example, here's several helpful packages to load\n",
    "\n",
    "import numpy as np # linear algebra\n",
    "import pandas as pd # data processing, CSV file I/O (e.g. pd.read_csv)\n",
    "\n",
    "# Input data files are available in the read-only \"../input/\" directory\n",
    "# For example, running this (by clicking run or pressing Shift+Enter) will list all files under the input directory\n",
    "\n",
    "import os\n",
    "for dirname, _, filenames in os.walk('/kaggle/input'):\n",
    "    for filename in filenames:\n",
    "        print(os.path.join(dirname, filename))\n",
    "\n",
    "# You can write up to 20GB to the current directory (/kaggle/working/) that gets preserved as output when you create a version using \"Save & Run All\" \n",
    "# You can also write temporary files to /kaggle/temp/, but they won't be saved outside of the current session"
   ]
  },
  {
   "cell_type": "markdown",
   "id": "bb0fa03a",
   "metadata": {
    "papermill": {
     "duration": 0.008797,
     "end_time": "2023-10-24T14:50:14.712480",
     "exception": false,
     "start_time": "2023-10-24T14:50:14.703683",
     "status": "completed"
    },
    "tags": []
   },
   "source": [
    "# Credits and Links\n",
    "\n",
    "* UDEMY - Machine Learning A-Z <sup>TM</sup>*"
   ]
  },
  {
   "cell_type": "markdown",
   "id": "9c0713c7",
   "metadata": {
    "papermill": {
     "duration": 0.009297,
     "end_time": "2023-10-24T14:50:14.730958",
     "exception": false,
     "start_time": "2023-10-24T14:50:14.721661",
     "status": "completed"
    },
    "tags": []
   },
   "source": [
    "<a id=\"index\"></a>\n",
    "# Table of Content\n",
    "\n",
    "1. [Importing Libraries](#1)\n",
    "2. [Importing Dataset](#2)\n",
    "3. [Data Preprocessing](#3)\n",
    "4. [Apriori Model Training](#4)\n",
    "5. [Results](#5)"
   ]
  },
  {
   "cell_type": "markdown",
   "id": "25ecc2df",
   "metadata": {
    "papermill": {
     "duration": 0.008296,
     "end_time": "2023-10-24T14:50:14.748082",
     "exception": false,
     "start_time": "2023-10-24T14:50:14.739786",
     "status": "completed"
    },
    "tags": []
   },
   "source": [
    "<a id=\"1\"></a>\n",
    "# 1. Importing Libraries\n",
    "\n",
    "[Go back to Index](#index)"
   ]
  },
  {
   "cell_type": "code",
   "execution_count": 2,
   "id": "1ad47b21",
   "metadata": {
    "execution": {
     "iopub.execute_input": "2023-10-24T14:50:14.767702Z",
     "iopub.status.busy": "2023-10-24T14:50:14.767138Z",
     "iopub.status.idle": "2023-10-24T14:50:33.462528Z",
     "shell.execute_reply": "2023-10-24T14:50:33.461061Z"
    },
    "papermill": {
     "duration": 18.708531,
     "end_time": "2023-10-24T14:50:33.465290",
     "exception": false,
     "start_time": "2023-10-24T14:50:14.756759",
     "status": "completed"
    },
    "tags": []
   },
   "outputs": [
    {
     "name": "stdout",
     "output_type": "stream",
     "text": [
      "Collecting apyori\r\n",
      "  Downloading apyori-1.1.2.tar.gz (8.6 kB)\r\n",
      "  Preparing metadata (setup.py) ... \u001b[?25ldone\r\n",
      "\u001b[?25hBuilding wheels for collected packages: apyori\r\n",
      "  Building wheel for apyori (setup.py) ... \u001b[?25l-\b \bdone\r\n",
      "\u001b[?25h  Created wheel for apyori: filename=apyori-1.1.2-py3-none-any.whl size=5956 sha256=ce5bae54c3e0ccde46b9ea3b3ab513d4bd80d21e608ee85aed882eb264535a17\r\n",
      "  Stored in directory: /root/.cache/pip/wheels/c4/1a/79/20f55c470a50bb3702a8cb7c94d8ada15573538c7f4baebe2d\r\n",
      "Successfully built apyori\r\n",
      "Installing collected packages: apyori\r\n",
      "Successfully installed apyori-1.1.2\r\n"
     ]
    }
   ],
   "source": [
    "!pip install apyori"
   ]
  },
  {
   "cell_type": "code",
   "execution_count": 3,
   "id": "5d27ba1b",
   "metadata": {
    "execution": {
     "iopub.execute_input": "2023-10-24T14:50:33.486735Z",
     "iopub.status.busy": "2023-10-24T14:50:33.486282Z",
     "iopub.status.idle": "2023-10-24T14:50:33.501297Z",
     "shell.execute_reply": "2023-10-24T14:50:33.500388Z"
    },
    "papermill": {
     "duration": 0.028983,
     "end_time": "2023-10-24T14:50:33.503836",
     "exception": false,
     "start_time": "2023-10-24T14:50:33.474853",
     "status": "completed"
    },
    "tags": []
   },
   "outputs": [],
   "source": [
    "#1. General\n",
    "import pandas as pd\n",
    "import numpy as np\n",
    "import os\n",
    "import matplotlib.pyplot as plt\n",
    "%matplotlib inline\n",
    "\n",
    "#2. Apriori Learning\n",
    "from apyori import apriori"
   ]
  },
  {
   "cell_type": "markdown",
   "id": "1e810094",
   "metadata": {
    "papermill": {
     "duration": 0.009033,
     "end_time": "2023-10-24T14:50:33.522473",
     "exception": false,
     "start_time": "2023-10-24T14:50:33.513440",
     "status": "completed"
    },
    "tags": []
   },
   "source": [
    "<a id=\"2\"></a>\n",
    "# 2. Importing Dataset\n",
    "\n",
    "[Go back to Index](#index)"
   ]
  },
  {
   "cell_type": "code",
   "execution_count": 4,
   "id": "e8011a88",
   "metadata": {
    "execution": {
     "iopub.execute_input": "2023-10-24T14:50:33.544519Z",
     "iopub.status.busy": "2023-10-24T14:50:33.544059Z",
     "iopub.status.idle": "2023-10-24T14:50:33.587733Z",
     "shell.execute_reply": "2023-10-24T14:50:33.586399Z"
    },
    "papermill": {
     "duration": 0.056894,
     "end_time": "2023-10-24T14:50:33.590376",
     "exception": false,
     "start_time": "2023-10-24T14:50:33.533482",
     "status": "completed"
    },
    "tags": []
   },
   "outputs": [],
   "source": [
    "df = pd.read_csv(\"/kaggle/input/market-basket-optimization/Market_Basket_Optimisation.csv\", header=None)"
   ]
  },
  {
   "cell_type": "code",
   "execution_count": 5,
   "id": "f814117b",
   "metadata": {
    "execution": {
     "iopub.execute_input": "2023-10-24T14:50:33.611021Z",
     "iopub.status.busy": "2023-10-24T14:50:33.610634Z",
     "iopub.status.idle": "2023-10-24T14:50:33.649149Z",
     "shell.execute_reply": "2023-10-24T14:50:33.648225Z"
    },
    "papermill": {
     "duration": 0.05173,
     "end_time": "2023-10-24T14:50:33.651487",
     "exception": false,
     "start_time": "2023-10-24T14:50:33.599757",
     "status": "completed"
    },
    "tags": []
   },
   "outputs": [
    {
     "data": {
      "text/html": [
       "<div>\n",
       "<style scoped>\n",
       "    .dataframe tbody tr th:only-of-type {\n",
       "        vertical-align: middle;\n",
       "    }\n",
       "\n",
       "    .dataframe tbody tr th {\n",
       "        vertical-align: top;\n",
       "    }\n",
       "\n",
       "    .dataframe thead th {\n",
       "        text-align: right;\n",
       "    }\n",
       "</style>\n",
       "<table border=\"1\" class=\"dataframe\">\n",
       "  <thead>\n",
       "    <tr style=\"text-align: right;\">\n",
       "      <th></th>\n",
       "      <th>0</th>\n",
       "      <th>1</th>\n",
       "      <th>2</th>\n",
       "      <th>3</th>\n",
       "      <th>4</th>\n",
       "      <th>5</th>\n",
       "      <th>6</th>\n",
       "      <th>7</th>\n",
       "      <th>8</th>\n",
       "      <th>9</th>\n",
       "      <th>10</th>\n",
       "      <th>11</th>\n",
       "      <th>12</th>\n",
       "      <th>13</th>\n",
       "      <th>14</th>\n",
       "      <th>15</th>\n",
       "      <th>16</th>\n",
       "      <th>17</th>\n",
       "      <th>18</th>\n",
       "      <th>19</th>\n",
       "    </tr>\n",
       "  </thead>\n",
       "  <tbody>\n",
       "    <tr>\n",
       "      <th>0</th>\n",
       "      <td>shrimp</td>\n",
       "      <td>almonds</td>\n",
       "      <td>avocado</td>\n",
       "      <td>vegetables mix</td>\n",
       "      <td>green grapes</td>\n",
       "      <td>whole weat flour</td>\n",
       "      <td>yams</td>\n",
       "      <td>cottage cheese</td>\n",
       "      <td>energy drink</td>\n",
       "      <td>tomato juice</td>\n",
       "      <td>low fat yogurt</td>\n",
       "      <td>green tea</td>\n",
       "      <td>honey</td>\n",
       "      <td>salad</td>\n",
       "      <td>mineral water</td>\n",
       "      <td>salmon</td>\n",
       "      <td>antioxydant juice</td>\n",
       "      <td>frozen smoothie</td>\n",
       "      <td>spinach</td>\n",
       "      <td>olive oil</td>\n",
       "    </tr>\n",
       "    <tr>\n",
       "      <th>1</th>\n",
       "      <td>burgers</td>\n",
       "      <td>meatballs</td>\n",
       "      <td>eggs</td>\n",
       "      <td>NaN</td>\n",
       "      <td>NaN</td>\n",
       "      <td>NaN</td>\n",
       "      <td>NaN</td>\n",
       "      <td>NaN</td>\n",
       "      <td>NaN</td>\n",
       "      <td>NaN</td>\n",
       "      <td>NaN</td>\n",
       "      <td>NaN</td>\n",
       "      <td>NaN</td>\n",
       "      <td>NaN</td>\n",
       "      <td>NaN</td>\n",
       "      <td>NaN</td>\n",
       "      <td>NaN</td>\n",
       "      <td>NaN</td>\n",
       "      <td>NaN</td>\n",
       "      <td>NaN</td>\n",
       "    </tr>\n",
       "  </tbody>\n",
       "</table>\n",
       "</div>"
      ],
      "text/plain": [
       "        0          1        2               3             4   \\\n",
       "0   shrimp    almonds  avocado  vegetables mix  green grapes   \n",
       "1  burgers  meatballs     eggs             NaN           NaN   \n",
       "\n",
       "                 5     6               7             8             9   \\\n",
       "0  whole weat flour  yams  cottage cheese  energy drink  tomato juice   \n",
       "1               NaN   NaN             NaN           NaN           NaN   \n",
       "\n",
       "               10         11     12     13             14      15  \\\n",
       "0  low fat yogurt  green tea  honey  salad  mineral water  salmon   \n",
       "1             NaN        NaN    NaN    NaN            NaN     NaN   \n",
       "\n",
       "                  16               17       18         19  \n",
       "0  antioxydant juice  frozen smoothie  spinach  olive oil  \n",
       "1                NaN              NaN      NaN        NaN  "
      ]
     },
     "execution_count": 5,
     "metadata": {},
     "output_type": "execute_result"
    }
   ],
   "source": [
    "df.head(2)"
   ]
  },
  {
   "cell_type": "code",
   "execution_count": 6,
   "id": "67ba7c01",
   "metadata": {
    "execution": {
     "iopub.execute_input": "2023-10-24T14:50:33.672981Z",
     "iopub.status.busy": "2023-10-24T14:50:33.672561Z",
     "iopub.status.idle": "2023-10-24T14:50:33.680125Z",
     "shell.execute_reply": "2023-10-24T14:50:33.678547Z"
    },
    "papermill": {
     "duration": 0.021381,
     "end_time": "2023-10-24T14:50:33.683001",
     "exception": false,
     "start_time": "2023-10-24T14:50:33.661620",
     "status": "completed"
    },
    "tags": []
   },
   "outputs": [
    {
     "data": {
      "text/plain": [
       "7501"
      ]
     },
     "execution_count": 6,
     "metadata": {},
     "output_type": "execute_result"
    }
   ],
   "source": [
    "len(df)"
   ]
  },
  {
   "cell_type": "code",
   "execution_count": 7,
   "id": "27fb13c9",
   "metadata": {
    "execution": {
     "iopub.execute_input": "2023-10-24T14:50:33.704414Z",
     "iopub.status.busy": "2023-10-24T14:50:33.703978Z",
     "iopub.status.idle": "2023-10-24T14:50:33.711011Z",
     "shell.execute_reply": "2023-10-24T14:50:33.709917Z"
    },
    "papermill": {
     "duration": 0.020696,
     "end_time": "2023-10-24T14:50:33.713567",
     "exception": false,
     "start_time": "2023-10-24T14:50:33.692871",
     "status": "completed"
    },
    "tags": []
   },
   "outputs": [
    {
     "data": {
      "text/plain": [
       "20"
      ]
     },
     "execution_count": 7,
     "metadata": {},
     "output_type": "execute_result"
    }
   ],
   "source": [
    "len(df.columns)"
   ]
  },
  {
   "cell_type": "code",
   "execution_count": 8,
   "id": "93d53eaa",
   "metadata": {
    "execution": {
     "iopub.execute_input": "2023-10-24T14:50:33.735461Z",
     "iopub.status.busy": "2023-10-24T14:50:33.735046Z",
     "iopub.status.idle": "2023-10-24T14:50:33.743054Z",
     "shell.execute_reply": "2023-10-24T14:50:33.741812Z"
    },
    "papermill": {
     "duration": 0.022144,
     "end_time": "2023-10-24T14:50:33.745677",
     "exception": false,
     "start_time": "2023-10-24T14:50:33.723533",
     "status": "completed"
    },
    "tags": []
   },
   "outputs": [
    {
     "data": {
      "text/plain": [
       "'eggs'"
      ]
     },
     "execution_count": 8,
     "metadata": {},
     "output_type": "execute_result"
    }
   ],
   "source": [
    "df.values[1,2]"
   ]
  },
  {
   "cell_type": "code",
   "execution_count": 9,
   "id": "eb96d7f7",
   "metadata": {
    "execution": {
     "iopub.execute_input": "2023-10-24T14:50:33.768037Z",
     "iopub.status.busy": "2023-10-24T14:50:33.767640Z",
     "iopub.status.idle": "2023-10-24T14:50:33.775548Z",
     "shell.execute_reply": "2023-10-24T14:50:33.774396Z"
    },
    "papermill": {
     "duration": 0.022102,
     "end_time": "2023-10-24T14:50:33.777961",
     "exception": false,
     "start_time": "2023-10-24T14:50:33.755859",
     "status": "completed"
    },
    "tags": []
   },
   "outputs": [
    {
     "data": {
      "text/plain": [
       "'eggs'"
      ]
     },
     "execution_count": 9,
     "metadata": {},
     "output_type": "execute_result"
    }
   ],
   "source": [
    "df.loc[1,2]"
   ]
  },
  {
   "cell_type": "markdown",
   "id": "992591d3",
   "metadata": {
    "papermill": {
     "duration": 0.009688,
     "end_time": "2023-10-24T14:50:33.797830",
     "exception": false,
     "start_time": "2023-10-24T14:50:33.788142",
     "status": "completed"
    },
    "tags": []
   },
   "source": [
    "<a id=\"3\"></a>\n",
    "# 3. Data preprocessing\n",
    "\n",
    "[Go back to Index](#index)"
   ]
  },
  {
   "cell_type": "markdown",
   "id": "e038d39d",
   "metadata": {
    "execution": {
     "iopub.execute_input": "2023-09-26T16:15:05.995809Z",
     "iopub.status.busy": "2023-09-26T16:15:05.995384Z",
     "iopub.status.idle": "2023-09-26T16:15:08.659103Z",
     "shell.execute_reply": "2023-09-26T16:15:08.658043Z",
     "shell.execute_reply.started": "2023-09-26T16:15:05.995751Z"
    },
    "papermill": {
     "duration": 0.010804,
     "end_time": "2023-10-24T14:50:33.818806",
     "exception": false,
     "start_time": "2023-10-24T14:50:33.808002",
     "status": "completed"
    },
    "tags": []
   },
   "source": [
    "<a href=\"https://stackoverflow.com/questions/70422875/difference-between-values-and-iloc-on-a-pandas-series#:~:text=iloc%20directly%20reads%20data%20from,(hence%20iloc%20is%20faster).\">iloc vs values in dataframe</a>"
   ]
  },
  {
   "cell_type": "code",
   "execution_count": 10,
   "id": "69dd0aaa",
   "metadata": {
    "execution": {
     "iopub.execute_input": "2023-10-24T14:50:33.841708Z",
     "iopub.status.busy": "2023-10-24T14:50:33.841285Z",
     "iopub.status.idle": "2023-10-24T14:50:34.453132Z",
     "shell.execute_reply": "2023-10-24T14:50:34.451172Z"
    },
    "papermill": {
     "duration": 0.627899,
     "end_time": "2023-10-24T14:50:34.456852",
     "exception": false,
     "start_time": "2023-10-24T14:50:33.828953",
     "status": "completed"
    },
    "tags": []
   },
   "outputs": [],
   "source": [
    "transactions = []\n",
    "for i in range(0, len(df)):\n",
    "    transactions.append([str(df.values[i, j]) for j in range(0, len(df.columns))])"
   ]
  },
  {
   "cell_type": "markdown",
   "id": "72a83d54",
   "metadata": {
    "papermill": {
     "duration": 0.009842,
     "end_time": "2023-10-24T14:50:34.478799",
     "exception": false,
     "start_time": "2023-10-24T14:50:34.468957",
     "status": "completed"
    },
    "tags": []
   },
   "source": [
    "<a id=\"4\"></a>\n",
    "# 4. Training Apriori model on the dataset\n",
    "\n",
    "[Go back to Index](#index)"
   ]
  },
  {
   "cell_type": "markdown",
   "id": "24b41aeb",
   "metadata": {
    "papermill": {
     "duration": 0.010466,
     "end_time": "2023-10-24T14:50:34.500714",
     "exception": false,
     "start_time": "2023-10-24T14:50:34.490248",
     "status": "completed"
    },
    "tags": []
   },
   "source": [
    "<a href=\"https://towardsdatascience.com/apriori-association-rule-mining-explanation-and-python-implementation-290b42afdfc6\">Apriori Model Understanding</a>"
   ]
  },
  {
   "cell_type": "code",
   "execution_count": 11,
   "id": "a8fc96c0",
   "metadata": {
    "execution": {
     "iopub.execute_input": "2023-10-24T14:50:34.527783Z",
     "iopub.status.busy": "2023-10-24T14:50:34.526646Z",
     "iopub.status.idle": "2023-10-24T14:50:34.533804Z",
     "shell.execute_reply": "2023-10-24T14:50:34.532492Z"
    },
    "papermill": {
     "duration": 0.026192,
     "end_time": "2023-10-24T14:50:34.537659",
     "exception": false,
     "start_time": "2023-10-24T14:50:34.511467",
     "status": "completed"
    },
    "tags": []
   },
   "outputs": [],
   "source": [
    "rules = apriori(\n",
    "    transactions = transactions, \n",
    "    min_support = 0.003, \n",
    "    in_confidence = 0.2, \n",
    "    min_lift = 3,\n",
    "    min_length = 2, \n",
    "    max_length = 2\n",
    ")"
   ]
  },
  {
   "cell_type": "markdown",
   "id": "42edb584",
   "metadata": {
    "papermill": {
     "duration": 0.011665,
     "end_time": "2023-10-24T14:50:34.563954",
     "exception": false,
     "start_time": "2023-10-24T14:50:34.552289",
     "status": "completed"
    },
    "tags": []
   },
   "source": [
    "<a id=\"5\"></a>\n",
    "# 5. Results\n",
    "\n",
    "[Go back to Index](#index)"
   ]
  },
  {
   "cell_type": "markdown",
   "id": "7922f95f",
   "metadata": {
    "papermill": {
     "duration": 0.010363,
     "end_time": "2023-10-24T14:50:34.585828",
     "exception": false,
     "start_time": "2023-10-24T14:50:34.575465",
     "status": "completed"
    },
    "tags": []
   },
   "source": [
    "## 5.1 Displaying First Results\n",
    "\n",
    "coming directly from the output of the `Apriori` Function"
   ]
  },
  {
   "cell_type": "code",
   "execution_count": 12,
   "id": "1b14a654",
   "metadata": {
    "collapsed": true,
    "execution": {
     "iopub.execute_input": "2023-10-24T14:50:34.612962Z",
     "iopub.status.busy": "2023-10-24T14:50:34.611981Z",
     "iopub.status.idle": "2023-10-24T14:50:34.780351Z",
     "shell.execute_reply": "2023-10-24T14:50:34.779153Z"
    },
    "jupyter": {
     "outputs_hidden": true
    },
    "papermill": {
     "duration": 0.184931,
     "end_time": "2023-10-24T14:50:34.783600",
     "exception": false,
     "start_time": "2023-10-24T14:50:34.598669",
     "status": "completed"
    },
    "tags": []
   },
   "outputs": [
    {
     "data": {
      "text/plain": [
       "[RelationRecord(items=frozenset({'cottage cheese', 'brownies'}), support=0.0034662045060658577, ordered_statistics=[OrderedStatistic(items_base=frozenset({'brownies'}), items_add=frozenset({'cottage cheese'}), confidence=0.10276679841897232, lift=3.225329518580382), OrderedStatistic(items_base=frozenset({'cottage cheese'}), items_add=frozenset({'brownies'}), confidence=0.10878661087866107, lift=3.2253295185803816)]),\n",
       " RelationRecord(items=frozenset({'light cream', 'chicken'}), support=0.004532728969470737, ordered_statistics=[OrderedStatistic(items_base=frozenset({'chicken'}), items_add=frozenset({'light cream'}), confidence=0.07555555555555556, lift=4.843950617283951), OrderedStatistic(items_base=frozenset({'light cream'}), items_add=frozenset({'chicken'}), confidence=0.29059829059829057, lift=4.84395061728395)]),\n",
       " RelationRecord(items=frozenset({'mushroom cream sauce', 'escalope'}), support=0.005732568990801226, ordered_statistics=[OrderedStatistic(items_base=frozenset({'escalope'}), items_add=frozenset({'mushroom cream sauce'}), confidence=0.0722689075630252, lift=3.7908326967150496), OrderedStatistic(items_base=frozenset({'mushroom cream sauce'}), items_add=frozenset({'escalope'}), confidence=0.3006993006993007, lift=3.790832696715049)]),\n",
       " RelationRecord(items=frozenset({'escalope', 'pasta'}), support=0.005865884548726837, ordered_statistics=[OrderedStatistic(items_base=frozenset({'escalope'}), items_add=frozenset({'pasta'}), confidence=0.07394957983193277, lift=4.700811850163794), OrderedStatistic(items_base=frozenset({'pasta'}), items_add=frozenset({'escalope'}), confidence=0.3728813559322034, lift=4.700811850163794)]),\n",
       " RelationRecord(items=frozenset({'tomato juice', 'fresh bread'}), support=0.004266097853619517, ordered_statistics=[OrderedStatistic(items_base=frozenset({'fresh bread'}), items_add=frozenset({'tomato juice'}), confidence=0.09907120743034055, lift=3.2593558198902826), OrderedStatistic(items_base=frozenset({'tomato juice'}), items_add=frozenset({'fresh bread'}), confidence=0.14035087719298245, lift=3.2593558198902826)]),\n",
       " RelationRecord(items=frozenset({'honey', 'fresh tuna'}), support=0.003999466737768298, ordered_statistics=[OrderedStatistic(items_base=frozenset({'fresh tuna'}), items_add=frozenset({'honey'}), confidence=0.17964071856287428, lift=3.7850703088205613), OrderedStatistic(items_base=frozenset({'honey'}), items_add=frozenset({'fresh tuna'}), confidence=0.08426966292134831, lift=3.7850703088205613)]),\n",
       " RelationRecord(items=frozenset({'honey', 'fromage blanc'}), support=0.003332888948140248, ordered_statistics=[OrderedStatistic(items_base=frozenset({'fromage blanc'}), items_add=frozenset({'honey'}), confidence=0.2450980392156863, lift=5.164270764485569), OrderedStatistic(items_base=frozenset({'honey'}), items_add=frozenset({'fromage blanc'}), confidence=0.0702247191011236, lift=5.16427076448557)]),\n",
       " RelationRecord(items=frozenset({'ground beef', 'herb & pepper'}), support=0.015997866951073192, ordered_statistics=[OrderedStatistic(items_base=frozenset({'ground beef'}), items_add=frozenset({'herb & pepper'}), confidence=0.1628222523744912, lift=3.291993841134928), OrderedStatistic(items_base=frozenset({'herb & pepper'}), items_add=frozenset({'ground beef'}), confidence=0.3234501347708895, lift=3.2919938411349285)]),\n",
       " RelationRecord(items=frozenset({'ground beef', 'tomato sauce'}), support=0.005332622317024397, ordered_statistics=[OrderedStatistic(items_base=frozenset({'ground beef'}), items_add=frozenset({'tomato sauce'}), confidence=0.054274084124830396, lift=3.840659481324083), OrderedStatistic(items_base=frozenset({'tomato sauce'}), items_add=frozenset({'ground beef'}), confidence=0.3773584905660377, lift=3.840659481324083)]),\n",
       " RelationRecord(items=frozenset({'light cream', 'olive oil'}), support=0.003199573390214638, ordered_statistics=[OrderedStatistic(items_base=frozenset({'light cream'}), items_add=frozenset({'olive oil'}), confidence=0.20512820512820515, lift=3.1147098515519573), OrderedStatistic(items_base=frozenset({'olive oil'}), items_add=frozenset({'light cream'}), confidence=0.048582995951417005, lift=3.114709851551957)]),\n",
       " RelationRecord(items=frozenset({'olive oil', 'whole wheat pasta'}), support=0.007998933475536596, ordered_statistics=[OrderedStatistic(items_base=frozenset({'olive oil'}), items_add=frozenset({'whole wheat pasta'}), confidence=0.12145748987854252, lift=4.1224100976422955), OrderedStatistic(items_base=frozenset({'whole wheat pasta'}), items_add=frozenset({'olive oil'}), confidence=0.2714932126696833, lift=4.122410097642296)]),\n",
       " RelationRecord(items=frozenset({'shrimp', 'pasta'}), support=0.005065991201173177, ordered_statistics=[OrderedStatistic(items_base=frozenset({'pasta'}), items_add=frozenset({'shrimp'}), confidence=0.3220338983050847, lift=4.506672147735896), OrderedStatistic(items_base=frozenset({'shrimp'}), items_add=frozenset({'pasta'}), confidence=0.0708955223880597, lift=4.506672147735896)])]"
      ]
     },
     "execution_count": 12,
     "metadata": {},
     "output_type": "execute_result"
    }
   ],
   "source": [
    "results = list(rules)\n",
    "results"
   ]
  },
  {
   "cell_type": "markdown",
   "id": "8843f697",
   "metadata": {
    "papermill": {
     "duration": 0.013149,
     "end_time": "2023-10-24T14:50:34.811818",
     "exception": false,
     "start_time": "2023-10-24T14:50:34.798669",
     "status": "completed"
    },
    "tags": []
   },
   "source": [
    "## 5.2 Organizing the results in a dataframe"
   ]
  },
  {
   "cell_type": "code",
   "execution_count": 13,
   "id": "24bbfcb6",
   "metadata": {
    "execution": {
     "iopub.execute_input": "2023-10-24T14:50:34.836195Z",
     "iopub.status.busy": "2023-10-24T14:50:34.835102Z",
     "iopub.status.idle": "2023-10-24T14:50:34.847632Z",
     "shell.execute_reply": "2023-10-24T14:50:34.846415Z"
    },
    "papermill": {
     "duration": 0.02849,
     "end_time": "2023-10-24T14:50:34.850878",
     "exception": false,
     "start_time": "2023-10-24T14:50:34.822388",
     "status": "completed"
    },
    "tags": []
   },
   "outputs": [],
   "source": [
    "def inspect(results):\n",
    "    lhs         = [tuple(result[2][0][0])[0] for result in results]\n",
    "    rhs         = [tuple(result[2][0][1])[0] for result in results]\n",
    "    supports    = [result[1] for result in results]\n",
    "    confidences = [result[2][0][2] for result in results]\n",
    "    lifts       = [result[2][0][3] for result in results]\n",
    "    return list(zip(lhs, rhs, supports, confidences, lifts))\n",
    "resultsinDataFrame = pd.DataFrame(inspect(results), columns = ['Left Hand Side', 'Right Hand Side', 'Support', 'Confidence', 'Lift'])"
   ]
  },
  {
   "cell_type": "markdown",
   "id": "ceb37a7e",
   "metadata": {
    "papermill": {
     "duration": 0.01224,
     "end_time": "2023-10-24T14:50:34.874736",
     "exception": false,
     "start_time": "2023-10-24T14:50:34.862496",
     "status": "completed"
    },
    "tags": []
   },
   "source": [
    "## 5.3 Display results (non sorted) "
   ]
  },
  {
   "cell_type": "code",
   "execution_count": 14,
   "id": "73bb5df8",
   "metadata": {
    "execution": {
     "iopub.execute_input": "2023-10-24T14:50:34.905725Z",
     "iopub.status.busy": "2023-10-24T14:50:34.904714Z",
     "iopub.status.idle": "2023-10-24T14:50:34.922775Z",
     "shell.execute_reply": "2023-10-24T14:50:34.921626Z"
    },
    "papermill": {
     "duration": 0.037637,
     "end_time": "2023-10-24T14:50:34.925473",
     "exception": false,
     "start_time": "2023-10-24T14:50:34.887836",
     "status": "completed"
    },
    "tags": []
   },
   "outputs": [
    {
     "data": {
      "text/html": [
       "<div>\n",
       "<style scoped>\n",
       "    .dataframe tbody tr th:only-of-type {\n",
       "        vertical-align: middle;\n",
       "    }\n",
       "\n",
       "    .dataframe tbody tr th {\n",
       "        vertical-align: top;\n",
       "    }\n",
       "\n",
       "    .dataframe thead th {\n",
       "        text-align: right;\n",
       "    }\n",
       "</style>\n",
       "<table border=\"1\" class=\"dataframe\">\n",
       "  <thead>\n",
       "    <tr style=\"text-align: right;\">\n",
       "      <th></th>\n",
       "      <th>Left Hand Side</th>\n",
       "      <th>Right Hand Side</th>\n",
       "      <th>Support</th>\n",
       "      <th>Confidence</th>\n",
       "      <th>Lift</th>\n",
       "    </tr>\n",
       "  </thead>\n",
       "  <tbody>\n",
       "    <tr>\n",
       "      <th>0</th>\n",
       "      <td>brownies</td>\n",
       "      <td>cottage cheese</td>\n",
       "      <td>0.003466</td>\n",
       "      <td>0.102767</td>\n",
       "      <td>3.225330</td>\n",
       "    </tr>\n",
       "    <tr>\n",
       "      <th>1</th>\n",
       "      <td>chicken</td>\n",
       "      <td>light cream</td>\n",
       "      <td>0.004533</td>\n",
       "      <td>0.075556</td>\n",
       "      <td>4.843951</td>\n",
       "    </tr>\n",
       "    <tr>\n",
       "      <th>2</th>\n",
       "      <td>escalope</td>\n",
       "      <td>mushroom cream sauce</td>\n",
       "      <td>0.005733</td>\n",
       "      <td>0.072269</td>\n",
       "      <td>3.790833</td>\n",
       "    </tr>\n",
       "    <tr>\n",
       "      <th>3</th>\n",
       "      <td>escalope</td>\n",
       "      <td>pasta</td>\n",
       "      <td>0.005866</td>\n",
       "      <td>0.073950</td>\n",
       "      <td>4.700812</td>\n",
       "    </tr>\n",
       "    <tr>\n",
       "      <th>4</th>\n",
       "      <td>fresh bread</td>\n",
       "      <td>tomato juice</td>\n",
       "      <td>0.004266</td>\n",
       "      <td>0.099071</td>\n",
       "      <td>3.259356</td>\n",
       "    </tr>\n",
       "    <tr>\n",
       "      <th>5</th>\n",
       "      <td>fresh tuna</td>\n",
       "      <td>honey</td>\n",
       "      <td>0.003999</td>\n",
       "      <td>0.179641</td>\n",
       "      <td>3.785070</td>\n",
       "    </tr>\n",
       "    <tr>\n",
       "      <th>6</th>\n",
       "      <td>fromage blanc</td>\n",
       "      <td>honey</td>\n",
       "      <td>0.003333</td>\n",
       "      <td>0.245098</td>\n",
       "      <td>5.164271</td>\n",
       "    </tr>\n",
       "    <tr>\n",
       "      <th>7</th>\n",
       "      <td>ground beef</td>\n",
       "      <td>herb &amp; pepper</td>\n",
       "      <td>0.015998</td>\n",
       "      <td>0.162822</td>\n",
       "      <td>3.291994</td>\n",
       "    </tr>\n",
       "    <tr>\n",
       "      <th>8</th>\n",
       "      <td>ground beef</td>\n",
       "      <td>tomato sauce</td>\n",
       "      <td>0.005333</td>\n",
       "      <td>0.054274</td>\n",
       "      <td>3.840659</td>\n",
       "    </tr>\n",
       "    <tr>\n",
       "      <th>9</th>\n",
       "      <td>light cream</td>\n",
       "      <td>olive oil</td>\n",
       "      <td>0.003200</td>\n",
       "      <td>0.205128</td>\n",
       "      <td>3.114710</td>\n",
       "    </tr>\n",
       "    <tr>\n",
       "      <th>10</th>\n",
       "      <td>olive oil</td>\n",
       "      <td>whole wheat pasta</td>\n",
       "      <td>0.007999</td>\n",
       "      <td>0.121457</td>\n",
       "      <td>4.122410</td>\n",
       "    </tr>\n",
       "    <tr>\n",
       "      <th>11</th>\n",
       "      <td>pasta</td>\n",
       "      <td>shrimp</td>\n",
       "      <td>0.005066</td>\n",
       "      <td>0.322034</td>\n",
       "      <td>4.506672</td>\n",
       "    </tr>\n",
       "  </tbody>\n",
       "</table>\n",
       "</div>"
      ],
      "text/plain": [
       "   Left Hand Side       Right Hand Side   Support  Confidence      Lift\n",
       "0        brownies        cottage cheese  0.003466    0.102767  3.225330\n",
       "1         chicken           light cream  0.004533    0.075556  4.843951\n",
       "2        escalope  mushroom cream sauce  0.005733    0.072269  3.790833\n",
       "3        escalope                 pasta  0.005866    0.073950  4.700812\n",
       "4     fresh bread          tomato juice  0.004266    0.099071  3.259356\n",
       "5      fresh tuna                 honey  0.003999    0.179641  3.785070\n",
       "6   fromage blanc                 honey  0.003333    0.245098  5.164271\n",
       "7     ground beef         herb & pepper  0.015998    0.162822  3.291994\n",
       "8     ground beef          tomato sauce  0.005333    0.054274  3.840659\n",
       "9     light cream             olive oil  0.003200    0.205128  3.114710\n",
       "10      olive oil     whole wheat pasta  0.007999    0.121457  4.122410\n",
       "11          pasta                shrimp  0.005066    0.322034  4.506672"
      ]
     },
     "execution_count": 14,
     "metadata": {},
     "output_type": "execute_result"
    }
   ],
   "source": [
    "df = resultsinDataFrame\n",
    "df"
   ]
  },
  {
   "cell_type": "markdown",
   "id": "44aa882d",
   "metadata": {
    "papermill": {
     "duration": 0.010469,
     "end_time": "2023-10-24T14:50:34.946930",
     "exception": false,
     "start_time": "2023-10-24T14:50:34.936461",
     "status": "completed"
    },
    "tags": []
   },
   "source": [
    "## 5.4 Display results (sorted)\n",
    "\n",
    "(sort descending for the column `lifts`) "
   ]
  },
  {
   "cell_type": "code",
   "execution_count": 15,
   "id": "7442ebfd",
   "metadata": {
    "execution": {
     "iopub.execute_input": "2023-10-24T14:50:34.971834Z",
     "iopub.status.busy": "2023-10-24T14:50:34.970840Z",
     "iopub.status.idle": "2023-10-24T14:50:34.999620Z",
     "shell.execute_reply": "2023-10-24T14:50:34.998335Z"
    },
    "papermill": {
     "duration": 0.045065,
     "end_time": "2023-10-24T14:50:35.002663",
     "exception": false,
     "start_time": "2023-10-24T14:50:34.957598",
     "status": "completed"
    },
    "tags": []
   },
   "outputs": [
    {
     "data": {
      "text/html": [
       "<div>\n",
       "<style scoped>\n",
       "    .dataframe tbody tr th:only-of-type {\n",
       "        vertical-align: middle;\n",
       "    }\n",
       "\n",
       "    .dataframe tbody tr th {\n",
       "        vertical-align: top;\n",
       "    }\n",
       "\n",
       "    .dataframe thead th {\n",
       "        text-align: right;\n",
       "    }\n",
       "</style>\n",
       "<table border=\"1\" class=\"dataframe\">\n",
       "  <thead>\n",
       "    <tr style=\"text-align: right;\">\n",
       "      <th></th>\n",
       "      <th>Left Hand Side</th>\n",
       "      <th>Right Hand Side</th>\n",
       "      <th>Support</th>\n",
       "      <th>Confidence</th>\n",
       "      <th>Lift</th>\n",
       "    </tr>\n",
       "  </thead>\n",
       "  <tbody>\n",
       "    <tr>\n",
       "      <th>6</th>\n",
       "      <td>fromage blanc</td>\n",
       "      <td>honey</td>\n",
       "      <td>0.003333</td>\n",
       "      <td>0.245098</td>\n",
       "      <td>5.164271</td>\n",
       "    </tr>\n",
       "    <tr>\n",
       "      <th>1</th>\n",
       "      <td>chicken</td>\n",
       "      <td>light cream</td>\n",
       "      <td>0.004533</td>\n",
       "      <td>0.075556</td>\n",
       "      <td>4.843951</td>\n",
       "    </tr>\n",
       "    <tr>\n",
       "      <th>3</th>\n",
       "      <td>escalope</td>\n",
       "      <td>pasta</td>\n",
       "      <td>0.005866</td>\n",
       "      <td>0.073950</td>\n",
       "      <td>4.700812</td>\n",
       "    </tr>\n",
       "    <tr>\n",
       "      <th>11</th>\n",
       "      <td>pasta</td>\n",
       "      <td>shrimp</td>\n",
       "      <td>0.005066</td>\n",
       "      <td>0.322034</td>\n",
       "      <td>4.506672</td>\n",
       "    </tr>\n",
       "    <tr>\n",
       "      <th>10</th>\n",
       "      <td>olive oil</td>\n",
       "      <td>whole wheat pasta</td>\n",
       "      <td>0.007999</td>\n",
       "      <td>0.121457</td>\n",
       "      <td>4.122410</td>\n",
       "    </tr>\n",
       "    <tr>\n",
       "      <th>8</th>\n",
       "      <td>ground beef</td>\n",
       "      <td>tomato sauce</td>\n",
       "      <td>0.005333</td>\n",
       "      <td>0.054274</td>\n",
       "      <td>3.840659</td>\n",
       "    </tr>\n",
       "    <tr>\n",
       "      <th>2</th>\n",
       "      <td>escalope</td>\n",
       "      <td>mushroom cream sauce</td>\n",
       "      <td>0.005733</td>\n",
       "      <td>0.072269</td>\n",
       "      <td>3.790833</td>\n",
       "    </tr>\n",
       "    <tr>\n",
       "      <th>5</th>\n",
       "      <td>fresh tuna</td>\n",
       "      <td>honey</td>\n",
       "      <td>0.003999</td>\n",
       "      <td>0.179641</td>\n",
       "      <td>3.785070</td>\n",
       "    </tr>\n",
       "    <tr>\n",
       "      <th>7</th>\n",
       "      <td>ground beef</td>\n",
       "      <td>herb &amp; pepper</td>\n",
       "      <td>0.015998</td>\n",
       "      <td>0.162822</td>\n",
       "      <td>3.291994</td>\n",
       "    </tr>\n",
       "    <tr>\n",
       "      <th>4</th>\n",
       "      <td>fresh bread</td>\n",
       "      <td>tomato juice</td>\n",
       "      <td>0.004266</td>\n",
       "      <td>0.099071</td>\n",
       "      <td>3.259356</td>\n",
       "    </tr>\n",
       "  </tbody>\n",
       "</table>\n",
       "</div>"
      ],
      "text/plain": [
       "   Left Hand Side       Right Hand Side   Support  Confidence      Lift\n",
       "6   fromage blanc                 honey  0.003333    0.245098  5.164271\n",
       "1         chicken           light cream  0.004533    0.075556  4.843951\n",
       "3        escalope                 pasta  0.005866    0.073950  4.700812\n",
       "11          pasta                shrimp  0.005066    0.322034  4.506672\n",
       "10      olive oil     whole wheat pasta  0.007999    0.121457  4.122410\n",
       "8     ground beef          tomato sauce  0.005333    0.054274  3.840659\n",
       "2        escalope  mushroom cream sauce  0.005733    0.072269  3.790833\n",
       "5      fresh tuna                 honey  0.003999    0.179641  3.785070\n",
       "7     ground beef         herb & pepper  0.015998    0.162822  3.291994\n",
       "4     fresh bread          tomato juice  0.004266    0.099071  3.259356"
      ]
     },
     "execution_count": 15,
     "metadata": {},
     "output_type": "execute_result"
    }
   ],
   "source": [
    "df.nlargest(n = 10, columns = 'Lift')"
   ]
  }
 ],
 "metadata": {
  "kernelspec": {
   "display_name": "Python 3",
   "language": "python",
   "name": "python3"
  },
  "language_info": {
   "codemirror_mode": {
    "name": "ipython",
    "version": 3
   },
   "file_extension": ".py",
   "mimetype": "text/x-python",
   "name": "python",
   "nbconvert_exporter": "python",
   "pygments_lexer": "ipython3",
   "version": "3.10.12"
  },
  "papermill": {
   "default_parameters": {},
   "duration": 25.276508,
   "end_time": "2023-10-24T14:50:35.536405",
   "environment_variables": {},
   "exception": null,
   "input_path": "__notebook__.ipynb",
   "output_path": "__notebook__.ipynb",
   "parameters": {},
   "start_time": "2023-10-24T14:50:10.259897",
   "version": "2.4.0"
  }
 },
 "nbformat": 4,
 "nbformat_minor": 5
}
