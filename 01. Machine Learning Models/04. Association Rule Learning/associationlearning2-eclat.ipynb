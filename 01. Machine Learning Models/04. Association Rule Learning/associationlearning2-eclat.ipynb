{
 "cells": [
  {
   "cell_type": "code",
   "execution_count": 1,
   "id": "bdccf3ab",
   "metadata": {
    "_cell_guid": "b1076dfc-b9ad-4769-8c92-a6c4dae69d19",
    "_uuid": "8f2839f25d086af736a60e9eeb907d3b93b6e0e5",
    "execution": {
     "iopub.execute_input": "2023-10-24T16:26:30.958457Z",
     "iopub.status.busy": "2023-10-24T16:26:30.957858Z",
     "iopub.status.idle": "2023-10-24T16:26:31.378840Z",
     "shell.execute_reply": "2023-10-24T16:26:31.377964Z"
    },
    "papermill": {
     "duration": 0.434675,
     "end_time": "2023-10-24T16:26:31.381895",
     "exception": false,
     "start_time": "2023-10-24T16:26:30.947220",
     "status": "completed"
    },
    "tags": []
   },
   "outputs": [
    {
     "name": "stdout",
     "output_type": "stream",
     "text": [
      "/kaggle/input/market-basket-optimization/Market_Basket_Optimisation.csv\n"
     ]
    }
   ],
   "source": [
    "# This Python 3 environment comes with many helpful analytics libraries installed\n",
    "# It is defined by the kaggle/python Docker image: https://github.com/kaggle/docker-python\n",
    "# For example, here's several helpful packages to load\n",
    "\n",
    "import numpy as np # linear algebra\n",
    "import pandas as pd # data processing, CSV file I/O (e.g. pd.read_csv)\n",
    "\n",
    "# Input data files are available in the read-only \"../input/\" directory\n",
    "# For example, running this (by clicking run or pressing Shift+Enter) will list all files under the input directory\n",
    "\n",
    "import os\n",
    "for dirname, _, filenames in os.walk('/kaggle/input'):\n",
    "    for filename in filenames:\n",
    "        print(os.path.join(dirname, filename))\n",
    "\n",
    "# You can write up to 20GB to the current directory (/kaggle/working/) that gets preserved as output when you create a version using \"Save & Run All\" \n",
    "# You can also write temporary files to /kaggle/temp/, but they won't be saved outside of the current session"
   ]
  },
  {
   "cell_type": "markdown",
   "id": "379b7d73",
   "metadata": {
    "papermill": {
     "duration": 0.008292,
     "end_time": "2023-10-24T16:26:31.398982",
     "exception": false,
     "start_time": "2023-10-24T16:26:31.390690",
     "status": "completed"
    },
    "tags": []
   },
   "source": [
    "# Credits and Links\n",
    "\n",
    "* UDEMY - Machine Learning A-Z <sup>TM</sup>*"
   ]
  },
  {
   "cell_type": "markdown",
   "id": "a8d3cee3",
   "metadata": {
    "papermill": {
     "duration": 0.007918,
     "end_time": "2023-10-24T16:26:31.415139",
     "exception": false,
     "start_time": "2023-10-24T16:26:31.407221",
     "status": "completed"
    },
    "tags": []
   },
   "source": [
    "<a id=\"index\"></a>\n",
    "# Table of Content\n",
    "\n",
    "1. [Importing Libraries](#1)\n",
    "2. [Importing Dataset](#2)\n",
    "3. [Data Preprocessing](#3)\n",
    "4. [Apriori Model Training](#4)\n",
    "5. [Results](#5)"
   ]
  },
  {
   "cell_type": "markdown",
   "id": "e70bf33f",
   "metadata": {
    "papermill": {
     "duration": 0.009019,
     "end_time": "2023-10-24T16:26:31.432876",
     "exception": false,
     "start_time": "2023-10-24T16:26:31.423857",
     "status": "completed"
    },
    "tags": []
   },
   "source": [
    "<a id=\"1\"></a>\n",
    "# 1. Importing Libraries\n",
    "\n",
    "[Go back to Index](#index)"
   ]
  },
  {
   "cell_type": "code",
   "execution_count": 2,
   "id": "7f8ef6e4",
   "metadata": {
    "execution": {
     "iopub.execute_input": "2023-10-24T16:26:31.451891Z",
     "iopub.status.busy": "2023-10-24T16:26:31.451091Z",
     "iopub.status.idle": "2023-10-24T16:26:48.812148Z",
     "shell.execute_reply": "2023-10-24T16:26:48.811093Z"
    },
    "papermill": {
     "duration": 17.373725,
     "end_time": "2023-10-24T16:26:48.814951",
     "exception": false,
     "start_time": "2023-10-24T16:26:31.441226",
     "status": "completed"
    },
    "tags": []
   },
   "outputs": [
    {
     "name": "stdout",
     "output_type": "stream",
     "text": [
      "Collecting apyori\r\n",
      "  Downloading apyori-1.1.2.tar.gz (8.6 kB)\r\n",
      "  Preparing metadata (setup.py) ... \u001b[?25ldone\r\n",
      "\u001b[?25hBuilding wheels for collected packages: apyori\r\n",
      "  Building wheel for apyori (setup.py) ... \u001b[?25l-\b \bdone\r\n",
      "\u001b[?25h  Created wheel for apyori: filename=apyori-1.1.2-py3-none-any.whl size=5956 sha256=c12edcec4678b6c15f0b39ad38b6dc284fc711357ae09d08152e0be7c1638f61\r\n",
      "  Stored in directory: /root/.cache/pip/wheels/c4/1a/79/20f55c470a50bb3702a8cb7c94d8ada15573538c7f4baebe2d\r\n",
      "Successfully built apyori\r\n",
      "Installing collected packages: apyori\r\n",
      "Successfully installed apyori-1.1.2\r\n"
     ]
    }
   ],
   "source": [
    "!pip install apyori"
   ]
  },
  {
   "cell_type": "code",
   "execution_count": 3,
   "id": "5b33da99",
   "metadata": {
    "execution": {
     "iopub.execute_input": "2023-10-24T16:26:48.835787Z",
     "iopub.status.busy": "2023-10-24T16:26:48.835342Z",
     "iopub.status.idle": "2023-10-24T16:26:48.849651Z",
     "shell.execute_reply": "2023-10-24T16:26:48.848444Z"
    },
    "papermill": {
     "duration": 0.028146,
     "end_time": "2023-10-24T16:26:48.852127",
     "exception": false,
     "start_time": "2023-10-24T16:26:48.823981",
     "status": "completed"
    },
    "tags": []
   },
   "outputs": [],
   "source": [
    "#1. General\n",
    "import pandas as pd\n",
    "import numpy as np\n",
    "import os\n",
    "import matplotlib.pyplot as plt\n",
    "%matplotlib inline\n",
    "\n",
    "#2. Eclat (from Apriori) Learning\n",
    "from apyori import apriori"
   ]
  },
  {
   "cell_type": "markdown",
   "id": "7f44b3f1",
   "metadata": {
    "papermill": {
     "duration": 0.008646,
     "end_time": "2023-10-24T16:26:48.869764",
     "exception": false,
     "start_time": "2023-10-24T16:26:48.861118",
     "status": "completed"
    },
    "tags": []
   },
   "source": [
    "<a id=\"2\"></a>\n",
    "# 2. Importing Dataset\n",
    "\n",
    "[Go back to Index](#index)"
   ]
  },
  {
   "cell_type": "code",
   "execution_count": 4,
   "id": "46e59c15",
   "metadata": {
    "execution": {
     "iopub.execute_input": "2023-10-24T16:26:48.889412Z",
     "iopub.status.busy": "2023-10-24T16:26:48.889007Z",
     "iopub.status.idle": "2023-10-24T16:26:48.928690Z",
     "shell.execute_reply": "2023-10-24T16:26:48.927559Z"
    },
    "papermill": {
     "duration": 0.052601,
     "end_time": "2023-10-24T16:26:48.931306",
     "exception": false,
     "start_time": "2023-10-24T16:26:48.878705",
     "status": "completed"
    },
    "tags": []
   },
   "outputs": [],
   "source": [
    "df = pd.read_csv(\"/kaggle/input/market-basket-optimization/Market_Basket_Optimisation.csv\", header=None)"
   ]
  },
  {
   "cell_type": "code",
   "execution_count": 5,
   "id": "f6ce9c87",
   "metadata": {
    "execution": {
     "iopub.execute_input": "2023-10-24T16:26:48.951682Z",
     "iopub.status.busy": "2023-10-24T16:26:48.951016Z",
     "iopub.status.idle": "2023-10-24T16:26:48.984518Z",
     "shell.execute_reply": "2023-10-24T16:26:48.983406Z"
    },
    "papermill": {
     "duration": 0.046115,
     "end_time": "2023-10-24T16:26:48.986850",
     "exception": false,
     "start_time": "2023-10-24T16:26:48.940735",
     "status": "completed"
    },
    "tags": []
   },
   "outputs": [
    {
     "data": {
      "text/html": [
       "<div>\n",
       "<style scoped>\n",
       "    .dataframe tbody tr th:only-of-type {\n",
       "        vertical-align: middle;\n",
       "    }\n",
       "\n",
       "    .dataframe tbody tr th {\n",
       "        vertical-align: top;\n",
       "    }\n",
       "\n",
       "    .dataframe thead th {\n",
       "        text-align: right;\n",
       "    }\n",
       "</style>\n",
       "<table border=\"1\" class=\"dataframe\">\n",
       "  <thead>\n",
       "    <tr style=\"text-align: right;\">\n",
       "      <th></th>\n",
       "      <th>0</th>\n",
       "      <th>1</th>\n",
       "      <th>2</th>\n",
       "      <th>3</th>\n",
       "      <th>4</th>\n",
       "      <th>5</th>\n",
       "      <th>6</th>\n",
       "      <th>7</th>\n",
       "      <th>8</th>\n",
       "      <th>9</th>\n",
       "      <th>10</th>\n",
       "      <th>11</th>\n",
       "      <th>12</th>\n",
       "      <th>13</th>\n",
       "      <th>14</th>\n",
       "      <th>15</th>\n",
       "      <th>16</th>\n",
       "      <th>17</th>\n",
       "      <th>18</th>\n",
       "      <th>19</th>\n",
       "    </tr>\n",
       "  </thead>\n",
       "  <tbody>\n",
       "    <tr>\n",
       "      <th>0</th>\n",
       "      <td>shrimp</td>\n",
       "      <td>almonds</td>\n",
       "      <td>avocado</td>\n",
       "      <td>vegetables mix</td>\n",
       "      <td>green grapes</td>\n",
       "      <td>whole weat flour</td>\n",
       "      <td>yams</td>\n",
       "      <td>cottage cheese</td>\n",
       "      <td>energy drink</td>\n",
       "      <td>tomato juice</td>\n",
       "      <td>low fat yogurt</td>\n",
       "      <td>green tea</td>\n",
       "      <td>honey</td>\n",
       "      <td>salad</td>\n",
       "      <td>mineral water</td>\n",
       "      <td>salmon</td>\n",
       "      <td>antioxydant juice</td>\n",
       "      <td>frozen smoothie</td>\n",
       "      <td>spinach</td>\n",
       "      <td>olive oil</td>\n",
       "    </tr>\n",
       "    <tr>\n",
       "      <th>1</th>\n",
       "      <td>burgers</td>\n",
       "      <td>meatballs</td>\n",
       "      <td>eggs</td>\n",
       "      <td>NaN</td>\n",
       "      <td>NaN</td>\n",
       "      <td>NaN</td>\n",
       "      <td>NaN</td>\n",
       "      <td>NaN</td>\n",
       "      <td>NaN</td>\n",
       "      <td>NaN</td>\n",
       "      <td>NaN</td>\n",
       "      <td>NaN</td>\n",
       "      <td>NaN</td>\n",
       "      <td>NaN</td>\n",
       "      <td>NaN</td>\n",
       "      <td>NaN</td>\n",
       "      <td>NaN</td>\n",
       "      <td>NaN</td>\n",
       "      <td>NaN</td>\n",
       "      <td>NaN</td>\n",
       "    </tr>\n",
       "  </tbody>\n",
       "</table>\n",
       "</div>"
      ],
      "text/plain": [
       "        0          1        2               3             4   \\\n",
       "0   shrimp    almonds  avocado  vegetables mix  green grapes   \n",
       "1  burgers  meatballs     eggs             NaN           NaN   \n",
       "\n",
       "                 5     6               7             8             9   \\\n",
       "0  whole weat flour  yams  cottage cheese  energy drink  tomato juice   \n",
       "1               NaN   NaN             NaN           NaN           NaN   \n",
       "\n",
       "               10         11     12     13             14      15  \\\n",
       "0  low fat yogurt  green tea  honey  salad  mineral water  salmon   \n",
       "1             NaN        NaN    NaN    NaN            NaN     NaN   \n",
       "\n",
       "                  16               17       18         19  \n",
       "0  antioxydant juice  frozen smoothie  spinach  olive oil  \n",
       "1                NaN              NaN      NaN        NaN  "
      ]
     },
     "execution_count": 5,
     "metadata": {},
     "output_type": "execute_result"
    }
   ],
   "source": [
    "df.head(2)"
   ]
  },
  {
   "cell_type": "code",
   "execution_count": 6,
   "id": "9e7c9602",
   "metadata": {
    "execution": {
     "iopub.execute_input": "2023-10-24T16:26:49.007422Z",
     "iopub.status.busy": "2023-10-24T16:26:49.006362Z",
     "iopub.status.idle": "2023-10-24T16:26:49.013526Z",
     "shell.execute_reply": "2023-10-24T16:26:49.012448Z"
    },
    "papermill": {
     "duration": 0.019667,
     "end_time": "2023-10-24T16:26:49.015667",
     "exception": false,
     "start_time": "2023-10-24T16:26:48.996000",
     "status": "completed"
    },
    "tags": []
   },
   "outputs": [
    {
     "data": {
      "text/plain": [
       "7501"
      ]
     },
     "execution_count": 6,
     "metadata": {},
     "output_type": "execute_result"
    }
   ],
   "source": [
    "len(df)"
   ]
  },
  {
   "cell_type": "code",
   "execution_count": 7,
   "id": "5221b668",
   "metadata": {
    "execution": {
     "iopub.execute_input": "2023-10-24T16:26:49.036011Z",
     "iopub.status.busy": "2023-10-24T16:26:49.035634Z",
     "iopub.status.idle": "2023-10-24T16:26:49.042662Z",
     "shell.execute_reply": "2023-10-24T16:26:49.041414Z"
    },
    "papermill": {
     "duration": 0.019896,
     "end_time": "2023-10-24T16:26:49.045057",
     "exception": false,
     "start_time": "2023-10-24T16:26:49.025161",
     "status": "completed"
    },
    "tags": []
   },
   "outputs": [
    {
     "data": {
      "text/plain": [
       "20"
      ]
     },
     "execution_count": 7,
     "metadata": {},
     "output_type": "execute_result"
    }
   ],
   "source": [
    "len(df.columns)"
   ]
  },
  {
   "cell_type": "code",
   "execution_count": 8,
   "id": "abe85717",
   "metadata": {
    "execution": {
     "iopub.execute_input": "2023-10-24T16:26:49.066254Z",
     "iopub.status.busy": "2023-10-24T16:26:49.065892Z",
     "iopub.status.idle": "2023-10-24T16:26:49.072197Z",
     "shell.execute_reply": "2023-10-24T16:26:49.071422Z"
    },
    "papermill": {
     "duration": 0.019651,
     "end_time": "2023-10-24T16:26:49.074247",
     "exception": false,
     "start_time": "2023-10-24T16:26:49.054596",
     "status": "completed"
    },
    "tags": []
   },
   "outputs": [
    {
     "data": {
      "text/plain": [
       "'eggs'"
      ]
     },
     "execution_count": 8,
     "metadata": {},
     "output_type": "execute_result"
    }
   ],
   "source": [
    "df.values[1,2]"
   ]
  },
  {
   "cell_type": "code",
   "execution_count": 9,
   "id": "8dc87b5b",
   "metadata": {
    "execution": {
     "iopub.execute_input": "2023-10-24T16:26:49.096268Z",
     "iopub.status.busy": "2023-10-24T16:26:49.095432Z",
     "iopub.status.idle": "2023-10-24T16:26:49.101463Z",
     "shell.execute_reply": "2023-10-24T16:26:49.100734Z"
    },
    "papermill": {
     "duration": 0.01952,
     "end_time": "2023-10-24T16:26:49.103632",
     "exception": false,
     "start_time": "2023-10-24T16:26:49.084112",
     "status": "completed"
    },
    "tags": []
   },
   "outputs": [
    {
     "data": {
      "text/plain": [
       "'eggs'"
      ]
     },
     "execution_count": 9,
     "metadata": {},
     "output_type": "execute_result"
    }
   ],
   "source": [
    "df.loc[1,2]"
   ]
  },
  {
   "cell_type": "markdown",
   "id": "03eb3868",
   "metadata": {
    "papermill": {
     "duration": 0.009549,
     "end_time": "2023-10-24T16:26:49.123270",
     "exception": false,
     "start_time": "2023-10-24T16:26:49.113721",
     "status": "completed"
    },
    "tags": []
   },
   "source": [
    "<a id=\"3\"></a>\n",
    "# 3. Data preprocessing\n",
    "\n",
    "[Go back to Index](#index)"
   ]
  },
  {
   "cell_type": "markdown",
   "id": "84e93146",
   "metadata": {
    "execution": {
     "iopub.execute_input": "2023-09-26T16:15:05.995809Z",
     "iopub.status.busy": "2023-09-26T16:15:05.995384Z",
     "iopub.status.idle": "2023-09-26T16:15:08.659103Z",
     "shell.execute_reply": "2023-09-26T16:15:08.658043Z",
     "shell.execute_reply.started": "2023-09-26T16:15:05.995751Z"
    },
    "papermill": {
     "duration": 0.009502,
     "end_time": "2023-10-24T16:26:49.142659",
     "exception": false,
     "start_time": "2023-10-24T16:26:49.133157",
     "status": "completed"
    },
    "tags": []
   },
   "source": [
    "<a href=\"https://stackoverflow.com/questions/70422875/difference-between-values-and-iloc-on-a-pandas-series#:~:text=iloc%20directly%20reads%20data%20from,(hence%20iloc%20is%20faster).\">iloc vs values in dataframe</a>"
   ]
  },
  {
   "cell_type": "code",
   "execution_count": 10,
   "id": "673f256a",
   "metadata": {
    "execution": {
     "iopub.execute_input": "2023-10-24T16:26:49.164150Z",
     "iopub.status.busy": "2023-10-24T16:26:49.163574Z",
     "iopub.status.idle": "2023-10-24T16:26:49.748391Z",
     "shell.execute_reply": "2023-10-24T16:26:49.747064Z"
    },
    "papermill": {
     "duration": 0.598912,
     "end_time": "2023-10-24T16:26:49.751230",
     "exception": false,
     "start_time": "2023-10-24T16:26:49.152318",
     "status": "completed"
    },
    "tags": []
   },
   "outputs": [],
   "source": [
    "transactions = []\n",
    "for i in range(0, len(df)):\n",
    "    transactions.append([str(df.values[i, j]) for j in range(0, len(df.columns))])"
   ]
  },
  {
   "cell_type": "markdown",
   "id": "b7ca498b",
   "metadata": {
    "papermill": {
     "duration": 0.009488,
     "end_time": "2023-10-24T16:26:49.770914",
     "exception": false,
     "start_time": "2023-10-24T16:26:49.761426",
     "status": "completed"
    },
    "tags": []
   },
   "source": [
    "<a id=\"4\"></a>\n",
    "# 4. Training Ecalt model (from Apriori model) on the dataset\n",
    "\n",
    "[Go back to Index](#index)"
   ]
  },
  {
   "cell_type": "markdown",
   "id": "0991129c",
   "metadata": {
    "papermill": {
     "duration": 0.00987,
     "end_time": "2023-10-24T16:26:49.790511",
     "exception": false,
     "start_time": "2023-10-24T16:26:49.780641",
     "status": "completed"
    },
    "tags": []
   },
   "source": [
    "<a href=\"https://towardsdatascience.com/the-eclat-algorithm-8ae3276d2d17\">Eclat Model Understanding</a>"
   ]
  },
  {
   "cell_type": "code",
   "execution_count": 11,
   "id": "6aab249a",
   "metadata": {
    "execution": {
     "iopub.execute_input": "2023-10-24T16:26:49.811659Z",
     "iopub.status.busy": "2023-10-24T16:26:49.811259Z",
     "iopub.status.idle": "2023-10-24T16:26:49.816636Z",
     "shell.execute_reply": "2023-10-24T16:26:49.815596Z"
    },
    "papermill": {
     "duration": 0.018353,
     "end_time": "2023-10-24T16:26:49.818801",
     "exception": false,
     "start_time": "2023-10-24T16:26:49.800448",
     "status": "completed"
    },
    "tags": []
   },
   "outputs": [],
   "source": [
    "rules = apriori(\n",
    "    transactions = transactions, \n",
    "    min_support = 0.003, \n",
    "    in_confidence = 0.2, \n",
    "    min_lift = 3,\n",
    "    min_length = 2, \n",
    "    max_length = 2\n",
    ")"
   ]
  },
  {
   "cell_type": "markdown",
   "id": "489b0f18",
   "metadata": {
    "papermill": {
     "duration": 0.009751,
     "end_time": "2023-10-24T16:26:49.838326",
     "exception": false,
     "start_time": "2023-10-24T16:26:49.828575",
     "status": "completed"
    },
    "tags": []
   },
   "source": [
    "<a id=\"5\"></a>\n",
    "# 5. Results\n",
    "\n",
    "[Go back to Index](#index)"
   ]
  },
  {
   "cell_type": "markdown",
   "id": "403ba480",
   "metadata": {
    "papermill": {
     "duration": 0.009621,
     "end_time": "2023-10-24T16:26:49.858014",
     "exception": false,
     "start_time": "2023-10-24T16:26:49.848393",
     "status": "completed"
    },
    "tags": []
   },
   "source": [
    "## 5.1 Displaying First Results\n",
    "\n",
    "coming directly from the output of the `Apriori` Function"
   ]
  },
  {
   "cell_type": "code",
   "execution_count": 12,
   "id": "aa1d6e67",
   "metadata": {
    "collapsed": true,
    "execution": {
     "iopub.execute_input": "2023-10-24T16:26:49.879746Z",
     "iopub.status.busy": "2023-10-24T16:26:49.879325Z",
     "iopub.status.idle": "2023-10-24T16:26:50.024015Z",
     "shell.execute_reply": "2023-10-24T16:26:50.022946Z"
    },
    "jupyter": {
     "outputs_hidden": true
    },
    "papermill": {
     "duration": 0.158504,
     "end_time": "2023-10-24T16:26:50.026437",
     "exception": false,
     "start_time": "2023-10-24T16:26:49.867933",
     "status": "completed"
    },
    "tags": []
   },
   "outputs": [
    {
     "data": {
      "text/plain": [
       "[RelationRecord(items=frozenset({'cottage cheese', 'brownies'}), support=0.0034662045060658577, ordered_statistics=[OrderedStatistic(items_base=frozenset({'brownies'}), items_add=frozenset({'cottage cheese'}), confidence=0.10276679841897232, lift=3.225329518580382), OrderedStatistic(items_base=frozenset({'cottage cheese'}), items_add=frozenset({'brownies'}), confidence=0.10878661087866107, lift=3.2253295185803816)]),\n",
       " RelationRecord(items=frozenset({'chicken', 'light cream'}), support=0.004532728969470737, ordered_statistics=[OrderedStatistic(items_base=frozenset({'chicken'}), items_add=frozenset({'light cream'}), confidence=0.07555555555555556, lift=4.843950617283951), OrderedStatistic(items_base=frozenset({'light cream'}), items_add=frozenset({'chicken'}), confidence=0.29059829059829057, lift=4.84395061728395)]),\n",
       " RelationRecord(items=frozenset({'escalope', 'mushroom cream sauce'}), support=0.005732568990801226, ordered_statistics=[OrderedStatistic(items_base=frozenset({'escalope'}), items_add=frozenset({'mushroom cream sauce'}), confidence=0.0722689075630252, lift=3.7908326967150496), OrderedStatistic(items_base=frozenset({'mushroom cream sauce'}), items_add=frozenset({'escalope'}), confidence=0.3006993006993007, lift=3.790832696715049)]),\n",
       " RelationRecord(items=frozenset({'escalope', 'pasta'}), support=0.005865884548726837, ordered_statistics=[OrderedStatistic(items_base=frozenset({'escalope'}), items_add=frozenset({'pasta'}), confidence=0.07394957983193277, lift=4.700811850163794), OrderedStatistic(items_base=frozenset({'pasta'}), items_add=frozenset({'escalope'}), confidence=0.3728813559322034, lift=4.700811850163794)]),\n",
       " RelationRecord(items=frozenset({'tomato juice', 'fresh bread'}), support=0.004266097853619517, ordered_statistics=[OrderedStatistic(items_base=frozenset({'fresh bread'}), items_add=frozenset({'tomato juice'}), confidence=0.09907120743034055, lift=3.2593558198902826), OrderedStatistic(items_base=frozenset({'tomato juice'}), items_add=frozenset({'fresh bread'}), confidence=0.14035087719298245, lift=3.2593558198902826)]),\n",
       " RelationRecord(items=frozenset({'fresh tuna', 'honey'}), support=0.003999466737768298, ordered_statistics=[OrderedStatistic(items_base=frozenset({'fresh tuna'}), items_add=frozenset({'honey'}), confidence=0.17964071856287428, lift=3.7850703088205613), OrderedStatistic(items_base=frozenset({'honey'}), items_add=frozenset({'fresh tuna'}), confidence=0.08426966292134831, lift=3.7850703088205613)]),\n",
       " RelationRecord(items=frozenset({'fromage blanc', 'honey'}), support=0.003332888948140248, ordered_statistics=[OrderedStatistic(items_base=frozenset({'fromage blanc'}), items_add=frozenset({'honey'}), confidence=0.2450980392156863, lift=5.164270764485569), OrderedStatistic(items_base=frozenset({'honey'}), items_add=frozenset({'fromage blanc'}), confidence=0.0702247191011236, lift=5.16427076448557)]),\n",
       " RelationRecord(items=frozenset({'ground beef', 'herb & pepper'}), support=0.015997866951073192, ordered_statistics=[OrderedStatistic(items_base=frozenset({'ground beef'}), items_add=frozenset({'herb & pepper'}), confidence=0.1628222523744912, lift=3.291993841134928), OrderedStatistic(items_base=frozenset({'herb & pepper'}), items_add=frozenset({'ground beef'}), confidence=0.3234501347708895, lift=3.2919938411349285)]),\n",
       " RelationRecord(items=frozenset({'tomato sauce', 'ground beef'}), support=0.005332622317024397, ordered_statistics=[OrderedStatistic(items_base=frozenset({'ground beef'}), items_add=frozenset({'tomato sauce'}), confidence=0.054274084124830396, lift=3.840659481324083), OrderedStatistic(items_base=frozenset({'tomato sauce'}), items_add=frozenset({'ground beef'}), confidence=0.3773584905660377, lift=3.840659481324083)]),\n",
       " RelationRecord(items=frozenset({'olive oil', 'light cream'}), support=0.003199573390214638, ordered_statistics=[OrderedStatistic(items_base=frozenset({'light cream'}), items_add=frozenset({'olive oil'}), confidence=0.20512820512820515, lift=3.1147098515519573), OrderedStatistic(items_base=frozenset({'olive oil'}), items_add=frozenset({'light cream'}), confidence=0.048582995951417005, lift=3.114709851551957)]),\n",
       " RelationRecord(items=frozenset({'olive oil', 'whole wheat pasta'}), support=0.007998933475536596, ordered_statistics=[OrderedStatistic(items_base=frozenset({'olive oil'}), items_add=frozenset({'whole wheat pasta'}), confidence=0.12145748987854252, lift=4.1224100976422955), OrderedStatistic(items_base=frozenset({'whole wheat pasta'}), items_add=frozenset({'olive oil'}), confidence=0.2714932126696833, lift=4.122410097642296)]),\n",
       " RelationRecord(items=frozenset({'pasta', 'shrimp'}), support=0.005065991201173177, ordered_statistics=[OrderedStatistic(items_base=frozenset({'pasta'}), items_add=frozenset({'shrimp'}), confidence=0.3220338983050847, lift=4.506672147735896), OrderedStatistic(items_base=frozenset({'shrimp'}), items_add=frozenset({'pasta'}), confidence=0.0708955223880597, lift=4.506672147735896)])]"
      ]
     },
     "execution_count": 12,
     "metadata": {},
     "output_type": "execute_result"
    }
   ],
   "source": [
    "results = list(rules)\n",
    "results"
   ]
  },
  {
   "cell_type": "markdown",
   "id": "6ef54ca3",
   "metadata": {
    "papermill": {
     "duration": 0.009734,
     "end_time": "2023-10-24T16:26:50.046229",
     "exception": false,
     "start_time": "2023-10-24T16:26:50.036495",
     "status": "completed"
    },
    "tags": []
   },
   "source": [
    "## 5.2 Organizing the results in a dataframe"
   ]
  },
  {
   "cell_type": "code",
   "execution_count": 13,
   "id": "32e3b36e",
   "metadata": {
    "execution": {
     "iopub.execute_input": "2023-10-24T16:26:50.068807Z",
     "iopub.status.busy": "2023-10-24T16:26:50.068094Z",
     "iopub.status.idle": "2023-10-24T16:26:50.076291Z",
     "shell.execute_reply": "2023-10-24T16:26:50.075498Z"
    },
    "papermill": {
     "duration": 0.022336,
     "end_time": "2023-10-24T16:26:50.078565",
     "exception": false,
     "start_time": "2023-10-24T16:26:50.056229",
     "status": "completed"
    },
    "tags": []
   },
   "outputs": [],
   "source": [
    "def inspect(results):\n",
    "    lhs         = [tuple(result[2][0][0])[0] for result in results]\n",
    "    rhs         = [tuple(result[2][0][1])[0] for result in results]\n",
    "    supports    = [result[1] for result in results]\n",
    "    \n",
    "    # For Eclat model, we don't need confidence and lift\n",
    "    \n",
    "    #confidences = [result[2][0][2] for result in results]\n",
    "    #lifts       = [result[2][0][3] for result in results]\n",
    "    return list(zip(lhs, rhs, supports\n",
    "                    #, confidences,\n",
    "                    #lifts\n",
    "                   ))\n",
    "resultsinDataFrame = pd.DataFrame(inspect(results), columns = ['Product1', 'Product2', 'Support'])"
   ]
  },
  {
   "cell_type": "markdown",
   "id": "b999ae46",
   "metadata": {
    "papermill": {
     "duration": 0.009648,
     "end_time": "2023-10-24T16:26:50.098352",
     "exception": false,
     "start_time": "2023-10-24T16:26:50.088704",
     "status": "completed"
    },
    "tags": []
   },
   "source": [
    "## 5.3 Display results (non sorted) "
   ]
  },
  {
   "cell_type": "code",
   "execution_count": 14,
   "id": "033a7d11",
   "metadata": {
    "execution": {
     "iopub.execute_input": "2023-10-24T16:26:50.120372Z",
     "iopub.status.busy": "2023-10-24T16:26:50.119752Z",
     "iopub.status.idle": "2023-10-24T16:26:50.133054Z",
     "shell.execute_reply": "2023-10-24T16:26:50.132105Z"
    },
    "papermill": {
     "duration": 0.026872,
     "end_time": "2023-10-24T16:26:50.135217",
     "exception": false,
     "start_time": "2023-10-24T16:26:50.108345",
     "status": "completed"
    },
    "tags": []
   },
   "outputs": [
    {
     "data": {
      "text/html": [
       "<div>\n",
       "<style scoped>\n",
       "    .dataframe tbody tr th:only-of-type {\n",
       "        vertical-align: middle;\n",
       "    }\n",
       "\n",
       "    .dataframe tbody tr th {\n",
       "        vertical-align: top;\n",
       "    }\n",
       "\n",
       "    .dataframe thead th {\n",
       "        text-align: right;\n",
       "    }\n",
       "</style>\n",
       "<table border=\"1\" class=\"dataframe\">\n",
       "  <thead>\n",
       "    <tr style=\"text-align: right;\">\n",
       "      <th></th>\n",
       "      <th>Product1</th>\n",
       "      <th>Product2</th>\n",
       "      <th>Support</th>\n",
       "    </tr>\n",
       "  </thead>\n",
       "  <tbody>\n",
       "    <tr>\n",
       "      <th>0</th>\n",
       "      <td>brownies</td>\n",
       "      <td>cottage cheese</td>\n",
       "      <td>0.003466</td>\n",
       "    </tr>\n",
       "    <tr>\n",
       "      <th>1</th>\n",
       "      <td>chicken</td>\n",
       "      <td>light cream</td>\n",
       "      <td>0.004533</td>\n",
       "    </tr>\n",
       "    <tr>\n",
       "      <th>2</th>\n",
       "      <td>escalope</td>\n",
       "      <td>mushroom cream sauce</td>\n",
       "      <td>0.005733</td>\n",
       "    </tr>\n",
       "    <tr>\n",
       "      <th>3</th>\n",
       "      <td>escalope</td>\n",
       "      <td>pasta</td>\n",
       "      <td>0.005866</td>\n",
       "    </tr>\n",
       "    <tr>\n",
       "      <th>4</th>\n",
       "      <td>fresh bread</td>\n",
       "      <td>tomato juice</td>\n",
       "      <td>0.004266</td>\n",
       "    </tr>\n",
       "    <tr>\n",
       "      <th>5</th>\n",
       "      <td>fresh tuna</td>\n",
       "      <td>honey</td>\n",
       "      <td>0.003999</td>\n",
       "    </tr>\n",
       "    <tr>\n",
       "      <th>6</th>\n",
       "      <td>fromage blanc</td>\n",
       "      <td>honey</td>\n",
       "      <td>0.003333</td>\n",
       "    </tr>\n",
       "    <tr>\n",
       "      <th>7</th>\n",
       "      <td>ground beef</td>\n",
       "      <td>herb &amp; pepper</td>\n",
       "      <td>0.015998</td>\n",
       "    </tr>\n",
       "    <tr>\n",
       "      <th>8</th>\n",
       "      <td>ground beef</td>\n",
       "      <td>tomato sauce</td>\n",
       "      <td>0.005333</td>\n",
       "    </tr>\n",
       "    <tr>\n",
       "      <th>9</th>\n",
       "      <td>light cream</td>\n",
       "      <td>olive oil</td>\n",
       "      <td>0.003200</td>\n",
       "    </tr>\n",
       "    <tr>\n",
       "      <th>10</th>\n",
       "      <td>olive oil</td>\n",
       "      <td>whole wheat pasta</td>\n",
       "      <td>0.007999</td>\n",
       "    </tr>\n",
       "    <tr>\n",
       "      <th>11</th>\n",
       "      <td>pasta</td>\n",
       "      <td>shrimp</td>\n",
       "      <td>0.005066</td>\n",
       "    </tr>\n",
       "  </tbody>\n",
       "</table>\n",
       "</div>"
      ],
      "text/plain": [
       "         Product1              Product2   Support\n",
       "0        brownies        cottage cheese  0.003466\n",
       "1         chicken           light cream  0.004533\n",
       "2        escalope  mushroom cream sauce  0.005733\n",
       "3        escalope                 pasta  0.005866\n",
       "4     fresh bread          tomato juice  0.004266\n",
       "5      fresh tuna                 honey  0.003999\n",
       "6   fromage blanc                 honey  0.003333\n",
       "7     ground beef         herb & pepper  0.015998\n",
       "8     ground beef          tomato sauce  0.005333\n",
       "9     light cream             olive oil  0.003200\n",
       "10      olive oil     whole wheat pasta  0.007999\n",
       "11          pasta                shrimp  0.005066"
      ]
     },
     "execution_count": 14,
     "metadata": {},
     "output_type": "execute_result"
    }
   ],
   "source": [
    "df = resultsinDataFrame\n",
    "df"
   ]
  },
  {
   "cell_type": "markdown",
   "id": "3b62e9d9",
   "metadata": {
    "papermill": {
     "duration": 0.009996,
     "end_time": "2023-10-24T16:26:50.155746",
     "exception": false,
     "start_time": "2023-10-24T16:26:50.145750",
     "status": "completed"
    },
    "tags": []
   },
   "source": [
    "## 5.4 Display results (sorted)\n",
    "\n",
    "(sort descending for the column `support`) "
   ]
  },
  {
   "cell_type": "code",
   "execution_count": 15,
   "id": "c512a8ac",
   "metadata": {
    "execution": {
     "iopub.execute_input": "2023-10-24T16:26:50.178513Z",
     "iopub.status.busy": "2023-10-24T16:26:50.177400Z",
     "iopub.status.idle": "2023-10-24T16:26:50.198774Z",
     "shell.execute_reply": "2023-10-24T16:26:50.197821Z"
    },
    "papermill": {
     "duration": 0.034942,
     "end_time": "2023-10-24T16:26:50.200908",
     "exception": false,
     "start_time": "2023-10-24T16:26:50.165966",
     "status": "completed"
    },
    "tags": []
   },
   "outputs": [
    {
     "data": {
      "text/html": [
       "<div>\n",
       "<style scoped>\n",
       "    .dataframe tbody tr th:only-of-type {\n",
       "        vertical-align: middle;\n",
       "    }\n",
       "\n",
       "    .dataframe tbody tr th {\n",
       "        vertical-align: top;\n",
       "    }\n",
       "\n",
       "    .dataframe thead th {\n",
       "        text-align: right;\n",
       "    }\n",
       "</style>\n",
       "<table border=\"1\" class=\"dataframe\">\n",
       "  <thead>\n",
       "    <tr style=\"text-align: right;\">\n",
       "      <th></th>\n",
       "      <th>Product1</th>\n",
       "      <th>Product2</th>\n",
       "      <th>Support</th>\n",
       "    </tr>\n",
       "  </thead>\n",
       "  <tbody>\n",
       "    <tr>\n",
       "      <th>7</th>\n",
       "      <td>ground beef</td>\n",
       "      <td>herb &amp; pepper</td>\n",
       "      <td>0.015998</td>\n",
       "    </tr>\n",
       "    <tr>\n",
       "      <th>10</th>\n",
       "      <td>olive oil</td>\n",
       "      <td>whole wheat pasta</td>\n",
       "      <td>0.007999</td>\n",
       "    </tr>\n",
       "    <tr>\n",
       "      <th>3</th>\n",
       "      <td>escalope</td>\n",
       "      <td>pasta</td>\n",
       "      <td>0.005866</td>\n",
       "    </tr>\n",
       "    <tr>\n",
       "      <th>2</th>\n",
       "      <td>escalope</td>\n",
       "      <td>mushroom cream sauce</td>\n",
       "      <td>0.005733</td>\n",
       "    </tr>\n",
       "    <tr>\n",
       "      <th>8</th>\n",
       "      <td>ground beef</td>\n",
       "      <td>tomato sauce</td>\n",
       "      <td>0.005333</td>\n",
       "    </tr>\n",
       "    <tr>\n",
       "      <th>11</th>\n",
       "      <td>pasta</td>\n",
       "      <td>shrimp</td>\n",
       "      <td>0.005066</td>\n",
       "    </tr>\n",
       "    <tr>\n",
       "      <th>1</th>\n",
       "      <td>chicken</td>\n",
       "      <td>light cream</td>\n",
       "      <td>0.004533</td>\n",
       "    </tr>\n",
       "    <tr>\n",
       "      <th>4</th>\n",
       "      <td>fresh bread</td>\n",
       "      <td>tomato juice</td>\n",
       "      <td>0.004266</td>\n",
       "    </tr>\n",
       "    <tr>\n",
       "      <th>5</th>\n",
       "      <td>fresh tuna</td>\n",
       "      <td>honey</td>\n",
       "      <td>0.003999</td>\n",
       "    </tr>\n",
       "    <tr>\n",
       "      <th>0</th>\n",
       "      <td>brownies</td>\n",
       "      <td>cottage cheese</td>\n",
       "      <td>0.003466</td>\n",
       "    </tr>\n",
       "  </tbody>\n",
       "</table>\n",
       "</div>"
      ],
      "text/plain": [
       "       Product1              Product2   Support\n",
       "7   ground beef         herb & pepper  0.015998\n",
       "10    olive oil     whole wheat pasta  0.007999\n",
       "3      escalope                 pasta  0.005866\n",
       "2      escalope  mushroom cream sauce  0.005733\n",
       "8   ground beef          tomato sauce  0.005333\n",
       "11        pasta                shrimp  0.005066\n",
       "1       chicken           light cream  0.004533\n",
       "4   fresh bread          tomato juice  0.004266\n",
       "5    fresh tuna                 honey  0.003999\n",
       "0      brownies        cottage cheese  0.003466"
      ]
     },
     "execution_count": 15,
     "metadata": {},
     "output_type": "execute_result"
    }
   ],
   "source": [
    "df.nlargest(n = 10, columns = 'Support')"
   ]
  }
 ],
 "metadata": {
  "kernelspec": {
   "display_name": "Python 3",
   "language": "python",
   "name": "python3"
  },
  "language_info": {
   "codemirror_mode": {
    "name": "ipython",
    "version": 3
   },
   "file_extension": ".py",
   "mimetype": "text/x-python",
   "name": "python",
   "nbconvert_exporter": "python",
   "pygments_lexer": "ipython3",
   "version": "3.10.12"
  },
  "papermill": {
   "default_parameters": {},
   "duration": 23.286157,
   "end_time": "2023-10-24T16:26:50.731329",
   "environment_variables": {},
   "exception": null,
   "input_path": "__notebook__.ipynb",
   "output_path": "__notebook__.ipynb",
   "parameters": {},
   "start_time": "2023-10-24T16:26:27.445172",
   "version": "2.4.0"
  }
 },
 "nbformat": 4,
 "nbformat_minor": 5
}
