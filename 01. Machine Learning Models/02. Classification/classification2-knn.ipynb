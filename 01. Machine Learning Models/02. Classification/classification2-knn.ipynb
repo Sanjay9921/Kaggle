{
 "cells": [
  {
   "cell_type": "code",
   "execution_count": 1,
   "id": "e2f2374d",
   "metadata": {
    "_cell_guid": "b1076dfc-b9ad-4769-8c92-a6c4dae69d19",
    "_uuid": "8f2839f25d086af736a60e9eeb907d3b93b6e0e5",
    "execution": {
     "iopub.execute_input": "2023-08-29T03:40:29.933797Z",
     "iopub.status.busy": "2023-08-29T03:40:29.933392Z",
     "iopub.status.idle": "2023-08-29T03:40:29.952566Z",
     "shell.execute_reply": "2023-08-29T03:40:29.950840Z"
    },
    "papermill": {
     "duration": 0.029462,
     "end_time": "2023-08-29T03:40:29.954793",
     "exception": false,
     "start_time": "2023-08-29T03:40:29.925331",
     "status": "completed"
    },
    "tags": []
   },
   "outputs": [
    {
     "name": "stdout",
     "output_type": "stream",
     "text": [
      "/kaggle/input/social-network-ads/Social_Network_Ads.csv\n"
     ]
    }
   ],
   "source": [
    "# This Python 3 environment comes with many helpful analytics libraries installed\n",
    "# It is defined by the kaggle/python Docker image: https://github.com/kaggle/docker-python\n",
    "# For example, here's several helpful packages to load\n",
    "\n",
    "import numpy as np # linear algebra\n",
    "import pandas as pd # data processing, CSV file I/O (e.g. pd.read_csv)\n",
    "\n",
    "# Input data files are available in the read-only \"../input/\" directory\n",
    "# For example, running this (by clicking run or pressing Shift+Enter) will list all files under the input directory\n",
    "\n",
    "import os\n",
    "for dirname, _, filenames in os.walk('/kaggle/input'):\n",
    "    for filename in filenames:\n",
    "        print(os.path.join(dirname, filename))\n",
    "\n",
    "# You can write up to 20GB to the current directory (/kaggle/working/) that gets preserved as output when you create a version using \"Save & Run All\" \n",
    "# You can also write temporary files to /kaggle/temp/, but they won't be saved outside of the current session"
   ]
  },
  {
   "cell_type": "markdown",
   "id": "030da2f1",
   "metadata": {
    "papermill": {
     "duration": 0.005848,
     "end_time": "2023-08-29T03:40:29.967244",
     "exception": false,
     "start_time": "2023-08-29T03:40:29.961396",
     "status": "completed"
    },
    "tags": []
   },
   "source": [
    "# Credits and Links\n",
    "\n",
    "* UDEMY - Machine Learning A-Z <sup>TM</sup>*"
   ]
  },
  {
   "cell_type": "markdown",
   "id": "3cf10d26",
   "metadata": {
    "papermill": {
     "duration": 0.005843,
     "end_time": "2023-08-29T03:40:29.979296",
     "exception": false,
     "start_time": "2023-08-29T03:40:29.973453",
     "status": "completed"
    },
    "tags": []
   },
   "source": [
    "<a id=\"index\"></a>\n",
    "# Table of Content\n",
    "\n",
    "1. [Importing Libraries](#1)\n",
    "2. [Importing Dataset](#2)\n",
    "3. [Splitting the dataset into Train/Test](#3)\n",
    "4. [Feature Scaling](#4)\n",
    "5. [K Nearest Neighbor Training](#5)\n",
    "6. [Prediction](#6)\n",
    "    - [New Result](#6.1)\n",
    "    - [Test Result](#6.2)\n",
    "7. [Confusion Matrix](#7)\n",
    "6. [Visualization](#8)\n",
    "    - [Training set results](#8.1)\n",
    "    - [Test set results](#8.2)"
   ]
  },
  {
   "cell_type": "markdown",
   "id": "5b62ba96",
   "metadata": {
    "papermill": {
     "duration": 0.005862,
     "end_time": "2023-08-29T03:40:29.991329",
     "exception": false,
     "start_time": "2023-08-29T03:40:29.985467",
     "status": "completed"
    },
    "tags": []
   },
   "source": [
    "<a id=\"1\"></a>\n",
    "# 1. Importing Libraries\n",
    "\n",
    "[Go back to Index](#index)"
   ]
  },
  {
   "cell_type": "code",
   "execution_count": 2,
   "id": "77fbe581",
   "metadata": {
    "execution": {
     "iopub.execute_input": "2023-08-29T03:40:30.005052Z",
     "iopub.status.busy": "2023-08-29T03:40:30.004698Z",
     "iopub.status.idle": "2023-08-29T03:40:31.216261Z",
     "shell.execute_reply": "2023-08-29T03:40:31.215494Z"
    },
    "papermill": {
     "duration": 1.221001,
     "end_time": "2023-08-29T03:40:31.218386",
     "exception": false,
     "start_time": "2023-08-29T03:40:29.997385",
     "status": "completed"
    },
    "tags": []
   },
   "outputs": [
    {
     "name": "stderr",
     "output_type": "stream",
     "text": [
      "/opt/conda/lib/python3.10/site-packages/scipy/__init__.py:146: UserWarning: A NumPy version >=1.16.5 and <1.23.0 is required for this version of SciPy (detected version 1.23.5\n",
      "  warnings.warn(f\"A NumPy version >={np_minversion} and <{np_maxversion}\"\n"
     ]
    }
   ],
   "source": [
    "#1. General\n",
    "import pandas as pd\n",
    "import numpy as np\n",
    "import os\n",
    "import matplotlib.pyplot as plt\n",
    "%matplotlib inline\n",
    "\n",
    "#2. Data Preprocessing\n",
    "##2.1 Fill Missing Data\n",
    "from sklearn.impute import SimpleImputer\n",
    "\n",
    "##2.2 Encoding\n",
    "from sklearn.compose import ColumnTransformer\n",
    "from sklearn.preprocessing import OneHotEncoder\n",
    "from sklearn.preprocessing import LabelEncoder\n",
    "\n",
    "##2.3 Splitting Train and Test\n",
    "from sklearn.model_selection import train_test_split\n",
    "\n",
    "##2.4 Feature Scaling\n",
    "from sklearn.preprocessing import StandardScaler\n",
    "\n",
    "#3. K Nearest Neighbors\n",
    "from sklearn.neighbors import KNeighborsClassifier\n",
    "\n",
    "#4. Scikit Confusion Matrix\n",
    "from sklearn.metrics import confusion_matrix, accuracy_score"
   ]
  },
  {
   "cell_type": "markdown",
   "id": "6a30526a",
   "metadata": {
    "papermill": {
     "duration": 0.006034,
     "end_time": "2023-08-29T03:40:31.231981",
     "exception": false,
     "start_time": "2023-08-29T03:40:31.225947",
     "status": "completed"
    },
    "tags": []
   },
   "source": [
    "<a id=\"2\"></a>\n",
    "# 2. Importing Dataset\n",
    "\n",
    "[Go back to Index](#index)"
   ]
  },
  {
   "cell_type": "code",
   "execution_count": 3,
   "id": "fa96a367",
   "metadata": {
    "execution": {
     "iopub.execute_input": "2023-08-29T03:40:31.246889Z",
     "iopub.status.busy": "2023-08-29T03:40:31.245264Z",
     "iopub.status.idle": "2023-08-29T03:40:31.263278Z",
     "shell.execute_reply": "2023-08-29T03:40:31.262549Z"
    },
    "papermill": {
     "duration": 0.027163,
     "end_time": "2023-08-29T03:40:31.265262",
     "exception": false,
     "start_time": "2023-08-29T03:40:31.238099",
     "status": "completed"
    },
    "tags": []
   },
   "outputs": [],
   "source": [
    "# Dataset:= Combined Cycle Powerplant.csv\n",
    "df = pd.read_csv('/kaggle/input/social-network-ads/Social_Network_Ads.csv')\n",
    "X = df.iloc[:, :-1].values\n",
    "y = df.iloc[:, -1].values"
   ]
  },
  {
   "cell_type": "markdown",
   "id": "0570c8b0",
   "metadata": {
    "papermill": {
     "duration": 0.005734,
     "end_time": "2023-08-29T03:40:31.277645",
     "exception": false,
     "start_time": "2023-08-29T03:40:31.271911",
     "status": "completed"
    },
    "tags": []
   },
   "source": [
    "<a id=\"3\"></a>\n",
    "# 3. Splitting the dataset into Train/Test\n",
    "\n",
    "[Go back to Index](#index)"
   ]
  },
  {
   "cell_type": "code",
   "execution_count": 4,
   "id": "ad704e43",
   "metadata": {
    "execution": {
     "iopub.execute_input": "2023-08-29T03:40:31.291462Z",
     "iopub.status.busy": "2023-08-29T03:40:31.290876Z",
     "iopub.status.idle": "2023-08-29T03:40:31.298821Z",
     "shell.execute_reply": "2023-08-29T03:40:31.297355Z"
    },
    "papermill": {
     "duration": 0.016898,
     "end_time": "2023-08-29T03:40:31.300661",
     "exception": false,
     "start_time": "2023-08-29T03:40:31.283763",
     "status": "completed"
    },
    "tags": []
   },
   "outputs": [],
   "source": [
    "X_train, X_test, y_train, y_test = train_test_split(X, y, test_size=0.25, random_state=0)"
   ]
  },
  {
   "cell_type": "markdown",
   "id": "1aa599ff",
   "metadata": {
    "papermill": {
     "duration": 0.00598,
     "end_time": "2023-08-29T03:40:31.312600",
     "exception": false,
     "start_time": "2023-08-29T03:40:31.306620",
     "status": "completed"
    },
    "tags": []
   },
   "source": [
    "<a id=\"4\"></a>\n",
    "# 4. Feature Scaling\n",
    "\n",
    "[Go back to Index](#index)"
   ]
  },
  {
   "cell_type": "code",
   "execution_count": 5,
   "id": "1ca92151",
   "metadata": {
    "execution": {
     "iopub.execute_input": "2023-08-29T03:40:31.325973Z",
     "iopub.status.busy": "2023-08-29T03:40:31.325621Z",
     "iopub.status.idle": "2023-08-29T03:40:31.330168Z",
     "shell.execute_reply": "2023-08-29T03:40:31.328861Z"
    },
    "papermill": {
     "duration": 0.013379,
     "end_time": "2023-08-29T03:40:31.331866",
     "exception": false,
     "start_time": "2023-08-29T03:40:31.318487",
     "status": "completed"
    },
    "tags": []
   },
   "outputs": [],
   "source": [
    "sc = StandardScaler()"
   ]
  },
  {
   "cell_type": "code",
   "execution_count": 6,
   "id": "bffa493d",
   "metadata": {
    "execution": {
     "iopub.execute_input": "2023-08-29T03:40:31.345964Z",
     "iopub.status.busy": "2023-08-29T03:40:31.345378Z",
     "iopub.status.idle": "2023-08-29T03:40:31.353415Z",
     "shell.execute_reply": "2023-08-29T03:40:31.352227Z"
    },
    "papermill": {
     "duration": 0.017267,
     "end_time": "2023-08-29T03:40:31.355354",
     "exception": false,
     "start_time": "2023-08-29T03:40:31.338087",
     "status": "completed"
    },
    "tags": []
   },
   "outputs": [],
   "source": [
    "X_train = sc.fit_transform(X_train)\n",
    "X_test = sc.transform(X_test)"
   ]
  },
  {
   "cell_type": "markdown",
   "id": "050e2b8d",
   "metadata": {
    "papermill": {
     "duration": 0.005961,
     "end_time": "2023-08-29T03:40:31.367535",
     "exception": false,
     "start_time": "2023-08-29T03:40:31.361574",
     "status": "completed"
    },
    "tags": []
   },
   "source": [
    "<a id=\"5\"></a>\n",
    "# 5. K Nearest Neighbor\n",
    "\n",
    "[Go back to Index](#index)"
   ]
  },
  {
   "cell_type": "markdown",
   "id": "b08c8716",
   "metadata": {
    "papermill": {
     "duration": 0.005775,
     "end_time": "2023-08-29T03:40:31.379479",
     "exception": false,
     "start_time": "2023-08-29T03:40:31.373704",
     "status": "completed"
    },
    "tags": []
   },
   "source": [
    "<a href=\"https://towardsdatascience.com/k-nearest-neighbors-algorithm-d4a8bb1926a3#:~:text=There%20will%20be%20a%20K,of%202%20(Euclidean%20distance).\">Eucliean Distance and power parameter</a>"
   ]
  },
  {
   "cell_type": "code",
   "execution_count": 7,
   "id": "b1084f3a",
   "metadata": {
    "execution": {
     "iopub.execute_input": "2023-08-29T03:40:31.394395Z",
     "iopub.status.busy": "2023-08-29T03:40:31.394043Z",
     "iopub.status.idle": "2023-08-29T03:40:31.399225Z",
     "shell.execute_reply": "2023-08-29T03:40:31.397728Z"
    },
    "papermill": {
     "duration": 0.015216,
     "end_time": "2023-08-29T03:40:31.401433",
     "exception": false,
     "start_time": "2023-08-29T03:40:31.386217",
     "status": "completed"
    },
    "tags": []
   },
   "outputs": [],
   "source": [
    "#p:= power parameter\n",
    "classifier = KNeighborsClassifier(n_neighbors=5, metric=\"minkowski\", p=2)"
   ]
  },
  {
   "cell_type": "code",
   "execution_count": 8,
   "id": "2d9efd89",
   "metadata": {
    "execution": {
     "iopub.execute_input": "2023-08-29T03:40:31.415828Z",
     "iopub.status.busy": "2023-08-29T03:40:31.415280Z",
     "iopub.status.idle": "2023-08-29T03:40:31.429661Z",
     "shell.execute_reply": "2023-08-29T03:40:31.428242Z"
    },
    "papermill": {
     "duration": 0.023772,
     "end_time": "2023-08-29T03:40:31.431573",
     "exception": false,
     "start_time": "2023-08-29T03:40:31.407801",
     "status": "completed"
    },
    "tags": []
   },
   "outputs": [
    {
     "data": {
      "text/html": [
       "<style>#sk-container-id-1 {color: black;background-color: white;}#sk-container-id-1 pre{padding: 0;}#sk-container-id-1 div.sk-toggleable {background-color: white;}#sk-container-id-1 label.sk-toggleable__label {cursor: pointer;display: block;width: 100%;margin-bottom: 0;padding: 0.3em;box-sizing: border-box;text-align: center;}#sk-container-id-1 label.sk-toggleable__label-arrow:before {content: \"▸\";float: left;margin-right: 0.25em;color: #696969;}#sk-container-id-1 label.sk-toggleable__label-arrow:hover:before {color: black;}#sk-container-id-1 div.sk-estimator:hover label.sk-toggleable__label-arrow:before {color: black;}#sk-container-id-1 div.sk-toggleable__content {max-height: 0;max-width: 0;overflow: hidden;text-align: left;background-color: #f0f8ff;}#sk-container-id-1 div.sk-toggleable__content pre {margin: 0.2em;color: black;border-radius: 0.25em;background-color: #f0f8ff;}#sk-container-id-1 input.sk-toggleable__control:checked~div.sk-toggleable__content {max-height: 200px;max-width: 100%;overflow: auto;}#sk-container-id-1 input.sk-toggleable__control:checked~label.sk-toggleable__label-arrow:before {content: \"▾\";}#sk-container-id-1 div.sk-estimator input.sk-toggleable__control:checked~label.sk-toggleable__label {background-color: #d4ebff;}#sk-container-id-1 div.sk-label input.sk-toggleable__control:checked~label.sk-toggleable__label {background-color: #d4ebff;}#sk-container-id-1 input.sk-hidden--visually {border: 0;clip: rect(1px 1px 1px 1px);clip: rect(1px, 1px, 1px, 1px);height: 1px;margin: -1px;overflow: hidden;padding: 0;position: absolute;width: 1px;}#sk-container-id-1 div.sk-estimator {font-family: monospace;background-color: #f0f8ff;border: 1px dotted black;border-radius: 0.25em;box-sizing: border-box;margin-bottom: 0.5em;}#sk-container-id-1 div.sk-estimator:hover {background-color: #d4ebff;}#sk-container-id-1 div.sk-parallel-item::after {content: \"\";width: 100%;border-bottom: 1px solid gray;flex-grow: 1;}#sk-container-id-1 div.sk-label:hover label.sk-toggleable__label {background-color: #d4ebff;}#sk-container-id-1 div.sk-serial::before {content: \"\";position: absolute;border-left: 1px solid gray;box-sizing: border-box;top: 0;bottom: 0;left: 50%;z-index: 0;}#sk-container-id-1 div.sk-serial {display: flex;flex-direction: column;align-items: center;background-color: white;padding-right: 0.2em;padding-left: 0.2em;position: relative;}#sk-container-id-1 div.sk-item {position: relative;z-index: 1;}#sk-container-id-1 div.sk-parallel {display: flex;align-items: stretch;justify-content: center;background-color: white;position: relative;}#sk-container-id-1 div.sk-item::before, #sk-container-id-1 div.sk-parallel-item::before {content: \"\";position: absolute;border-left: 1px solid gray;box-sizing: border-box;top: 0;bottom: 0;left: 50%;z-index: -1;}#sk-container-id-1 div.sk-parallel-item {display: flex;flex-direction: column;z-index: 1;position: relative;background-color: white;}#sk-container-id-1 div.sk-parallel-item:first-child::after {align-self: flex-end;width: 50%;}#sk-container-id-1 div.sk-parallel-item:last-child::after {align-self: flex-start;width: 50%;}#sk-container-id-1 div.sk-parallel-item:only-child::after {width: 0;}#sk-container-id-1 div.sk-dashed-wrapped {border: 1px dashed gray;margin: 0 0.4em 0.5em 0.4em;box-sizing: border-box;padding-bottom: 0.4em;background-color: white;}#sk-container-id-1 div.sk-label label {font-family: monospace;font-weight: bold;display: inline-block;line-height: 1.2em;}#sk-container-id-1 div.sk-label-container {text-align: center;}#sk-container-id-1 div.sk-container {/* jupyter's `normalize.less` sets `[hidden] { display: none; }` but bootstrap.min.css set `[hidden] { display: none !important; }` so we also need the `!important` here to be able to override the default hidden behavior on the sphinx rendered scikit-learn.org. See: https://github.com/scikit-learn/scikit-learn/issues/21755 */display: inline-block !important;position: relative;}#sk-container-id-1 div.sk-text-repr-fallback {display: none;}</style><div id=\"sk-container-id-1\" class=\"sk-top-container\"><div class=\"sk-text-repr-fallback\"><pre>KNeighborsClassifier()</pre><b>In a Jupyter environment, please rerun this cell to show the HTML representation or trust the notebook. <br />On GitHub, the HTML representation is unable to render, please try loading this page with nbviewer.org.</b></div><div class=\"sk-container\" hidden><div class=\"sk-item\"><div class=\"sk-estimator sk-toggleable\"><input class=\"sk-toggleable__control sk-hidden--visually\" id=\"sk-estimator-id-1\" type=\"checkbox\" checked><label for=\"sk-estimator-id-1\" class=\"sk-toggleable__label sk-toggleable__label-arrow\">KNeighborsClassifier</label><div class=\"sk-toggleable__content\"><pre>KNeighborsClassifier()</pre></div></div></div></div></div>"
      ],
      "text/plain": [
       "KNeighborsClassifier()"
      ]
     },
     "execution_count": 8,
     "metadata": {},
     "output_type": "execute_result"
    }
   ],
   "source": [
    "classifier.fit(X_train, y_train)"
   ]
  },
  {
   "cell_type": "markdown",
   "id": "b7802764",
   "metadata": {
    "papermill": {
     "duration": 0.005882,
     "end_time": "2023-08-29T03:40:31.444008",
     "exception": false,
     "start_time": "2023-08-29T03:40:31.438126",
     "status": "completed"
    },
    "tags": []
   },
   "source": [
    "<a id=\"6\"></a>\n",
    "# 6. Prediction\n",
    "\n",
    "[Go back to Index](#index)"
   ]
  },
  {
   "cell_type": "markdown",
   "id": "80a4e245",
   "metadata": {
    "papermill": {
     "duration": 0.005832,
     "end_time": "2023-08-29T03:40:31.455971",
     "exception": false,
     "start_time": "2023-08-29T03:40:31.450139",
     "status": "completed"
    },
    "tags": []
   },
   "source": [
    "<a id=\"6.1\"></a>\n",
    "## 6.1 Predicting a new value\n",
    "\n",
    "[Go back to Index](#index)"
   ]
  },
  {
   "cell_type": "code",
   "execution_count": 9,
   "id": "db1694c8",
   "metadata": {
    "execution": {
     "iopub.execute_input": "2023-08-29T03:40:31.469700Z",
     "iopub.status.busy": "2023-08-29T03:40:31.469405Z",
     "iopub.status.idle": "2023-08-29T03:40:31.476411Z",
     "shell.execute_reply": "2023-08-29T03:40:31.475745Z"
    },
    "papermill": {
     "duration": 0.015953,
     "end_time": "2023-08-29T03:40:31.477950",
     "exception": false,
     "start_time": "2023-08-29T03:40:31.461997",
     "status": "completed"
    },
    "tags": []
   },
   "outputs": [
    {
     "data": {
      "text/plain": [
       "array([0])"
      ]
     },
     "execution_count": 9,
     "metadata": {},
     "output_type": "execute_result"
    }
   ],
   "source": [
    "#Remember to put 2D array as input\n",
    "#[[Age, Salary]] -> 1 or 0 output\n",
    "#classifier.predict([[30, 87000]]) -> Feature scaling is missing -> wrong output !\n",
    "classifier.predict(sc.transform([[30, 87000]]))"
   ]
  },
  {
   "cell_type": "markdown",
   "id": "9b5791eb",
   "metadata": {
    "papermill": {
     "duration": 0.006239,
     "end_time": "2023-08-29T03:40:31.490559",
     "exception": false,
     "start_time": "2023-08-29T03:40:31.484320",
     "status": "completed"
    },
    "tags": []
   },
   "source": [
    "<a id=\"6.2\"></a>\n",
    "## 6.2 Predicting X_test\n",
    "\n",
    "[Go back to Index](#index)"
   ]
  },
  {
   "cell_type": "code",
   "execution_count": 10,
   "id": "0551557b",
   "metadata": {
    "execution": {
     "iopub.execute_input": "2023-08-29T03:40:31.505050Z",
     "iopub.status.busy": "2023-08-29T03:40:31.504604Z",
     "iopub.status.idle": "2023-08-29T03:40:31.516303Z",
     "shell.execute_reply": "2023-08-29T03:40:31.514514Z"
    },
    "papermill": {
     "duration": 0.020996,
     "end_time": "2023-08-29T03:40:31.518108",
     "exception": false,
     "start_time": "2023-08-29T03:40:31.497112",
     "status": "completed"
    },
    "tags": []
   },
   "outputs": [
    {
     "name": "stdout",
     "output_type": "stream",
     "text": [
      "[[0 0]\n",
      " [0 0]\n",
      " [0 0]\n",
      " [0 0]\n",
      " [0 0]\n",
      " [0 0]\n",
      " [0 0]\n",
      " [1 1]\n",
      " [0 0]\n",
      " [1 0]\n",
      " [0 0]\n",
      " [0 0]\n",
      " [0 0]\n",
      " [0 0]\n",
      " [0 0]\n",
      " [1 0]\n",
      " [0 0]\n",
      " [0 0]\n",
      " [1 1]\n",
      " [0 0]\n",
      " [0 0]\n",
      " [1 1]\n",
      " [0 0]\n",
      " [1 1]\n",
      " [0 0]\n",
      " [1 1]\n",
      " [0 0]\n",
      " [0 0]\n",
      " [0 0]\n",
      " [0 0]\n",
      " [0 0]\n",
      " [0 1]\n",
      " [1 1]\n",
      " [0 0]\n",
      " [0 0]\n",
      " [0 0]\n",
      " [0 0]\n",
      " [0 0]\n",
      " [0 0]\n",
      " [1 1]\n",
      " [0 0]\n",
      " [0 0]\n",
      " [0 0]\n",
      " [0 0]\n",
      " [1 1]\n",
      " [0 0]\n",
      " [0 0]\n",
      " [1 1]\n",
      " [0 0]\n",
      " [1 1]\n",
      " [1 1]\n",
      " [0 0]\n",
      " [0 0]\n",
      " [1 0]\n",
      " [1 1]\n",
      " [1 1]\n",
      " [0 0]\n",
      " [0 0]\n",
      " [1 1]\n",
      " [0 0]\n",
      " [0 0]\n",
      " [1 1]\n",
      " [0 0]\n",
      " [1 1]\n",
      " [0 0]\n",
      " [1 1]\n",
      " [0 0]\n",
      " [0 0]\n",
      " [0 0]\n",
      " [0 0]\n",
      " [1 1]\n",
      " [0 0]\n",
      " [0 0]\n",
      " [1 1]\n",
      " [0 0]\n",
      " [0 0]\n",
      " [0 0]\n",
      " [0 0]\n",
      " [1 1]\n",
      " [1 1]\n",
      " [1 1]\n",
      " [1 0]\n",
      " [0 0]\n",
      " [0 0]\n",
      " [1 1]\n",
      " [0 1]\n",
      " [0 0]\n",
      " [1 1]\n",
      " [1 1]\n",
      " [0 0]\n",
      " [0 0]\n",
      " [1 1]\n",
      " [0 0]\n",
      " [0 0]\n",
      " [0 0]\n",
      " [0 1]\n",
      " [0 0]\n",
      " [1 1]\n",
      " [1 1]\n",
      " [1 1]]\n"
     ]
    }
   ],
   "source": [
    "y_pred = classifier.predict(X_test) #X_test has already undergone feature scaling\n",
    "_y_pred = y_pred.reshape(len(y_pred),1) #Convert 1D -> 2D\n",
    "_y_test = y_test.reshape(len(y_test),1) #Convert 1D -> 2D\n",
    "print(np.concatenate((_y_pred, _y_test),1)) #Side by side depiciton of predicted vs actual results expected"
   ]
  },
  {
   "cell_type": "markdown",
   "id": "fc007b99",
   "metadata": {
    "papermill": {
     "duration": 0.006398,
     "end_time": "2023-08-29T03:40:31.531402",
     "exception": false,
     "start_time": "2023-08-29T03:40:31.525004",
     "status": "completed"
    },
    "tags": []
   },
   "source": [
    "<a id=\"7\"></a>\n",
    "# 7. Confusion Matrix\n",
    "\n",
    "[Go back to Index](#index)"
   ]
  },
  {
   "cell_type": "markdown",
   "id": "38db296e",
   "metadata": {
    "papermill": {
     "duration": 0.006404,
     "end_time": "2023-08-29T03:40:31.544268",
     "exception": false,
     "start_time": "2023-08-29T03:40:31.537864",
     "status": "completed"
    },
    "tags": []
   },
   "source": [
    "<a href=\"https://towardsdatascience.com/understanding-confusion-matrix-a9ad42dcfd62\">Confusion Matrix Explained</a>\n",
    "\n",
    "<a href=\"https://datascience.stackexchange.com/questions/28426/train-accuracy-vs-test-accuracy-vs-confusion-matrix\">confusion matrix vs accuracy_score</a>"
   ]
  },
  {
   "cell_type": "code",
   "execution_count": 11,
   "id": "2ab340cc",
   "metadata": {
    "execution": {
     "iopub.execute_input": "2023-08-29T03:40:31.558854Z",
     "iopub.status.busy": "2023-08-29T03:40:31.558476Z",
     "iopub.status.idle": "2023-08-29T03:40:31.567077Z",
     "shell.execute_reply": "2023-08-29T03:40:31.566000Z"
    },
    "papermill": {
     "duration": 0.018003,
     "end_time": "2023-08-29T03:40:31.568815",
     "exception": false,
     "start_time": "2023-08-29T03:40:31.550812",
     "status": "completed"
    },
    "tags": []
   },
   "outputs": [
    {
     "data": {
      "text/plain": [
       "array([[64,  4],\n",
       "       [ 3, 29]])"
      ]
     },
     "execution_count": 11,
     "metadata": {},
     "output_type": "execute_result"
    }
   ],
   "source": [
    "confusion_matrix(y_test, y_pred)"
   ]
  },
  {
   "cell_type": "markdown",
   "id": "ba31df80",
   "metadata": {
    "papermill": {
     "duration": 0.006358,
     "end_time": "2023-08-29T03:40:31.581770",
     "exception": false,
     "start_time": "2023-08-29T03:40:31.575412",
     "status": "completed"
    },
    "tags": []
   },
   "source": [
    "### Note\n",
    "\n",
    "* TP:= 64 correct predictions of class (1)\n",
    "* FP:= 4 incorrect predictions of class (0)\n",
    "* FP:= 3 incorrect predictions of class (1)\n",
    "* TN:= 29 correct predictions of class (0)\n",
    "\n",
    "* TP + TN = 93 = total accuracy"
   ]
  },
  {
   "cell_type": "code",
   "execution_count": 12,
   "id": "7fa36931",
   "metadata": {
    "execution": {
     "iopub.execute_input": "2023-08-29T03:40:31.596079Z",
     "iopub.status.busy": "2023-08-29T03:40:31.595713Z",
     "iopub.status.idle": "2023-08-29T03:40:31.603460Z",
     "shell.execute_reply": "2023-08-29T03:40:31.602494Z"
    },
    "papermill": {
     "duration": 0.017055,
     "end_time": "2023-08-29T03:40:31.605166",
     "exception": false,
     "start_time": "2023-08-29T03:40:31.588111",
     "status": "completed"
    },
    "tags": []
   },
   "outputs": [
    {
     "data": {
      "text/plain": [
       "0.93"
      ]
     },
     "execution_count": 12,
     "metadata": {},
     "output_type": "execute_result"
    }
   ],
   "source": [
    "accuracy_score(y_test, y_pred)"
   ]
  },
  {
   "cell_type": "markdown",
   "id": "55acb13b",
   "metadata": {
    "papermill": {
     "duration": 0.006431,
     "end_time": "2023-08-29T03:40:31.618641",
     "exception": false,
     "start_time": "2023-08-29T03:40:31.612210",
     "status": "completed"
    },
    "tags": []
   },
   "source": [
    "<a id=\"8\"></a>\n",
    "# 8. Visualization\n",
    "\n",
    "[Go back to Index](#index)"
   ]
  },
  {
   "cell_type": "markdown",
   "id": "06627740",
   "metadata": {
    "papermill": {
     "duration": 0.006497,
     "end_time": "2023-08-29T03:40:31.631762",
     "exception": false,
     "start_time": "2023-08-29T03:40:31.625265",
     "status": "completed"
    },
    "tags": []
   },
   "source": [
    "<a id=\"8.1\"></a>\n",
    "## 8.1 Training Results\n",
    "\n",
    "[Go back to Index](#index)"
   ]
  },
  {
   "cell_type": "code",
   "execution_count": 13,
   "id": "dd61077f",
   "metadata": {
    "execution": {
     "iopub.execute_input": "2023-08-29T03:40:31.646687Z",
     "iopub.status.busy": "2023-08-29T03:40:31.646304Z",
     "iopub.status.idle": "2023-08-29T03:40:31.672506Z",
     "shell.execute_reply": "2023-08-29T03:40:31.671197Z"
    },
    "papermill": {
     "duration": 0.036362,
     "end_time": "2023-08-29T03:40:31.674629",
     "exception": false,
     "start_time": "2023-08-29T03:40:31.638267",
     "status": "completed"
    },
    "tags": []
   },
   "outputs": [],
   "source": [
    "from matplotlib.colors import ListedColormap\n",
    "X_set, y_set = sc.inverse_transform(X_train), y_train\n",
    "X1, X2 = np.meshgrid(np.arange(start = X_set[:, 0].min() - 10, stop = X_set[:, 0].max() + 10, step = 1),\n",
    "                     np.arange(start = X_set[:, 1].min() - 1000, stop = X_set[:, 1].max() + 1000, step = 1))"
   ]
  },
  {
   "cell_type": "code",
   "execution_count": 14,
   "id": "f7e8d208",
   "metadata": {
    "execution": {
     "iopub.execute_input": "2023-08-29T03:40:31.689823Z",
     "iopub.status.busy": "2023-08-29T03:40:31.689315Z",
     "iopub.status.idle": "2023-08-29T03:43:09.406136Z",
     "shell.execute_reply": "2023-08-29T03:43:09.404780Z"
    },
    "papermill": {
     "duration": 157.726913,
     "end_time": "2023-08-29T03:43:09.408590",
     "exception": false,
     "start_time": "2023-08-29T03:40:31.681677",
     "status": "completed"
    },
    "tags": []
   },
   "outputs": [],
   "source": [
    "y12_pred = classifier.predict(sc.transform(np.array([X1.ravel(), X2.ravel()]).T)).reshape(X1.shape)"
   ]
  },
  {
   "cell_type": "code",
   "execution_count": 15,
   "id": "07fba306",
   "metadata": {
    "execution": {
     "iopub.execute_input": "2023-08-29T03:43:09.423670Z",
     "iopub.status.busy": "2023-08-29T03:43:09.423356Z",
     "iopub.status.idle": "2023-08-29T03:43:10.515361Z",
     "shell.execute_reply": "2023-08-29T03:43:10.514271Z"
    },
    "papermill": {
     "duration": 1.101466,
     "end_time": "2023-08-29T03:43:10.517140",
     "exception": false,
     "start_time": "2023-08-29T03:43:09.415674",
     "status": "completed"
    },
    "tags": []
   },
   "outputs": [
    {
     "name": "stderr",
     "output_type": "stream",
     "text": [
      "/tmp/ipykernel_20/3368954722.py:11: UserWarning: *c* argument looks like a single numeric RGB or RGBA sequence, which should be avoided as value-mapping will have precedence in case its length matches with *x* & *y*.  Please use the *color* keyword-argument or provide a 2D array with a single row if you intend to specify the same RGB or RGBA value for all points.\n",
      "  plt.scatter(X_set[y_set == j, 0], X_set[y_set == j, 1], c = ListedColormap(('red', 'green'))(i), label = j)\n"
     ]
    },
    {
     "data": {
      "image/png": "[encoded data removed]",
      "text/plain": [
       "<Figure size 640x480 with 1 Axes>"
      ]
     },
     "metadata": {},
     "output_type": "display_data"
    }
   ],
   "source": [
    "plt.title('K-NN (Training set)')\n",
    "plt.xlabel('Age')\n",
    "plt.ylabel('Estimated Salary')\n",
    "plt.legend()\n",
    "\n",
    "plt.contourf(X1, X2, y12_pred,\n",
    "             alpha = 0.75, cmap = ListedColormap(('red', 'green')))\n",
    "plt.xlim(X1.min(), X1.max())\n",
    "plt.ylim(X2.min(), X2.max())\n",
    "for i, j in enumerate(np.unique(y_set)):\n",
    "    plt.scatter(X_set[y_set == j, 0], X_set[y_set == j, 1], c = ListedColormap(('red', 'green'))(i), label = j)\n",
    "\n",
    "plt.show()"
   ]
  },
  {
   "cell_type": "markdown",
   "id": "02216770",
   "metadata": {
    "papermill": {
     "duration": 0.00697,
     "end_time": "2023-08-29T03:43:10.531698",
     "exception": false,
     "start_time": "2023-08-29T03:43:10.524728",
     "status": "completed"
    },
    "tags": []
   },
   "source": [
    "<a id=\"8.2\"></a>\n",
    "## 8.2 Test Results\n",
    "\n",
    "[Go back to Index](#index)"
   ]
  },
  {
   "cell_type": "code",
   "execution_count": 16,
   "id": "f46c2127",
   "metadata": {
    "execution": {
     "iopub.execute_input": "2023-08-29T03:43:10.547684Z",
     "iopub.status.busy": "2023-08-29T03:43:10.547380Z",
     "iopub.status.idle": "2023-08-29T03:43:10.569926Z",
     "shell.execute_reply": "2023-08-29T03:43:10.569079Z"
    },
    "papermill": {
     "duration": 0.032858,
     "end_time": "2023-08-29T03:43:10.571955",
     "exception": false,
     "start_time": "2023-08-29T03:43:10.539097",
     "status": "completed"
    },
    "tags": []
   },
   "outputs": [],
   "source": [
    "from matplotlib.colors import ListedColormap\n",
    "X_set, y_set = sc.inverse_transform(X_test), y_test\n",
    "X1, X2 = np.meshgrid(np.arange(start = X_set[:, 0].min() - 10, stop = X_set[:, 0].max() + 10, step = 1),\n",
    "                     np.arange(start = X_set[:, 1].min() - 1000, stop = X_set[:, 1].max() + 1000, step = 1))"
   ]
  },
  {
   "cell_type": "code",
   "execution_count": 17,
   "id": "0699c615",
   "metadata": {
    "execution": {
     "iopub.execute_input": "2023-08-29T03:43:10.587348Z",
     "iopub.status.busy": "2023-08-29T03:43:10.587103Z",
     "iopub.status.idle": "2023-08-29T03:45:47.704664Z",
     "shell.execute_reply": "2023-08-29T03:45:47.703574Z"
    },
    "papermill": {
     "duration": 157.127656,
     "end_time": "2023-08-29T03:45:47.707003",
     "exception": false,
     "start_time": "2023-08-29T03:43:10.579347",
     "status": "completed"
    },
    "tags": []
   },
   "outputs": [],
   "source": [
    "y12_pred = classifier.predict(sc.transform(np.array([X1.ravel(), X2.ravel()]).T)).reshape(X1.shape)"
   ]
  },
  {
   "cell_type": "code",
   "execution_count": 18,
   "id": "5933ebc1",
   "metadata": {
    "execution": {
     "iopub.execute_input": "2023-08-29T03:45:47.723352Z",
     "iopub.status.busy": "2023-08-29T03:45:47.723054Z",
     "iopub.status.idle": "2023-08-29T03:45:48.789508Z",
     "shell.execute_reply": "2023-08-29T03:45:48.788818Z"
    },
    "papermill": {
     "duration": 1.076784,
     "end_time": "2023-08-29T03:45:48.791649",
     "exception": false,
     "start_time": "2023-08-29T03:45:47.714865",
     "status": "completed"
    },
    "tags": []
   },
   "outputs": [
    {
     "name": "stderr",
     "output_type": "stream",
     "text": [
      "/tmp/ipykernel_20/4155083636.py:5: UserWarning: *c* argument looks like a single numeric RGB or RGBA sequence, which should be avoided as value-mapping will have precedence in case its length matches with *x* & *y*.  Please use the *color* keyword-argument or provide a 2D array with a single row if you intend to specify the same RGB or RGBA value for all points.\n",
      "  plt.scatter(X_set[y_set == j, 0], X_set[y_set == j, 1], c = ListedColormap(('red', 'green'))(i), label = j)\n"
     ]
    },
    {
     "data": {
      "image/png": "[encoded data removed]",
      "text/plain": [
       "<Figure size 640x480 with 1 Axes>"
      ]
     },
     "metadata": {},
     "output_type": "display_data"
    }
   ],
   "source": [
    "plt.contourf(X1, X2, y12_pred, alpha = 0.75, cmap = ListedColormap(('red', 'green')))\n",
    "plt.xlim(X1.min(), X1.max())\n",
    "plt.ylim(X2.min(), X2.max())\n",
    "for i, j in enumerate(np.unique(y_set)):\n",
    "    plt.scatter(X_set[y_set == j, 0], X_set[y_set == j, 1], c = ListedColormap(('red', 'green'))(i), label = j)\n",
    "plt.title('K-NN (Test set)')\n",
    "plt.xlabel('Age')\n",
    "plt.ylabel('Estimated Salary')\n",
    "plt.legend()\n",
    "plt.show()"
   ]
  }
 ],
 "metadata": {
  "kernelspec": {
   "display_name": "Python 3",
   "language": "python",
   "name": "python3"
  },
  "language_info": {
   "codemirror_mode": {
    "name": "ipython",
    "version": 3
   },
   "file_extension": ".py",
   "mimetype": "text/x-python",
   "name": "python",
   "nbconvert_exporter": "python",
   "pygments_lexer": "ipython3",
   "version": "3.10.12"
  },
  "papermill": {
   "default_parameters": {},
   "duration": 327.507825,
   "end_time": "2023-08-29T03:45:49.722278",
   "environment_variables": {},
   "exception": null,
   "input_path": "__notebook__.ipynb",
   "output_path": "__notebook__.ipynb",
   "parameters": {},
   "start_time": "2023-08-29T03:40:22.214453",
   "version": "2.4.0"
  }
 },
 "nbformat": 4,
 "nbformat_minor": 5
}
