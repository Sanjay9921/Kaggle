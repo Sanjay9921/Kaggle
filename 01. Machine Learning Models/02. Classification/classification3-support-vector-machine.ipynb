{
 "cells": [
  {
   "cell_type": "code",
   "execution_count": 1,
   "id": "472550ac",
   "metadata": {
    "_cell_guid": "b1076dfc-b9ad-4769-8c92-a6c4dae69d19",
    "_uuid": "8f2839f25d086af736a60e9eeb907d3b93b6e0e5",
    "execution": {
     "iopub.execute_input": "2023-08-29T07:16:43.637166Z",
     "iopub.status.busy": "2023-08-29T07:16:43.636579Z",
     "iopub.status.idle": "2023-08-29T07:16:43.658374Z",
     "shell.execute_reply": "2023-08-29T07:16:43.657533Z"
    },
    "papermill": {
     "duration": 0.037608,
     "end_time": "2023-08-29T07:16:43.660872",
     "exception": false,
     "start_time": "2023-08-29T07:16:43.623264",
     "status": "completed"
    },
    "tags": []
   },
   "outputs": [
    {
     "name": "stdout",
     "output_type": "stream",
     "text": [
      "/kaggle/input/social-network-ads/Social_Network_Ads.csv\n"
     ]
    }
   ],
   "source": [
    "# This Python 3 environment comes with many helpful analytics libraries installed\n",
    "# It is defined by the kaggle/python Docker image: https://github.com/kaggle/docker-python\n",
    "# For example, here's several helpful packages to load\n",
    "\n",
    "import numpy as np # linear algebra\n",
    "import pandas as pd # data processing, CSV file I/O (e.g. pd.read_csv)\n",
    "\n",
    "# Input data files are available in the read-only \"../input/\" directory\n",
    "# For example, running this (by clicking run or pressing Shift+Enter) will list all files under the input directory\n",
    "\n",
    "import os\n",
    "for dirname, _, filenames in os.walk('/kaggle/input'):\n",
    "    for filename in filenames:\n",
    "        print(os.path.join(dirname, filename))\n",
    "\n",
    "# You can write up to 20GB to the current directory (/kaggle/working/) that gets preserved as output when you create a version using \"Save & Run All\" \n",
    "# You can also write temporary files to /kaggle/temp/, but they won't be saved outside of the current session"
   ]
  },
  {
   "cell_type": "markdown",
   "id": "fe9149c0",
   "metadata": {
    "papermill": {
     "duration": 0.009863,
     "end_time": "2023-08-29T07:16:43.680753",
     "exception": false,
     "start_time": "2023-08-29T07:16:43.670890",
     "status": "completed"
    },
    "tags": []
   },
   "source": [
    "# Credits and Links\n",
    "\n",
    "* UDEMY - Machine Learning A-Z <sup>TM</sup>*"
   ]
  },
  {
   "cell_type": "markdown",
   "id": "e481135c",
   "metadata": {
    "papermill": {
     "duration": 0.009458,
     "end_time": "2023-08-29T07:16:43.699808",
     "exception": false,
     "start_time": "2023-08-29T07:16:43.690350",
     "status": "completed"
    },
    "tags": []
   },
   "source": [
    "<a id=\"index\"></a>\n",
    "# Table of Content\n",
    "\n",
    "1. [Importing Libraries](#1)\n",
    "2. [Importing Dataset](#2)\n",
    "3. [Splitting the dataset into Train/Test](#3)\n",
    "4. [Feature Scaling](#4)\n",
    "5. [Support Vector Machine Training](#5)\n",
    "6. [Prediction](#6)\n",
    "    - [New Result](#6.1)\n",
    "    - [Test Result](#6.2)\n",
    "7. [Confusion Matrix](#7)\n",
    "6. [Visualization](#8)\n",
    "    - [Training set results](#8.1)\n",
    "    - [Test set results](#8.2)"
   ]
  },
  {
   "cell_type": "markdown",
   "id": "0370ba4c",
   "metadata": {
    "papermill": {
     "duration": 0.009408,
     "end_time": "2023-08-29T07:16:43.719110",
     "exception": false,
     "start_time": "2023-08-29T07:16:43.709702",
     "status": "completed"
    },
    "tags": []
   },
   "source": [
    "<a id=\"1\"></a>\n",
    "# 1. Importing Libraries\n",
    "\n",
    "[Go back to Index](#index)"
   ]
  },
  {
   "cell_type": "code",
   "execution_count": 2,
   "id": "eddb60d3",
   "metadata": {
    "execution": {
     "iopub.execute_input": "2023-08-29T07:16:43.740854Z",
     "iopub.status.busy": "2023-08-29T07:16:43.740349Z",
     "iopub.status.idle": "2023-08-29T07:16:45.306337Z",
     "shell.execute_reply": "2023-08-29T07:16:45.305005Z"
    },
    "papermill": {
     "duration": 1.580669,
     "end_time": "2023-08-29T07:16:45.309667",
     "exception": false,
     "start_time": "2023-08-29T07:16:43.728998",
     "status": "completed"
    },
    "tags": []
   },
   "outputs": [
    {
     "name": "stderr",
     "output_type": "stream",
     "text": [
      "/opt/conda/lib/python3.10/site-packages/scipy/__init__.py:146: UserWarning: A NumPy version >=1.16.5 and <1.23.0 is required for this version of SciPy (detected version 1.23.5\n",
      "  warnings.warn(f\"A NumPy version >={np_minversion} and <{np_maxversion}\"\n"
     ]
    }
   ],
   "source": [
    "#1. General\n",
    "import pandas as pd\n",
    "import numpy as np\n",
    "import os\n",
    "import matplotlib.pyplot as plt\n",
    "%matplotlib inline\n",
    "\n",
    "#2. Data Preprocessing\n",
    "##2.1 Fill Missing Data\n",
    "from sklearn.impute import SimpleImputer\n",
    "\n",
    "##2.2 Encoding\n",
    "from sklearn.compose import ColumnTransformer\n",
    "from sklearn.preprocessing import OneHotEncoder\n",
    "from sklearn.preprocessing import LabelEncoder\n",
    "\n",
    "##2.3 Splitting Train and Test\n",
    "from sklearn.model_selection import train_test_split\n",
    "\n",
    "##2.4 Feature Scaling\n",
    "from sklearn.preprocessing import StandardScaler\n",
    "\n",
    "#3. (SV)M (C)lassifier - SVC\n",
    "from sklearn.svm import SVC\n",
    "\n",
    "#4. Scikit Confusion Matrix\n",
    "from sklearn.metrics import confusion_matrix, accuracy_score"
   ]
  },
  {
   "cell_type": "markdown",
   "id": "e70aa5eb",
   "metadata": {
    "papermill": {
     "duration": 0.009867,
     "end_time": "2023-08-29T07:16:45.331975",
     "exception": false,
     "start_time": "2023-08-29T07:16:45.322108",
     "status": "completed"
    },
    "tags": []
   },
   "source": [
    "<a id=\"2\"></a>\n",
    "# 2. Importing Dataset\n",
    "\n",
    "[Go back to Index](#index)"
   ]
  },
  {
   "cell_type": "code",
   "execution_count": 3,
   "id": "8d5d8bb5",
   "metadata": {
    "execution": {
     "iopub.execute_input": "2023-08-29T07:16:45.355195Z",
     "iopub.status.busy": "2023-08-29T07:16:45.354408Z",
     "iopub.status.idle": "2023-08-29T07:16:45.376571Z",
     "shell.execute_reply": "2023-08-29T07:16:45.375277Z"
    },
    "papermill": {
     "duration": 0.037269,
     "end_time": "2023-08-29T07:16:45.379852",
     "exception": false,
     "start_time": "2023-08-29T07:16:45.342583",
     "status": "completed"
    },
    "tags": []
   },
   "outputs": [],
   "source": [
    "# Dataset:= Combined Cycle Powerplant.csv\n",
    "df = pd.read_csv('/kaggle/input/social-network-ads/Social_Network_Ads.csv')\n",
    "X = df.iloc[:, :-1].values\n",
    "y = df.iloc[:, -1].values"
   ]
  },
  {
   "cell_type": "markdown",
   "id": "c83af2fc",
   "metadata": {
    "papermill": {
     "duration": 0.009892,
     "end_time": "2023-08-29T07:16:45.400603",
     "exception": false,
     "start_time": "2023-08-29T07:16:45.390711",
     "status": "completed"
    },
    "tags": []
   },
   "source": [
    "<a id=\"3\"></a>\n",
    "# 3. Splitting the dataset into Train/Test\n",
    "\n",
    "[Go back to Index](#index)"
   ]
  },
  {
   "cell_type": "code",
   "execution_count": 4,
   "id": "7d676192",
   "metadata": {
    "execution": {
     "iopub.execute_input": "2023-08-29T07:16:45.423619Z",
     "iopub.status.busy": "2023-08-29T07:16:45.423127Z",
     "iopub.status.idle": "2023-08-29T07:16:45.431315Z",
     "shell.execute_reply": "2023-08-29T07:16:45.430518Z"
    },
    "papermill": {
     "duration": 0.022538,
     "end_time": "2023-08-29T07:16:45.433599",
     "exception": false,
     "start_time": "2023-08-29T07:16:45.411061",
     "status": "completed"
    },
    "tags": []
   },
   "outputs": [],
   "source": [
    "X_train, X_test, y_train, y_test = train_test_split(X, y, test_size=0.25, random_state=0)"
   ]
  },
  {
   "cell_type": "markdown",
   "id": "df527f6c",
   "metadata": {
    "papermill": {
     "duration": 0.009995,
     "end_time": "2023-08-29T07:16:45.453832",
     "exception": false,
     "start_time": "2023-08-29T07:16:45.443837",
     "status": "completed"
    },
    "tags": []
   },
   "source": [
    "<a id=\"4\"></a>\n",
    "# 4. Feature Scaling\n",
    "\n",
    "[Go back to Index](#index)"
   ]
  },
  {
   "cell_type": "code",
   "execution_count": 5,
   "id": "dda358e5",
   "metadata": {
    "execution": {
     "iopub.execute_input": "2023-08-29T07:16:45.476168Z",
     "iopub.status.busy": "2023-08-29T07:16:45.475576Z",
     "iopub.status.idle": "2023-08-29T07:16:45.481042Z",
     "shell.execute_reply": "2023-08-29T07:16:45.479787Z"
    },
    "papermill": {
     "duration": 0.01962,
     "end_time": "2023-08-29T07:16:45.483571",
     "exception": false,
     "start_time": "2023-08-29T07:16:45.463951",
     "status": "completed"
    },
    "tags": []
   },
   "outputs": [],
   "source": [
    "sc = StandardScaler()"
   ]
  },
  {
   "cell_type": "code",
   "execution_count": 6,
   "id": "5d25cd2f",
   "metadata": {
    "execution": {
     "iopub.execute_input": "2023-08-29T07:16:45.508219Z",
     "iopub.status.busy": "2023-08-29T07:16:45.507210Z",
     "iopub.status.idle": "2023-08-29T07:16:45.516734Z",
     "shell.execute_reply": "2023-08-29T07:16:45.515413Z"
    },
    "papermill": {
     "duration": 0.024679,
     "end_time": "2023-08-29T07:16:45.519341",
     "exception": false,
     "start_time": "2023-08-29T07:16:45.494662",
     "status": "completed"
    },
    "tags": []
   },
   "outputs": [],
   "source": [
    "X_train = sc.fit_transform(X_train)\n",
    "X_test = sc.transform(X_test)"
   ]
  },
  {
   "cell_type": "markdown",
   "id": "fd20cd3d",
   "metadata": {
    "papermill": {
     "duration": 0.009994,
     "end_time": "2023-08-29T07:16:45.539432",
     "exception": false,
     "start_time": "2023-08-29T07:16:45.529438",
     "status": "completed"
    },
    "tags": []
   },
   "source": [
    "<a id=\"5\"></a>\n",
    "# 5. Support Vector Machine\n",
    "\n",
    "[Go back to Index](#index)"
   ]
  },
  {
   "cell_type": "code",
   "execution_count": 7,
   "id": "511d84cf",
   "metadata": {
    "execution": {
     "iopub.execute_input": "2023-08-29T07:16:45.561823Z",
     "iopub.status.busy": "2023-08-29T07:16:45.561080Z",
     "iopub.status.idle": "2023-08-29T07:16:45.565359Z",
     "shell.execute_reply": "2023-08-29T07:16:45.564584Z"
    },
    "papermill": {
     "duration": 0.018272,
     "end_time": "2023-08-29T07:16:45.567761",
     "exception": false,
     "start_time": "2023-08-29T07:16:45.549489",
     "status": "completed"
    },
    "tags": []
   },
   "outputs": [],
   "source": [
    "#linear classifier\n",
    "classifier = SVC(kernel=\"linear\", random_state=0)"
   ]
  },
  {
   "cell_type": "code",
   "execution_count": 8,
   "id": "e0c86ff5",
   "metadata": {
    "execution": {
     "iopub.execute_input": "2023-08-29T07:16:45.590879Z",
     "iopub.status.busy": "2023-08-29T07:16:45.590503Z",
     "iopub.status.idle": "2023-08-29T07:16:45.610323Z",
     "shell.execute_reply": "2023-08-29T07:16:45.609238Z"
    },
    "papermill": {
     "duration": 0.034432,
     "end_time": "2023-08-29T07:16:45.613034",
     "exception": false,
     "start_time": "2023-08-29T07:16:45.578602",
     "status": "completed"
    },
    "tags": []
   },
   "outputs": [
    {
     "data": {
      "text/html": [
       "<style>#sk-container-id-1 {color: black;background-color: white;}#sk-container-id-1 pre{padding: 0;}#sk-container-id-1 div.sk-toggleable {background-color: white;}#sk-container-id-1 label.sk-toggleable__label {cursor: pointer;display: block;width: 100%;margin-bottom: 0;padding: 0.3em;box-sizing: border-box;text-align: center;}#sk-container-id-1 label.sk-toggleable__label-arrow:before {content: \"▸\";float: left;margin-right: 0.25em;color: #696969;}#sk-container-id-1 label.sk-toggleable__label-arrow:hover:before {color: black;}#sk-container-id-1 div.sk-estimator:hover label.sk-toggleable__label-arrow:before {color: black;}#sk-container-id-1 div.sk-toggleable__content {max-height: 0;max-width: 0;overflow: hidden;text-align: left;background-color: #f0f8ff;}#sk-container-id-1 div.sk-toggleable__content pre {margin: 0.2em;color: black;border-radius: 0.25em;background-color: #f0f8ff;}#sk-container-id-1 input.sk-toggleable__control:checked~div.sk-toggleable__content {max-height: 200px;max-width: 100%;overflow: auto;}#sk-container-id-1 input.sk-toggleable__control:checked~label.sk-toggleable__label-arrow:before {content: \"▾\";}#sk-container-id-1 div.sk-estimator input.sk-toggleable__control:checked~label.sk-toggleable__label {background-color: #d4ebff;}#sk-container-id-1 div.sk-label input.sk-toggleable__control:checked~label.sk-toggleable__label {background-color: #d4ebff;}#sk-container-id-1 input.sk-hidden--visually {border: 0;clip: rect(1px 1px 1px 1px);clip: rect(1px, 1px, 1px, 1px);height: 1px;margin: -1px;overflow: hidden;padding: 0;position: absolute;width: 1px;}#sk-container-id-1 div.sk-estimator {font-family: monospace;background-color: #f0f8ff;border: 1px dotted black;border-radius: 0.25em;box-sizing: border-box;margin-bottom: 0.5em;}#sk-container-id-1 div.sk-estimator:hover {background-color: #d4ebff;}#sk-container-id-1 div.sk-parallel-item::after {content: \"\";width: 100%;border-bottom: 1px solid gray;flex-grow: 1;}#sk-container-id-1 div.sk-label:hover label.sk-toggleable__label {background-color: #d4ebff;}#sk-container-id-1 div.sk-serial::before {content: \"\";position: absolute;border-left: 1px solid gray;box-sizing: border-box;top: 0;bottom: 0;left: 50%;z-index: 0;}#sk-container-id-1 div.sk-serial {display: flex;flex-direction: column;align-items: center;background-color: white;padding-right: 0.2em;padding-left: 0.2em;position: relative;}#sk-container-id-1 div.sk-item {position: relative;z-index: 1;}#sk-container-id-1 div.sk-parallel {display: flex;align-items: stretch;justify-content: center;background-color: white;position: relative;}#sk-container-id-1 div.sk-item::before, #sk-container-id-1 div.sk-parallel-item::before {content: \"\";position: absolute;border-left: 1px solid gray;box-sizing: border-box;top: 0;bottom: 0;left: 50%;z-index: -1;}#sk-container-id-1 div.sk-parallel-item {display: flex;flex-direction: column;z-index: 1;position: relative;background-color: white;}#sk-container-id-1 div.sk-parallel-item:first-child::after {align-self: flex-end;width: 50%;}#sk-container-id-1 div.sk-parallel-item:last-child::after {align-self: flex-start;width: 50%;}#sk-container-id-1 div.sk-parallel-item:only-child::after {width: 0;}#sk-container-id-1 div.sk-dashed-wrapped {border: 1px dashed gray;margin: 0 0.4em 0.5em 0.4em;box-sizing: border-box;padding-bottom: 0.4em;background-color: white;}#sk-container-id-1 div.sk-label label {font-family: monospace;font-weight: bold;display: inline-block;line-height: 1.2em;}#sk-container-id-1 div.sk-label-container {text-align: center;}#sk-container-id-1 div.sk-container {/* jupyter's `normalize.less` sets `[hidden] { display: none; }` but bootstrap.min.css set `[hidden] { display: none !important; }` so we also need the `!important` here to be able to override the default hidden behavior on the sphinx rendered scikit-learn.org. See: https://github.com/scikit-learn/scikit-learn/issues/21755 */display: inline-block !important;position: relative;}#sk-container-id-1 div.sk-text-repr-fallback {display: none;}</style><div id=\"sk-container-id-1\" class=\"sk-top-container\"><div class=\"sk-text-repr-fallback\"><pre>SVC(kernel=&#x27;linear&#x27;, random_state=0)</pre><b>In a Jupyter environment, please rerun this cell to show the HTML representation or trust the notebook. <br />On GitHub, the HTML representation is unable to render, please try loading this page with nbviewer.org.</b></div><div class=\"sk-container\" hidden><div class=\"sk-item\"><div class=\"sk-estimator sk-toggleable\"><input class=\"sk-toggleable__control sk-hidden--visually\" id=\"sk-estimator-id-1\" type=\"checkbox\" checked><label for=\"sk-estimator-id-1\" class=\"sk-toggleable__label sk-toggleable__label-arrow\">SVC</label><div class=\"sk-toggleable__content\"><pre>SVC(kernel=&#x27;linear&#x27;, random_state=0)</pre></div></div></div></div></div>"
      ],
      "text/plain": [
       "SVC(kernel='linear', random_state=0)"
      ]
     },
     "execution_count": 8,
     "metadata": {},
     "output_type": "execute_result"
    }
   ],
   "source": [
    "classifier.fit(X_train, y_train)"
   ]
  },
  {
   "cell_type": "markdown",
   "id": "2524ffcd",
   "metadata": {
    "papermill": {
     "duration": 0.010082,
     "end_time": "2023-08-29T07:16:45.633418",
     "exception": false,
     "start_time": "2023-08-29T07:16:45.623336",
     "status": "completed"
    },
    "tags": []
   },
   "source": [
    "<a id=\"6\"></a>\n",
    "# 6. Prediction\n",
    "\n",
    "[Go back to Index](#index)"
   ]
  },
  {
   "cell_type": "markdown",
   "id": "73affc3e",
   "metadata": {
    "papermill": {
     "duration": 0.010154,
     "end_time": "2023-08-29T07:16:45.654196",
     "exception": false,
     "start_time": "2023-08-29T07:16:45.644042",
     "status": "completed"
    },
    "tags": []
   },
   "source": [
    "<a id=\"6.1\"></a>\n",
    "## 6.1 Predicting a new value\n",
    "\n",
    "[Go back to Index](#index)"
   ]
  },
  {
   "cell_type": "code",
   "execution_count": 9,
   "id": "f58e504e",
   "metadata": {
    "execution": {
     "iopub.execute_input": "2023-08-29T07:16:45.676867Z",
     "iopub.status.busy": "2023-08-29T07:16:45.676052Z",
     "iopub.status.idle": "2023-08-29T07:16:45.684330Z",
     "shell.execute_reply": "2023-08-29T07:16:45.683500Z"
    },
    "papermill": {
     "duration": 0.022223,
     "end_time": "2023-08-29T07:16:45.686544",
     "exception": false,
     "start_time": "2023-08-29T07:16:45.664321",
     "status": "completed"
    },
    "tags": []
   },
   "outputs": [
    {
     "data": {
      "text/plain": [
       "array([0])"
      ]
     },
     "execution_count": 9,
     "metadata": {},
     "output_type": "execute_result"
    }
   ],
   "source": [
    "#Remember to put 2D array as input\n",
    "#[[Age, Salary]] -> 1 or 0 output\n",
    "#classifier.predict([[30, 87000]]) -> Feature scaling is missing -> wrong output !\n",
    "classifier.predict(sc.transform([[30, 87000]]))"
   ]
  },
  {
   "cell_type": "markdown",
   "id": "b7c4e85b",
   "metadata": {
    "papermill": {
     "duration": 0.010211,
     "end_time": "2023-08-29T07:16:45.706946",
     "exception": false,
     "start_time": "2023-08-29T07:16:45.696735",
     "status": "completed"
    },
    "tags": []
   },
   "source": [
    "<a id=\"6.2\"></a>\n",
    "## 6.2 Predicting X_test\n",
    "\n",
    "[Go back to Index](#index)"
   ]
  },
  {
   "cell_type": "code",
   "execution_count": 10,
   "id": "d3b62a61",
   "metadata": {
    "execution": {
     "iopub.execute_input": "2023-08-29T07:16:45.731304Z",
     "iopub.status.busy": "2023-08-29T07:16:45.730671Z",
     "iopub.status.idle": "2023-08-29T07:16:45.740596Z",
     "shell.execute_reply": "2023-08-29T07:16:45.738150Z"
    },
    "papermill": {
     "duration": 0.02547,
     "end_time": "2023-08-29T07:16:45.743121",
     "exception": false,
     "start_time": "2023-08-29T07:16:45.717651",
     "status": "completed"
    },
    "tags": []
   },
   "outputs": [
    {
     "name": "stdout",
     "output_type": "stream",
     "text": [
      "[[0 0]\n",
      " [0 0]\n",
      " [0 0]\n",
      " [0 0]\n",
      " [0 0]\n",
      " [0 0]\n",
      " [0 0]\n",
      " [1 1]\n",
      " [0 0]\n",
      " [0 0]\n",
      " [0 0]\n",
      " [0 0]\n",
      " [0 0]\n",
      " [0 0]\n",
      " [0 0]\n",
      " [0 0]\n",
      " [0 0]\n",
      " [0 0]\n",
      " [1 1]\n",
      " [0 0]\n",
      " [0 0]\n",
      " [1 1]\n",
      " [0 0]\n",
      " [1 1]\n",
      " [0 0]\n",
      " [1 1]\n",
      " [0 0]\n",
      " [0 0]\n",
      " [0 0]\n",
      " [0 0]\n",
      " [0 0]\n",
      " [0 1]\n",
      " [1 1]\n",
      " [0 0]\n",
      " [0 0]\n",
      " [0 0]\n",
      " [0 0]\n",
      " [0 0]\n",
      " [0 0]\n",
      " [1 1]\n",
      " [0 0]\n",
      " [0 0]\n",
      " [0 0]\n",
      " [0 0]\n",
      " [1 1]\n",
      " [0 0]\n",
      " [0 0]\n",
      " [1 1]\n",
      " [0 0]\n",
      " [1 1]\n",
      " [1 1]\n",
      " [0 0]\n",
      " [0 0]\n",
      " [0 0]\n",
      " [1 1]\n",
      " [0 1]\n",
      " [0 0]\n",
      " [0 0]\n",
      " [0 1]\n",
      " [0 0]\n",
      " [0 0]\n",
      " [1 1]\n",
      " [0 0]\n",
      " [0 1]\n",
      " [0 0]\n",
      " [1 1]\n",
      " [0 0]\n",
      " [0 0]\n",
      " [0 0]\n",
      " [0 0]\n",
      " [1 1]\n",
      " [0 0]\n",
      " [0 0]\n",
      " [0 1]\n",
      " [0 0]\n",
      " [0 0]\n",
      " [1 0]\n",
      " [0 0]\n",
      " [1 1]\n",
      " [1 1]\n",
      " [1 1]\n",
      " [1 0]\n",
      " [0 0]\n",
      " [0 0]\n",
      " [1 1]\n",
      " [1 1]\n",
      " [0 0]\n",
      " [1 1]\n",
      " [0 1]\n",
      " [0 0]\n",
      " [0 0]\n",
      " [1 1]\n",
      " [0 0]\n",
      " [0 0]\n",
      " [0 0]\n",
      " [0 1]\n",
      " [0 0]\n",
      " [0 1]\n",
      " [1 1]\n",
      " [1 1]]\n"
     ]
    }
   ],
   "source": [
    "y_pred = classifier.predict(X_test) #X_test has already undergone feature scaling\n",
    "_y_pred = y_pred.reshape(len(y_pred),1) #Convert 1D -> 2D\n",
    "_y_test = y_test.reshape(len(y_test),1) #Convert 1D -> 2D\n",
    "print(np.concatenate((_y_pred, _y_test),1)) #Side by side depiciton of predicted vs actual results expected"
   ]
  },
  {
   "cell_type": "markdown",
   "id": "2da988f8",
   "metadata": {
    "papermill": {
     "duration": 0.010335,
     "end_time": "2023-08-29T07:16:45.764261",
     "exception": false,
     "start_time": "2023-08-29T07:16:45.753926",
     "status": "completed"
    },
    "tags": []
   },
   "source": [
    "<a id=\"7\"></a>\n",
    "# 7. Confusion Matrix\n",
    "\n",
    "[Go back to Index](#index)"
   ]
  },
  {
   "cell_type": "markdown",
   "id": "56f96f7a",
   "metadata": {
    "papermill": {
     "duration": 0.010495,
     "end_time": "2023-08-29T07:16:45.785439",
     "exception": false,
     "start_time": "2023-08-29T07:16:45.774944",
     "status": "completed"
    },
    "tags": []
   },
   "source": [
    "<a href=\"https://towardsdatascience.com/understanding-confusion-matrix-a9ad42dcfd62\">Confusion Matrix Explained</a>\n",
    "\n",
    "<a href=\"https://datascience.stackexchange.com/questions/28426/train-accuracy-vs-test-accuracy-vs-confusion-matrix\">confusion matrix vs accuracy_score</a>"
   ]
  },
  {
   "cell_type": "code",
   "execution_count": 11,
   "id": "67b9c6e1",
   "metadata": {
    "execution": {
     "iopub.execute_input": "2023-08-29T07:16:45.809168Z",
     "iopub.status.busy": "2023-08-29T07:16:45.808276Z",
     "iopub.status.idle": "2023-08-29T07:16:45.819377Z",
     "shell.execute_reply": "2023-08-29T07:16:45.818201Z"
    },
    "papermill": {
     "duration": 0.026022,
     "end_time": "2023-08-29T07:16:45.822004",
     "exception": false,
     "start_time": "2023-08-29T07:16:45.795982",
     "status": "completed"
    },
    "tags": []
   },
   "outputs": [
    {
     "data": {
      "text/plain": [
       "array([[66,  2],\n",
       "       [ 8, 24]])"
      ]
     },
     "execution_count": 11,
     "metadata": {},
     "output_type": "execute_result"
    }
   ],
   "source": [
    "confusion_matrix(y_test, y_pred)"
   ]
  },
  {
   "cell_type": "markdown",
   "id": "4ec51a2d",
   "metadata": {
    "papermill": {
     "duration": 0.010488,
     "end_time": "2023-08-29T07:16:45.843419",
     "exception": false,
     "start_time": "2023-08-29T07:16:45.832931",
     "status": "completed"
    },
    "tags": []
   },
   "source": [
    "### Note\n",
    "\n",
    "* TP:= 66 correct predictions of class (1)\n",
    "* FP:= 2 incorrect predictions of class (0)\n",
    "* FP:= 8 incorrect predictions of class (1)\n",
    "* TN:= 24 correct predictions of class (0)\n",
    "\n",
    "* TP + TN = 90 = total accuracy"
   ]
  },
  {
   "cell_type": "code",
   "execution_count": 12,
   "id": "4122ce20",
   "metadata": {
    "execution": {
     "iopub.execute_input": "2023-08-29T07:16:45.867527Z",
     "iopub.status.busy": "2023-08-29T07:16:45.866841Z",
     "iopub.status.idle": "2023-08-29T07:16:45.874038Z",
     "shell.execute_reply": "2023-08-29T07:16:45.872753Z"
    },
    "papermill": {
     "duration": 0.022067,
     "end_time": "2023-08-29T07:16:45.876363",
     "exception": false,
     "start_time": "2023-08-29T07:16:45.854296",
     "status": "completed"
    },
    "tags": []
   },
   "outputs": [
    {
     "data": {
      "text/plain": [
       "0.9"
      ]
     },
     "execution_count": 12,
     "metadata": {},
     "output_type": "execute_result"
    }
   ],
   "source": [
    "accuracy_score(y_test, y_pred)"
   ]
  },
  {
   "cell_type": "markdown",
   "id": "ae6db461",
   "metadata": {
    "papermill": {
     "duration": 0.010715,
     "end_time": "2023-08-29T07:16:45.898052",
     "exception": false,
     "start_time": "2023-08-29T07:16:45.887337",
     "status": "completed"
    },
    "tags": []
   },
   "source": [
    "<a id=\"8\"></a>\n",
    "# 8. Visualization\n",
    "\n",
    "[Go back to Index](#index)"
   ]
  },
  {
   "cell_type": "markdown",
   "id": "ca8762a6",
   "metadata": {
    "papermill": {
     "duration": 0.010624,
     "end_time": "2023-08-29T07:16:45.919749",
     "exception": false,
     "start_time": "2023-08-29T07:16:45.909125",
     "status": "completed"
    },
    "tags": []
   },
   "source": [
    "<a id=\"8.1\"></a>\n",
    "## 8.1 Training Results\n",
    "\n",
    "[Go back to Index](#index)"
   ]
  },
  {
   "cell_type": "code",
   "execution_count": 13,
   "id": "11cd140f",
   "metadata": {
    "execution": {
     "iopub.execute_input": "2023-08-29T07:16:45.943680Z",
     "iopub.status.busy": "2023-08-29T07:16:45.943248Z",
     "iopub.status.idle": "2023-08-29T07:16:45.996787Z",
     "shell.execute_reply": "2023-08-29T07:16:45.995628Z"
    },
    "papermill": {
     "duration": 0.069206,
     "end_time": "2023-08-29T07:16:45.999884",
     "exception": false,
     "start_time": "2023-08-29T07:16:45.930678",
     "status": "completed"
    },
    "tags": []
   },
   "outputs": [],
   "source": [
    "from matplotlib.colors import ListedColormap\n",
    "X_set, y_set = sc.inverse_transform(X_train), y_train\n",
    "X1, X2 = np.meshgrid(np.arange(start = X_set[:, 0].min() - 10, stop = X_set[:, 0].max() + 10, step = 1),\n",
    "                     np.arange(start = X_set[:, 1].min() - 1000, stop = X_set[:, 1].max() + 1000, step = 1))"
   ]
  },
  {
   "cell_type": "code",
   "execution_count": 14,
   "id": "05c3d2d0",
   "metadata": {
    "execution": {
     "iopub.execute_input": "2023-08-29T07:16:46.023972Z",
     "iopub.status.busy": "2023-08-29T07:16:46.023594Z",
     "iopub.status.idle": "2023-08-29T07:17:08.555186Z",
     "shell.execute_reply": "2023-08-29T07:17:08.553779Z"
    },
    "papermill": {
     "duration": 22.547673,
     "end_time": "2023-08-29T07:17:08.558602",
     "exception": false,
     "start_time": "2023-08-29T07:16:46.010929",
     "status": "completed"
    },
    "tags": []
   },
   "outputs": [],
   "source": [
    "y12_pred = classifier.predict(sc.transform(np.array([X1.ravel(), X2.ravel()]).T)).reshape(X1.shape)"
   ]
  },
  {
   "cell_type": "code",
   "execution_count": 15,
   "id": "13dcd5fd",
   "metadata": {
    "execution": {
     "iopub.execute_input": "2023-08-29T07:17:08.593098Z",
     "iopub.status.busy": "2023-08-29T07:17:08.591848Z",
     "iopub.status.idle": "2023-08-29T07:17:10.569464Z",
     "shell.execute_reply": "2023-08-29T07:17:10.568114Z"
    },
    "papermill": {
     "duration": 1.999418,
     "end_time": "2023-08-29T07:17:10.572304",
     "exception": false,
     "start_time": "2023-08-29T07:17:08.572886",
     "status": "completed"
    },
    "tags": []
   },
   "outputs": [
    {
     "name": "stderr",
     "output_type": "stream",
     "text": [
      "/tmp/ipykernel_21/4039645567.py:11: UserWarning: *c* argument looks like a single numeric RGB or RGBA sequence, which should be avoided as value-mapping will have precedence in case its length matches with *x* & *y*.  Please use the *color* keyword-argument or provide a 2D array with a single row if you intend to specify the same RGB or RGBA value for all points.\n",
      "  plt.scatter(X_set[y_set == j, 0], X_set[y_set == j, 1], c = ListedColormap(('red', 'green'))(i), label = j)\n"
     ]
    },
    {
     "data": {
      "image/png": "[encoded data removed]",
      "text/plain": [
       "<Figure size 640x480 with 1 Axes>"
      ]
     },
     "metadata": {},
     "output_type": "display_data"
    }
   ],
   "source": [
    "plt.title('SVM (Training set)')\n",
    "plt.xlabel('Age')\n",
    "plt.ylabel('Estimated Salary')\n",
    "plt.legend()\n",
    "\n",
    "plt.contourf(X1, X2, y12_pred,\n",
    "             alpha = 0.75, cmap = ListedColormap(('red', 'green')))\n",
    "plt.xlim(X1.min(), X1.max())\n",
    "plt.ylim(X2.min(), X2.max())\n",
    "for i, j in enumerate(np.unique(y_set)):\n",
    "    plt.scatter(X_set[y_set == j, 0], X_set[y_set == j, 1], c = ListedColormap(('red', 'green'))(i), label = j)\n",
    "\n",
    "plt.show()"
   ]
  },
  {
   "cell_type": "markdown",
   "id": "f61682f7",
   "metadata": {
    "papermill": {
     "duration": 0.012316,
     "end_time": "2023-08-29T07:17:10.596998",
     "exception": false,
     "start_time": "2023-08-29T07:17:10.584682",
     "status": "completed"
    },
    "tags": []
   },
   "source": [
    "<a id=\"8.2\"></a>\n",
    "## 8.2 Test Results\n",
    "\n",
    "[Go back to Index](#index)"
   ]
  },
  {
   "cell_type": "code",
   "execution_count": 16,
   "id": "4ae065e9",
   "metadata": {
    "execution": {
     "iopub.execute_input": "2023-08-29T07:17:10.625218Z",
     "iopub.status.busy": "2023-08-29T07:17:10.624736Z",
     "iopub.status.idle": "2023-08-29T07:17:10.699132Z",
     "shell.execute_reply": "2023-08-29T07:17:10.697321Z"
    },
    "papermill": {
     "duration": 0.092717,
     "end_time": "2023-08-29T07:17:10.702122",
     "exception": false,
     "start_time": "2023-08-29T07:17:10.609405",
     "status": "completed"
    },
    "tags": []
   },
   "outputs": [],
   "source": [
    "from matplotlib.colors import ListedColormap\n",
    "X_set, y_set = sc.inverse_transform(X_test), y_test\n",
    "X1, X2 = np.meshgrid(np.arange(start = X_set[:, 0].min() - 10, stop = X_set[:, 0].max() + 10, step = 1),\n",
    "                     np.arange(start = X_set[:, 1].min() - 1000, stop = X_set[:, 1].max() + 1000, step = 1))"
   ]
  },
  {
   "cell_type": "code",
   "execution_count": 17,
   "id": "9bcd4ea1",
   "metadata": {
    "execution": {
     "iopub.execute_input": "2023-08-29T07:17:10.728365Z",
     "iopub.status.busy": "2023-08-29T07:17:10.727874Z",
     "iopub.status.idle": "2023-08-29T07:17:33.376185Z",
     "shell.execute_reply": "2023-08-29T07:17:33.374953Z"
    },
    "papermill": {
     "duration": 22.665544,
     "end_time": "2023-08-29T07:17:33.379620",
     "exception": false,
     "start_time": "2023-08-29T07:17:10.714076",
     "status": "completed"
    },
    "tags": []
   },
   "outputs": [],
   "source": [
    "y12_pred = classifier.predict(sc.transform(np.array([X1.ravel(), X2.ravel()]).T)).reshape(X1.shape)"
   ]
  },
  {
   "cell_type": "code",
   "execution_count": 18,
   "id": "62942b1a",
   "metadata": {
    "execution": {
     "iopub.execute_input": "2023-08-29T07:17:33.406922Z",
     "iopub.status.busy": "2023-08-29T07:17:33.406527Z",
     "iopub.status.idle": "2023-08-29T07:17:35.336767Z",
     "shell.execute_reply": "2023-08-29T07:17:35.335440Z"
    },
    "papermill": {
     "duration": 1.947114,
     "end_time": "2023-08-29T07:17:35.339407",
     "exception": false,
     "start_time": "2023-08-29T07:17:33.392293",
     "status": "completed"
    },
    "tags": []
   },
   "outputs": [
    {
     "name": "stderr",
     "output_type": "stream",
     "text": [
      "/tmp/ipykernel_21/1748962717.py:5: UserWarning: *c* argument looks like a single numeric RGB or RGBA sequence, which should be avoided as value-mapping will have precedence in case its length matches with *x* & *y*.  Please use the *color* keyword-argument or provide a 2D array with a single row if you intend to specify the same RGB or RGBA value for all points.\n",
      "  plt.scatter(X_set[y_set == j, 0], X_set[y_set == j, 1], c = ListedColormap(('red', 'green'))(i), label = j)\n"
     ]
    },
    {
     "data": {
      "image/png": "[encoded data removed]",
      "text/plain": [
       "<Figure size 640x480 with 1 Axes>"
      ]
     },
     "metadata": {},
     "output_type": "display_data"
    }
   ],
   "source": [
    "plt.contourf(X1, X2, y12_pred, alpha = 0.75, cmap = ListedColormap(('red', 'green')))\n",
    "plt.xlim(X1.min(), X1.max())\n",
    "plt.ylim(X2.min(), X2.max())\n",
    "for i, j in enumerate(np.unique(y_set)):\n",
    "    plt.scatter(X_set[y_set == j, 0], X_set[y_set == j, 1], c = ListedColormap(('red', 'green'))(i), label = j)\n",
    "plt.title('SVM (Test set)')\n",
    "plt.xlabel('Age')\n",
    "plt.ylabel('Estimated Salary')\n",
    "plt.legend()\n",
    "plt.show()"
   ]
  }
 ],
 "metadata": {
  "kernelspec": {
   "display_name": "Python 3",
   "language": "python",
   "name": "python3"
  },
  "language_info": {
   "codemirror_mode": {
    "name": "ipython",
    "version": 3
   },
   "file_extension": ".py",
   "mimetype": "text/x-python",
   "name": "python",
   "nbconvert_exporter": "python",
   "pygments_lexer": "ipython3",
   "version": "3.10.12"
  },
  "papermill": {
   "default_parameters": {},
   "duration": 65.50893,
   "end_time": "2023-08-29T07:17:36.679621",
   "environment_variables": {},
   "exception": null,
   "input_path": "__notebook__.ipynb",
   "output_path": "__notebook__.ipynb",
   "parameters": {},
   "start_time": "2023-08-29T07:16:31.170691",
   "version": "2.4.0"
  }
 },
 "nbformat": 4,
 "nbformat_minor": 5
}
