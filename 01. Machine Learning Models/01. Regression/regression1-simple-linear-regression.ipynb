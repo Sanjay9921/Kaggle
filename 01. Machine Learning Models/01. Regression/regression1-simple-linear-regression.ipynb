{
 "cells": [
  {
   "cell_type": "code",
   "execution_count": 1,
   "id": "e2afc168",
   "metadata": {
    "_cell_guid": "b1076dfc-b9ad-4769-8c92-a6c4dae69d19",
    "_uuid": "8f2839f25d086af736a60e9eeb907d3b93b6e0e5",
    "execution": {
     "iopub.execute_input": "2023-08-26T03:11:41.073172Z",
     "iopub.status.busy": "2023-08-26T03:11:41.072162Z",
     "iopub.status.idle": "2023-08-26T03:11:41.098193Z",
     "shell.execute_reply": "2023-08-26T03:11:41.097277Z"
    },
    "papermill": {
     "duration": 0.045329,
     "end_time": "2023-08-26T03:11:41.100610",
     "exception": false,
     "start_time": "2023-08-26T03:11:41.055281",
     "status": "completed"
    },
    "tags": []
   },
   "outputs": [
    {
     "name": "stdout",
     "output_type": "stream",
     "text": [
      "/kaggle/input/salary-dataset-simple-linear-regression/Salary_dataset.csv\n"
     ]
    }
   ],
   "source": [
    "# This Python 3 environment comes with many helpful analytics libraries installed\n",
    "# It is defined by the kaggle/python Docker image: https://github.com/kaggle/docker-python\n",
    "# For example, here's several helpful packages to load\n",
    "\n",
    "import numpy as np # linear algebra\n",
    "import pandas as pd # data processing, CSV file I/O (e.g. pd.read_csv)\n",
    "\n",
    "# Input data files are available in the read-only \"../input/\" directory\n",
    "# For example, running this (by clicking run or pressing Shift+Enter) will list all files under the input directory\n",
    "\n",
    "import os\n",
    "for dirname, _, filenames in os.walk('/kaggle/input'):\n",
    "    for filename in filenames:\n",
    "        print(os.path.join(dirname, filename))\n",
    "\n",
    "# You can write up to 20GB to the current directory (/kaggle/working/) that gets preserved as output when you create a version using \"Save & Run All\" \n",
    "# You can also write temporary files to /kaggle/temp/, but they won't be saved outside of the current session"
   ]
  },
  {
   "cell_type": "markdown",
   "id": "c691cda6",
   "metadata": {
    "papermill": {
     "duration": 0.01398,
     "end_time": "2023-08-26T03:11:41.129198",
     "exception": false,
     "start_time": "2023-08-26T03:11:41.115218",
     "status": "completed"
    },
    "tags": []
   },
   "source": [
    "# Credits and Links\n",
    "\n",
    "* UDEMY - Machine Learning A-Z <sup>TM</sup>"
   ]
  },
  {
   "cell_type": "markdown",
   "id": "ae8fe238",
   "metadata": {
    "papermill": {
     "duration": 0.013756,
     "end_time": "2023-08-26T03:11:41.158827",
     "exception": false,
     "start_time": "2023-08-26T03:11:41.145071",
     "status": "completed"
    },
    "tags": []
   },
   "source": [
    "<a id=\"index\"></a>\n",
    "# Table of Content\n",
    "\n",
    "1. [Importing Libraries](#1)\n",
    "2. [Importing Dataset](#2)\n",
    "3. [Creating Dependent and Independent Variables](#3)\n",
    "4. [Data Preprocessing](#4)\n",
    "    - [Missing Data](#4.1) \n",
    "    - [Encodings](#4.2) \n",
    "    - [Train and Test Split](#4.3)\n",
    "    - [Feature Scaling](#4.4)\n",
    "5. [Simple Linear Regression](#5)\n",
    "    - [Create a Model](#5.1)\n",
    "    - [Predict](#5.2)\n",
    "    - [Coefficient and Intercept](#5.3)\n",
    "6. [Visualization](#6)\n",
    "    - [Training Data Viz](#6.1)\n",
    "    - [Test Data Viz](#6.2)\n",
    "7. [Data Analysis](#7)"
   ]
  },
  {
   "cell_type": "markdown",
   "id": "5d3c192a",
   "metadata": {
    "papermill": {
     "duration": 0.014531,
     "end_time": "2023-08-26T03:11:41.187412",
     "exception": false,
     "start_time": "2023-08-26T03:11:41.172881",
     "status": "completed"
    },
    "tags": []
   },
   "source": [
    "<a id=\"1\"></a>\n",
    "# 1. Importing Libraries\n",
    "\n",
    "[Go back to Index](#index)"
   ]
  },
  {
   "cell_type": "code",
   "execution_count": 2,
   "id": "f5dd25a4",
   "metadata": {
    "execution": {
     "iopub.execute_input": "2023-08-26T03:11:41.217456Z",
     "iopub.status.busy": "2023-08-26T03:11:41.216976Z",
     "iopub.status.idle": "2023-08-26T03:11:42.804532Z",
     "shell.execute_reply": "2023-08-26T03:11:42.803127Z"
    },
    "papermill": {
     "duration": 1.605836,
     "end_time": "2023-08-26T03:11:42.807348",
     "exception": false,
     "start_time": "2023-08-26T03:11:41.201512",
     "status": "completed"
    },
    "tags": []
   },
   "outputs": [
    {
     "name": "stderr",
     "output_type": "stream",
     "text": [
      "/opt/conda/lib/python3.10/site-packages/scipy/__init__.py:146: UserWarning: A NumPy version >=1.16.5 and <1.23.0 is required for this version of SciPy (detected version 1.23.5\n",
      "  warnings.warn(f\"A NumPy version >={np_minversion} and <{np_maxversion}\"\n"
     ]
    }
   ],
   "source": [
    "#1. General\n",
    "import pandas as pd\n",
    "import numpy as np\n",
    "import os\n",
    "import matplotlib.pyplot as plt\n",
    "%matplotlib inline\n",
    "\n",
    "#2. Data Preprocessing\n",
    "##2.1 Fill Missing Data\n",
    "from sklearn.impute import SimpleImputer\n",
    "\n",
    "##2.2 Encoding\n",
    "from sklearn.compose import ColumnTransformer\n",
    "from sklearn.preprocessing import OneHotEncoder\n",
    "from sklearn.preprocessing import LabelEncoder\n",
    "\n",
    "##2.3 Splitting Train and Test\n",
    "from sklearn.model_selection import train_test_split\n",
    "\n",
    "##2.4 Feature Scaling\n",
    "from sklearn.preprocessing import StandardScaler\n",
    "\n",
    "#3. Linear Regression\n",
    "from sklearn.linear_model import LinearRegression"
   ]
  },
  {
   "cell_type": "markdown",
   "id": "fbec95e0",
   "metadata": {
    "papermill": {
     "duration": 0.013811,
     "end_time": "2023-08-26T03:11:42.835477",
     "exception": false,
     "start_time": "2023-08-26T03:11:42.821666",
     "status": "completed"
    },
    "tags": []
   },
   "source": [
    "<a id=\"2\"></a>\n",
    "# 2. Importing Dataset\n",
    "[Go back to Index](#index)"
   ]
  },
  {
   "cell_type": "code",
   "execution_count": 3,
   "id": "edfbdf69",
   "metadata": {
    "execution": {
     "iopub.execute_input": "2023-08-26T03:11:42.865620Z",
     "iopub.status.busy": "2023-08-26T03:11:42.865207Z",
     "iopub.status.idle": "2023-08-26T03:11:42.873633Z",
     "shell.execute_reply": "2023-08-26T03:11:42.872510Z"
    },
    "papermill": {
     "duration": 0.026232,
     "end_time": "2023-08-26T03:11:42.876022",
     "exception": false,
     "start_time": "2023-08-26T03:11:42.849790",
     "status": "completed"
    },
    "tags": []
   },
   "outputs": [
    {
     "data": {
      "text/plain": [
       "['__notebook__.ipynb']"
      ]
     },
     "execution_count": 3,
     "metadata": {},
     "output_type": "execute_result"
    }
   ],
   "source": [
    "os.listdir()"
   ]
  },
  {
   "cell_type": "code",
   "execution_count": 4,
   "id": "4fa245ee",
   "metadata": {
    "execution": {
     "iopub.execute_input": "2023-08-26T03:11:42.907440Z",
     "iopub.status.busy": "2023-08-26T03:11:42.906521Z",
     "iopub.status.idle": "2023-08-26T03:11:42.942688Z",
     "shell.execute_reply": "2023-08-26T03:11:42.941538Z"
    },
    "papermill": {
     "duration": 0.054947,
     "end_time": "2023-08-26T03:11:42.945340",
     "exception": false,
     "start_time": "2023-08-26T03:11:42.890393",
     "status": "completed"
    },
    "tags": []
   },
   "outputs": [
    {
     "data": {
      "text/html": [
       "<div>\n",
       "<style scoped>\n",
       "    .dataframe tbody tr th:only-of-type {\n",
       "        vertical-align: middle;\n",
       "    }\n",
       "\n",
       "    .dataframe tbody tr th {\n",
       "        vertical-align: top;\n",
       "    }\n",
       "\n",
       "    .dataframe thead th {\n",
       "        text-align: right;\n",
       "    }\n",
       "</style>\n",
       "<table border=\"1\" class=\"dataframe\">\n",
       "  <thead>\n",
       "    <tr style=\"text-align: right;\">\n",
       "      <th></th>\n",
       "      <th>Unnamed: 0</th>\n",
       "      <th>YearsExperience</th>\n",
       "      <th>Salary</th>\n",
       "    </tr>\n",
       "  </thead>\n",
       "  <tbody>\n",
       "    <tr>\n",
       "      <th>0</th>\n",
       "      <td>0</td>\n",
       "      <td>1.2</td>\n",
       "      <td>39344.0</td>\n",
       "    </tr>\n",
       "    <tr>\n",
       "      <th>1</th>\n",
       "      <td>1</td>\n",
       "      <td>1.4</td>\n",
       "      <td>46206.0</td>\n",
       "    </tr>\n",
       "  </tbody>\n",
       "</table>\n",
       "</div>"
      ],
      "text/plain": [
       "   Unnamed: 0  YearsExperience   Salary\n",
       "0           0              1.2  39344.0\n",
       "1           1              1.4  46206.0"
      ]
     },
     "execution_count": 4,
     "metadata": {},
     "output_type": "execute_result"
    }
   ],
   "source": [
    "df = pd.read_csv(\"/kaggle/input/salary-dataset-simple-linear-regression/Salary_dataset.csv\")\n",
    "df.head(2)"
   ]
  },
  {
   "cell_type": "code",
   "execution_count": 5,
   "id": "57955bf4",
   "metadata": {
    "execution": {
     "iopub.execute_input": "2023-08-26T03:11:42.977562Z",
     "iopub.status.busy": "2023-08-26T03:11:42.976693Z",
     "iopub.status.idle": "2023-08-26T03:11:42.989694Z",
     "shell.execute_reply": "2023-08-26T03:11:42.988593Z"
    },
    "papermill": {
     "duration": 0.032099,
     "end_time": "2023-08-26T03:11:42.992108",
     "exception": false,
     "start_time": "2023-08-26T03:11:42.960009",
     "status": "completed"
    },
    "tags": []
   },
   "outputs": [
    {
     "data": {
      "text/html": [
       "<div>\n",
       "<style scoped>\n",
       "    .dataframe tbody tr th:only-of-type {\n",
       "        vertical-align: middle;\n",
       "    }\n",
       "\n",
       "    .dataframe tbody tr th {\n",
       "        vertical-align: top;\n",
       "    }\n",
       "\n",
       "    .dataframe thead th {\n",
       "        text-align: right;\n",
       "    }\n",
       "</style>\n",
       "<table border=\"1\" class=\"dataframe\">\n",
       "  <thead>\n",
       "    <tr style=\"text-align: right;\">\n",
       "      <th></th>\n",
       "      <th>YearsExperience</th>\n",
       "      <th>Salary</th>\n",
       "    </tr>\n",
       "  </thead>\n",
       "  <tbody>\n",
       "    <tr>\n",
       "      <th>0</th>\n",
       "      <td>1.2</td>\n",
       "      <td>39344.0</td>\n",
       "    </tr>\n",
       "    <tr>\n",
       "      <th>1</th>\n",
       "      <td>1.4</td>\n",
       "      <td>46206.0</td>\n",
       "    </tr>\n",
       "  </tbody>\n",
       "</table>\n",
       "</div>"
      ],
      "text/plain": [
       "   YearsExperience   Salary\n",
       "0              1.2  39344.0\n",
       "1              1.4  46206.0"
      ]
     },
     "execution_count": 5,
     "metadata": {},
     "output_type": "execute_result"
    }
   ],
   "source": [
    "df = df.iloc[:,1:] # remove the unnecessary column \n",
    "df.head(2)"
   ]
  },
  {
   "cell_type": "markdown",
   "id": "d5e9388c",
   "metadata": {
    "papermill": {
     "duration": 0.014497,
     "end_time": "2023-08-26T03:11:43.021508",
     "exception": false,
     "start_time": "2023-08-26T03:11:43.007011",
     "status": "completed"
    },
    "tags": []
   },
   "source": [
    "<a id=\"3\"></a>\n",
    "# 3. Dependent and Independent Variables\n",
    "[Go back to Index](#index)"
   ]
  },
  {
   "cell_type": "code",
   "execution_count": 6,
   "id": "e033e412",
   "metadata": {
    "execution": {
     "iopub.execute_input": "2023-08-26T03:11:43.053939Z",
     "iopub.status.busy": "2023-08-26T03:11:43.053150Z",
     "iopub.status.idle": "2023-08-26T03:11:43.065121Z",
     "shell.execute_reply": "2023-08-26T03:11:43.063820Z"
    },
    "papermill": {
     "duration": 0.030693,
     "end_time": "2023-08-26T03:11:43.067450",
     "exception": false,
     "start_time": "2023-08-26T03:11:43.036757",
     "status": "completed"
    },
    "tags": []
   },
   "outputs": [
    {
     "data": {
      "text/html": [
       "<div>\n",
       "<style scoped>\n",
       "    .dataframe tbody tr th:only-of-type {\n",
       "        vertical-align: middle;\n",
       "    }\n",
       "\n",
       "    .dataframe tbody tr th {\n",
       "        vertical-align: top;\n",
       "    }\n",
       "\n",
       "    .dataframe thead th {\n",
       "        text-align: right;\n",
       "    }\n",
       "</style>\n",
       "<table border=\"1\" class=\"dataframe\">\n",
       "  <thead>\n",
       "    <tr style=\"text-align: right;\">\n",
       "      <th></th>\n",
       "      <th>YearsExperience</th>\n",
       "    </tr>\n",
       "  </thead>\n",
       "  <tbody>\n",
       "    <tr>\n",
       "      <th>0</th>\n",
       "      <td>1.2</td>\n",
       "    </tr>\n",
       "    <tr>\n",
       "      <th>1</th>\n",
       "      <td>1.4</td>\n",
       "    </tr>\n",
       "    <tr>\n",
       "      <th>2</th>\n",
       "      <td>1.6</td>\n",
       "    </tr>\n",
       "    <tr>\n",
       "      <th>3</th>\n",
       "      <td>2.1</td>\n",
       "    </tr>\n",
       "    <tr>\n",
       "      <th>4</th>\n",
       "      <td>2.3</td>\n",
       "    </tr>\n",
       "    <tr>\n",
       "      <th>5</th>\n",
       "      <td>3.0</td>\n",
       "    </tr>\n",
       "    <tr>\n",
       "      <th>6</th>\n",
       "      <td>3.1</td>\n",
       "    </tr>\n",
       "    <tr>\n",
       "      <th>7</th>\n",
       "      <td>3.3</td>\n",
       "    </tr>\n",
       "    <tr>\n",
       "      <th>8</th>\n",
       "      <td>3.3</td>\n",
       "    </tr>\n",
       "    <tr>\n",
       "      <th>9</th>\n",
       "      <td>3.8</td>\n",
       "    </tr>\n",
       "  </tbody>\n",
       "</table>\n",
       "</div>"
      ],
      "text/plain": [
       "   YearsExperience\n",
       "0              1.2\n",
       "1              1.4\n",
       "2              1.6\n",
       "3              2.1\n",
       "4              2.3\n",
       "5              3.0\n",
       "6              3.1\n",
       "7              3.3\n",
       "8              3.3\n",
       "9              3.8"
      ]
     },
     "execution_count": 6,
     "metadata": {},
     "output_type": "execute_result"
    }
   ],
   "source": [
    "#Independent Variable\n",
    "X = df.iloc[:,:-1]\n",
    "X[:10]"
   ]
  },
  {
   "cell_type": "code",
   "execution_count": 7,
   "id": "9cb270b4",
   "metadata": {
    "execution": {
     "iopub.execute_input": "2023-08-26T03:11:43.099779Z",
     "iopub.status.busy": "2023-08-26T03:11:43.099015Z",
     "iopub.status.idle": "2023-08-26T03:11:43.108683Z",
     "shell.execute_reply": "2023-08-26T03:11:43.107566Z"
    },
    "papermill": {
     "duration": 0.028749,
     "end_time": "2023-08-26T03:11:43.111004",
     "exception": false,
     "start_time": "2023-08-26T03:11:43.082255",
     "status": "completed"
    },
    "tags": []
   },
   "outputs": [
    {
     "data": {
      "text/plain": [
       "0    39344.0\n",
       "1    46206.0\n",
       "2    37732.0\n",
       "3    43526.0\n",
       "4    39892.0\n",
       "5    56643.0\n",
       "6    60151.0\n",
       "7    54446.0\n",
       "8    64446.0\n",
       "9    57190.0\n",
       "Name: Salary, dtype: float64"
      ]
     },
     "execution_count": 7,
     "metadata": {},
     "output_type": "execute_result"
    }
   ],
   "source": [
    "#Dependent Variable\n",
    "y = df.iloc[:,-1]\n",
    "y[:10]"
   ]
  },
  {
   "cell_type": "code",
   "execution_count": 8,
   "id": "da1811ad",
   "metadata": {
    "execution": {
     "iopub.execute_input": "2023-08-26T03:11:43.143513Z",
     "iopub.status.busy": "2023-08-26T03:11:43.142790Z",
     "iopub.status.idle": "2023-08-26T03:11:43.147930Z",
     "shell.execute_reply": "2023-08-26T03:11:43.147136Z"
    },
    "papermill": {
     "duration": 0.024083,
     "end_time": "2023-08-26T03:11:43.150161",
     "exception": false,
     "start_time": "2023-08-26T03:11:43.126078",
     "status": "completed"
    },
    "tags": []
   },
   "outputs": [],
   "source": [
    "#Convert the DataFrames/Series into Arrays\n",
    "X = X.values\n",
    "y = y.values"
   ]
  },
  {
   "cell_type": "code",
   "execution_count": 9,
   "id": "b74ef394",
   "metadata": {
    "execution": {
     "iopub.execute_input": "2023-08-26T03:11:43.182796Z",
     "iopub.status.busy": "2023-08-26T03:11:43.182120Z",
     "iopub.status.idle": "2023-08-26T03:11:43.189897Z",
     "shell.execute_reply": "2023-08-26T03:11:43.188750Z"
    },
    "papermill": {
     "duration": 0.026757,
     "end_time": "2023-08-26T03:11:43.192117",
     "exception": false,
     "start_time": "2023-08-26T03:11:43.165360",
     "status": "completed"
    },
    "tags": []
   },
   "outputs": [
    {
     "data": {
      "text/plain": [
       "array([[1.2],\n",
       "       [1.4],\n",
       "       [1.6],\n",
       "       [2.1],\n",
       "       [2.3],\n",
       "       [3. ],\n",
       "       [3.1],\n",
       "       [3.3],\n",
       "       [3.3],\n",
       "       [3.8]])"
      ]
     },
     "execution_count": 9,
     "metadata": {},
     "output_type": "execute_result"
    }
   ],
   "source": [
    "X[:10]"
   ]
  },
  {
   "cell_type": "code",
   "execution_count": 10,
   "id": "23aa557c",
   "metadata": {
    "execution": {
     "iopub.execute_input": "2023-08-26T03:11:43.224708Z",
     "iopub.status.busy": "2023-08-26T03:11:43.224048Z",
     "iopub.status.idle": "2023-08-26T03:11:43.231011Z",
     "shell.execute_reply": "2023-08-26T03:11:43.230075Z"
    },
    "papermill": {
     "duration": 0.025894,
     "end_time": "2023-08-26T03:11:43.233177",
     "exception": false,
     "start_time": "2023-08-26T03:11:43.207283",
     "status": "completed"
    },
    "tags": []
   },
   "outputs": [
    {
     "data": {
      "text/plain": [
       "array([39344., 46206., 37732., 43526., 39892., 56643., 60151., 54446.,\n",
       "       64446., 57190.])"
      ]
     },
     "execution_count": 10,
     "metadata": {},
     "output_type": "execute_result"
    }
   ],
   "source": [
    "y[:10]"
   ]
  },
  {
   "cell_type": "markdown",
   "id": "07baf375",
   "metadata": {
    "papermill": {
     "duration": 0.015354,
     "end_time": "2023-08-26T03:11:43.263923",
     "exception": false,
     "start_time": "2023-08-26T03:11:43.248569",
     "status": "completed"
    },
    "tags": []
   },
   "source": [
    "<a id=\"4\"></a>\n",
    "# 4. Data Preprocessing\n",
    "[Go back to Index](#index)"
   ]
  },
  {
   "cell_type": "markdown",
   "id": "8ad2d964",
   "metadata": {
    "papermill": {
     "duration": 0.014893,
     "end_time": "2023-08-26T03:11:43.294125",
     "exception": false,
     "start_time": "2023-08-26T03:11:43.279232",
     "status": "completed"
    },
    "tags": []
   },
   "source": [
    "<a id=\"4.1\"></a>\n",
    "## 4.1 Missing Data \n",
    "[Go back to Index](#index)"
   ]
  },
  {
   "cell_type": "code",
   "execution_count": 11,
   "id": "293e91df",
   "metadata": {
    "execution": {
     "iopub.execute_input": "2023-08-26T03:11:43.326759Z",
     "iopub.status.busy": "2023-08-26T03:11:43.326075Z",
     "iopub.status.idle": "2023-08-26T03:11:43.336776Z",
     "shell.execute_reply": "2023-08-26T03:11:43.335675Z"
    },
    "papermill": {
     "duration": 0.03003,
     "end_time": "2023-08-26T03:11:43.339385",
     "exception": false,
     "start_time": "2023-08-26T03:11:43.309355",
     "status": "completed"
    },
    "tags": []
   },
   "outputs": [
    {
     "data": {
      "text/plain": [
       "YearsExperience    0\n",
       "dtype: int64"
      ]
     },
     "execution_count": 11,
     "metadata": {},
     "output_type": "execute_result"
    }
   ],
   "source": [
    "# X as DataFrame\n",
    "df.iloc[:,:-1].isnull().sum()"
   ]
  },
  {
   "cell_type": "code",
   "execution_count": 12,
   "id": "430215a0",
   "metadata": {
    "execution": {
     "iopub.execute_input": "2023-08-26T03:11:43.372729Z",
     "iopub.status.busy": "2023-08-26T03:11:43.371917Z",
     "iopub.status.idle": "2023-08-26T03:11:43.379675Z",
     "shell.execute_reply": "2023-08-26T03:11:43.378781Z"
    },
    "papermill": {
     "duration": 0.02698,
     "end_time": "2023-08-26T03:11:43.381909",
     "exception": false,
     "start_time": "2023-08-26T03:11:43.354929",
     "status": "completed"
    },
    "tags": []
   },
   "outputs": [
    {
     "data": {
      "text/plain": [
       "0"
      ]
     },
     "execution_count": 12,
     "metadata": {},
     "output_type": "execute_result"
    }
   ],
   "source": [
    "# y as DataFrame\n",
    "df.iloc[:,-1].isnull().sum()"
   ]
  },
  {
   "cell_type": "code",
   "execution_count": 13,
   "id": "5c7ae82d",
   "metadata": {
    "execution": {
     "iopub.execute_input": "2023-08-26T03:11:43.415702Z",
     "iopub.status.busy": "2023-08-26T03:11:43.414894Z",
     "iopub.status.idle": "2023-08-26T03:11:43.422123Z",
     "shell.execute_reply": "2023-08-26T03:11:43.421119Z"
    },
    "papermill": {
     "duration": 0.026584,
     "end_time": "2023-08-26T03:11:43.424464",
     "exception": false,
     "start_time": "2023-08-26T03:11:43.397880",
     "status": "completed"
    },
    "tags": []
   },
   "outputs": [
    {
     "data": {
      "text/plain": [
       "'\\n\"\"\"Sample code if missing data is found\"\"\"\\n\\n\"\"\"X:= array\"\"\"\\nimputer = SimpleImputer(missing_values=np.nan, strategy=\\'mean\\')\\nimputer.fit(X[:, 1:3])\\nX[:, 1:3] = imputer.transform(X[:, 1:3])\\n'"
      ]
     },
     "execution_count": 13,
     "metadata": {},
     "output_type": "execute_result"
    }
   ],
   "source": [
    "'''\n",
    "\"\"\"Sample code if missing data is found\"\"\"\n",
    "\n",
    "\"\"\"X:= array\"\"\"\n",
    "imputer = SimpleImputer(missing_values=np.nan, strategy='mean')\n",
    "imputer.fit(X[:, 1:3])\n",
    "X[:, 1:3] = imputer.transform(X[:, 1:3])\n",
    "'''"
   ]
  },
  {
   "cell_type": "markdown",
   "id": "be57fffd",
   "metadata": {
    "papermill": {
     "duration": 0.015447,
     "end_time": "2023-08-26T03:11:43.455584",
     "exception": false,
     "start_time": "2023-08-26T03:11:43.440137",
     "status": "completed"
    },
    "tags": []
   },
   "source": [
    "<a id=\"4.2\"></a>\n",
    "## 4.2 Encodings\n",
    "[Go back to Index](#index)"
   ]
  },
  {
   "cell_type": "code",
   "execution_count": 14,
   "id": "2f5b3d3b",
   "metadata": {
    "execution": {
     "iopub.execute_input": "2023-08-26T03:11:43.489211Z",
     "iopub.status.busy": "2023-08-26T03:11:43.488791Z",
     "iopub.status.idle": "2023-08-26T03:11:43.495763Z",
     "shell.execute_reply": "2023-08-26T03:11:43.494612Z"
    },
    "papermill": {
     "duration": 0.026855,
     "end_time": "2023-08-26T03:11:43.498239",
     "exception": false,
     "start_time": "2023-08-26T03:11:43.471384",
     "status": "completed"
    },
    "tags": []
   },
   "outputs": [
    {
     "data": {
      "text/plain": [
       "Index(['YearsExperience', 'Salary'], dtype='object')"
      ]
     },
     "execution_count": 14,
     "metadata": {},
     "output_type": "execute_result"
    }
   ],
   "source": [
    "df.columns"
   ]
  },
  {
   "cell_type": "code",
   "execution_count": 15,
   "id": "7abab2a0",
   "metadata": {
    "execution": {
     "iopub.execute_input": "2023-08-26T03:11:43.533331Z",
     "iopub.status.busy": "2023-08-26T03:11:43.532886Z",
     "iopub.status.idle": "2023-08-26T03:11:43.540669Z",
     "shell.execute_reply": "2023-08-26T03:11:43.539309Z"
    },
    "papermill": {
     "duration": 0.028476,
     "end_time": "2023-08-26T03:11:43.543092",
     "exception": false,
     "start_time": "2023-08-26T03:11:43.514616",
     "status": "completed"
    },
    "tags": []
   },
   "outputs": [
    {
     "data": {
      "text/plain": [
       "'\\n\"\"\"Sample code if categorical variables exist\"\"\"\\n\\n\"\"\"X:= (independent) array\"\"\"\\n\\n# [0] = categorical column to perform OHE on\\nct = ColumnTransformer(transformers=[(\\'encoder\\', OneHotEncoder(), [0])], remainder=\\'passthrough\\')\\nnp.array(ct.fit_transform(X))\\nX = np.array(ct.fit_transform(X))\\n\\n\"\"\"y:= (dependent) array\"\"\"\\n\\nle = LabelEncoder()\\ny = le.fit_transform(y)\\n\\n'"
      ]
     },
     "execution_count": 15,
     "metadata": {},
     "output_type": "execute_result"
    }
   ],
   "source": [
    "'''\n",
    "\"\"\"Sample code if categorical variables exist\"\"\"\n",
    "\n",
    "\"\"\"X:= (independent) array\"\"\"\n",
    "\n",
    "# [0] = categorical column to perform OHE on\n",
    "ct = ColumnTransformer(transformers=[('encoder', OneHotEncoder(), [0])], remainder='passthrough')\n",
    "np.array(ct.fit_transform(X))\n",
    "X = np.array(ct.fit_transform(X))\n",
    "\n",
    "\"\"\"y:= (dependent) array\"\"\"\n",
    "\n",
    "le = LabelEncoder()\n",
    "y = le.fit_transform(y)\n",
    "\n",
    "'''"
   ]
  },
  {
   "cell_type": "markdown",
   "id": "33693335",
   "metadata": {
    "papermill": {
     "duration": 0.015879,
     "end_time": "2023-08-26T03:11:43.575658",
     "exception": false,
     "start_time": "2023-08-26T03:11:43.559779",
     "status": "completed"
    },
    "tags": []
   },
   "source": [
    "<a id=\"4.3\"></a>\n",
    "## 4.3 Splitting Dataset into Train and Test\n",
    "[Go back to Index](#index)"
   ]
  },
  {
   "cell_type": "code",
   "execution_count": 16,
   "id": "a79c1ee5",
   "metadata": {
    "execution": {
     "iopub.execute_input": "2023-08-26T03:11:43.610372Z",
     "iopub.status.busy": "2023-08-26T03:11:43.609290Z",
     "iopub.status.idle": "2023-08-26T03:11:43.617118Z",
     "shell.execute_reply": "2023-08-26T03:11:43.616295Z"
    },
    "papermill": {
     "duration": 0.0273,
     "end_time": "2023-08-26T03:11:43.619116",
     "exception": false,
     "start_time": "2023-08-26T03:11:43.591816",
     "status": "completed"
    },
    "tags": []
   },
   "outputs": [
    {
     "data": {
      "text/plain": [
       "array([[1.2],\n",
       "       [1.4],\n",
       "       [1.6],\n",
       "       [2.1],\n",
       "       [2.3]])"
      ]
     },
     "execution_count": 16,
     "metadata": {},
     "output_type": "execute_result"
    }
   ],
   "source": [
    "X[:5]"
   ]
  },
  {
   "cell_type": "code",
   "execution_count": 17,
   "id": "9a74ebf8",
   "metadata": {
    "execution": {
     "iopub.execute_input": "2023-08-26T03:11:43.653920Z",
     "iopub.status.busy": "2023-08-26T03:11:43.652654Z",
     "iopub.status.idle": "2023-08-26T03:11:43.660208Z",
     "shell.execute_reply": "2023-08-26T03:11:43.659008Z"
    },
    "papermill": {
     "duration": 0.027166,
     "end_time": "2023-08-26T03:11:43.662466",
     "exception": false,
     "start_time": "2023-08-26T03:11:43.635300",
     "status": "completed"
    },
    "tags": []
   },
   "outputs": [
    {
     "data": {
      "text/plain": [
       "array([39344., 46206., 37732., 43526., 39892.])"
      ]
     },
     "execution_count": 17,
     "metadata": {},
     "output_type": "execute_result"
    }
   ],
   "source": [
    "y[:5]"
   ]
  },
  {
   "cell_type": "code",
   "execution_count": 18,
   "id": "6dd6b824",
   "metadata": {
    "execution": {
     "iopub.execute_input": "2023-08-26T03:11:43.696870Z",
     "iopub.status.busy": "2023-08-26T03:11:43.696451Z",
     "iopub.status.idle": "2023-08-26T03:11:43.703333Z",
     "shell.execute_reply": "2023-08-26T03:11:43.702280Z"
    },
    "papermill": {
     "duration": 0.026818,
     "end_time": "2023-08-26T03:11:43.705679",
     "exception": false,
     "start_time": "2023-08-26T03:11:43.678861",
     "status": "completed"
    },
    "tags": []
   },
   "outputs": [],
   "source": [
    "#X, y:= arrays\n",
    "#test_size 0.2:= 20% of the dataset is taken for testing\n",
    "X_train, X_test, y_train, y_test = train_test_split(X, y, test_size=0.2, random_state=1)"
   ]
  },
  {
   "cell_type": "code",
   "execution_count": 19,
   "id": "d558fe09",
   "metadata": {
    "execution": {
     "iopub.execute_input": "2023-08-26T03:11:43.740899Z",
     "iopub.status.busy": "2023-08-26T03:11:43.740160Z",
     "iopub.status.idle": "2023-08-26T03:11:43.747138Z",
     "shell.execute_reply": "2023-08-26T03:11:43.745799Z"
    },
    "papermill": {
     "duration": 0.02726,
     "end_time": "2023-08-26T03:11:43.749486",
     "exception": false,
     "start_time": "2023-08-26T03:11:43.722226",
     "status": "completed"
    },
    "tags": []
   },
   "outputs": [
    {
     "data": {
      "text/plain": [
       "array([[9.6],\n",
       "       [2.1],\n",
       "       [8.8],\n",
       "       [8. ],\n",
       "       [8.3],\n",
       "       [2.3],\n",
       "       [1.6],\n",
       "       [9.1],\n",
       "       [3.1],\n",
       "       [6. ]])"
      ]
     },
     "execution_count": 19,
     "metadata": {},
     "output_type": "execute_result"
    }
   ],
   "source": [
    "X_train[:10]"
   ]
  },
  {
   "cell_type": "code",
   "execution_count": 20,
   "id": "121101af",
   "metadata": {
    "execution": {
     "iopub.execute_input": "2023-08-26T03:11:43.783988Z",
     "iopub.status.busy": "2023-08-26T03:11:43.783581Z",
     "iopub.status.idle": "2023-08-26T03:11:43.790343Z",
     "shell.execute_reply": "2023-08-26T03:11:43.789575Z"
    },
    "papermill": {
     "duration": 0.026412,
     "end_time": "2023-08-26T03:11:43.792386",
     "exception": false,
     "start_time": "2023-08-26T03:11:43.765974",
     "status": "completed"
    },
    "tags": []
   },
   "outputs": [
    {
     "data": {
      "text/plain": [
       "array([116970.,  43526., 109432., 101303., 113813.,  39892.,  37732.,\n",
       "       105583.,  60151.,  81364.])"
      ]
     },
     "execution_count": 20,
     "metadata": {},
     "output_type": "execute_result"
    }
   ],
   "source": [
    "y_train[:10]"
   ]
  },
  {
   "cell_type": "markdown",
   "id": "43e281d2",
   "metadata": {
    "papermill": {
     "duration": 0.016396,
     "end_time": "2023-08-26T03:11:43.825409",
     "exception": false,
     "start_time": "2023-08-26T03:11:43.809013",
     "status": "completed"
    },
    "tags": []
   },
   "source": [
    "<a id=\"4.4\"></a>\n",
    "## 4.4 Feature Scaling\n",
    "[Go back to Index](#index)"
   ]
  },
  {
   "cell_type": "code",
   "execution_count": 21,
   "id": "51b5e9ac",
   "metadata": {
    "execution": {
     "iopub.execute_input": "2023-08-26T03:11:43.861168Z",
     "iopub.status.busy": "2023-08-26T03:11:43.859960Z",
     "iopub.status.idle": "2023-08-26T03:11:43.866706Z",
     "shell.execute_reply": "2023-08-26T03:11:43.865715Z"
    },
    "papermill": {
     "duration": 0.027045,
     "end_time": "2023-08-26T03:11:43.869055",
     "exception": false,
     "start_time": "2023-08-26T03:11:43.842010",
     "status": "completed"
    },
    "tags": []
   },
   "outputs": [
    {
     "data": {
      "text/plain": [
       "'\\n\"\"\"Sample code if categorical variables exist\"\"\"\\n\\nsc = StandardScaler()\\nX_train = sc.fit_transform(X_train)\\nX_test = sc.transform(X_test)\\n\\n'"
      ]
     },
     "execution_count": 21,
     "metadata": {},
     "output_type": "execute_result"
    }
   ],
   "source": [
    "'''\n",
    "\"\"\"Sample code if categorical variables exist\"\"\"\n",
    "\n",
    "sc = StandardScaler()\n",
    "X_train = sc.fit_transform(X_train)\n",
    "X_test = sc.transform(X_test)\n",
    "\n",
    "'''"
   ]
  },
  {
   "cell_type": "markdown",
   "id": "67821c45",
   "metadata": {
    "papermill": {
     "duration": 0.016555,
     "end_time": "2023-08-26T03:11:43.902738",
     "exception": false,
     "start_time": "2023-08-26T03:11:43.886183",
     "status": "completed"
    },
    "tags": []
   },
   "source": [
    "<a id=\"5\"></a>\n",
    "# 5. Simple Linear Regression\n",
    "[Go back to Index](#index)\n",
    "\n",
    "`y = bi*Xi + b0`\n",
    "\n",
    "`bi`:=Coefficient(s)\n",
    "\n",
    "`b0`:=Intercept"
   ]
  },
  {
   "cell_type": "markdown",
   "id": "ffad4cc5",
   "metadata": {
    "papermill": {
     "duration": 0.017283,
     "end_time": "2023-08-26T03:11:43.937068",
     "exception": false,
     "start_time": "2023-08-26T03:11:43.919785",
     "status": "completed"
    },
    "tags": []
   },
   "source": [
    "<a id=\"5.1\"></a>\n",
    "## 5.1 Create Model \n",
    "[Go back to Index](#index)"
   ]
  },
  {
   "cell_type": "code",
   "execution_count": 22,
   "id": "38e1a0e3",
   "metadata": {
    "execution": {
     "iopub.execute_input": "2023-08-26T03:11:43.974123Z",
     "iopub.status.busy": "2023-08-26T03:11:43.973242Z",
     "iopub.status.idle": "2023-08-26T03:11:44.000168Z",
     "shell.execute_reply": "2023-08-26T03:11:43.998905Z"
    },
    "papermill": {
     "duration": 0.048105,
     "end_time": "2023-08-26T03:11:44.002617",
     "exception": false,
     "start_time": "2023-08-26T03:11:43.954512",
     "status": "completed"
    },
    "tags": []
   },
   "outputs": [
    {
     "data": {
      "text/html": [
       "<style>#sk-container-id-1 {color: black;background-color: white;}#sk-container-id-1 pre{padding: 0;}#sk-container-id-1 div.sk-toggleable {background-color: white;}#sk-container-id-1 label.sk-toggleable__label {cursor: pointer;display: block;width: 100%;margin-bottom: 0;padding: 0.3em;box-sizing: border-box;text-align: center;}#sk-container-id-1 label.sk-toggleable__label-arrow:before {content: \"▸\";float: left;margin-right: 0.25em;color: #696969;}#sk-container-id-1 label.sk-toggleable__label-arrow:hover:before {color: black;}#sk-container-id-1 div.sk-estimator:hover label.sk-toggleable__label-arrow:before {color: black;}#sk-container-id-1 div.sk-toggleable__content {max-height: 0;max-width: 0;overflow: hidden;text-align: left;background-color: #f0f8ff;}#sk-container-id-1 div.sk-toggleable__content pre {margin: 0.2em;color: black;border-radius: 0.25em;background-color: #f0f8ff;}#sk-container-id-1 input.sk-toggleable__control:checked~div.sk-toggleable__content {max-height: 200px;max-width: 100%;overflow: auto;}#sk-container-id-1 input.sk-toggleable__control:checked~label.sk-toggleable__label-arrow:before {content: \"▾\";}#sk-container-id-1 div.sk-estimator input.sk-toggleable__control:checked~label.sk-toggleable__label {background-color: #d4ebff;}#sk-container-id-1 div.sk-label input.sk-toggleable__control:checked~label.sk-toggleable__label {background-color: #d4ebff;}#sk-container-id-1 input.sk-hidden--visually {border: 0;clip: rect(1px 1px 1px 1px);clip: rect(1px, 1px, 1px, 1px);height: 1px;margin: -1px;overflow: hidden;padding: 0;position: absolute;width: 1px;}#sk-container-id-1 div.sk-estimator {font-family: monospace;background-color: #f0f8ff;border: 1px dotted black;border-radius: 0.25em;box-sizing: border-box;margin-bottom: 0.5em;}#sk-container-id-1 div.sk-estimator:hover {background-color: #d4ebff;}#sk-container-id-1 div.sk-parallel-item::after {content: \"\";width: 100%;border-bottom: 1px solid gray;flex-grow: 1;}#sk-container-id-1 div.sk-label:hover label.sk-toggleable__label {background-color: #d4ebff;}#sk-container-id-1 div.sk-serial::before {content: \"\";position: absolute;border-left: 1px solid gray;box-sizing: border-box;top: 0;bottom: 0;left: 50%;z-index: 0;}#sk-container-id-1 div.sk-serial {display: flex;flex-direction: column;align-items: center;background-color: white;padding-right: 0.2em;padding-left: 0.2em;position: relative;}#sk-container-id-1 div.sk-item {position: relative;z-index: 1;}#sk-container-id-1 div.sk-parallel {display: flex;align-items: stretch;justify-content: center;background-color: white;position: relative;}#sk-container-id-1 div.sk-item::before, #sk-container-id-1 div.sk-parallel-item::before {content: \"\";position: absolute;border-left: 1px solid gray;box-sizing: border-box;top: 0;bottom: 0;left: 50%;z-index: -1;}#sk-container-id-1 div.sk-parallel-item {display: flex;flex-direction: column;z-index: 1;position: relative;background-color: white;}#sk-container-id-1 div.sk-parallel-item:first-child::after {align-self: flex-end;width: 50%;}#sk-container-id-1 div.sk-parallel-item:last-child::after {align-self: flex-start;width: 50%;}#sk-container-id-1 div.sk-parallel-item:only-child::after {width: 0;}#sk-container-id-1 div.sk-dashed-wrapped {border: 1px dashed gray;margin: 0 0.4em 0.5em 0.4em;box-sizing: border-box;padding-bottom: 0.4em;background-color: white;}#sk-container-id-1 div.sk-label label {font-family: monospace;font-weight: bold;display: inline-block;line-height: 1.2em;}#sk-container-id-1 div.sk-label-container {text-align: center;}#sk-container-id-1 div.sk-container {/* jupyter's `normalize.less` sets `[hidden] { display: none; }` but bootstrap.min.css set `[hidden] { display: none !important; }` so we also need the `!important` here to be able to override the default hidden behavior on the sphinx rendered scikit-learn.org. See: https://github.com/scikit-learn/scikit-learn/issues/21755 */display: inline-block !important;position: relative;}#sk-container-id-1 div.sk-text-repr-fallback {display: none;}</style><div id=\"sk-container-id-1\" class=\"sk-top-container\"><div class=\"sk-text-repr-fallback\"><pre>LinearRegression()</pre><b>In a Jupyter environment, please rerun this cell to show the HTML representation or trust the notebook. <br />On GitHub, the HTML representation is unable to render, please try loading this page with nbviewer.org.</b></div><div class=\"sk-container\" hidden><div class=\"sk-item\"><div class=\"sk-estimator sk-toggleable\"><input class=\"sk-toggleable__control sk-hidden--visually\" id=\"sk-estimator-id-1\" type=\"checkbox\" checked><label for=\"sk-estimator-id-1\" class=\"sk-toggleable__label sk-toggleable__label-arrow\">LinearRegression</label><div class=\"sk-toggleable__content\"><pre>LinearRegression()</pre></div></div></div></div></div>"
      ],
      "text/plain": [
       "LinearRegression()"
      ]
     },
     "execution_count": 22,
     "metadata": {},
     "output_type": "execute_result"
    }
   ],
   "source": [
    "simple_regressor = LinearRegression()\n",
    "simple_regressor.fit(X_train, y_train)"
   ]
  },
  {
   "cell_type": "markdown",
   "id": "7c8b6b9f",
   "metadata": {
    "papermill": {
     "duration": 0.016924,
     "end_time": "2023-08-26T03:11:44.036994",
     "exception": false,
     "start_time": "2023-08-26T03:11:44.020070",
     "status": "completed"
    },
    "tags": []
   },
   "source": [
    "<a id=\"5.2\"></a>\n",
    "## 5.2 Predict \n",
    "[Go back to Index](#index)"
   ]
  },
  {
   "cell_type": "code",
   "execution_count": 23,
   "id": "86ed7547",
   "metadata": {
    "execution": {
     "iopub.execute_input": "2023-08-26T03:11:44.073895Z",
     "iopub.status.busy": "2023-08-26T03:11:44.073500Z",
     "iopub.status.idle": "2023-08-26T03:11:44.081695Z",
     "shell.execute_reply": "2023-08-26T03:11:44.080446Z"
    },
    "papermill": {
     "duration": 0.029801,
     "end_time": "2023-08-26T03:11:44.084131",
     "exception": false,
     "start_time": "2023-08-26T03:11:44.054330",
     "status": "completed"
    },
    "tags": []
   },
   "outputs": [
    {
     "data": {
      "text/plain": [
       "array([75075.50510972, 91874.8056381 , 62009.38247653, 81608.56642631,\n",
       "       67609.14931932, 89074.92221671])"
      ]
     },
     "execution_count": 23,
     "metadata": {},
     "output_type": "execute_result"
    }
   ],
   "source": [
    "y_pred = simple_regressor.predict(X_test)\n",
    "y_pred[:10]"
   ]
  },
  {
   "cell_type": "code",
   "execution_count": 24,
   "id": "85d9549f",
   "metadata": {
    "execution": {
     "iopub.execute_input": "2023-08-26T03:11:44.121208Z",
     "iopub.status.busy": "2023-08-26T03:11:44.120373Z",
     "iopub.status.idle": "2023-08-26T03:11:44.127405Z",
     "shell.execute_reply": "2023-08-26T03:11:44.126606Z"
    },
    "papermill": {
     "duration": 0.027853,
     "end_time": "2023-08-26T03:11:44.129400",
     "exception": false,
     "start_time": "2023-08-26T03:11:44.101547",
     "status": "completed"
    },
    "tags": []
   },
   "outputs": [
    {
     "data": {
      "text/plain": [
       "array([83089., 98274., 63219., 93941., 61112., 91739.])"
      ]
     },
     "execution_count": 24,
     "metadata": {},
     "output_type": "execute_result"
    }
   ],
   "source": [
    "y_test[:10]"
   ]
  },
  {
   "cell_type": "code",
   "execution_count": 25,
   "id": "3709667a",
   "metadata": {
    "execution": {
     "iopub.execute_input": "2023-08-26T03:11:44.166447Z",
     "iopub.status.busy": "2023-08-26T03:11:44.165605Z",
     "iopub.status.idle": "2023-08-26T03:11:44.173753Z",
     "shell.execute_reply": "2023-08-26T03:11:44.172669Z"
    },
    "papermill": {
     "duration": 0.028931,
     "end_time": "2023-08-26T03:11:44.175793",
     "exception": false,
     "start_time": "2023-08-26T03:11:44.146862",
     "status": "completed"
    },
    "tags": []
   },
   "outputs": [
    {
     "data": {
      "text/plain": [
       "array([136672.94038047])"
      ]
     },
     "execution_count": 25,
     "metadata": {},
     "output_type": "execute_result"
    }
   ],
   "source": [
    "#Predict the salary if the years of experience = 12\n",
    "simple_regressor.predict([[12]]) #Input must be 2D Array"
   ]
  },
  {
   "cell_type": "markdown",
   "id": "aaf38960",
   "metadata": {
    "papermill": {
     "duration": 0.017532,
     "end_time": "2023-08-26T03:11:44.211098",
     "exception": false,
     "start_time": "2023-08-26T03:11:44.193566",
     "status": "completed"
    },
    "tags": []
   },
   "source": [
    "<a id=\"5.3\"></a>\n",
    "## 5.3 Coefficient and Intercept\n",
    "[Go back to Index](#index)"
   ]
  },
  {
   "cell_type": "code",
   "execution_count": 26,
   "id": "419d1cad",
   "metadata": {
    "execution": {
     "iopub.execute_input": "2023-08-26T03:11:44.248280Z",
     "iopub.status.busy": "2023-08-26T03:11:44.247349Z",
     "iopub.status.idle": "2023-08-26T03:11:44.256828Z",
     "shell.execute_reply": "2023-08-26T03:11:44.253351Z"
    },
    "papermill": {
     "duration": 0.032571,
     "end_time": "2023-08-26T03:11:44.261099",
     "exception": false,
     "start_time": "2023-08-26T03:11:44.228528",
     "status": "completed"
    },
    "tags": []
   },
   "outputs": [
    {
     "data": {
      "text/plain": [
       "array([9332.94473799])"
      ]
     },
     "execution_count": 26,
     "metadata": {},
     "output_type": "execute_result"
    }
   ],
   "source": [
    "m = simple_regressor.coef_\n",
    "m"
   ]
  },
  {
   "cell_type": "code",
   "execution_count": 27,
   "id": "ccf01a1c",
   "metadata": {
    "execution": {
     "iopub.execute_input": "2023-08-26T03:11:44.298812Z",
     "iopub.status.busy": "2023-08-26T03:11:44.298023Z",
     "iopub.status.idle": "2023-08-26T03:11:44.304806Z",
     "shell.execute_reply": "2023-08-26T03:11:44.303915Z"
    },
    "papermill": {
     "duration": 0.027808,
     "end_time": "2023-08-26T03:11:44.306974",
     "exception": false,
     "start_time": "2023-08-26T03:11:44.279166",
     "status": "completed"
    },
    "tags": []
   },
   "outputs": [
    {
     "data": {
      "text/plain": [
       "24677.603524555554"
      ]
     },
     "execution_count": 27,
     "metadata": {},
     "output_type": "execute_result"
    }
   ],
   "source": [
    "b = simple_regressor.intercept_\n",
    "b"
   ]
  },
  {
   "cell_type": "code",
   "execution_count": 28,
   "id": "55821fa9",
   "metadata": {
    "execution": {
     "iopub.execute_input": "2023-08-26T03:11:44.345116Z",
     "iopub.status.busy": "2023-08-26T03:11:44.344444Z",
     "iopub.status.idle": "2023-08-26T03:11:44.351531Z",
     "shell.execute_reply": "2023-08-26T03:11:44.350568Z"
    },
    "papermill": {
     "duration": 0.028728,
     "end_time": "2023-08-26T03:11:44.353650",
     "exception": false,
     "start_time": "2023-08-26T03:11:44.324922",
     "status": "completed"
    },
    "tags": []
   },
   "outputs": [
    {
     "data": {
      "text/plain": [
       "array([136672.94038047])"
      ]
     },
     "execution_count": 28,
     "metadata": {},
     "output_type": "execute_result"
    }
   ],
   "source": [
    "#y = b1*X+b0\n",
    "np.dot(m,np.array(12))+b"
   ]
  },
  {
   "cell_type": "markdown",
   "id": "a207cab2",
   "metadata": {
    "papermill": {
     "duration": 0.017718,
     "end_time": "2023-08-26T03:11:44.389356",
     "exception": false,
     "start_time": "2023-08-26T03:11:44.371638",
     "status": "completed"
    },
    "tags": []
   },
   "source": [
    "<a id=\"6\"></a>\n",
    "# 6. Visualizations\n",
    "[Go back to Index](#index)"
   ]
  },
  {
   "cell_type": "markdown",
   "id": "636c5ca8",
   "metadata": {
    "papermill": {
     "duration": 0.017705,
     "end_time": "2023-08-26T03:11:44.425857",
     "exception": false,
     "start_time": "2023-08-26T03:11:44.408152",
     "status": "completed"
    },
    "tags": []
   },
   "source": [
    "<a id=\"6.1\"></a>\n",
    "## 6.1 Training Set Results\n",
    "[Go back to Index](#index)"
   ]
  },
  {
   "cell_type": "code",
   "execution_count": 29,
   "id": "69a2f439",
   "metadata": {
    "execution": {
     "iopub.execute_input": "2023-08-26T03:11:44.464252Z",
     "iopub.status.busy": "2023-08-26T03:11:44.463571Z",
     "iopub.status.idle": "2023-08-26T03:11:44.788007Z",
     "shell.execute_reply": "2023-08-26T03:11:44.787124Z"
    },
    "papermill": {
     "duration": 0.34646,
     "end_time": "2023-08-26T03:11:44.790408",
     "exception": false,
     "start_time": "2023-08-26T03:11:44.443948",
     "status": "completed"
    },
    "tags": []
   },
   "outputs": [
    {
     "data": {
      "image/png": "[encoded data removed]",
      "text/plain": [
       "<Figure size 640x480 with 1 Axes>"
      ]
     },
     "metadata": {},
     "output_type": "display_data"
    }
   ],
   "source": [
    "#Formatting\n",
    "plt.title(\"Salary vs Experience (Training Set)\")\n",
    "plt.xlabel(\"Years of Experience\")\n",
    "plt.ylabel(\"Salary ($)\")\n",
    "\n",
    "#Scatter Plot\n",
    "plt.scatter(X_train, y_train, color=\"red\")\n",
    "\n",
    "#Line Plot\n",
    "plt.plot(X_train, simple_regressor.predict(X_train), color=\"blue\")\n",
    "plt.show()"
   ]
  },
  {
   "cell_type": "markdown",
   "id": "9951f10f",
   "metadata": {
    "papermill": {
     "duration": 0.018427,
     "end_time": "2023-08-26T03:11:44.827728",
     "exception": false,
     "start_time": "2023-08-26T03:11:44.809301",
     "status": "completed"
    },
    "tags": []
   },
   "source": [
    "<a id=\"6.2\"></a>\n",
    "## 6.2 Test Set Results\n",
    "[Go back to Index](#index)"
   ]
  },
  {
   "cell_type": "code",
   "execution_count": 30,
   "id": "9de9ded1",
   "metadata": {
    "execution": {
     "iopub.execute_input": "2023-08-26T03:11:44.867216Z",
     "iopub.status.busy": "2023-08-26T03:11:44.866527Z",
     "iopub.status.idle": "2023-08-26T03:11:45.148249Z",
     "shell.execute_reply": "2023-08-26T03:11:45.147383Z"
    },
    "papermill": {
     "duration": 0.304081,
     "end_time": "2023-08-26T03:11:45.150583",
     "exception": false,
     "start_time": "2023-08-26T03:11:44.846502",
     "status": "completed"
    },
    "tags": []
   },
   "outputs": [
    {
     "data": {
      "image/png": "[encoded data removed]",
      "text/plain": [
       "<Figure size 640x480 with 1 Axes>"
      ]
     },
     "metadata": {},
     "output_type": "display_data"
    }
   ],
   "source": [
    "#Formatting\n",
    "plt.title(\"Salary vs Experience (Training Set)\")\n",
    "plt.xlabel(\"Years of Experience\")\n",
    "plt.ylabel(\"Salary ($)\")\n",
    "\n",
    "#Scatter Plot\n",
    "plt.scatter(X_test, y_test, color=\"red\")\n",
    "\n",
    "#Line Plot\n",
    "plt.plot(X_train, simple_regressor.predict(X_train), color=\"blue\")\n",
    "plt.show()"
   ]
  },
  {
   "cell_type": "markdown",
   "id": "54c421e0",
   "metadata": {
    "papermill": {
     "duration": 0.019065,
     "end_time": "2023-08-26T03:11:45.189925",
     "exception": false,
     "start_time": "2023-08-26T03:11:45.170860",
     "status": "completed"
    },
    "tags": []
   },
   "source": [
    "<a id=\"7\"></a>\n",
    "# 7. Data Analysis \n",
    "[Go back to Index](#index)"
   ]
  },
  {
   "cell_type": "markdown",
   "id": "ced179d0",
   "metadata": {
    "papermill": {
     "duration": 0.019109,
     "end_time": "2023-08-26T03:11:45.228517",
     "exception": false,
     "start_time": "2023-08-26T03:11:45.209408",
     "status": "completed"
    },
    "tags": []
   },
   "source": [
    "## Q1. Predict the salary of an employee with 10 years of experience"
   ]
  },
  {
   "cell_type": "code",
   "execution_count": 31,
   "id": "f9d2358c",
   "metadata": {
    "execution": {
     "iopub.execute_input": "2023-08-26T03:11:45.270988Z",
     "iopub.status.busy": "2023-08-26T03:11:45.270362Z",
     "iopub.status.idle": "2023-08-26T03:11:45.276590Z",
     "shell.execute_reply": "2023-08-26T03:11:45.275675Z"
    },
    "papermill": {
     "duration": 0.030974,
     "end_time": "2023-08-26T03:11:45.278732",
     "exception": false,
     "start_time": "2023-08-26T03:11:45.247758",
     "status": "completed"
    },
    "tags": []
   },
   "outputs": [
    {
     "name": "stdout",
     "output_type": "stream",
     "text": [
      "The expected salary is: $118007.05090448276\n"
     ]
    }
   ],
   "source": [
    "y_pred = simple_regressor.predict([[10]])\n",
    "y_pred = \"\".join(str(x) for x in y_pred)\n",
    "print(\"The expected salary is: $\" + y_pred)"
   ]
  }
 ],
 "metadata": {
  "kernelspec": {
   "display_name": "Python 3",
   "language": "python",
   "name": "python3"
  },
  "language_info": {
   "codemirror_mode": {
    "name": "ipython",
    "version": 3
   },
   "file_extension": ".py",
   "mimetype": "text/x-python",
   "name": "python",
   "nbconvert_exporter": "python",
   "pygments_lexer": "ipython3",
   "version": "3.10.12"
  },
  "papermill": {
   "default_parameters": {},
   "duration": 16.756872,
   "end_time": "2023-08-26T03:11:46.321709",
   "environment_variables": {},
   "exception": null,
   "input_path": "__notebook__.ipynb",
   "output_path": "__notebook__.ipynb",
   "parameters": {},
   "start_time": "2023-08-26T03:11:29.564837",
   "version": "2.4.0"
  }
 },
 "nbformat": 4,
 "nbformat_minor": 5
}
