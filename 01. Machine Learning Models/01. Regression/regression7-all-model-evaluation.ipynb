{
 "cells": [
  {
   "cell_type": "code",
   "execution_count": 1,
   "id": "5cb737cf",
   "metadata": {
    "_cell_guid": "b1076dfc-b9ad-4769-8c92-a6c4dae69d19",
    "_uuid": "8f2839f25d086af736a60e9eeb907d3b93b6e0e5",
    "execution": {
     "iopub.execute_input": "2023-08-26T17:14:44.731013Z",
     "iopub.status.busy": "2023-08-26T17:14:44.730499Z",
     "iopub.status.idle": "2023-08-26T17:14:44.755423Z",
     "shell.execute_reply": "2023-08-26T17:14:44.753835Z"
    },
    "papermill": {
     "duration": 0.043453,
     "end_time": "2023-08-26T17:14:44.758133",
     "exception": false,
     "start_time": "2023-08-26T17:14:44.714680",
     "status": "completed"
    },
    "tags": []
   },
   "outputs": [
    {
     "name": "stdout",
     "output_type": "stream",
     "text": [
      "/kaggle/input/airpressure/Folds5x2_pp.csv\n"
     ]
    }
   ],
   "source": [
    "# This Python 3 environment comes with many helpful analytics libraries installed\n",
    "# It is defined by the kaggle/python Docker image: https://github.com/kaggle/docker-python\n",
    "# For example, here's several helpful packages to load\n",
    "\n",
    "import numpy as np # linear algebra\n",
    "import pandas as pd # data processing, CSV file I/O (e.g. pd.read_csv)\n",
    "\n",
    "# Input data files are available in the read-only \"../input/\" directory\n",
    "# For example, running this (by clicking run or pressing Shift+Enter) will list all files under the input directory\n",
    "\n",
    "import os\n",
    "for dirname, _, filenames in os.walk('/kaggle/input'):\n",
    "    for filename in filenames:\n",
    "        print(os.path.join(dirname, filename))\n",
    "\n",
    "# You can write up to 20GB to the current directory (/kaggle/working/) that gets preserved as output when you create a version using \"Save & Run All\" \n",
    "# You can also write temporary files to /kaggle/temp/, but they won't be saved outside of the current session"
   ]
  },
  {
   "cell_type": "markdown",
   "id": "699834b2",
   "metadata": {
    "papermill": {
     "duration": 0.013207,
     "end_time": "2023-08-26T17:14:44.784803",
     "exception": false,
     "start_time": "2023-08-26T17:14:44.771596",
     "status": "completed"
    },
    "tags": []
   },
   "source": [
    "# Credits and Links\n",
    "\n",
    "* UDEMY - Machine Learning A-Z <sup>TM</sup>*"
   ]
  },
  {
   "cell_type": "markdown",
   "id": "78edeb52",
   "metadata": {
    "papermill": {
     "duration": 0.015031,
     "end_time": "2023-08-26T17:14:44.813247",
     "exception": false,
     "start_time": "2023-08-26T17:14:44.798216",
     "status": "completed"
    },
    "tags": []
   },
   "source": [
    "<a id=\"index\"></a>\n",
    "# Table of Content\n",
    "\n",
    "1. [Importing Libraries](#1)\n",
    "2. [Importing Dataset](#2)\n",
    "3. [Splitting Dataset into Train/Test](#3)\n",
    "4. [Training the models](#4)\n",
    "   - [Multiple Linear Regression](#4.1)\n",
    "   - [Polynomial Linear Regression](#4.2)\n",
    "   - [Support Vector Regression](#4.3)\n",
    "   - [Decision Tree Regression](#4.4)\n",
    "   - [Random Forest Regression](#4.5)\n",
    "5. [Predicting and Testing](#5)\n",
    "   - [Multiple Linear Regression](#5.1)\n",
    "   - [Polynomial Linear Regression](#5.2)\n",
    "   - [Support Vector Regression](#5.3)\n",
    "   - [Decision Tree Regression](#5.4)\n",
    "   - [Random Forest Regression](#5.5)\n",
    "6. [Model Evaluation - R^2](#6)\n",
    "   - [Multiple Linear Regression](#6.1)\n",
    "   - [Polynomial Linear Regression](#6.2)\n",
    "   - [Support Vector Regression](#6.3)\n",
    "   - [Decision Tree Regression](#6.4)\n",
    "   - [Random Forest Regression](#6.5)\n",
    "   - [Final Result](#6.6)"
   ]
  },
  {
   "cell_type": "markdown",
   "id": "929259ef",
   "metadata": {
    "papermill": {
     "duration": 0.012905,
     "end_time": "2023-08-26T17:14:44.839726",
     "exception": false,
     "start_time": "2023-08-26T17:14:44.826821",
     "status": "completed"
    },
    "tags": []
   },
   "source": [
    "<a id=\"1\"></a>\n",
    "# 1. Importing Libraries\n",
    "\n",
    "[Go back to Index](#index)"
   ]
  },
  {
   "cell_type": "code",
   "execution_count": 2,
   "id": "f6b48f36",
   "metadata": {
    "execution": {
     "iopub.execute_input": "2023-08-26T17:14:44.870593Z",
     "iopub.status.busy": "2023-08-26T17:14:44.870144Z",
     "iopub.status.idle": "2023-08-26T17:14:46.890346Z",
     "shell.execute_reply": "2023-08-26T17:14:46.888996Z"
    },
    "papermill": {
     "duration": 2.039587,
     "end_time": "2023-08-26T17:14:46.893517",
     "exception": false,
     "start_time": "2023-08-26T17:14:44.853930",
     "status": "completed"
    },
    "tags": []
   },
   "outputs": [
    {
     "name": "stderr",
     "output_type": "stream",
     "text": [
      "/opt/conda/lib/python3.10/site-packages/scipy/__init__.py:146: UserWarning: A NumPy version >=1.16.5 and <1.23.0 is required for this version of SciPy (detected version 1.23.5\n",
      "  warnings.warn(f\"A NumPy version >={np_minversion} and <{np_maxversion}\"\n"
     ]
    }
   ],
   "source": [
    "#1. General\n",
    "import pandas as pd\n",
    "import numpy as np\n",
    "import os\n",
    "import matplotlib.pyplot as plt\n",
    "%matplotlib inline\n",
    "\n",
    "#2. Data Preprocessing\n",
    "##2.1 Fill Missing Data\n",
    "from sklearn.impute import SimpleImputer\n",
    "\n",
    "##2.2 Encoding\n",
    "from sklearn.compose import ColumnTransformer\n",
    "from sklearn.preprocessing import OneHotEncoder\n",
    "from sklearn.preprocessing import LabelEncoder\n",
    "\n",
    "##2.3 Splitting Train and Test\n",
    "from sklearn.model_selection import train_test_split\n",
    "\n",
    "##2.4 Feature Scaling\n",
    "from sklearn.preprocessing import StandardScaler\n",
    "\n",
    "#3. All Models\n",
    "##3.1 Simple/Multiple Linear Regression\n",
    "from sklearn.linear_model import LinearRegression\n",
    "\n",
    "##3.2 Polynomial Linear Regression\n",
    "from sklearn.preprocessing import PolynomialFeatures\n",
    "\n",
    "##3.3 Support Vector Linear Regression\n",
    "from sklearn.svm import SVR\n",
    "\n",
    "##3.4 Decision Tree Regressor Class\n",
    "from sklearn.tree import DecisionTreeRegressor\n",
    "\n",
    "##3.5 Random Forest Regressor Class\n",
    "from sklearn.ensemble import RandomForestRegressor\n",
    "\n",
    "#4. Model Performance\n",
    "from sklearn.metrics import r2_score"
   ]
  },
  {
   "cell_type": "markdown",
   "id": "f1fc6194",
   "metadata": {
    "papermill": {
     "duration": 0.012804,
     "end_time": "2023-08-26T17:14:46.920060",
     "exception": false,
     "start_time": "2023-08-26T17:14:46.907256",
     "status": "completed"
    },
    "tags": []
   },
   "source": [
    "<a id=\"2\"></a>\n",
    "# 2. Importing Dataset\n",
    "\n",
    "[Go back to Index](#index)"
   ]
  },
  {
   "cell_type": "code",
   "execution_count": 3,
   "id": "44df8596",
   "metadata": {
    "execution": {
     "iopub.execute_input": "2023-08-26T17:14:46.948876Z",
     "iopub.status.busy": "2023-08-26T17:14:46.948223Z",
     "iopub.status.idle": "2023-08-26T17:14:46.990485Z",
     "shell.execute_reply": "2023-08-26T17:14:46.989504Z"
    },
    "papermill": {
     "duration": 0.059623,
     "end_time": "2023-08-26T17:14:46.993097",
     "exception": false,
     "start_time": "2023-08-26T17:14:46.933474",
     "status": "completed"
    },
    "tags": []
   },
   "outputs": [],
   "source": [
    "# Dataset:= Combined Cycle Powerplant.csv\n",
    "df = pd.read_csv('/kaggle/input/airpressure/Folds5x2_pp.csv')\n",
    "X = df.iloc[:, :-1].values\n",
    "y = df.iloc[:, -1].values"
   ]
  },
  {
   "cell_type": "code",
   "execution_count": 4,
   "id": "39d4f981",
   "metadata": {
    "execution": {
     "iopub.execute_input": "2023-08-26T17:14:47.023625Z",
     "iopub.status.busy": "2023-08-26T17:14:47.022728Z",
     "iopub.status.idle": "2023-08-26T17:14:47.028180Z",
     "shell.execute_reply": "2023-08-26T17:14:47.027285Z"
    },
    "papermill": {
     "duration": 0.023243,
     "end_time": "2023-08-26T17:14:47.030698",
     "exception": false,
     "start_time": "2023-08-26T17:14:47.007455",
     "status": "completed"
    },
    "tags": []
   },
   "outputs": [],
   "source": [
    "#Reshaping y for SVR Model (n,1)\n",
    "y_svr = y.reshape(len(y),1)"
   ]
  },
  {
   "cell_type": "markdown",
   "id": "118bb899",
   "metadata": {
    "papermill": {
     "duration": 0.012873,
     "end_time": "2023-08-26T17:14:47.056778",
     "exception": false,
     "start_time": "2023-08-26T17:14:47.043905",
     "status": "completed"
    },
    "tags": []
   },
   "source": [
    "<a id=\"3\"></a>\n",
    "# 3. Splitting Dataset into Train/Test\n",
    "\n",
    "[Go back to Index](#index)"
   ]
  },
  {
   "cell_type": "code",
   "execution_count": 5,
   "id": "c22ec7bf",
   "metadata": {
    "execution": {
     "iopub.execute_input": "2023-08-26T17:14:47.086419Z",
     "iopub.status.busy": "2023-08-26T17:14:47.085595Z",
     "iopub.status.idle": "2023-08-26T17:14:47.096774Z",
     "shell.execute_reply": "2023-08-26T17:14:47.095830Z"
    },
    "papermill": {
     "duration": 0.029362,
     "end_time": "2023-08-26T17:14:47.099425",
     "exception": false,
     "start_time": "2023-08-26T17:14:47.070063",
     "status": "completed"
    },
    "tags": []
   },
   "outputs": [],
   "source": [
    "# For the other models\n",
    "X_train, X_test, y_train, y_test = train_test_split(X, y, test_size = 0.2, random_state = 0)"
   ]
  },
  {
   "cell_type": "code",
   "execution_count": 6,
   "id": "d3df57b2",
   "metadata": {
    "execution": {
     "iopub.execute_input": "2023-08-26T17:14:47.128001Z",
     "iopub.status.busy": "2023-08-26T17:14:47.127204Z",
     "iopub.status.idle": "2023-08-26T17:14:47.134530Z",
     "shell.execute_reply": "2023-08-26T17:14:47.133191Z"
    },
    "papermill": {
     "duration": 0.02474,
     "end_time": "2023-08-26T17:14:47.137289",
     "exception": false,
     "start_time": "2023-08-26T17:14:47.112549",
     "status": "completed"
    },
    "tags": []
   },
   "outputs": [],
   "source": [
    "# For SVR Model\n",
    "# The only difference is that the y has 2D shape instead of the usual 1D\n",
    "X_train_svr, X_test_svr, y_train_svr, y_test_svr = train_test_split(X, y_svr, test_size = 0.2, random_state = 0)"
   ]
  },
  {
   "cell_type": "markdown",
   "id": "9ce26b29",
   "metadata": {
    "papermill": {
     "duration": 0.012675,
     "end_time": "2023-08-26T17:14:47.163131",
     "exception": false,
     "start_time": "2023-08-26T17:14:47.150456",
     "status": "completed"
    },
    "tags": []
   },
   "source": [
    "<a id=\"4\"></a>\n",
    "# 4. Training the models\n",
    "\n",
    "[Go back to Index](#index)"
   ]
  },
  {
   "cell_type": "markdown",
   "id": "8e91fa71",
   "metadata": {
    "papermill": {
     "duration": 0.012718,
     "end_time": "2023-08-26T17:14:47.188841",
     "exception": false,
     "start_time": "2023-08-26T17:14:47.176123",
     "status": "completed"
    },
    "tags": []
   },
   "source": [
    "<a id=\"4.1\"></a>\n",
    "## 4.1 Multiple Linear Regression\n",
    "\n",
    "[Go back to Index](#index)"
   ]
  },
  {
   "cell_type": "code",
   "execution_count": 7,
   "id": "6fc87e67",
   "metadata": {
    "execution": {
     "iopub.execute_input": "2023-08-26T17:14:47.217086Z",
     "iopub.status.busy": "2023-08-26T17:14:47.216435Z",
     "iopub.status.idle": "2023-08-26T17:14:47.255131Z",
     "shell.execute_reply": "2023-08-26T17:14:47.254260Z"
    },
    "papermill": {
     "duration": 0.055481,
     "end_time": "2023-08-26T17:14:47.257371",
     "exception": false,
     "start_time": "2023-08-26T17:14:47.201890",
     "status": "completed"
    },
    "tags": []
   },
   "outputs": [
    {
     "data": {
      "text/html": [
       "<style>#sk-container-id-1 {color: black;background-color: white;}#sk-container-id-1 pre{padding: 0;}#sk-container-id-1 div.sk-toggleable {background-color: white;}#sk-container-id-1 label.sk-toggleable__label {cursor: pointer;display: block;width: 100%;margin-bottom: 0;padding: 0.3em;box-sizing: border-box;text-align: center;}#sk-container-id-1 label.sk-toggleable__label-arrow:before {content: \"▸\";float: left;margin-right: 0.25em;color: #696969;}#sk-container-id-1 label.sk-toggleable__label-arrow:hover:before {color: black;}#sk-container-id-1 div.sk-estimator:hover label.sk-toggleable__label-arrow:before {color: black;}#sk-container-id-1 div.sk-toggleable__content {max-height: 0;max-width: 0;overflow: hidden;text-align: left;background-color: #f0f8ff;}#sk-container-id-1 div.sk-toggleable__content pre {margin: 0.2em;color: black;border-radius: 0.25em;background-color: #f0f8ff;}#sk-container-id-1 input.sk-toggleable__control:checked~div.sk-toggleable__content {max-height: 200px;max-width: 100%;overflow: auto;}#sk-container-id-1 input.sk-toggleable__control:checked~label.sk-toggleable__label-arrow:before {content: \"▾\";}#sk-container-id-1 div.sk-estimator input.sk-toggleable__control:checked~label.sk-toggleable__label {background-color: #d4ebff;}#sk-container-id-1 div.sk-label input.sk-toggleable__control:checked~label.sk-toggleable__label {background-color: #d4ebff;}#sk-container-id-1 input.sk-hidden--visually {border: 0;clip: rect(1px 1px 1px 1px);clip: rect(1px, 1px, 1px, 1px);height: 1px;margin: -1px;overflow: hidden;padding: 0;position: absolute;width: 1px;}#sk-container-id-1 div.sk-estimator {font-family: monospace;background-color: #f0f8ff;border: 1px dotted black;border-radius: 0.25em;box-sizing: border-box;margin-bottom: 0.5em;}#sk-container-id-1 div.sk-estimator:hover {background-color: #d4ebff;}#sk-container-id-1 div.sk-parallel-item::after {content: \"\";width: 100%;border-bottom: 1px solid gray;flex-grow: 1;}#sk-container-id-1 div.sk-label:hover label.sk-toggleable__label {background-color: #d4ebff;}#sk-container-id-1 div.sk-serial::before {content: \"\";position: absolute;border-left: 1px solid gray;box-sizing: border-box;top: 0;bottom: 0;left: 50%;z-index: 0;}#sk-container-id-1 div.sk-serial {display: flex;flex-direction: column;align-items: center;background-color: white;padding-right: 0.2em;padding-left: 0.2em;position: relative;}#sk-container-id-1 div.sk-item {position: relative;z-index: 1;}#sk-container-id-1 div.sk-parallel {display: flex;align-items: stretch;justify-content: center;background-color: white;position: relative;}#sk-container-id-1 div.sk-item::before, #sk-container-id-1 div.sk-parallel-item::before {content: \"\";position: absolute;border-left: 1px solid gray;box-sizing: border-box;top: 0;bottom: 0;left: 50%;z-index: -1;}#sk-container-id-1 div.sk-parallel-item {display: flex;flex-direction: column;z-index: 1;position: relative;background-color: white;}#sk-container-id-1 div.sk-parallel-item:first-child::after {align-self: flex-end;width: 50%;}#sk-container-id-1 div.sk-parallel-item:last-child::after {align-self: flex-start;width: 50%;}#sk-container-id-1 div.sk-parallel-item:only-child::after {width: 0;}#sk-container-id-1 div.sk-dashed-wrapped {border: 1px dashed gray;margin: 0 0.4em 0.5em 0.4em;box-sizing: border-box;padding-bottom: 0.4em;background-color: white;}#sk-container-id-1 div.sk-label label {font-family: monospace;font-weight: bold;display: inline-block;line-height: 1.2em;}#sk-container-id-1 div.sk-label-container {text-align: center;}#sk-container-id-1 div.sk-container {/* jupyter's `normalize.less` sets `[hidden] { display: none; }` but bootstrap.min.css set `[hidden] { display: none !important; }` so we also need the `!important` here to be able to override the default hidden behavior on the sphinx rendered scikit-learn.org. See: https://github.com/scikit-learn/scikit-learn/issues/21755 */display: inline-block !important;position: relative;}#sk-container-id-1 div.sk-text-repr-fallback {display: none;}</style><div id=\"sk-container-id-1\" class=\"sk-top-container\"><div class=\"sk-text-repr-fallback\"><pre>LinearRegression()</pre><b>In a Jupyter environment, please rerun this cell to show the HTML representation or trust the notebook. <br />On GitHub, the HTML representation is unable to render, please try loading this page with nbviewer.org.</b></div><div class=\"sk-container\" hidden><div class=\"sk-item\"><div class=\"sk-estimator sk-toggleable\"><input class=\"sk-toggleable__control sk-hidden--visually\" id=\"sk-estimator-id-1\" type=\"checkbox\" checked><label for=\"sk-estimator-id-1\" class=\"sk-toggleable__label sk-toggleable__label-arrow\">LinearRegression</label><div class=\"sk-toggleable__content\"><pre>LinearRegression()</pre></div></div></div></div></div>"
      ],
      "text/plain": [
       "LinearRegression()"
      ]
     },
     "execution_count": 7,
     "metadata": {},
     "output_type": "execute_result"
    }
   ],
   "source": [
    "multi_regressor = LinearRegression()\n",
    "multi_regressor.fit(X_train, y_train)"
   ]
  },
  {
   "cell_type": "markdown",
   "id": "59f4fe5e",
   "metadata": {
    "papermill": {
     "duration": 0.013146,
     "end_time": "2023-08-26T17:14:47.283949",
     "exception": false,
     "start_time": "2023-08-26T17:14:47.270803",
     "status": "completed"
    },
    "tags": []
   },
   "source": [
    "<a id=\"4.2\"></a>\n",
    "## 4.2 Polynomial Regression\n",
    "\n",
    "[Go back to Index](#index)"
   ]
  },
  {
   "cell_type": "code",
   "execution_count": 8,
   "id": "69c7d119",
   "metadata": {
    "execution": {
     "iopub.execute_input": "2023-08-26T17:14:47.313518Z",
     "iopub.status.busy": "2023-08-26T17:14:47.312530Z",
     "iopub.status.idle": "2023-08-26T17:14:47.369363Z",
     "shell.execute_reply": "2023-08-26T17:14:47.367808Z"
    },
    "papermill": {
     "duration": 0.076479,
     "end_time": "2023-08-26T17:14:47.373786",
     "exception": false,
     "start_time": "2023-08-26T17:14:47.297307",
     "status": "completed"
    },
    "tags": []
   },
   "outputs": [
    {
     "data": {
      "text/html": [
       "<style>#sk-container-id-2 {color: black;background-color: white;}#sk-container-id-2 pre{padding: 0;}#sk-container-id-2 div.sk-toggleable {background-color: white;}#sk-container-id-2 label.sk-toggleable__label {cursor: pointer;display: block;width: 100%;margin-bottom: 0;padding: 0.3em;box-sizing: border-box;text-align: center;}#sk-container-id-2 label.sk-toggleable__label-arrow:before {content: \"▸\";float: left;margin-right: 0.25em;color: #696969;}#sk-container-id-2 label.sk-toggleable__label-arrow:hover:before {color: black;}#sk-container-id-2 div.sk-estimator:hover label.sk-toggleable__label-arrow:before {color: black;}#sk-container-id-2 div.sk-toggleable__content {max-height: 0;max-width: 0;overflow: hidden;text-align: left;background-color: #f0f8ff;}#sk-container-id-2 div.sk-toggleable__content pre {margin: 0.2em;color: black;border-radius: 0.25em;background-color: #f0f8ff;}#sk-container-id-2 input.sk-toggleable__control:checked~div.sk-toggleable__content {max-height: 200px;max-width: 100%;overflow: auto;}#sk-container-id-2 input.sk-toggleable__control:checked~label.sk-toggleable__label-arrow:before {content: \"▾\";}#sk-container-id-2 div.sk-estimator input.sk-toggleable__control:checked~label.sk-toggleable__label {background-color: #d4ebff;}#sk-container-id-2 div.sk-label input.sk-toggleable__control:checked~label.sk-toggleable__label {background-color: #d4ebff;}#sk-container-id-2 input.sk-hidden--visually {border: 0;clip: rect(1px 1px 1px 1px);clip: rect(1px, 1px, 1px, 1px);height: 1px;margin: -1px;overflow: hidden;padding: 0;position: absolute;width: 1px;}#sk-container-id-2 div.sk-estimator {font-family: monospace;background-color: #f0f8ff;border: 1px dotted black;border-radius: 0.25em;box-sizing: border-box;margin-bottom: 0.5em;}#sk-container-id-2 div.sk-estimator:hover {background-color: #d4ebff;}#sk-container-id-2 div.sk-parallel-item::after {content: \"\";width: 100%;border-bottom: 1px solid gray;flex-grow: 1;}#sk-container-id-2 div.sk-label:hover label.sk-toggleable__label {background-color: #d4ebff;}#sk-container-id-2 div.sk-serial::before {content: \"\";position: absolute;border-left: 1px solid gray;box-sizing: border-box;top: 0;bottom: 0;left: 50%;z-index: 0;}#sk-container-id-2 div.sk-serial {display: flex;flex-direction: column;align-items: center;background-color: white;padding-right: 0.2em;padding-left: 0.2em;position: relative;}#sk-container-id-2 div.sk-item {position: relative;z-index: 1;}#sk-container-id-2 div.sk-parallel {display: flex;align-items: stretch;justify-content: center;background-color: white;position: relative;}#sk-container-id-2 div.sk-item::before, #sk-container-id-2 div.sk-parallel-item::before {content: \"\";position: absolute;border-left: 1px solid gray;box-sizing: border-box;top: 0;bottom: 0;left: 50%;z-index: -1;}#sk-container-id-2 div.sk-parallel-item {display: flex;flex-direction: column;z-index: 1;position: relative;background-color: white;}#sk-container-id-2 div.sk-parallel-item:first-child::after {align-self: flex-end;width: 50%;}#sk-container-id-2 div.sk-parallel-item:last-child::after {align-self: flex-start;width: 50%;}#sk-container-id-2 div.sk-parallel-item:only-child::after {width: 0;}#sk-container-id-2 div.sk-dashed-wrapped {border: 1px dashed gray;margin: 0 0.4em 0.5em 0.4em;box-sizing: border-box;padding-bottom: 0.4em;background-color: white;}#sk-container-id-2 div.sk-label label {font-family: monospace;font-weight: bold;display: inline-block;line-height: 1.2em;}#sk-container-id-2 div.sk-label-container {text-align: center;}#sk-container-id-2 div.sk-container {/* jupyter's `normalize.less` sets `[hidden] { display: none; }` but bootstrap.min.css set `[hidden] { display: none !important; }` so we also need the `!important` here to be able to override the default hidden behavior on the sphinx rendered scikit-learn.org. See: https://github.com/scikit-learn/scikit-learn/issues/21755 */display: inline-block !important;position: relative;}#sk-container-id-2 div.sk-text-repr-fallback {display: none;}</style><div id=\"sk-container-id-2\" class=\"sk-top-container\"><div class=\"sk-text-repr-fallback\"><pre>LinearRegression()</pre><b>In a Jupyter environment, please rerun this cell to show the HTML representation or trust the notebook. <br />On GitHub, the HTML representation is unable to render, please try loading this page with nbviewer.org.</b></div><div class=\"sk-container\" hidden><div class=\"sk-item\"><div class=\"sk-estimator sk-toggleable\"><input class=\"sk-toggleable__control sk-hidden--visually\" id=\"sk-estimator-id-2\" type=\"checkbox\" checked><label for=\"sk-estimator-id-2\" class=\"sk-toggleable__label sk-toggleable__label-arrow\">LinearRegression</label><div class=\"sk-toggleable__content\"><pre>LinearRegression()</pre></div></div></div></div></div>"
      ],
      "text/plain": [
       "LinearRegression()"
      ]
     },
     "execution_count": 8,
     "metadata": {},
     "output_type": "execute_result"
    }
   ],
   "source": [
    "poly_reg = PolynomialFeatures(degree = 4)\n",
    "X_poly = poly_reg.fit_transform(X_train)\n",
    "poly_regressor = LinearRegression()\n",
    "poly_regressor.fit(X_poly, y_train)"
   ]
  },
  {
   "cell_type": "markdown",
   "id": "2e81ff56",
   "metadata": {
    "papermill": {
     "duration": 0.029439,
     "end_time": "2023-08-26T17:14:47.433293",
     "exception": false,
     "start_time": "2023-08-26T17:14:47.403854",
     "status": "completed"
    },
    "tags": []
   },
   "source": [
    "<a id=\"4.3\"></a>\n",
    "## 4.3 Support Vector Regression\n",
    "\n",
    "[Go back to Index](#index)"
   ]
  },
  {
   "cell_type": "code",
   "execution_count": 9,
   "id": "c71f0eb1",
   "metadata": {
    "execution": {
     "iopub.execute_input": "2023-08-26T17:14:47.486872Z",
     "iopub.status.busy": "2023-08-26T17:14:47.486472Z",
     "iopub.status.idle": "2023-08-26T17:14:47.495821Z",
     "shell.execute_reply": "2023-08-26T17:14:47.494585Z"
    },
    "papermill": {
     "duration": 0.035301,
     "end_time": "2023-08-26T17:14:47.498586",
     "exception": false,
     "start_time": "2023-08-26T17:14:47.463285",
     "status": "completed"
    },
    "tags": []
   },
   "outputs": [],
   "source": [
    "# Feature Scaling for SVR Model\n",
    "sc_X = StandardScaler()\n",
    "sc_y = StandardScaler()\n",
    "X_train_svr = sc_X.fit_transform(X_train_svr)\n",
    "y_train_svr = sc_y.fit_transform(y_train_svr)"
   ]
  },
  {
   "cell_type": "code",
   "execution_count": 10,
   "id": "e8e27160",
   "metadata": {
    "execution": {
     "iopub.execute_input": "2023-08-26T17:14:47.527902Z",
     "iopub.status.busy": "2023-08-26T17:14:47.527499Z",
     "iopub.status.idle": "2023-08-26T17:14:49.648619Z",
     "shell.execute_reply": "2023-08-26T17:14:49.647762Z"
    },
    "papermill": {
     "duration": 2.138797,
     "end_time": "2023-08-26T17:14:49.651116",
     "exception": false,
     "start_time": "2023-08-26T17:14:47.512319",
     "status": "completed"
    },
    "tags": []
   },
   "outputs": [
    {
     "name": "stderr",
     "output_type": "stream",
     "text": [
      "/opt/conda/lib/python3.10/site-packages/sklearn/utils/validation.py:1143: DataConversionWarning: A column-vector y was passed when a 1d array was expected. Please change the shape of y to (n_samples, ), for example using ravel().\n",
      "  y = column_or_1d(y, warn=True)\n"
     ]
    },
    {
     "data": {
      "text/html": [
       "<style>#sk-container-id-3 {color: black;background-color: white;}#sk-container-id-3 pre{padding: 0;}#sk-container-id-3 div.sk-toggleable {background-color: white;}#sk-container-id-3 label.sk-toggleable__label {cursor: pointer;display: block;width: 100%;margin-bottom: 0;padding: 0.3em;box-sizing: border-box;text-align: center;}#sk-container-id-3 label.sk-toggleable__label-arrow:before {content: \"▸\";float: left;margin-right: 0.25em;color: #696969;}#sk-container-id-3 label.sk-toggleable__label-arrow:hover:before {color: black;}#sk-container-id-3 div.sk-estimator:hover label.sk-toggleable__label-arrow:before {color: black;}#sk-container-id-3 div.sk-toggleable__content {max-height: 0;max-width: 0;overflow: hidden;text-align: left;background-color: #f0f8ff;}#sk-container-id-3 div.sk-toggleable__content pre {margin: 0.2em;color: black;border-radius: 0.25em;background-color: #f0f8ff;}#sk-container-id-3 input.sk-toggleable__control:checked~div.sk-toggleable__content {max-height: 200px;max-width: 100%;overflow: auto;}#sk-container-id-3 input.sk-toggleable__control:checked~label.sk-toggleable__label-arrow:before {content: \"▾\";}#sk-container-id-3 div.sk-estimator input.sk-toggleable__control:checked~label.sk-toggleable__label {background-color: #d4ebff;}#sk-container-id-3 div.sk-label input.sk-toggleable__control:checked~label.sk-toggleable__label {background-color: #d4ebff;}#sk-container-id-3 input.sk-hidden--visually {border: 0;clip: rect(1px 1px 1px 1px);clip: rect(1px, 1px, 1px, 1px);height: 1px;margin: -1px;overflow: hidden;padding: 0;position: absolute;width: 1px;}#sk-container-id-3 div.sk-estimator {font-family: monospace;background-color: #f0f8ff;border: 1px dotted black;border-radius: 0.25em;box-sizing: border-box;margin-bottom: 0.5em;}#sk-container-id-3 div.sk-estimator:hover {background-color: #d4ebff;}#sk-container-id-3 div.sk-parallel-item::after {content: \"\";width: 100%;border-bottom: 1px solid gray;flex-grow: 1;}#sk-container-id-3 div.sk-label:hover label.sk-toggleable__label {background-color: #d4ebff;}#sk-container-id-3 div.sk-serial::before {content: \"\";position: absolute;border-left: 1px solid gray;box-sizing: border-box;top: 0;bottom: 0;left: 50%;z-index: 0;}#sk-container-id-3 div.sk-serial {display: flex;flex-direction: column;align-items: center;background-color: white;padding-right: 0.2em;padding-left: 0.2em;position: relative;}#sk-container-id-3 div.sk-item {position: relative;z-index: 1;}#sk-container-id-3 div.sk-parallel {display: flex;align-items: stretch;justify-content: center;background-color: white;position: relative;}#sk-container-id-3 div.sk-item::before, #sk-container-id-3 div.sk-parallel-item::before {content: \"\";position: absolute;border-left: 1px solid gray;box-sizing: border-box;top: 0;bottom: 0;left: 50%;z-index: -1;}#sk-container-id-3 div.sk-parallel-item {display: flex;flex-direction: column;z-index: 1;position: relative;background-color: white;}#sk-container-id-3 div.sk-parallel-item:first-child::after {align-self: flex-end;width: 50%;}#sk-container-id-3 div.sk-parallel-item:last-child::after {align-self: flex-start;width: 50%;}#sk-container-id-3 div.sk-parallel-item:only-child::after {width: 0;}#sk-container-id-3 div.sk-dashed-wrapped {border: 1px dashed gray;margin: 0 0.4em 0.5em 0.4em;box-sizing: border-box;padding-bottom: 0.4em;background-color: white;}#sk-container-id-3 div.sk-label label {font-family: monospace;font-weight: bold;display: inline-block;line-height: 1.2em;}#sk-container-id-3 div.sk-label-container {text-align: center;}#sk-container-id-3 div.sk-container {/* jupyter's `normalize.less` sets `[hidden] { display: none; }` but bootstrap.min.css set `[hidden] { display: none !important; }` so we also need the `!important` here to be able to override the default hidden behavior on the sphinx rendered scikit-learn.org. See: https://github.com/scikit-learn/scikit-learn/issues/21755 */display: inline-block !important;position: relative;}#sk-container-id-3 div.sk-text-repr-fallback {display: none;}</style><div id=\"sk-container-id-3\" class=\"sk-top-container\"><div class=\"sk-text-repr-fallback\"><pre>SVR()</pre><b>In a Jupyter environment, please rerun this cell to show the HTML representation or trust the notebook. <br />On GitHub, the HTML representation is unable to render, please try loading this page with nbviewer.org.</b></div><div class=\"sk-container\" hidden><div class=\"sk-item\"><div class=\"sk-estimator sk-toggleable\"><input class=\"sk-toggleable__control sk-hidden--visually\" id=\"sk-estimator-id-3\" type=\"checkbox\" checked><label for=\"sk-estimator-id-3\" class=\"sk-toggleable__label sk-toggleable__label-arrow\">SVR</label><div class=\"sk-toggleable__content\"><pre>SVR()</pre></div></div></div></div></div>"
      ],
      "text/plain": [
       "SVR()"
      ]
     },
     "execution_count": 10,
     "metadata": {},
     "output_type": "execute_result"
    }
   ],
   "source": [
    "svr_regressor = SVR(kernel = 'rbf') #Radial Basis Function\n",
    "svr_regressor.fit(X_train_svr, y_train_svr)"
   ]
  },
  {
   "cell_type": "markdown",
   "id": "577195a2",
   "metadata": {
    "papermill": {
     "duration": 0.013674,
     "end_time": "2023-08-26T17:14:49.678678",
     "exception": false,
     "start_time": "2023-08-26T17:14:49.665004",
     "status": "completed"
    },
    "tags": []
   },
   "source": [
    "<a id=\"4.4\"></a>\n",
    "## 4.4 Decision Tree Regression\n",
    "\n",
    "[Go back to Index](#index)"
   ]
  },
  {
   "cell_type": "code",
   "execution_count": 11,
   "id": "642d4e43",
   "metadata": {
    "execution": {
     "iopub.execute_input": "2023-08-26T17:14:49.708474Z",
     "iopub.status.busy": "2023-08-26T17:14:49.708060Z",
     "iopub.status.idle": "2023-08-26T17:14:49.760198Z",
     "shell.execute_reply": "2023-08-26T17:14:49.758949Z"
    },
    "papermill": {
     "duration": 0.069989,
     "end_time": "2023-08-26T17:14:49.762696",
     "exception": false,
     "start_time": "2023-08-26T17:14:49.692707",
     "status": "completed"
    },
    "tags": []
   },
   "outputs": [
    {
     "data": {
      "text/html": [
       "<style>#sk-container-id-4 {color: black;background-color: white;}#sk-container-id-4 pre{padding: 0;}#sk-container-id-4 div.sk-toggleable {background-color: white;}#sk-container-id-4 label.sk-toggleable__label {cursor: pointer;display: block;width: 100%;margin-bottom: 0;padding: 0.3em;box-sizing: border-box;text-align: center;}#sk-container-id-4 label.sk-toggleable__label-arrow:before {content: \"▸\";float: left;margin-right: 0.25em;color: #696969;}#sk-container-id-4 label.sk-toggleable__label-arrow:hover:before {color: black;}#sk-container-id-4 div.sk-estimator:hover label.sk-toggleable__label-arrow:before {color: black;}#sk-container-id-4 div.sk-toggleable__content {max-height: 0;max-width: 0;overflow: hidden;text-align: left;background-color: #f0f8ff;}#sk-container-id-4 div.sk-toggleable__content pre {margin: 0.2em;color: black;border-radius: 0.25em;background-color: #f0f8ff;}#sk-container-id-4 input.sk-toggleable__control:checked~div.sk-toggleable__content {max-height: 200px;max-width: 100%;overflow: auto;}#sk-container-id-4 input.sk-toggleable__control:checked~label.sk-toggleable__label-arrow:before {content: \"▾\";}#sk-container-id-4 div.sk-estimator input.sk-toggleable__control:checked~label.sk-toggleable__label {background-color: #d4ebff;}#sk-container-id-4 div.sk-label input.sk-toggleable__control:checked~label.sk-toggleable__label {background-color: #d4ebff;}#sk-container-id-4 input.sk-hidden--visually {border: 0;clip: rect(1px 1px 1px 1px);clip: rect(1px, 1px, 1px, 1px);height: 1px;margin: -1px;overflow: hidden;padding: 0;position: absolute;width: 1px;}#sk-container-id-4 div.sk-estimator {font-family: monospace;background-color: #f0f8ff;border: 1px dotted black;border-radius: 0.25em;box-sizing: border-box;margin-bottom: 0.5em;}#sk-container-id-4 div.sk-estimator:hover {background-color: #d4ebff;}#sk-container-id-4 div.sk-parallel-item::after {content: \"\";width: 100%;border-bottom: 1px solid gray;flex-grow: 1;}#sk-container-id-4 div.sk-label:hover label.sk-toggleable__label {background-color: #d4ebff;}#sk-container-id-4 div.sk-serial::before {content: \"\";position: absolute;border-left: 1px solid gray;box-sizing: border-box;top: 0;bottom: 0;left: 50%;z-index: 0;}#sk-container-id-4 div.sk-serial {display: flex;flex-direction: column;align-items: center;background-color: white;padding-right: 0.2em;padding-left: 0.2em;position: relative;}#sk-container-id-4 div.sk-item {position: relative;z-index: 1;}#sk-container-id-4 div.sk-parallel {display: flex;align-items: stretch;justify-content: center;background-color: white;position: relative;}#sk-container-id-4 div.sk-item::before, #sk-container-id-4 div.sk-parallel-item::before {content: \"\";position: absolute;border-left: 1px solid gray;box-sizing: border-box;top: 0;bottom: 0;left: 50%;z-index: -1;}#sk-container-id-4 div.sk-parallel-item {display: flex;flex-direction: column;z-index: 1;position: relative;background-color: white;}#sk-container-id-4 div.sk-parallel-item:first-child::after {align-self: flex-end;width: 50%;}#sk-container-id-4 div.sk-parallel-item:last-child::after {align-self: flex-start;width: 50%;}#sk-container-id-4 div.sk-parallel-item:only-child::after {width: 0;}#sk-container-id-4 div.sk-dashed-wrapped {border: 1px dashed gray;margin: 0 0.4em 0.5em 0.4em;box-sizing: border-box;padding-bottom: 0.4em;background-color: white;}#sk-container-id-4 div.sk-label label {font-family: monospace;font-weight: bold;display: inline-block;line-height: 1.2em;}#sk-container-id-4 div.sk-label-container {text-align: center;}#sk-container-id-4 div.sk-container {/* jupyter's `normalize.less` sets `[hidden] { display: none; }` but bootstrap.min.css set `[hidden] { display: none !important; }` so we also need the `!important` here to be able to override the default hidden behavior on the sphinx rendered scikit-learn.org. See: https://github.com/scikit-learn/scikit-learn/issues/21755 */display: inline-block !important;position: relative;}#sk-container-id-4 div.sk-text-repr-fallback {display: none;}</style><div id=\"sk-container-id-4\" class=\"sk-top-container\"><div class=\"sk-text-repr-fallback\"><pre>DecisionTreeRegressor(random_state=0)</pre><b>In a Jupyter environment, please rerun this cell to show the HTML representation or trust the notebook. <br />On GitHub, the HTML representation is unable to render, please try loading this page with nbviewer.org.</b></div><div class=\"sk-container\" hidden><div class=\"sk-item\"><div class=\"sk-estimator sk-toggleable\"><input class=\"sk-toggleable__control sk-hidden--visually\" id=\"sk-estimator-id-4\" type=\"checkbox\" checked><label for=\"sk-estimator-id-4\" class=\"sk-toggleable__label sk-toggleable__label-arrow\">DecisionTreeRegressor</label><div class=\"sk-toggleable__content\"><pre>DecisionTreeRegressor(random_state=0)</pre></div></div></div></div></div>"
      ],
      "text/plain": [
       "DecisionTreeRegressor(random_state=0)"
      ]
     },
     "execution_count": 11,
     "metadata": {},
     "output_type": "execute_result"
    }
   ],
   "source": [
    "dtr_regressor = DecisionTreeRegressor(random_state = 0)\n",
    "dtr_regressor.fit(X_train, y_train)"
   ]
  },
  {
   "cell_type": "markdown",
   "id": "40fbaa82",
   "metadata": {
    "papermill": {
     "duration": 0.013973,
     "end_time": "2023-08-26T17:14:49.791220",
     "exception": false,
     "start_time": "2023-08-26T17:14:49.777247",
     "status": "completed"
    },
    "tags": []
   },
   "source": [
    "<a id=\"4.5\"></a>\n",
    "## 4.5 Random Forest Regression\n",
    "\n",
    "[Go back to Index](#index)"
   ]
  },
  {
   "cell_type": "code",
   "execution_count": 12,
   "id": "8e21c574",
   "metadata": {
    "execution": {
     "iopub.execute_input": "2023-08-26T17:14:49.821890Z",
     "iopub.status.busy": "2023-08-26T17:14:49.821142Z",
     "iopub.status.idle": "2023-08-26T17:14:50.123107Z",
     "shell.execute_reply": "2023-08-26T17:14:50.121828Z"
    },
    "papermill": {
     "duration": 0.320577,
     "end_time": "2023-08-26T17:14:50.125989",
     "exception": false,
     "start_time": "2023-08-26T17:14:49.805412",
     "status": "completed"
    },
    "tags": []
   },
   "outputs": [
    {
     "data": {
      "text/html": [
       "<style>#sk-container-id-5 {color: black;background-color: white;}#sk-container-id-5 pre{padding: 0;}#sk-container-id-5 div.sk-toggleable {background-color: white;}#sk-container-id-5 label.sk-toggleable__label {cursor: pointer;display: block;width: 100%;margin-bottom: 0;padding: 0.3em;box-sizing: border-box;text-align: center;}#sk-container-id-5 label.sk-toggleable__label-arrow:before {content: \"▸\";float: left;margin-right: 0.25em;color: #696969;}#sk-container-id-5 label.sk-toggleable__label-arrow:hover:before {color: black;}#sk-container-id-5 div.sk-estimator:hover label.sk-toggleable__label-arrow:before {color: black;}#sk-container-id-5 div.sk-toggleable__content {max-height: 0;max-width: 0;overflow: hidden;text-align: left;background-color: #f0f8ff;}#sk-container-id-5 div.sk-toggleable__content pre {margin: 0.2em;color: black;border-radius: 0.25em;background-color: #f0f8ff;}#sk-container-id-5 input.sk-toggleable__control:checked~div.sk-toggleable__content {max-height: 200px;max-width: 100%;overflow: auto;}#sk-container-id-5 input.sk-toggleable__control:checked~label.sk-toggleable__label-arrow:before {content: \"▾\";}#sk-container-id-5 div.sk-estimator input.sk-toggleable__control:checked~label.sk-toggleable__label {background-color: #d4ebff;}#sk-container-id-5 div.sk-label input.sk-toggleable__control:checked~label.sk-toggleable__label {background-color: #d4ebff;}#sk-container-id-5 input.sk-hidden--visually {border: 0;clip: rect(1px 1px 1px 1px);clip: rect(1px, 1px, 1px, 1px);height: 1px;margin: -1px;overflow: hidden;padding: 0;position: absolute;width: 1px;}#sk-container-id-5 div.sk-estimator {font-family: monospace;background-color: #f0f8ff;border: 1px dotted black;border-radius: 0.25em;box-sizing: border-box;margin-bottom: 0.5em;}#sk-container-id-5 div.sk-estimator:hover {background-color: #d4ebff;}#sk-container-id-5 div.sk-parallel-item::after {content: \"\";width: 100%;border-bottom: 1px solid gray;flex-grow: 1;}#sk-container-id-5 div.sk-label:hover label.sk-toggleable__label {background-color: #d4ebff;}#sk-container-id-5 div.sk-serial::before {content: \"\";position: absolute;border-left: 1px solid gray;box-sizing: border-box;top: 0;bottom: 0;left: 50%;z-index: 0;}#sk-container-id-5 div.sk-serial {display: flex;flex-direction: column;align-items: center;background-color: white;padding-right: 0.2em;padding-left: 0.2em;position: relative;}#sk-container-id-5 div.sk-item {position: relative;z-index: 1;}#sk-container-id-5 div.sk-parallel {display: flex;align-items: stretch;justify-content: center;background-color: white;position: relative;}#sk-container-id-5 div.sk-item::before, #sk-container-id-5 div.sk-parallel-item::before {content: \"\";position: absolute;border-left: 1px solid gray;box-sizing: border-box;top: 0;bottom: 0;left: 50%;z-index: -1;}#sk-container-id-5 div.sk-parallel-item {display: flex;flex-direction: column;z-index: 1;position: relative;background-color: white;}#sk-container-id-5 div.sk-parallel-item:first-child::after {align-self: flex-end;width: 50%;}#sk-container-id-5 div.sk-parallel-item:last-child::after {align-self: flex-start;width: 50%;}#sk-container-id-5 div.sk-parallel-item:only-child::after {width: 0;}#sk-container-id-5 div.sk-dashed-wrapped {border: 1px dashed gray;margin: 0 0.4em 0.5em 0.4em;box-sizing: border-box;padding-bottom: 0.4em;background-color: white;}#sk-container-id-5 div.sk-label label {font-family: monospace;font-weight: bold;display: inline-block;line-height: 1.2em;}#sk-container-id-5 div.sk-label-container {text-align: center;}#sk-container-id-5 div.sk-container {/* jupyter's `normalize.less` sets `[hidden] { display: none; }` but bootstrap.min.css set `[hidden] { display: none !important; }` so we also need the `!important` here to be able to override the default hidden behavior on the sphinx rendered scikit-learn.org. See: https://github.com/scikit-learn/scikit-learn/issues/21755 */display: inline-block !important;position: relative;}#sk-container-id-5 div.sk-text-repr-fallback {display: none;}</style><div id=\"sk-container-id-5\" class=\"sk-top-container\"><div class=\"sk-text-repr-fallback\"><pre>RandomForestRegressor(n_estimators=10, random_state=0)</pre><b>In a Jupyter environment, please rerun this cell to show the HTML representation or trust the notebook. <br />On GitHub, the HTML representation is unable to render, please try loading this page with nbviewer.org.</b></div><div class=\"sk-container\" hidden><div class=\"sk-item\"><div class=\"sk-estimator sk-toggleable\"><input class=\"sk-toggleable__control sk-hidden--visually\" id=\"sk-estimator-id-5\" type=\"checkbox\" checked><label for=\"sk-estimator-id-5\" class=\"sk-toggleable__label sk-toggleable__label-arrow\">RandomForestRegressor</label><div class=\"sk-toggleable__content\"><pre>RandomForestRegressor(n_estimators=10, random_state=0)</pre></div></div></div></div></div>"
      ],
      "text/plain": [
       "RandomForestRegressor(n_estimators=10, random_state=0)"
      ]
     },
     "execution_count": 12,
     "metadata": {},
     "output_type": "execute_result"
    }
   ],
   "source": [
    "rfr_regressor = RandomForestRegressor(n_estimators = 10, random_state = 0)\n",
    "rfr_regressor.fit(X_train, y_train)"
   ]
  },
  {
   "cell_type": "markdown",
   "id": "fb5fd721",
   "metadata": {
    "papermill": {
     "duration": 0.014323,
     "end_time": "2023-08-26T17:14:50.154938",
     "exception": false,
     "start_time": "2023-08-26T17:14:50.140615",
     "status": "completed"
    },
    "tags": []
   },
   "source": [
    "<a id=\"5\"></a>\n",
    "# 5. Predicting and Testing all models\n",
    "\n",
    "[Go back to Index](#index)"
   ]
  },
  {
   "cell_type": "markdown",
   "id": "e709086d",
   "metadata": {
    "papermill": {
     "duration": 0.014056,
     "end_time": "2023-08-26T17:14:50.183482",
     "exception": false,
     "start_time": "2023-08-26T17:14:50.169426",
     "status": "completed"
    },
    "tags": []
   },
   "source": [
    "<a id=\"5.1\"></a>\n",
    "## 5.1 Multiple Linear Regression\n",
    "\n",
    "[Go back to Index](#index)"
   ]
  },
  {
   "cell_type": "code",
   "execution_count": 13,
   "id": "b4bab01a",
   "metadata": {
    "execution": {
     "iopub.execute_input": "2023-08-26T17:14:50.213962Z",
     "iopub.status.busy": "2023-08-26T17:14:50.213541Z",
     "iopub.status.idle": "2023-08-26T17:14:50.220665Z",
     "shell.execute_reply": "2023-08-26T17:14:50.219901Z"
    },
    "papermill": {
     "duration": 0.025677,
     "end_time": "2023-08-26T17:14:50.223574",
     "exception": false,
     "start_time": "2023-08-26T17:14:50.197897",
     "status": "completed"
    },
    "tags": []
   },
   "outputs": [
    {
     "name": "stdout",
     "output_type": "stream",
     "text": [
      "[[433.36 426.18]\n",
      " [448.39 451.1 ]\n",
      " [445.89 442.87]\n",
      " ...\n",
      " [456.06 454.2 ]\n",
      " [446.91 444.13]\n",
      " [432.57 436.58]]\n"
     ]
    }
   ],
   "source": [
    "mr_y_pred = multi_regressor.predict(X_test)\n",
    "np.set_printoptions(precision=2)\n",
    "print(np.concatenate((mr_y_pred.reshape(len(mr_y_pred),1), y_test.reshape(len(y_test),1)),1))"
   ]
  },
  {
   "cell_type": "markdown",
   "id": "ea75ed54",
   "metadata": {
    "papermill": {
     "duration": 0.01425,
     "end_time": "2023-08-26T17:14:50.252382",
     "exception": false,
     "start_time": "2023-08-26T17:14:50.238132",
     "status": "completed"
    },
    "tags": []
   },
   "source": [
    "<a id=\"5.2\"></a>\n",
    "## 5.2 Polynomial Regression\n",
    "\n",
    "[Go back to Index](#index)"
   ]
  },
  {
   "cell_type": "code",
   "execution_count": 14,
   "id": "d4d6df3f",
   "metadata": {
    "execution": {
     "iopub.execute_input": "2023-08-26T17:14:50.283625Z",
     "iopub.status.busy": "2023-08-26T17:14:50.283247Z",
     "iopub.status.idle": "2023-08-26T17:14:50.300766Z",
     "shell.execute_reply": "2023-08-26T17:14:50.298590Z"
    },
    "papermill": {
     "duration": 0.03807,
     "end_time": "2023-08-26T17:14:50.305006",
     "exception": false,
     "start_time": "2023-08-26T17:14:50.266936",
     "status": "completed"
    },
    "tags": []
   },
   "outputs": [
    {
     "name": "stdout",
     "output_type": "stream",
     "text": [
      "[[430.93 426.18]\n",
      " [448.01 451.1 ]\n",
      " [444.39 442.87]\n",
      " ...\n",
      " [455.1  454.2 ]\n",
      " [446.74 444.13]\n",
      " [433.52 436.58]]\n"
     ]
    }
   ],
   "source": [
    "poly_y_pred = poly_regressor.predict(poly_reg.transform(X_test))\n",
    "np.set_printoptions(precision=2)\n",
    "print(np.concatenate((poly_y_pred.reshape(len(poly_y_pred),1), y_test.reshape(len(y_test),1)),1))"
   ]
  },
  {
   "cell_type": "markdown",
   "id": "ceedd13e",
   "metadata": {
    "papermill": {
     "duration": 0.030866,
     "end_time": "2023-08-26T17:14:50.367542",
     "exception": false,
     "start_time": "2023-08-26T17:14:50.336676",
     "status": "completed"
    },
    "tags": []
   },
   "source": [
    "<a id=\"5.3\"></a>\n",
    "## 5.3 Support Vector Regression\n",
    "\n",
    "[Go back to Index](#index)"
   ]
  },
  {
   "cell_type": "code",
   "execution_count": 15,
   "id": "b4643aa5",
   "metadata": {
    "execution": {
     "iopub.execute_input": "2023-08-26T17:14:50.422177Z",
     "iopub.status.busy": "2023-08-26T17:14:50.421771Z",
     "iopub.status.idle": "2023-08-26T17:14:50.875063Z",
     "shell.execute_reply": "2023-08-26T17:14:50.873768Z"
    },
    "papermill": {
     "duration": 0.479393,
     "end_time": "2023-08-26T17:14:50.877575",
     "exception": false,
     "start_time": "2023-08-26T17:14:50.398182",
     "status": "completed"
    },
    "tags": []
   },
   "outputs": [
    {
     "name": "stdout",
     "output_type": "stream",
     "text": [
      "[[431.22 426.18]\n",
      " [448.88 451.1 ]\n",
      " [444.04 442.87]\n",
      " ...\n",
      " [455.18 454.2 ]\n",
      " [447.12 444.13]\n",
      " [432.72 436.58]]\n"
     ]
    }
   ],
   "source": [
    "svr_y_pred = sc_y.inverse_transform(svr_regressor.predict(sc_X.transform(X_test_svr)).reshape(-1,1))\n",
    "np.set_printoptions(precision=2)\n",
    "print(np.concatenate((svr_y_pred.reshape(len(svr_y_pred),1), y_test_svr.reshape(len(y_test_svr),1)),1))"
   ]
  },
  {
   "cell_type": "markdown",
   "id": "886ceb27",
   "metadata": {
    "papermill": {
     "duration": 0.014341,
     "end_time": "2023-08-26T17:14:50.908676",
     "exception": false,
     "start_time": "2023-08-26T17:14:50.894335",
     "status": "completed"
    },
    "tags": []
   },
   "source": [
    "<a id=\"5.4\"></a>\n",
    "## 5.4 Decision Tree Regression\n",
    "\n",
    "[Go back to Index](#index)"
   ]
  },
  {
   "cell_type": "code",
   "execution_count": 16,
   "id": "e1188043",
   "metadata": {
    "execution": {
     "iopub.execute_input": "2023-08-26T17:14:50.940701Z",
     "iopub.status.busy": "2023-08-26T17:14:50.940290Z",
     "iopub.status.idle": "2023-08-26T17:14:50.948169Z",
     "shell.execute_reply": "2023-08-26T17:14:50.946805Z"
    },
    "papermill": {
     "duration": 0.027246,
     "end_time": "2023-08-26T17:14:50.951095",
     "exception": false,
     "start_time": "2023-08-26T17:14:50.923849",
     "status": "completed"
    },
    "tags": []
   },
   "outputs": [
    {
     "name": "stdout",
     "output_type": "stream",
     "text": [
      "[[433.83 426.18]\n",
      " [455.23 451.1 ]\n",
      " [441.43 442.87]\n",
      " ...\n",
      " [454.25 454.2 ]\n",
      " [444.23 444.13]\n",
      " [437.14 436.58]]\n"
     ]
    }
   ],
   "source": [
    "dtr_y_pred = dtr_regressor.predict(X_test)\n",
    "np.set_printoptions(precision=2)\n",
    "print(np.concatenate((dtr_y_pred.reshape(len(dtr_y_pred),1), y_test.reshape(len(y_test),1)),1))"
   ]
  },
  {
   "cell_type": "markdown",
   "id": "c53369fd",
   "metadata": {
    "papermill": {
     "duration": 0.020911,
     "end_time": "2023-08-26T17:14:50.990156",
     "exception": false,
     "start_time": "2023-08-26T17:14:50.969245",
     "status": "completed"
    },
    "tags": []
   },
   "source": [
    "<a id=\"5.5\"></a>\n",
    "## 5.5 Random Forest Regression\n",
    "\n",
    "[Go back to Index](#index)"
   ]
  },
  {
   "cell_type": "code",
   "execution_count": 17,
   "id": "9ebf54b4",
   "metadata": {
    "execution": {
     "iopub.execute_input": "2023-08-26T17:14:51.029615Z",
     "iopub.status.busy": "2023-08-26T17:14:51.029196Z",
     "iopub.status.idle": "2023-08-26T17:14:51.045368Z",
     "shell.execute_reply": "2023-08-26T17:14:51.043913Z"
    },
    "papermill": {
     "duration": 0.036853,
     "end_time": "2023-08-26T17:14:51.047840",
     "exception": false,
     "start_time": "2023-08-26T17:14:51.010987",
     "status": "completed"
    },
    "tags": []
   },
   "outputs": [
    {
     "name": "stdout",
     "output_type": "stream",
     "text": [
      "[[431.77 426.18]\n",
      " [448.62 451.1 ]\n",
      " [441.1  442.87]\n",
      " ...\n",
      " [454.33 454.2 ]\n",
      " [446.42 444.13]\n",
      " [435.72 436.58]]\n"
     ]
    }
   ],
   "source": [
    "rfr_y_pred = rfr_regressor.predict(X_test)\n",
    "np.set_printoptions(precision=2)\n",
    "print(np.concatenate((rfr_y_pred.reshape(len(rfr_y_pred),1), y_test.reshape(len(y_test),1)),1))"
   ]
  },
  {
   "cell_type": "markdown",
   "id": "f94cf715",
   "metadata": {
    "papermill": {
     "duration": 0.014526,
     "end_time": "2023-08-26T17:14:51.078238",
     "exception": false,
     "start_time": "2023-08-26T17:14:51.063712",
     "status": "completed"
    },
    "tags": []
   },
   "source": [
    "<a id=\"6\"></a>\n",
    "# 6. Evaluating Model Performance\n",
    "\n",
    "[Go back to Index](#index)"
   ]
  },
  {
   "cell_type": "markdown",
   "id": "6c8ce183",
   "metadata": {
    "papermill": {
     "duration": 0.014427,
     "end_time": "2023-08-26T17:14:51.107451",
     "exception": false,
     "start_time": "2023-08-26T17:14:51.093024",
     "status": "completed"
    },
    "tags": []
   },
   "source": [
    "<a id=\"6.1\"></a>\n",
    "## 6.1 Multiple Linear Regression\n",
    "\n",
    "[Go back to Index](#index)"
   ]
  },
  {
   "cell_type": "code",
   "execution_count": 18,
   "id": "8fb482ce",
   "metadata": {
    "execution": {
     "iopub.execute_input": "2023-08-26T17:14:51.142866Z",
     "iopub.status.busy": "2023-08-26T17:14:51.142439Z",
     "iopub.status.idle": "2023-08-26T17:14:51.162026Z",
     "shell.execute_reply": "2023-08-26T17:14:51.160854Z"
    },
    "papermill": {
     "duration": 0.039156,
     "end_time": "2023-08-26T17:14:51.164182",
     "exception": false,
     "start_time": "2023-08-26T17:14:51.125026",
     "status": "completed"
    },
    "tags": []
   },
   "outputs": [
    {
     "data": {
      "text/html": [
       "<div>\n",
       "<style scoped>\n",
       "    .dataframe tbody tr th:only-of-type {\n",
       "        vertical-align: middle;\n",
       "    }\n",
       "\n",
       "    .dataframe tbody tr th {\n",
       "        vertical-align: top;\n",
       "    }\n",
       "\n",
       "    .dataframe thead th {\n",
       "        text-align: right;\n",
       "    }\n",
       "</style>\n",
       "<table border=\"1\" class=\"dataframe\">\n",
       "  <thead>\n",
       "    <tr style=\"text-align: right;\">\n",
       "      <th></th>\n",
       "      <th>Model</th>\n",
       "      <th>R2</th>\n",
       "    </tr>\n",
       "  </thead>\n",
       "  <tbody>\n",
       "    <tr>\n",
       "      <th>0</th>\n",
       "      <td>Multiple Regression</td>\n",
       "      <td>0.929899</td>\n",
       "    </tr>\n",
       "  </tbody>\n",
       "</table>\n",
       "</div>"
      ],
      "text/plain": [
       "                 Model        R2\n",
       "0  Multiple Regression  0.929899"
      ]
     },
     "execution_count": 18,
     "metadata": {},
     "output_type": "execute_result"
    }
   ],
   "source": [
    "df_mr = pd.DataFrame({\"Model\":[\"Multiple Regression\"],\"R2\":[r2_score(y_test, mr_y_pred)]})\n",
    "df_mr"
   ]
  },
  {
   "cell_type": "markdown",
   "id": "64a9c8f8",
   "metadata": {
    "execution": {
     "iopub.execute_input": "2023-08-26T16:00:58.307671Z",
     "iopub.status.busy": "2023-08-26T16:00:58.307208Z",
     "iopub.status.idle": "2023-08-26T16:00:58.318686Z",
     "shell.execute_reply": "2023-08-26T16:00:58.316679Z",
     "shell.execute_reply.started": "2023-08-26T16:00:58.307637Z"
    },
    "papermill": {
     "duration": 0.015149,
     "end_time": "2023-08-26T17:14:51.194530",
     "exception": false,
     "start_time": "2023-08-26T17:14:51.179381",
     "status": "completed"
    },
    "tags": []
   },
   "source": [
    "y_pred = regressor.predict(poly_reg.transform(X_test))\n",
    "np.set_printoptions(precision=2)\n",
    "print(np.concatenate((y_pred.reshape(len(y_pred),1), y_test.reshape(len(y_test),1)),1))"
   ]
  },
  {
   "cell_type": "markdown",
   "id": "10945eca",
   "metadata": {
    "papermill": {
     "duration": 0.014796,
     "end_time": "2023-08-26T17:14:51.224480",
     "exception": false,
     "start_time": "2023-08-26T17:14:51.209684",
     "status": "completed"
    },
    "tags": []
   },
   "source": [
    "<a id=\"6.2\"></a>\n",
    "## 6.2 Polynomial Regression\n",
    "\n",
    "[Go back to Index](#index)"
   ]
  },
  {
   "cell_type": "code",
   "execution_count": 19,
   "id": "bd2fae67",
   "metadata": {
    "execution": {
     "iopub.execute_input": "2023-08-26T17:14:51.257495Z",
     "iopub.status.busy": "2023-08-26T17:14:51.257109Z",
     "iopub.status.idle": "2023-08-26T17:14:51.272173Z",
     "shell.execute_reply": "2023-08-26T17:14:51.271246Z"
    },
    "papermill": {
     "duration": 0.034942,
     "end_time": "2023-08-26T17:14:51.274523",
     "exception": false,
     "start_time": "2023-08-26T17:14:51.239581",
     "status": "completed"
    },
    "tags": []
   },
   "outputs": [
    {
     "data": {
      "text/html": [
       "<div>\n",
       "<style scoped>\n",
       "    .dataframe tbody tr th:only-of-type {\n",
       "        vertical-align: middle;\n",
       "    }\n",
       "\n",
       "    .dataframe tbody tr th {\n",
       "        vertical-align: top;\n",
       "    }\n",
       "\n",
       "    .dataframe thead th {\n",
       "        text-align: right;\n",
       "    }\n",
       "</style>\n",
       "<table border=\"1\" class=\"dataframe\">\n",
       "  <thead>\n",
       "    <tr style=\"text-align: right;\">\n",
       "      <th></th>\n",
       "      <th>Model</th>\n",
       "      <th>R2</th>\n",
       "    </tr>\n",
       "  </thead>\n",
       "  <tbody>\n",
       "    <tr>\n",
       "      <th>0</th>\n",
       "      <td>Polynomial Regression</td>\n",
       "      <td>0.942883</td>\n",
       "    </tr>\n",
       "  </tbody>\n",
       "</table>\n",
       "</div>"
      ],
      "text/plain": [
       "                   Model        R2\n",
       "0  Polynomial Regression  0.942883"
      ]
     },
     "execution_count": 19,
     "metadata": {},
     "output_type": "execute_result"
    }
   ],
   "source": [
    "df_pr = pd.DataFrame({\"Model\":[\"Polynomial Regression\"],\"R2\":[r2_score(y_test, poly_y_pred)]})\n",
    "df_pr"
   ]
  },
  {
   "cell_type": "markdown",
   "id": "51567181",
   "metadata": {
    "papermill": {
     "duration": 0.016001,
     "end_time": "2023-08-26T17:14:51.307353",
     "exception": false,
     "start_time": "2023-08-26T17:14:51.291352",
     "status": "completed"
    },
    "tags": []
   },
   "source": [
    "<a id=\"6.3\"></a>\n",
    "## 6.3 Support Vector Regression\n",
    "\n",
    "[Go back to Index](#index)"
   ]
  },
  {
   "cell_type": "code",
   "execution_count": 20,
   "id": "10342ad0",
   "metadata": {
    "execution": {
     "iopub.execute_input": "2023-08-26T17:14:51.342004Z",
     "iopub.status.busy": "2023-08-26T17:14:51.341578Z",
     "iopub.status.idle": "2023-08-26T17:14:51.355595Z",
     "shell.execute_reply": "2023-08-26T17:14:51.354202Z"
    },
    "papermill": {
     "duration": 0.034762,
     "end_time": "2023-08-26T17:14:51.358414",
     "exception": false,
     "start_time": "2023-08-26T17:14:51.323652",
     "status": "completed"
    },
    "tags": []
   },
   "outputs": [
    {
     "data": {
      "text/html": [
       "<div>\n",
       "<style scoped>\n",
       "    .dataframe tbody tr th:only-of-type {\n",
       "        vertical-align: middle;\n",
       "    }\n",
       "\n",
       "    .dataframe tbody tr th {\n",
       "        vertical-align: top;\n",
       "    }\n",
       "\n",
       "    .dataframe thead th {\n",
       "        text-align: right;\n",
       "    }\n",
       "</style>\n",
       "<table border=\"1\" class=\"dataframe\">\n",
       "  <thead>\n",
       "    <tr style=\"text-align: right;\">\n",
       "      <th></th>\n",
       "      <th>Model</th>\n",
       "      <th>R2</th>\n",
       "    </tr>\n",
       "  </thead>\n",
       "  <tbody>\n",
       "    <tr>\n",
       "      <th>0</th>\n",
       "      <td>Support Vector Regression</td>\n",
       "      <td>0.945384</td>\n",
       "    </tr>\n",
       "  </tbody>\n",
       "</table>\n",
       "</div>"
      ],
      "text/plain": [
       "                       Model        R2\n",
       "0  Support Vector Regression  0.945384"
      ]
     },
     "execution_count": 20,
     "metadata": {},
     "output_type": "execute_result"
    }
   ],
   "source": [
    "df_svr = pd.DataFrame({\"Model\":[\"Support Vector Regression\"],\"R2\":[r2_score(y_test_svr, svr_y_pred)]})\n",
    "df_svr"
   ]
  },
  {
   "cell_type": "markdown",
   "id": "dcc7d1ba",
   "metadata": {
    "papermill": {
     "duration": 0.015999,
     "end_time": "2023-08-26T17:14:51.392266",
     "exception": false,
     "start_time": "2023-08-26T17:14:51.376267",
     "status": "completed"
    },
    "tags": []
   },
   "source": [
    "<a id=\"6.4\"></a>\n",
    "## 6.4 Decision Tree Regression\n",
    "\n",
    "[Go back to Index](#index)"
   ]
  },
  {
   "cell_type": "code",
   "execution_count": 21,
   "id": "58818409",
   "metadata": {
    "execution": {
     "iopub.execute_input": "2023-08-26T17:14:51.426696Z",
     "iopub.status.busy": "2023-08-26T17:14:51.426282Z",
     "iopub.status.idle": "2023-08-26T17:14:51.439908Z",
     "shell.execute_reply": "2023-08-26T17:14:51.438602Z"
    },
    "papermill": {
     "duration": 0.033782,
     "end_time": "2023-08-26T17:14:51.442347",
     "exception": false,
     "start_time": "2023-08-26T17:14:51.408565",
     "status": "completed"
    },
    "tags": []
   },
   "outputs": [
    {
     "data": {
      "text/html": [
       "<div>\n",
       "<style scoped>\n",
       "    .dataframe tbody tr th:only-of-type {\n",
       "        vertical-align: middle;\n",
       "    }\n",
       "\n",
       "    .dataframe tbody tr th {\n",
       "        vertical-align: top;\n",
       "    }\n",
       "\n",
       "    .dataframe thead th {\n",
       "        text-align: right;\n",
       "    }\n",
       "</style>\n",
       "<table border=\"1\" class=\"dataframe\">\n",
       "  <thead>\n",
       "    <tr style=\"text-align: right;\">\n",
       "      <th></th>\n",
       "      <th>Model</th>\n",
       "      <th>R2</th>\n",
       "    </tr>\n",
       "  </thead>\n",
       "  <tbody>\n",
       "    <tr>\n",
       "      <th>0</th>\n",
       "      <td>Decision Tree Regression</td>\n",
       "      <td>0.935815</td>\n",
       "    </tr>\n",
       "  </tbody>\n",
       "</table>\n",
       "</div>"
      ],
      "text/plain": [
       "                      Model        R2\n",
       "0  Decision Tree Regression  0.935815"
      ]
     },
     "execution_count": 21,
     "metadata": {},
     "output_type": "execute_result"
    }
   ],
   "source": [
    "df_dtr = pd.DataFrame({\"Model\":[\"Decision Tree Regression\"],\"R2\":[r2_score(y_test, dtr_y_pred)]})\n",
    "df_dtr"
   ]
  },
  {
   "cell_type": "markdown",
   "id": "d3ded576",
   "metadata": {
    "papermill": {
     "duration": 0.016319,
     "end_time": "2023-08-26T17:14:51.475224",
     "exception": false,
     "start_time": "2023-08-26T17:14:51.458905",
     "status": "completed"
    },
    "tags": []
   },
   "source": [
    "<a id=\"6.5\"></a>\n",
    "## 6.5 Random Forest Regression\n",
    "\n",
    "[Go back to Index](#index)"
   ]
  },
  {
   "cell_type": "code",
   "execution_count": 22,
   "id": "46b3e56d",
   "metadata": {
    "execution": {
     "iopub.execute_input": "2023-08-26T17:14:51.511113Z",
     "iopub.status.busy": "2023-08-26T17:14:51.510723Z",
     "iopub.status.idle": "2023-08-26T17:14:51.525611Z",
     "shell.execute_reply": "2023-08-26T17:14:51.524177Z"
    },
    "papermill": {
     "duration": 0.036772,
     "end_time": "2023-08-26T17:14:51.528561",
     "exception": false,
     "start_time": "2023-08-26T17:14:51.491789",
     "status": "completed"
    },
    "tags": []
   },
   "outputs": [
    {
     "data": {
      "text/html": [
       "<div>\n",
       "<style scoped>\n",
       "    .dataframe tbody tr th:only-of-type {\n",
       "        vertical-align: middle;\n",
       "    }\n",
       "\n",
       "    .dataframe tbody tr th {\n",
       "        vertical-align: top;\n",
       "    }\n",
       "\n",
       "    .dataframe thead th {\n",
       "        text-align: right;\n",
       "    }\n",
       "</style>\n",
       "<table border=\"1\" class=\"dataframe\">\n",
       "  <thead>\n",
       "    <tr style=\"text-align: right;\">\n",
       "      <th></th>\n",
       "      <th>Model</th>\n",
       "      <th>R2</th>\n",
       "    </tr>\n",
       "  </thead>\n",
       "  <tbody>\n",
       "    <tr>\n",
       "      <th>0</th>\n",
       "      <td>Random Forest Regression</td>\n",
       "      <td>0.960025</td>\n",
       "    </tr>\n",
       "  </tbody>\n",
       "</table>\n",
       "</div>"
      ],
      "text/plain": [
       "                      Model        R2\n",
       "0  Random Forest Regression  0.960025"
      ]
     },
     "execution_count": 22,
     "metadata": {},
     "output_type": "execute_result"
    }
   ],
   "source": [
    "df_rfr = pd.DataFrame({\"Model\":[\"Random Forest Regression\"],\"R2\":[r2_score(y_test, rfr_y_pred)]})\n",
    "df_rfr"
   ]
  },
  {
   "cell_type": "markdown",
   "id": "108a71c4",
   "metadata": {
    "papermill": {
     "duration": 0.016407,
     "end_time": "2023-08-26T17:14:51.562001",
     "exception": false,
     "start_time": "2023-08-26T17:14:51.545594",
     "status": "completed"
    },
    "tags": []
   },
   "source": [
    "<a id=\"6.6\"></a>\n",
    "## 6.6 Final Result\n",
    "\n",
    "[Go back to Index](#index)"
   ]
  },
  {
   "cell_type": "code",
   "execution_count": 23,
   "id": "536717b0",
   "metadata": {
    "execution": {
     "iopub.execute_input": "2023-08-26T17:14:51.598034Z",
     "iopub.status.busy": "2023-08-26T17:14:51.597539Z",
     "iopub.status.idle": "2023-08-26T17:14:51.614252Z",
     "shell.execute_reply": "2023-08-26T17:14:51.613254Z"
    },
    "papermill": {
     "duration": 0.037616,
     "end_time": "2023-08-26T17:14:51.616677",
     "exception": false,
     "start_time": "2023-08-26T17:14:51.579061",
     "status": "completed"
    },
    "tags": []
   },
   "outputs": [
    {
     "data": {
      "text/html": [
       "<div>\n",
       "<style scoped>\n",
       "    .dataframe tbody tr th:only-of-type {\n",
       "        vertical-align: middle;\n",
       "    }\n",
       "\n",
       "    .dataframe tbody tr th {\n",
       "        vertical-align: top;\n",
       "    }\n",
       "\n",
       "    .dataframe thead th {\n",
       "        text-align: right;\n",
       "    }\n",
       "</style>\n",
       "<table border=\"1\" class=\"dataframe\">\n",
       "  <thead>\n",
       "    <tr style=\"text-align: right;\">\n",
       "      <th></th>\n",
       "      <th>R2</th>\n",
       "    </tr>\n",
       "    <tr>\n",
       "      <th>Model</th>\n",
       "      <th></th>\n",
       "    </tr>\n",
       "  </thead>\n",
       "  <tbody>\n",
       "    <tr>\n",
       "      <th>Multiple Regression</th>\n",
       "      <td>0.929899</td>\n",
       "    </tr>\n",
       "    <tr>\n",
       "      <th>Polynomial Regression</th>\n",
       "      <td>0.942883</td>\n",
       "    </tr>\n",
       "    <tr>\n",
       "      <th>Support Vector Regression</th>\n",
       "      <td>0.945384</td>\n",
       "    </tr>\n",
       "    <tr>\n",
       "      <th>Decision Tree Regression</th>\n",
       "      <td>0.935815</td>\n",
       "    </tr>\n",
       "    <tr>\n",
       "      <th>Random Forest Regression</th>\n",
       "      <td>0.960025</td>\n",
       "    </tr>\n",
       "  </tbody>\n",
       "</table>\n",
       "</div>"
      ],
      "text/plain": [
       "                                 R2\n",
       "Model                              \n",
       "Multiple Regression        0.929899\n",
       "Polynomial Regression      0.942883\n",
       "Support Vector Regression  0.945384\n",
       "Decision Tree Regression   0.935815\n",
       "Random Forest Regression   0.960025"
      ]
     },
     "execution_count": 23,
     "metadata": {},
     "output_type": "execute_result"
    }
   ],
   "source": [
    "#Final DataFrame that displays all the Models and their R2 Score\n",
    "df_r2 = pd.concat([df_mr, df_pr, df_svr, df_dtr, df_rfr]).set_index(\"Model\")\n",
    "df_r2"
   ]
  }
 ],
 "metadata": {
  "kernelspec": {
   "display_name": "Python 3",
   "language": "python",
   "name": "python3"
  },
  "language_info": {
   "codemirror_mode": {
    "name": "ipython",
    "version": 3
   },
   "file_extension": ".py",
   "mimetype": "text/x-python",
   "name": "python",
   "nbconvert_exporter": "python",
   "pygments_lexer": "ipython3",
   "version": "3.10.12"
  },
  "papermill": {
   "default_parameters": {},
   "duration": 20.642368,
   "end_time": "2023-08-26T17:14:52.858652",
   "environment_variables": {},
   "exception": null,
   "input_path": "__notebook__.ipynb",
   "output_path": "__notebook__.ipynb",
   "parameters": {},
   "start_time": "2023-08-26T17:14:32.216284",
   "version": "2.4.0"
  }
 },
 "nbformat": 4,
 "nbformat_minor": 5
}
