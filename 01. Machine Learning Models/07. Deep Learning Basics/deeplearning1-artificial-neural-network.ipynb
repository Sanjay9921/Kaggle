{
 "cells": [
  {
   "cell_type": "code",
   "execution_count": 1,
   "id": "752940be",
   "metadata": {
    "_cell_guid": "b1076dfc-b9ad-4769-8c92-a6c4dae69d19",
    "_uuid": "8f2839f25d086af736a60e9eeb907d3b93b6e0e5",
    "execution": {
     "iopub.execute_input": "2023-11-20T05:58:22.505338Z",
     "iopub.status.busy": "2023-11-20T05:58:22.504442Z",
     "iopub.status.idle": "2023-11-20T05:58:22.950506Z",
     "shell.execute_reply": "2023-11-20T05:58:22.949302Z"
    },
    "papermill": {
     "duration": 0.466708,
     "end_time": "2023-11-20T05:58:22.953343",
     "exception": false,
     "start_time": "2023-11-20T05:58:22.486635",
     "status": "completed"
    },
    "tags": []
   },
   "outputs": [
    {
     "name": "stdout",
     "output_type": "stream",
     "text": [
      "/kaggle/input/churn-modelling/Churn_Modelling.csv\n"
     ]
    }
   ],
   "source": [
    "# This Python 3 environment comes with many helpful analytics libraries installed\n",
    "# It is defined by the kaggle/python Docker image: https://github.com/kaggle/docker-python\n",
    "# For example, here's several helpful packages to load\n",
    "\n",
    "import numpy as np # linear algebra\n",
    "import pandas as pd # data processing, CSV file I/O (e.g. pd.read_csv)\n",
    "\n",
    "# Input data files are available in the read-only \"../input/\" directory\n",
    "# For example, running this (by clicking run or pressing Shift+Enter) will list all files under the input directory\n",
    "\n",
    "import os\n",
    "for dirname, _, filenames in os.walk('/kaggle/input'):\n",
    "    for filename in filenames:\n",
    "        print(os.path.join(dirname, filename))\n",
    "\n",
    "# You can write up to 20GB to the current directory (/kaggle/working/) that gets preserved as output when you create a version using \"Save & Run All\" \n",
    "# You can also write temporary files to /kaggle/temp/, but they won't be saved outside of the current session"
   ]
  },
  {
   "cell_type": "markdown",
   "id": "5bf0e981",
   "metadata": {
    "papermill": {
     "duration": 0.015091,
     "end_time": "2023-11-20T05:58:22.984460",
     "exception": false,
     "start_time": "2023-11-20T05:58:22.969369",
     "status": "completed"
    },
    "tags": []
   },
   "source": [
    "# Credits and Links\n",
    "\n",
    "* UDEMY - Machine Learning A-Z <sup>TM</sup>*"
   ]
  },
  {
   "cell_type": "markdown",
   "id": "05d35055",
   "metadata": {
    "papermill": {
     "duration": 0.015199,
     "end_time": "2023-11-20T05:58:23.015503",
     "exception": false,
     "start_time": "2023-11-20T05:58:23.000304",
     "status": "completed"
    },
    "tags": []
   },
   "source": [
    "<a id=\"index\"></a>\n",
    "# Table of Content\n",
    "\n",
    "1. [Importing Libraries](#1)\n",
    "2. [Data Preprocessing](#2)\n",
    "- 2.1 [Importing Dataset](#2.1)\n",
    "- 2.2 [Encoding Categorical Data](#2.2)\n",
    "- 2.3 [Splitting Dataset into Training and Test set](#2.3)\n",
    "- 2.4 [Feature Scaling](#2.4)\n",
    "3. [Building the ANN (Artificial Neural Network)](#3)\n",
    "- 3.1 [Initializing ANN](#3.1)\n",
    "- 3.2 [Adding input layer + 1st hidden layer](#3.2)\n",
    "- 3.3 [Adding 2nd hidden layer](#3.3)\n",
    "- 3.4 [Adding the output layer](#3.4)\n",
    "4. [Training the ANN](#4)\n",
    "- 4.1 [Compiling the ANN](#4.1)\n",
    "- 4.2 [Training the ANN on the Training set](#4.2)\n",
    "5. [Predictions and Model Evaluation](#5)\n",
    "- 5.1 [Predicting result of single observation](#5.1)\n",
    "- 5.2 [Predicting Test set results](#5.2)\n",
    "- 5.3 [Confusion Matrix](#5.3)"
   ]
  },
  {
   "cell_type": "markdown",
   "id": "b576085b",
   "metadata": {
    "papermill": {
     "duration": 0.014999,
     "end_time": "2023-11-20T05:58:23.045854",
     "exception": false,
     "start_time": "2023-11-20T05:58:23.030855",
     "status": "completed"
    },
    "tags": []
   },
   "source": [
    "<a id=\"1\"></a>\n",
    "# 1. Importing Libraries\n",
    "\n",
    "[Go back to Index](#index)"
   ]
  },
  {
   "cell_type": "code",
   "execution_count": 2,
   "id": "cb24ae32",
   "metadata": {
    "execution": {
     "iopub.execute_input": "2023-11-20T05:58:23.080180Z",
     "iopub.status.busy": "2023-11-20T05:58:23.079072Z",
     "iopub.status.idle": "2023-11-20T05:58:39.306952Z",
     "shell.execute_reply": "2023-11-20T05:58:39.305610Z"
    },
    "papermill": {
     "duration": 16.248509,
     "end_time": "2023-11-20T05:58:39.310065",
     "exception": false,
     "start_time": "2023-11-20T05:58:23.061556",
     "status": "completed"
    },
    "tags": []
   },
   "outputs": [],
   "source": [
    "#1. General\n",
    "import pandas as pd\n",
    "import numpy as np\n",
    "import os\n",
    "import matplotlib.pyplot as plt\n",
    "%matplotlib inline\n",
    "\n",
    "#2. Dataprecossing\n",
    "#2.2 Encoding categorical data\n",
    "from sklearn.preprocessing import LabelEncoder, OneHotEncoder\n",
    "from sklearn.compose import ColumnTransformer\n",
    "\n",
    "#2.3 Train test split\n",
    "from sklearn.model_selection import train_test_split\n",
    "\n",
    "#2.4 Feature Scaling\n",
    "from sklearn.preprocessing import StandardScaler\n",
    "\n",
    "#3. ANN Library\n",
    "import tensorflow as tf\n",
    "\n",
    "#5. Confusion Matrix\n",
    "from sklearn.metrics import confusion_matrix, accuracy_score"
   ]
  },
  {
   "cell_type": "code",
   "execution_count": 3,
   "id": "e47f3a2a",
   "metadata": {
    "execution": {
     "iopub.execute_input": "2023-11-20T05:58:39.344399Z",
     "iopub.status.busy": "2023-11-20T05:58:39.343158Z",
     "iopub.status.idle": "2023-11-20T05:58:39.352029Z",
     "shell.execute_reply": "2023-11-20T05:58:39.350508Z"
    },
    "papermill": {
     "duration": 0.028446,
     "end_time": "2023-11-20T05:58:39.354423",
     "exception": false,
     "start_time": "2023-11-20T05:58:39.325977",
     "status": "completed"
    },
    "tags": []
   },
   "outputs": [
    {
     "data": {
      "text/plain": [
       "'2.13.0'"
      ]
     },
     "execution_count": 3,
     "metadata": {},
     "output_type": "execute_result"
    }
   ],
   "source": [
    "tf.__version__"
   ]
  },
  {
   "cell_type": "markdown",
   "id": "56e9a31b",
   "metadata": {
    "papermill": {
     "duration": 0.015176,
     "end_time": "2023-11-20T05:58:39.386985",
     "exception": false,
     "start_time": "2023-11-20T05:58:39.371809",
     "status": "completed"
    },
    "tags": []
   },
   "source": [
    "<a id=\"2\"></a>\n",
    "# 2. Data Preprocessing\n",
    "\n",
    "[Go back to Index](#index)"
   ]
  },
  {
   "cell_type": "markdown",
   "id": "56e6ef04",
   "metadata": {
    "papermill": {
     "duration": 0.015792,
     "end_time": "2023-11-20T05:58:39.418321",
     "exception": false,
     "start_time": "2023-11-20T05:58:39.402529",
     "status": "completed"
    },
    "tags": []
   },
   "source": [
    "<a id=\"2.1\"></a>\n",
    "## 2.1 Importing the dataset\n",
    "\n",
    "[Go back to Index](#index)"
   ]
  },
  {
   "cell_type": "code",
   "execution_count": 4,
   "id": "5637f3cd",
   "metadata": {
    "execution": {
     "iopub.execute_input": "2023-11-20T05:58:39.451503Z",
     "iopub.status.busy": "2023-11-20T05:58:39.451097Z",
     "iopub.status.idle": "2023-11-20T05:58:39.504019Z",
     "shell.execute_reply": "2023-11-20T05:58:39.502564Z"
    },
    "papermill": {
     "duration": 0.073356,
     "end_time": "2023-11-20T05:58:39.507218",
     "exception": false,
     "start_time": "2023-11-20T05:58:39.433862",
     "status": "completed"
    },
    "tags": []
   },
   "outputs": [],
   "source": [
    "df = pd.read_csv(\"/kaggle/input/churn-modelling/Churn_Modelling.csv\")"
   ]
  },
  {
   "cell_type": "code",
   "execution_count": 5,
   "id": "f2d31af6",
   "metadata": {
    "execution": {
     "iopub.execute_input": "2023-11-20T05:58:39.542114Z",
     "iopub.status.busy": "2023-11-20T05:58:39.541272Z",
     "iopub.status.idle": "2023-11-20T05:58:39.573134Z",
     "shell.execute_reply": "2023-11-20T05:58:39.571666Z"
    },
    "papermill": {
     "duration": 0.053215,
     "end_time": "2023-11-20T05:58:39.576131",
     "exception": false,
     "start_time": "2023-11-20T05:58:39.522916",
     "status": "completed"
    },
    "tags": []
   },
   "outputs": [
    {
     "data": {
      "text/html": [
       "<div>\n",
       "<style scoped>\n",
       "    .dataframe tbody tr th:only-of-type {\n",
       "        vertical-align: middle;\n",
       "    }\n",
       "\n",
       "    .dataframe tbody tr th {\n",
       "        vertical-align: top;\n",
       "    }\n",
       "\n",
       "    .dataframe thead th {\n",
       "        text-align: right;\n",
       "    }\n",
       "</style>\n",
       "<table border=\"1\" class=\"dataframe\">\n",
       "  <thead>\n",
       "    <tr style=\"text-align: right;\">\n",
       "      <th></th>\n",
       "      <th>RowNumber</th>\n",
       "      <th>CustomerId</th>\n",
       "      <th>Surname</th>\n",
       "      <th>CreditScore</th>\n",
       "      <th>Geography</th>\n",
       "      <th>Gender</th>\n",
       "      <th>Age</th>\n",
       "      <th>Tenure</th>\n",
       "      <th>Balance</th>\n",
       "      <th>NumOfProducts</th>\n",
       "      <th>HasCrCard</th>\n",
       "      <th>IsActiveMember</th>\n",
       "      <th>EstimatedSalary</th>\n",
       "      <th>Exited</th>\n",
       "    </tr>\n",
       "  </thead>\n",
       "  <tbody>\n",
       "    <tr>\n",
       "      <th>0</th>\n",
       "      <td>1</td>\n",
       "      <td>15634602</td>\n",
       "      <td>Hargrave</td>\n",
       "      <td>619</td>\n",
       "      <td>France</td>\n",
       "      <td>Female</td>\n",
       "      <td>42</td>\n",
       "      <td>2</td>\n",
       "      <td>0.00</td>\n",
       "      <td>1</td>\n",
       "      <td>1</td>\n",
       "      <td>1</td>\n",
       "      <td>101348.88</td>\n",
       "      <td>1</td>\n",
       "    </tr>\n",
       "    <tr>\n",
       "      <th>1</th>\n",
       "      <td>2</td>\n",
       "      <td>15647311</td>\n",
       "      <td>Hill</td>\n",
       "      <td>608</td>\n",
       "      <td>Spain</td>\n",
       "      <td>Female</td>\n",
       "      <td>41</td>\n",
       "      <td>1</td>\n",
       "      <td>83807.86</td>\n",
       "      <td>1</td>\n",
       "      <td>0</td>\n",
       "      <td>1</td>\n",
       "      <td>112542.58</td>\n",
       "      <td>0</td>\n",
       "    </tr>\n",
       "  </tbody>\n",
       "</table>\n",
       "</div>"
      ],
      "text/plain": [
       "   RowNumber  CustomerId   Surname  CreditScore Geography  Gender  Age  \\\n",
       "0          1    15634602  Hargrave          619    France  Female   42   \n",
       "1          2    15647311      Hill          608     Spain  Female   41   \n",
       "\n",
       "   Tenure   Balance  NumOfProducts  HasCrCard  IsActiveMember  \\\n",
       "0       2      0.00              1          1               1   \n",
       "1       1  83807.86              1          0               1   \n",
       "\n",
       "   EstimatedSalary  Exited  \n",
       "0        101348.88       1  \n",
       "1        112542.58       0  "
      ]
     },
     "execution_count": 5,
     "metadata": {},
     "output_type": "execute_result"
    }
   ],
   "source": [
    "df.head(2)"
   ]
  },
  {
   "cell_type": "code",
   "execution_count": 6,
   "id": "8249be5a",
   "metadata": {
    "execution": {
     "iopub.execute_input": "2023-11-20T05:58:39.609590Z",
     "iopub.status.busy": "2023-11-20T05:58:39.609139Z",
     "iopub.status.idle": "2023-11-20T05:58:39.624729Z",
     "shell.execute_reply": "2023-11-20T05:58:39.623557Z"
    },
    "papermill": {
     "duration": 0.03557,
     "end_time": "2023-11-20T05:58:39.627526",
     "exception": false,
     "start_time": "2023-11-20T05:58:39.591956",
     "status": "completed"
    },
    "tags": []
   },
   "outputs": [],
   "source": [
    "X = df.iloc[:, 3:-1].values #Start with the column CreditScore (index=3) as the previous columns are irrelevant \n",
    "y = df.iloc[:, -1].values"
   ]
  },
  {
   "cell_type": "code",
   "execution_count": 7,
   "id": "4a0b2fc0",
   "metadata": {
    "execution": {
     "iopub.execute_input": "2023-11-20T05:58:39.661916Z",
     "iopub.status.busy": "2023-11-20T05:58:39.661025Z",
     "iopub.status.idle": "2023-11-20T05:58:39.669236Z",
     "shell.execute_reply": "2023-11-20T05:58:39.667850Z"
    },
    "papermill": {
     "duration": 0.028355,
     "end_time": "2023-11-20T05:58:39.671838",
     "exception": false,
     "start_time": "2023-11-20T05:58:39.643483",
     "status": "completed"
    },
    "tags": []
   },
   "outputs": [
    {
     "data": {
      "text/plain": [
       "array([[619, 'France', 'Female', ..., 1, 1, 101348.88],\n",
       "       [608, 'Spain', 'Female', ..., 0, 1, 112542.58],\n",
       "       [502, 'France', 'Female', ..., 1, 0, 113931.57],\n",
       "       ...,\n",
       "       [709, 'France', 'Female', ..., 0, 1, 42085.58],\n",
       "       [772, 'Germany', 'Male', ..., 1, 0, 92888.52],\n",
       "       [792, 'France', 'Female', ..., 1, 0, 38190.78]], dtype=object)"
      ]
     },
     "execution_count": 7,
     "metadata": {},
     "output_type": "execute_result"
    }
   ],
   "source": [
    "X"
   ]
  },
  {
   "cell_type": "code",
   "execution_count": 8,
   "id": "facf684f",
   "metadata": {
    "execution": {
     "iopub.execute_input": "2023-11-20T05:58:39.771924Z",
     "iopub.status.busy": "2023-11-20T05:58:39.771101Z",
     "iopub.status.idle": "2023-11-20T05:58:39.778656Z",
     "shell.execute_reply": "2023-11-20T05:58:39.777329Z"
    },
    "papermill": {
     "duration": 0.027837,
     "end_time": "2023-11-20T05:58:39.781326",
     "exception": false,
     "start_time": "2023-11-20T05:58:39.753489",
     "status": "completed"
    },
    "tags": []
   },
   "outputs": [
    {
     "data": {
      "text/plain": [
       "array([1, 0, 1, ..., 1, 1, 0])"
      ]
     },
     "execution_count": 8,
     "metadata": {},
     "output_type": "execute_result"
    }
   ],
   "source": [
    "y"
   ]
  },
  {
   "cell_type": "markdown",
   "id": "5736ea30",
   "metadata": {
    "papermill": {
     "duration": 0.015988,
     "end_time": "2023-11-20T05:58:39.814452",
     "exception": false,
     "start_time": "2023-11-20T05:58:39.798464",
     "status": "completed"
    },
    "tags": []
   },
   "source": [
    "<a id=\"2.2\"></a>\n",
    "## 2.2 Encoding Categorical Data\n",
    "\n",
    "[Go back to Index](#index)"
   ]
  },
  {
   "cell_type": "markdown",
   "id": "6afa9131",
   "metadata": {
    "papermill": {
     "duration": 0.016838,
     "end_time": "2023-11-20T05:58:39.848049",
     "exception": false,
     "start_time": "2023-11-20T05:58:39.831211",
     "status": "completed"
    },
    "tags": []
   },
   "source": [
    "### 2.2.1 Label Encoding the `Gender` column "
   ]
  },
  {
   "cell_type": "code",
   "execution_count": 9,
   "id": "f6e2d9da",
   "metadata": {
    "execution": {
     "iopub.execute_input": "2023-11-20T05:58:39.884248Z",
     "iopub.status.busy": "2023-11-20T05:58:39.883830Z",
     "iopub.status.idle": "2023-11-20T05:58:39.889586Z",
     "shell.execute_reply": "2023-11-20T05:58:39.888258Z"
    },
    "papermill": {
     "duration": 0.027028,
     "end_time": "2023-11-20T05:58:39.892219",
     "exception": false,
     "start_time": "2023-11-20T05:58:39.865191",
     "status": "completed"
    },
    "tags": []
   },
   "outputs": [],
   "source": [
    "le = LabelEncoder()"
   ]
  },
  {
   "cell_type": "code",
   "execution_count": 10,
   "id": "3fef1cd6",
   "metadata": {
    "execution": {
     "iopub.execute_input": "2023-11-20T05:58:39.928947Z",
     "iopub.status.busy": "2023-11-20T05:58:39.928315Z",
     "iopub.status.idle": "2023-11-20T05:58:39.934801Z",
     "shell.execute_reply": "2023-11-20T05:58:39.933616Z"
    },
    "papermill": {
     "duration": 0.027682,
     "end_time": "2023-11-20T05:58:39.937104",
     "exception": false,
     "start_time": "2023-11-20T05:58:39.909422",
     "status": "completed"
    },
    "tags": []
   },
   "outputs": [
    {
     "data": {
      "text/plain": [
       "array(['Female', 'Female', 'Female', 'Female', 'Female'], dtype=object)"
      ]
     },
     "execution_count": 10,
     "metadata": {},
     "output_type": "execute_result"
    }
   ],
   "source": [
    "X[:5, 2]"
   ]
  },
  {
   "cell_type": "code",
   "execution_count": 11,
   "id": "6ee77981",
   "metadata": {
    "execution": {
     "iopub.execute_input": "2023-11-20T05:58:39.971926Z",
     "iopub.status.busy": "2023-11-20T05:58:39.971475Z",
     "iopub.status.idle": "2023-11-20T05:58:39.980868Z",
     "shell.execute_reply": "2023-11-20T05:58:39.979576Z"
    },
    "papermill": {
     "duration": 0.029968,
     "end_time": "2023-11-20T05:58:39.983539",
     "exception": false,
     "start_time": "2023-11-20T05:58:39.953571",
     "status": "completed"
    },
    "tags": []
   },
   "outputs": [],
   "source": [
    "#Gender Column\n",
    "X[:, 2] = le.fit_transform(X[:, 2]) "
   ]
  },
  {
   "cell_type": "code",
   "execution_count": 12,
   "id": "1eedde24",
   "metadata": {
    "execution": {
     "iopub.execute_input": "2023-11-20T05:58:40.020315Z",
     "iopub.status.busy": "2023-11-20T05:58:40.019594Z",
     "iopub.status.idle": "2023-11-20T05:58:40.026903Z",
     "shell.execute_reply": "2023-11-20T05:58:40.025785Z"
    },
    "papermill": {
     "duration": 0.028648,
     "end_time": "2023-11-20T05:58:40.029244",
     "exception": false,
     "start_time": "2023-11-20T05:58:40.000596",
     "status": "completed"
    },
    "tags": []
   },
   "outputs": [
    {
     "data": {
      "text/plain": [
       "array([0, 0, 0, 0, 0], dtype=object)"
      ]
     },
     "execution_count": 12,
     "metadata": {},
     "output_type": "execute_result"
    }
   ],
   "source": [
    "#Label Encoder randomly assigns values of 1/0 for the Gender column, please do not associate anything with regards to 0/1\n",
    "X[:5, 2]"
   ]
  },
  {
   "cell_type": "markdown",
   "id": "06d93fb0",
   "metadata": {
    "papermill": {
     "duration": 0.016589,
     "end_time": "2023-11-20T05:58:40.063318",
     "exception": false,
     "start_time": "2023-11-20T05:58:40.046729",
     "status": "completed"
    },
    "tags": []
   },
   "source": [
    "### 2.2.2 OneHotEncoding the `Geography` column "
   ]
  },
  {
   "cell_type": "code",
   "execution_count": 13,
   "id": "8aeb31cb",
   "metadata": {
    "execution": {
     "iopub.execute_input": "2023-11-20T05:58:40.099795Z",
     "iopub.status.busy": "2023-11-20T05:58:40.099140Z",
     "iopub.status.idle": "2023-11-20T05:58:40.107003Z",
     "shell.execute_reply": "2023-11-20T05:58:40.105761Z"
    },
    "papermill": {
     "duration": 0.028801,
     "end_time": "2023-11-20T05:58:40.109449",
     "exception": false,
     "start_time": "2023-11-20T05:58:40.080648",
     "status": "completed"
    },
    "tags": []
   },
   "outputs": [
    {
     "data": {
      "text/plain": [
       "array(['France', 'Spain', 'France', 'France', 'Spain'], dtype=object)"
      ]
     },
     "execution_count": 13,
     "metadata": {},
     "output_type": "execute_result"
    }
   ],
   "source": [
    "X[:5, 1]"
   ]
  },
  {
   "cell_type": "code",
   "execution_count": 14,
   "id": "00e95731",
   "metadata": {
    "execution": {
     "iopub.execute_input": "2023-11-20T05:58:40.145963Z",
     "iopub.status.busy": "2023-11-20T05:58:40.145555Z",
     "iopub.status.idle": "2023-11-20T05:58:40.151465Z",
     "shell.execute_reply": "2023-11-20T05:58:40.149951Z"
    },
    "papermill": {
     "duration": 0.027812,
     "end_time": "2023-11-20T05:58:40.153950",
     "exception": false,
     "start_time": "2023-11-20T05:58:40.126138",
     "status": "completed"
    },
    "tags": []
   },
   "outputs": [],
   "source": [
    "ct = ColumnTransformer(\n",
    "    transformers=[(\n",
    "            \"encoder\",\n",
    "            OneHotEncoder(),\n",
    "            [1] #index number for the Geography column\n",
    "    )],\n",
    "    remainder = \"passthrough\"\n",
    ")"
   ]
  },
  {
   "cell_type": "code",
   "execution_count": 15,
   "id": "3b6c1f05",
   "metadata": {
    "execution": {
     "iopub.execute_input": "2023-11-20T05:58:40.190370Z",
     "iopub.status.busy": "2023-11-20T05:58:40.189929Z",
     "iopub.status.idle": "2023-11-20T05:58:40.213883Z",
     "shell.execute_reply": "2023-11-20T05:58:40.212839Z"
    },
    "papermill": {
     "duration": 0.045774,
     "end_time": "2023-11-20T05:58:40.216959",
     "exception": false,
     "start_time": "2023-11-20T05:58:40.171185",
     "status": "completed"
    },
    "tags": []
   },
   "outputs": [],
   "source": [
    "X = np.array(ct.fit_transform(X))"
   ]
  },
  {
   "cell_type": "code",
   "execution_count": 16,
   "id": "2bd37b2f",
   "metadata": {
    "execution": {
     "iopub.execute_input": "2023-11-20T05:58:40.253336Z",
     "iopub.status.busy": "2023-11-20T05:58:40.251979Z",
     "iopub.status.idle": "2023-11-20T05:58:40.259305Z",
     "shell.execute_reply": "2023-11-20T05:58:40.258232Z"
    },
    "papermill": {
     "duration": 0.028331,
     "end_time": "2023-11-20T05:58:40.262112",
     "exception": false,
     "start_time": "2023-11-20T05:58:40.233781",
     "status": "completed"
    },
    "tags": []
   },
   "outputs": [
    {
     "data": {
      "text/plain": [
       "array([[1.0, 0.0, 0.0, ..., 1, 1, 101348.88],\n",
       "       [0.0, 0.0, 1.0, ..., 0, 1, 112542.58],\n",
       "       [1.0, 0.0, 0.0, ..., 1, 0, 113931.57],\n",
       "       ...,\n",
       "       [1.0, 0.0, 0.0, ..., 0, 1, 42085.58],\n",
       "       [0.0, 1.0, 0.0, ..., 1, 0, 92888.52],\n",
       "       [1.0, 0.0, 0.0, ..., 1, 0, 38190.78]], dtype=object)"
      ]
     },
     "execution_count": 16,
     "metadata": {},
     "output_type": "execute_result"
    }
   ],
   "source": [
    "X"
   ]
  },
  {
   "cell_type": "markdown",
   "id": "dadaa0d3",
   "metadata": {
    "papermill": {
     "duration": 0.016657,
     "end_time": "2023-11-20T05:58:40.296449",
     "exception": false,
     "start_time": "2023-11-20T05:58:40.279792",
     "status": "completed"
    },
    "tags": []
   },
   "source": [
    "<a id=\"2.3\"></a>\n",
    "## 2.3 Splitting Dataset into Training and Test set\n",
    "\n",
    "[Go back to Index](#index)"
   ]
  },
  {
   "cell_type": "code",
   "execution_count": 17,
   "id": "95ce8eac",
   "metadata": {
    "execution": {
     "iopub.execute_input": "2023-11-20T05:58:40.334454Z",
     "iopub.status.busy": "2023-11-20T05:58:40.333716Z",
     "iopub.status.idle": "2023-11-20T05:58:40.342859Z",
     "shell.execute_reply": "2023-11-20T05:58:40.341564Z"
    },
    "papermill": {
     "duration": 0.031287,
     "end_time": "2023-11-20T05:58:40.345649",
     "exception": false,
     "start_time": "2023-11-20T05:58:40.314362",
     "status": "completed"
    },
    "tags": []
   },
   "outputs": [],
   "source": [
    "X_train, X_test, y_train, y_test = train_test_split(X, y, test_size=0.2, random_state=0)"
   ]
  },
  {
   "cell_type": "markdown",
   "id": "aa31fa99",
   "metadata": {
    "papermill": {
     "duration": 0.018836,
     "end_time": "2023-11-20T05:58:40.381895",
     "exception": false,
     "start_time": "2023-11-20T05:58:40.363059",
     "status": "completed"
    },
    "tags": []
   },
   "source": [
    "<a id=\"2.4\"></a>\n",
    "## 2.4 Feature Scaling\n",
    "\n",
    "[Go back to Index](#index)"
   ]
  },
  {
   "cell_type": "code",
   "execution_count": 18,
   "id": "a1539e89",
   "metadata": {
    "execution": {
     "iopub.execute_input": "2023-11-20T05:58:40.418532Z",
     "iopub.status.busy": "2023-11-20T05:58:40.418130Z",
     "iopub.status.idle": "2023-11-20T05:58:40.423158Z",
     "shell.execute_reply": "2023-11-20T05:58:40.422135Z"
    },
    "papermill": {
     "duration": 0.026751,
     "end_time": "2023-11-20T05:58:40.425538",
     "exception": false,
     "start_time": "2023-11-20T05:58:40.398787",
     "status": "completed"
    },
    "tags": []
   },
   "outputs": [],
   "source": [
    "sc = StandardScaler()"
   ]
  },
  {
   "cell_type": "code",
   "execution_count": 19,
   "id": "d0445824",
   "metadata": {
    "execution": {
     "iopub.execute_input": "2023-11-20T05:58:40.461598Z",
     "iopub.status.busy": "2023-11-20T05:58:40.461192Z",
     "iopub.status.idle": "2023-11-20T05:58:40.494297Z",
     "shell.execute_reply": "2023-11-20T05:58:40.492878Z"
    },
    "papermill": {
     "duration": 0.054772,
     "end_time": "2023-11-20T05:58:40.497343",
     "exception": false,
     "start_time": "2023-11-20T05:58:40.442571",
     "status": "completed"
    },
    "tags": []
   },
   "outputs": [],
   "source": [
    "X_train = sc.fit_transform(X_train)\n",
    "X_test = sc.transform(X_test)"
   ]
  },
  {
   "cell_type": "markdown",
   "id": "0b1aae06",
   "metadata": {
    "papermill": {
     "duration": 0.016855,
     "end_time": "2023-11-20T05:58:40.531436",
     "exception": false,
     "start_time": "2023-11-20T05:58:40.514581",
     "status": "completed"
    },
    "tags": []
   },
   "source": [
    "<a id=\"3\"></a>\n",
    "# 3. Building the ANN (Artificial Neural Network) Model\n",
    "\n",
    "[Go back to Index](#index)"
   ]
  },
  {
   "cell_type": "markdown",
   "id": "58fcf5e4",
   "metadata": {
    "papermill": {
     "duration": 0.016684,
     "end_time": "2023-11-20T05:58:40.566440",
     "exception": false,
     "start_time": "2023-11-20T05:58:40.549756",
     "status": "completed"
    },
    "tags": []
   },
   "source": [
    "<a id=\"3.1\"></a>\n",
    "## 3.1 Initializing ANN\n",
    "\n",
    "[Go back to Index](#index)"
   ]
  },
  {
   "cell_type": "code",
   "execution_count": 20,
   "id": "e8344e4d",
   "metadata": {
    "execution": {
     "iopub.execute_input": "2023-11-20T05:58:40.602687Z",
     "iopub.status.busy": "2023-11-20T05:58:40.602255Z",
     "iopub.status.idle": "2023-11-20T05:58:40.876169Z",
     "shell.execute_reply": "2023-11-20T05:58:40.874776Z"
    },
    "papermill": {
     "duration": 0.295956,
     "end_time": "2023-11-20T05:58:40.879669",
     "exception": false,
     "start_time": "2023-11-20T05:58:40.583713",
     "status": "completed"
    },
    "tags": []
   },
   "outputs": [],
   "source": [
    "ann = tf.keras.models.Sequential()"
   ]
  },
  {
   "cell_type": "markdown",
   "id": "5596b7fc",
   "metadata": {
    "papermill": {
     "duration": 0.016566,
     "end_time": "2023-11-20T05:58:40.913623",
     "exception": false,
     "start_time": "2023-11-20T05:58:40.897057",
     "status": "completed"
    },
    "tags": []
   },
   "source": [
    "<a id=\"3.2\"></a>\n",
    "## 3.2 Adding input layer + 1st Hidden layer\n",
    "\n",
    "[Go back to Index](#index)"
   ]
  },
  {
   "cell_type": "markdown",
   "id": "2aef856c",
   "metadata": {
    "papermill": {
     "duration": 0.016745,
     "end_time": "2023-11-20T05:58:40.947319",
     "exception": false,
     "start_time": "2023-11-20T05:58:40.930574",
     "status": "completed"
    },
    "tags": []
   },
   "source": [
    "<a href=\"https://www.kaggle.com/code/dansbecker/rectified-linear-units-relu-in-deep-learning\"> ReLu (Rectified Linear Unit - Activation Function</a>\n",
    "\n",
    "<a href=\"https://deepai.org/machine-learning-glossary-and-terms/sigmoid-function\">Sigmoid - Activation Function</a>"
   ]
  },
  {
   "cell_type": "code",
   "execution_count": 21,
   "id": "2aabe718",
   "metadata": {
    "execution": {
     "iopub.execute_input": "2023-11-20T05:58:40.984449Z",
     "iopub.status.busy": "2023-11-20T05:58:40.984001Z",
     "iopub.status.idle": "2023-11-20T05:58:40.997565Z",
     "shell.execute_reply": "2023-11-20T05:58:40.996241Z"
    },
    "papermill": {
     "duration": 0.035183,
     "end_time": "2023-11-20T05:58:41.000099",
     "exception": false,
     "start_time": "2023-11-20T05:58:40.964916",
     "status": "completed"
    },
    "tags": []
   },
   "outputs": [],
   "source": [
    "#units:= # of input columns\n",
    "ann.add(tf.keras.layers.Dense(units=6, activation=\"relu\"))"
   ]
  },
  {
   "cell_type": "markdown",
   "id": "6a6ac81f",
   "metadata": {
    "papermill": {
     "duration": 0.016551,
     "end_time": "2023-11-20T05:58:41.033767",
     "exception": false,
     "start_time": "2023-11-20T05:58:41.017216",
     "status": "completed"
    },
    "tags": []
   },
   "source": [
    "<a id=\"3.3\"></a>\n",
    "## 3.3 Adding 2nd Hidden layer\n",
    "\n",
    "[Go back to Index](#index)"
   ]
  },
  {
   "cell_type": "code",
   "execution_count": 22,
   "id": "d8e7e673",
   "metadata": {
    "execution": {
     "iopub.execute_input": "2023-11-20T05:58:41.070476Z",
     "iopub.status.busy": "2023-11-20T05:58:41.070012Z",
     "iopub.status.idle": "2023-11-20T05:58:41.077600Z",
     "shell.execute_reply": "2023-11-20T05:58:41.076021Z"
    },
    "papermill": {
     "duration": 0.02943,
     "end_time": "2023-11-20T05:58:41.080247",
     "exception": false,
     "start_time": "2023-11-20T05:58:41.050817",
     "status": "completed"
    },
    "tags": []
   },
   "outputs": [],
   "source": [
    "#Same LOC as above, 6 hidden nodes\n",
    "ann.add(tf.keras.layers.Dense(units=6, activation=\"relu\"))"
   ]
  },
  {
   "cell_type": "markdown",
   "id": "7413f91d",
   "metadata": {
    "papermill": {
     "duration": 0.016691,
     "end_time": "2023-11-20T05:58:41.114977",
     "exception": false,
     "start_time": "2023-11-20T05:58:41.098286",
     "status": "completed"
    },
    "tags": []
   },
   "source": [
    "<a id=\"3.4\"></a>\n",
    "## 3.4 Adding Output Layer\n",
    "\n",
    "[Go back to Index](#index)"
   ]
  },
  {
   "cell_type": "code",
   "execution_count": 23,
   "id": "d248283e",
   "metadata": {
    "execution": {
     "iopub.execute_input": "2023-11-20T05:58:41.153367Z",
     "iopub.status.busy": "2023-11-20T05:58:41.152919Z",
     "iopub.status.idle": "2023-11-20T05:58:41.160001Z",
     "shell.execute_reply": "2023-11-20T05:58:41.158997Z"
    },
    "papermill": {
     "duration": 0.029639,
     "end_time": "2023-11-20T05:58:41.162660",
     "exception": false,
     "start_time": "2023-11-20T05:58:41.133021",
     "status": "completed"
    },
    "tags": []
   },
   "outputs": [],
   "source": [
    "#Only 1 Dependent Column so units=1\n",
    "#Sigmoid activation function to be applied on output layer\n",
    "ann.add(tf.keras.layers.Dense(units=1, activation=\"sigmoid\"))"
   ]
  },
  {
   "cell_type": "markdown",
   "id": "4638cdce",
   "metadata": {
    "papermill": {
     "duration": 0.017314,
     "end_time": "2023-11-20T05:58:41.197814",
     "exception": false,
     "start_time": "2023-11-20T05:58:41.180500",
     "status": "completed"
    },
    "tags": []
   },
   "source": [
    "<a id=\"4\"></a>\n",
    "# 4. Training the ANN\n",
    "\n",
    "[Go back to Index](#index)"
   ]
  },
  {
   "cell_type": "markdown",
   "id": "5b06536c",
   "metadata": {
    "papermill": {
     "duration": 0.016513,
     "end_time": "2023-11-20T05:58:41.231347",
     "exception": false,
     "start_time": "2023-11-20T05:58:41.214834",
     "status": "completed"
    },
    "tags": []
   },
   "source": [
    "<a href=\"https://www.simplilearn.com/tutorials/machine-learning-tutorial/what-is-epoch-in-machine-learning\">Epochs in Neural Network</a>"
   ]
  },
  {
   "cell_type": "markdown",
   "id": "e326b329",
   "metadata": {
    "papermill": {
     "duration": 0.017683,
     "end_time": "2023-11-20T05:58:41.266674",
     "exception": false,
     "start_time": "2023-11-20T05:58:41.248991",
     "status": "completed"
    },
    "tags": []
   },
   "source": [
    "<a id=\"4.1\"></a>\n",
    "## 4.1 Compiling the ANN\n",
    "\n",
    "[Go back to Index](#index)"
   ]
  },
  {
   "cell_type": "code",
   "execution_count": 24,
   "id": "2b7a2f87",
   "metadata": {
    "execution": {
     "iopub.execute_input": "2023-11-20T05:58:41.303350Z",
     "iopub.status.busy": "2023-11-20T05:58:41.301953Z",
     "iopub.status.idle": "2023-11-20T05:58:41.335028Z",
     "shell.execute_reply": "2023-11-20T05:58:41.333629Z"
    },
    "papermill": {
     "duration": 0.054323,
     "end_time": "2023-11-20T05:58:41.338104",
     "exception": false,
     "start_time": "2023-11-20T05:58:41.283781",
     "status": "completed"
    },
    "tags": []
   },
   "outputs": [],
   "source": [
    "ann.compile(\n",
    "    optimizer = \"Adam\", #best for stochastic gradient descent\n",
    "    loss = \"binary_crossentropy\", #for binary classification\n",
    "    metrics = [\"accuracy\"]\n",
    ")"
   ]
  },
  {
   "cell_type": "markdown",
   "id": "ab71f15d",
   "metadata": {
    "papermill": {
     "duration": 0.017041,
     "end_time": "2023-11-20T05:58:41.373610",
     "exception": false,
     "start_time": "2023-11-20T05:58:41.356569",
     "status": "completed"
    },
    "tags": []
   },
   "source": [
    "<a id=\"4.2\"></a>\n",
    "## 4.2 Training the ANN on the Training Set\n",
    "\n",
    "[Go back to Index](#index)"
   ]
  },
  {
   "cell_type": "code",
   "execution_count": 25,
   "id": "24f35f05",
   "metadata": {
    "execution": {
     "iopub.execute_input": "2023-11-20T05:58:41.411008Z",
     "iopub.status.busy": "2023-11-20T05:58:41.410544Z",
     "iopub.status.idle": "2023-11-20T06:00:04.475727Z",
     "shell.execute_reply": "2023-11-20T06:00:04.474342Z"
    },
    "papermill": {
     "duration": 83.211015,
     "end_time": "2023-11-20T06:00:04.602750",
     "exception": false,
     "start_time": "2023-11-20T05:58:41.391735",
     "status": "completed"
    },
    "tags": []
   },
   "outputs": [
    {
     "name": "stdout",
     "output_type": "stream",
     "text": [
      "Epoch 1/100\n",
      "250/250 [==============================] - 2s 2ms/step - loss: 0.6783 - accuracy: 0.5789\n",
      "Epoch 2/100\n",
      "250/250 [==============================] - 0s 2ms/step - loss: 0.4748 - accuracy: 0.7981\n",
      "Epoch 3/100\n",
      "250/250 [==============================] - 0s 2ms/step - loss: 0.4424 - accuracy: 0.8029\n",
      "Epoch 4/100\n",
      "250/250 [==============================] - 0s 2ms/step - loss: 0.4344 - accuracy: 0.8021\n",
      "Epoch 5/100\n",
      "250/250 [==============================] - 0s 2ms/step - loss: 0.4290 - accuracy: 0.8025\n",
      "Epoch 6/100\n",
      "250/250 [==============================] - 0s 2ms/step - loss: 0.4239 - accuracy: 0.8040\n",
      "Epoch 7/100\n",
      "250/250 [==============================] - 0s 2ms/step - loss: 0.4178 - accuracy: 0.8058\n",
      "Epoch 8/100\n",
      "250/250 [==============================] - 0s 2ms/step - loss: 0.4085 - accuracy: 0.8096\n",
      "Epoch 9/100\n",
      "250/250 [==============================] - 1s 2ms/step - loss: 0.3973 - accuracy: 0.8136\n",
      "Epoch 10/100\n",
      "250/250 [==============================] - 1s 2ms/step - loss: 0.3846 - accuracy: 0.8206\n",
      "Epoch 11/100\n",
      "250/250 [==============================] - 1s 2ms/step - loss: 0.3730 - accuracy: 0.8315\n",
      "Epoch 12/100\n",
      "250/250 [==============================] - 0s 2ms/step - loss: 0.3644 - accuracy: 0.8382\n",
      "Epoch 13/100\n",
      "250/250 [==============================] - 0s 2ms/step - loss: 0.3585 - accuracy: 0.8430\n",
      "Epoch 14/100\n",
      "250/250 [==============================] - 0s 2ms/step - loss: 0.3547 - accuracy: 0.8495\n",
      "Epoch 15/100\n",
      "250/250 [==============================] - 0s 2ms/step - loss: 0.3517 - accuracy: 0.8526\n",
      "Epoch 16/100\n",
      "250/250 [==============================] - 0s 2ms/step - loss: 0.3495 - accuracy: 0.8545\n",
      "Epoch 17/100\n",
      "250/250 [==============================] - 0s 2ms/step - loss: 0.3480 - accuracy: 0.8571\n",
      "Epoch 18/100\n",
      "250/250 [==============================] - 0s 2ms/step - loss: 0.3464 - accuracy: 0.8568\n",
      "Epoch 19/100\n",
      "250/250 [==============================] - 0s 2ms/step - loss: 0.3452 - accuracy: 0.8596\n",
      "Epoch 20/100\n",
      "250/250 [==============================] - 0s 2ms/step - loss: 0.3440 - accuracy: 0.8605\n",
      "Epoch 21/100\n",
      "250/250 [==============================] - 0s 2ms/step - loss: 0.3435 - accuracy: 0.8610\n",
      "Epoch 22/100\n",
      "250/250 [==============================] - 0s 2ms/step - loss: 0.3423 - accuracy: 0.8606\n",
      "Epoch 23/100\n",
      "250/250 [==============================] - 0s 2ms/step - loss: 0.3419 - accuracy: 0.8612\n",
      "Epoch 24/100\n",
      "250/250 [==============================] - 0s 2ms/step - loss: 0.3411 - accuracy: 0.8615\n",
      "Epoch 25/100\n",
      "250/250 [==============================] - 0s 2ms/step - loss: 0.3405 - accuracy: 0.8620\n",
      "Epoch 26/100\n",
      "250/250 [==============================] - 0s 2ms/step - loss: 0.3398 - accuracy: 0.8621\n",
      "Epoch 27/100\n",
      "250/250 [==============================] - 0s 2ms/step - loss: 0.3394 - accuracy: 0.8615\n",
      "Epoch 28/100\n",
      "250/250 [==============================] - 0s 2ms/step - loss: 0.3392 - accuracy: 0.8635\n",
      "Epoch 29/100\n",
      "250/250 [==============================] - 0s 2ms/step - loss: 0.3382 - accuracy: 0.8631\n",
      "Epoch 30/100\n",
      "250/250 [==============================] - 0s 2ms/step - loss: 0.3381 - accuracy: 0.8630\n",
      "Epoch 31/100\n",
      "250/250 [==============================] - 0s 2ms/step - loss: 0.3380 - accuracy: 0.8634\n",
      "Epoch 32/100\n",
      "250/250 [==============================] - 0s 2ms/step - loss: 0.3372 - accuracy: 0.8648\n",
      "Epoch 33/100\n",
      "250/250 [==============================] - 0s 2ms/step - loss: 0.3373 - accuracy: 0.8639\n",
      "Epoch 34/100\n",
      "250/250 [==============================] - 0s 2ms/step - loss: 0.3370 - accuracy: 0.8645\n",
      "Epoch 35/100\n",
      "250/250 [==============================] - 0s 2ms/step - loss: 0.3366 - accuracy: 0.8637\n",
      "Epoch 36/100\n",
      "250/250 [==============================] - 0s 2ms/step - loss: 0.3367 - accuracy: 0.8637\n",
      "Epoch 37/100\n",
      "250/250 [==============================] - 0s 2ms/step - loss: 0.3365 - accuracy: 0.8644\n",
      "Epoch 38/100\n",
      "250/250 [==============================] - 0s 2ms/step - loss: 0.3363 - accuracy: 0.8646\n",
      "Epoch 39/100\n",
      "250/250 [==============================] - 0s 2ms/step - loss: 0.3361 - accuracy: 0.8639\n",
      "Epoch 40/100\n",
      "250/250 [==============================] - 0s 2ms/step - loss: 0.3354 - accuracy: 0.8652\n",
      "Epoch 41/100\n",
      "250/250 [==============================] - 1s 2ms/step - loss: 0.3356 - accuracy: 0.8640\n",
      "Epoch 42/100\n",
      "250/250 [==============================] - 1s 2ms/step - loss: 0.3349 - accuracy: 0.8646\n",
      "Epoch 43/100\n",
      "250/250 [==============================] - 0s 2ms/step - loss: 0.3352 - accuracy: 0.8649\n",
      "Epoch 44/100\n",
      "250/250 [==============================] - 0s 2ms/step - loss: 0.3347 - accuracy: 0.8643\n",
      "Epoch 45/100\n",
      "250/250 [==============================] - 0s 2ms/step - loss: 0.3348 - accuracy: 0.8654\n",
      "Epoch 46/100\n",
      "250/250 [==============================] - 0s 2ms/step - loss: 0.3345 - accuracy: 0.8650\n",
      "Epoch 47/100\n",
      "250/250 [==============================] - 0s 2ms/step - loss: 0.3348 - accuracy: 0.8643\n",
      "Epoch 48/100\n",
      "250/250 [==============================] - 0s 2ms/step - loss: 0.3343 - accuracy: 0.8641\n",
      "Epoch 49/100\n",
      "250/250 [==============================] - 0s 2ms/step - loss: 0.3344 - accuracy: 0.8633\n",
      "Epoch 50/100\n",
      "250/250 [==============================] - 0s 2ms/step - loss: 0.3340 - accuracy: 0.8651\n",
      "Epoch 51/100\n",
      "250/250 [==============================] - 0s 2ms/step - loss: 0.3341 - accuracy: 0.8639\n",
      "Epoch 52/100\n",
      "250/250 [==============================] - 0s 2ms/step - loss: 0.3334 - accuracy: 0.8658\n",
      "Epoch 53/100\n",
      "250/250 [==============================] - 0s 2ms/step - loss: 0.3344 - accuracy: 0.8639\n",
      "Epoch 54/100\n",
      "250/250 [==============================] - 0s 2ms/step - loss: 0.3337 - accuracy: 0.8658\n",
      "Epoch 55/100\n",
      "250/250 [==============================] - 0s 2ms/step - loss: 0.3331 - accuracy: 0.8658\n",
      "Epoch 56/100\n",
      "250/250 [==============================] - 0s 2ms/step - loss: 0.3334 - accuracy: 0.8649\n",
      "Epoch 57/100\n",
      "250/250 [==============================] - 0s 2ms/step - loss: 0.3334 - accuracy: 0.8650\n",
      "Epoch 58/100\n",
      "250/250 [==============================] - 0s 2ms/step - loss: 0.3332 - accuracy: 0.8665\n",
      "Epoch 59/100\n",
      "250/250 [==============================] - 0s 2ms/step - loss: 0.3334 - accuracy: 0.8641\n",
      "Epoch 60/100\n",
      "250/250 [==============================] - 0s 2ms/step - loss: 0.3331 - accuracy: 0.8661\n",
      "Epoch 61/100\n",
      "250/250 [==============================] - 0s 2ms/step - loss: 0.3332 - accuracy: 0.8651\n",
      "Epoch 62/100\n",
      "250/250 [==============================] - 0s 2ms/step - loss: 0.3328 - accuracy: 0.8664\n",
      "Epoch 63/100\n",
      "250/250 [==============================] - 0s 2ms/step - loss: 0.3326 - accuracy: 0.8645\n",
      "Epoch 64/100\n",
      "250/250 [==============================] - 0s 2ms/step - loss: 0.3327 - accuracy: 0.8660\n",
      "Epoch 65/100\n",
      "250/250 [==============================] - 0s 2ms/step - loss: 0.3327 - accuracy: 0.8661\n",
      "Epoch 66/100\n",
      "250/250 [==============================] - 0s 2ms/step - loss: 0.3327 - accuracy: 0.8651\n",
      "Epoch 67/100\n",
      "250/250 [==============================] - 0s 2ms/step - loss: 0.3327 - accuracy: 0.8651\n",
      "Epoch 68/100\n",
      "250/250 [==============================] - 0s 2ms/step - loss: 0.3327 - accuracy: 0.8652\n",
      "Epoch 69/100\n",
      "250/250 [==============================] - 0s 2ms/step - loss: 0.3323 - accuracy: 0.8649\n",
      "Epoch 70/100\n",
      "250/250 [==============================] - 0s 2ms/step - loss: 0.3324 - accuracy: 0.8645\n",
      "Epoch 71/100\n",
      "250/250 [==============================] - 0s 2ms/step - loss: 0.3322 - accuracy: 0.8652\n",
      "Epoch 72/100\n",
      "250/250 [==============================] - 0s 2ms/step - loss: 0.3325 - accuracy: 0.8645\n",
      "Epoch 73/100\n",
      "250/250 [==============================] - 0s 2ms/step - loss: 0.3324 - accuracy: 0.8652\n",
      "Epoch 74/100\n",
      "250/250 [==============================] - 0s 2ms/step - loss: 0.3322 - accuracy: 0.8659\n",
      "Epoch 75/100\n",
      "250/250 [==============================] - 0s 2ms/step - loss: 0.3319 - accuracy: 0.8666\n",
      "Epoch 76/100\n",
      "250/250 [==============================] - 0s 2ms/step - loss: 0.3324 - accuracy: 0.8643\n",
      "Epoch 77/100\n",
      "250/250 [==============================] - 0s 2ms/step - loss: 0.3322 - accuracy: 0.8655\n",
      "Epoch 78/100\n",
      "250/250 [==============================] - 0s 2ms/step - loss: 0.3324 - accuracy: 0.8643\n",
      "Epoch 79/100\n",
      "250/250 [==============================] - 0s 2ms/step - loss: 0.3318 - accuracy: 0.8668\n",
      "Epoch 80/100\n",
      "250/250 [==============================] - 0s 2ms/step - loss: 0.3325 - accuracy: 0.8654\n",
      "Epoch 81/100\n",
      "250/250 [==============================] - 0s 2ms/step - loss: 0.3321 - accuracy: 0.8658\n",
      "Epoch 82/100\n",
      "250/250 [==============================] - 0s 2ms/step - loss: 0.3324 - accuracy: 0.8645\n",
      "Epoch 83/100\n",
      "250/250 [==============================] - 0s 2ms/step - loss: 0.3319 - accuracy: 0.8662\n",
      "Epoch 84/100\n",
      "250/250 [==============================] - 0s 2ms/step - loss: 0.3318 - accuracy: 0.8655\n",
      "Epoch 85/100\n",
      "250/250 [==============================] - 0s 2ms/step - loss: 0.3320 - accuracy: 0.8646\n",
      "Epoch 86/100\n",
      "250/250 [==============================] - 0s 2ms/step - loss: 0.3317 - accuracy: 0.8644\n",
      "Epoch 87/100\n",
      "250/250 [==============================] - 0s 2ms/step - loss: 0.3320 - accuracy: 0.8659\n",
      "Epoch 88/100\n",
      "250/250 [==============================] - 0s 2ms/step - loss: 0.3320 - accuracy: 0.8650\n",
      "Epoch 89/100\n",
      "250/250 [==============================] - 0s 2ms/step - loss: 0.3317 - accuracy: 0.8651\n",
      "Epoch 90/100\n",
      "250/250 [==============================] - 0s 2ms/step - loss: 0.3319 - accuracy: 0.8645\n",
      "Epoch 91/100\n",
      "250/250 [==============================] - 0s 2ms/step - loss: 0.3315 - accuracy: 0.8658\n",
      "Epoch 92/100\n",
      "250/250 [==============================] - 0s 2ms/step - loss: 0.3317 - accuracy: 0.8639\n",
      "Epoch 93/100\n",
      "250/250 [==============================] - 0s 2ms/step - loss: 0.3319 - accuracy: 0.8648\n",
      "Epoch 94/100\n",
      "250/250 [==============================] - 0s 2ms/step - loss: 0.3317 - accuracy: 0.8645\n",
      "Epoch 95/100\n",
      "250/250 [==============================] - 0s 2ms/step - loss: 0.3319 - accuracy: 0.8652\n",
      "Epoch 96/100\n",
      "250/250 [==============================] - 0s 2ms/step - loss: 0.3316 - accuracy: 0.8643\n",
      "Epoch 97/100\n",
      "250/250 [==============================] - 0s 2ms/step - loss: 0.3315 - accuracy: 0.8666\n",
      "Epoch 98/100\n",
      "250/250 [==============================] - 0s 2ms/step - loss: 0.3316 - accuracy: 0.8648\n",
      "Epoch 99/100\n",
      "250/250 [==============================] - 0s 2ms/step - loss: 0.3313 - accuracy: 0.8655\n",
      "Epoch 100/100\n",
      "250/250 [==============================] - 0s 2ms/step - loss: 0.3314 - accuracy: 0.8646\n"
     ]
    },
    {
     "data": {
      "text/plain": [
       "<keras.src.callbacks.History at 0x78baa8a3e830>"
      ]
     },
     "execution_count": 25,
     "metadata": {},
     "output_type": "execute_result"
    }
   ],
   "source": [
    "#Default/Classic Batch Size = 32 for stochastic gradient\n",
    "#epochs:= number of passes for training\n",
    "ann.fit(X_train, y_train, batch_size = 32, epochs=100)"
   ]
  },
  {
   "cell_type": "markdown",
   "id": "fd402355",
   "metadata": {
    "papermill": {
     "duration": 0.127581,
     "end_time": "2023-11-20T06:00:04.857016",
     "exception": false,
     "start_time": "2023-11-20T06:00:04.729435",
     "status": "completed"
    },
    "tags": []
   },
   "source": [
    "<a id=\"5\"></a>\n",
    "# 5. Predictions and Evaluating the Model\n",
    "\n",
    "[Go back to Index](#index)"
   ]
  },
  {
   "cell_type": "markdown",
   "id": "0f5a13f1",
   "metadata": {
    "papermill": {
     "duration": 0.12355,
     "end_time": "2023-11-20T06:00:05.105520",
     "exception": false,
     "start_time": "2023-11-20T06:00:04.981970",
     "status": "completed"
    },
    "tags": []
   },
   "source": [
    "<a id=\"5.1\"></a>\n",
    "## 5.1 Predicting the result of a single observation\n",
    "\n",
    "[Go back to Index](#index)"
   ]
  },
  {
   "cell_type": "markdown",
   "id": "5a3db289",
   "metadata": {
    "papermill": {
     "duration": 0.144059,
     "end_time": "2023-11-20T06:00:05.395508",
     "exception": false,
     "start_time": "2023-11-20T06:00:05.251449",
     "status": "completed"
    },
    "tags": []
   },
   "source": [
    "### Scenario1\n",
    "\n",
    "Use the ANN model to predict if the customer with the following information will leave the bank:\n",
    "\n",
    "1. Geography:= France\n",
    "2. Credit Score:= 600\n",
    "3. Gender:= Male\n",
    "4. Age:= 40 years old\n",
    "5. Tenure:= 3 Years\n",
    "6. Balance:= 60,000 USD\n",
    "7. Number of Products:= 2\n",
    "8. Has a Credit Card?:= Yes\n",
    "9. Active Member?:= Yes\n",
    "10. Estimated Salary:= 50,000 USD"
   ]
  },
  {
   "cell_type": "code",
   "execution_count": 26,
   "id": "6f72e2a1",
   "metadata": {
    "execution": {
     "iopub.execute_input": "2023-11-20T06:00:05.658821Z",
     "iopub.status.busy": "2023-11-20T06:00:05.658397Z",
     "iopub.status.idle": "2023-11-20T06:00:05.867248Z",
     "shell.execute_reply": "2023-11-20T06:00:05.866012Z"
    },
    "papermill": {
     "duration": 0.343701,
     "end_time": "2023-11-20T06:00:05.869755",
     "exception": false,
     "start_time": "2023-11-20T06:00:05.526054",
     "status": "completed"
    },
    "tags": []
   },
   "outputs": [
    {
     "name": "stdout",
     "output_type": "stream",
     "text": [
      "1/1 [==============================] - 0s 136ms/step\n"
     ]
    },
    {
     "data": {
      "text/plain": [
       "array([[0.02938843]], dtype=float32)"
      ]
     },
     "execution_count": 26,
     "metadata": {},
     "output_type": "execute_result"
    }
   ],
   "source": [
    "ann.predict(\n",
    "    sc.transform([[\n",
    "    1, 0, 0, #One Hot Encoding Dummy Variables for Geography - France\n",
    "    600,\n",
    "    1, #One Hot Encoding Variable for Gender - Male\n",
    "    40, 3, 60000, 2, 1, 1, 50000\n",
    "]]))"
   ]
  },
  {
   "cell_type": "markdown",
   "id": "9afe664e",
   "metadata": {
    "papermill": {
     "duration": 0.123741,
     "end_time": "2023-11-20T06:00:06.119646",
     "exception": false,
     "start_time": "2023-11-20T06:00:05.995905",
     "status": "completed"
    },
    "tags": []
   },
   "source": [
    "### Conclusion\n",
    "\n",
    "This customer has a `very low` chance of leaving the bank."
   ]
  },
  {
   "cell_type": "markdown",
   "id": "7c75f98d",
   "metadata": {
    "papermill": {
     "duration": 0.128567,
     "end_time": "2023-11-20T06:00:06.372393",
     "exception": false,
     "start_time": "2023-11-20T06:00:06.243826",
     "status": "completed"
    },
    "tags": []
   },
   "source": [
    "<a id=\"5.2\"></a>\n",
    "## 5.2 Predicting the result of Test set\n",
    "\n",
    "[Go back to Index](#index)"
   ]
  },
  {
   "cell_type": "code",
   "execution_count": 27,
   "id": "1521b322",
   "metadata": {
    "execution": {
     "iopub.execute_input": "2023-11-20T06:00:06.626450Z",
     "iopub.status.busy": "2023-11-20T06:00:06.626026Z",
     "iopub.status.idle": "2023-11-20T06:00:06.841305Z",
     "shell.execute_reply": "2023-11-20T06:00:06.840194Z"
    },
    "papermill": {
     "duration": 0.34639,
     "end_time": "2023-11-20T06:00:06.844536",
     "exception": false,
     "start_time": "2023-11-20T06:00:06.498146",
     "status": "completed"
    },
    "tags": []
   },
   "outputs": [
    {
     "name": "stdout",
     "output_type": "stream",
     "text": [
      "63/63 [==============================] - 0s 1ms/step\n"
     ]
    }
   ],
   "source": [
    "y_pred = ann.predict(X_test)\n",
    "y_pred = (y_pred > 0.5) #binary classification prediction"
   ]
  },
  {
   "cell_type": "code",
   "execution_count": 28,
   "id": "07a5c54f",
   "metadata": {
    "execution": {
     "iopub.execute_input": "2023-11-20T06:00:07.097924Z",
     "iopub.status.busy": "2023-11-20T06:00:07.096959Z",
     "iopub.status.idle": "2023-11-20T06:00:07.106042Z",
     "shell.execute_reply": "2023-11-20T06:00:07.104653Z"
    },
    "papermill": {
     "duration": 0.137795,
     "end_time": "2023-11-20T06:00:07.108515",
     "exception": false,
     "start_time": "2023-11-20T06:00:06.970720",
     "status": "completed"
    },
    "tags": []
   },
   "outputs": [
    {
     "data": {
      "text/plain": [
       "array([[False, False],\n",
       "       [False, False],\n",
       "       [False, False],\n",
       "       ...,\n",
       "       [False, False],\n",
       "       [False, False],\n",
       "       [False, False]])"
      ]
     },
     "execution_count": 28,
     "metadata": {},
     "output_type": "execute_result"
    }
   ],
   "source": [
    "np.concatenate((\n",
    "        y_pred.reshape(len(y_pred), 1),\n",
    "        y_pred.reshape(len(y_test), 1)\n",
    "    )\n",
    ",1)"
   ]
  },
  {
   "cell_type": "markdown",
   "id": "414b26a6",
   "metadata": {
    "papermill": {
     "duration": 0.131357,
     "end_time": "2023-11-20T06:00:07.367575",
     "exception": false,
     "start_time": "2023-11-20T06:00:07.236218",
     "status": "completed"
    },
    "tags": []
   },
   "source": [
    "<a id=\"5.3\"></a>\n",
    "## 5.3 Confusion Matrix\n",
    "\n",
    "[Go back to Index](#index)"
   ]
  },
  {
   "cell_type": "code",
   "execution_count": 29,
   "id": "5a9541ce",
   "metadata": {
    "execution": {
     "iopub.execute_input": "2023-11-20T06:00:07.638571Z",
     "iopub.status.busy": "2023-11-20T06:00:07.638154Z",
     "iopub.status.idle": "2023-11-20T06:00:07.648296Z",
     "shell.execute_reply": "2023-11-20T06:00:07.647060Z"
    },
    "papermill": {
     "duration": 0.14031,
     "end_time": "2023-11-20T06:00:07.650917",
     "exception": false,
     "start_time": "2023-11-20T06:00:07.510607",
     "status": "completed"
    },
    "tags": []
   },
   "outputs": [
    {
     "data": {
      "text/plain": [
       "array([[1516,   79],\n",
       "       [ 197,  208]])"
      ]
     },
     "execution_count": 29,
     "metadata": {},
     "output_type": "execute_result"
    }
   ],
   "source": [
    "cm = confusion_matrix(y_test, y_pred)\n",
    "cm"
   ]
  },
  {
   "cell_type": "markdown",
   "id": "79b9874f",
   "metadata": {
    "papermill": {
     "duration": 0.126404,
     "end_time": "2023-11-20T06:00:07.904227",
     "exception": false,
     "start_time": "2023-11-20T06:00:07.777823",
     "status": "completed"
    },
    "tags": []
   },
   "source": [
    "* TP:= 1520 Correct predictions that Customer stays in the bank\n",
    "* TN:= 200 Correct predictions that Customer leaves the bank\n",
    "* FP:= 75 incorrect predictions that Customer stays in the bank\n",
    "* FN:= 205 inorrect predictions that Customer leaves the bank"
   ]
  },
  {
   "cell_type": "code",
   "execution_count": 30,
   "id": "fbb40f89",
   "metadata": {
    "execution": {
     "iopub.execute_input": "2023-11-20T06:00:08.161092Z",
     "iopub.status.busy": "2023-11-20T06:00:08.160640Z",
     "iopub.status.idle": "2023-11-20T06:00:08.169892Z",
     "shell.execute_reply": "2023-11-20T06:00:08.168636Z"
    },
    "papermill": {
     "duration": 0.140712,
     "end_time": "2023-11-20T06:00:08.172834",
     "exception": false,
     "start_time": "2023-11-20T06:00:08.032122",
     "status": "completed"
    },
    "tags": []
   },
   "outputs": [
    {
     "data": {
      "text/plain": [
       "0.862"
      ]
     },
     "execution_count": 30,
     "metadata": {},
     "output_type": "execute_result"
    }
   ],
   "source": [
    "accuracy_score(y_test, y_pred)"
   ]
  }
 ],
 "metadata": {
  "kaggle": {
   "accelerator": "none",
   "dataSources": [
    {
     "datasetId": 729058,
     "sourceId": 1265963,
     "sourceType": "datasetVersion"
    }
   ],
   "dockerImageVersionId": 30587,
   "isGpuEnabled": false,
   "isInternetEnabled": true,
   "language": "python",
   "sourceType": "notebook"
  },
  "kernelspec": {
   "display_name": "Python 3",
   "language": "python",
   "name": "python3"
  },
  "language_info": {
   "codemirror_mode": {
    "name": "ipython",
    "version": 3
   },
   "file_extension": ".py",
   "mimetype": "text/x-python",
   "name": "python",
   "nbconvert_exporter": "python",
   "pygments_lexer": "ipython3",
   "version": "3.10.12"
  },
  "papermill": {
   "default_parameters": {},
   "duration": 111.191771,
   "end_time": "2023-11-20T06:00:10.029688",
   "environment_variables": {},
   "exception": null,
   "input_path": "__notebook__.ipynb",
   "output_path": "__notebook__.ipynb",
   "parameters": {},
   "start_time": "2023-11-20T05:58:18.837917",
   "version": "2.4.0"
  }
 },
 "nbformat": 4,
 "nbformat_minor": 5
}
