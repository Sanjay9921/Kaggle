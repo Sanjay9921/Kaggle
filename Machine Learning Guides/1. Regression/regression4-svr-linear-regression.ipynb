{
 "cells": [
  {
   "cell_type": "code",
   "execution_count": 1,
   "id": "8af9656e",
   "metadata": {
    "_cell_guid": "b1076dfc-b9ad-4769-8c92-a6c4dae69d19",
    "_uuid": "8f2839f25d086af736a60e9eeb907d3b93b6e0e5",
    "execution": {
     "iopub.execute_input": "2023-08-26T03:18:07.783237Z",
     "iopub.status.busy": "2023-08-26T03:18:07.782477Z",
     "iopub.status.idle": "2023-08-26T03:18:07.810410Z",
     "shell.execute_reply": "2023-08-26T03:18:07.808930Z"
    },
    "papermill": {
     "duration": 0.041767,
     "end_time": "2023-08-26T03:18:07.813436",
     "exception": false,
     "start_time": "2023-08-26T03:18:07.771669",
     "status": "completed"
    },
    "tags": []
   },
   "outputs": [
    {
     "name": "stdout",
     "output_type": "stream",
     "text": [
      "/kaggle/input/positionsalaries-data/position-salaries data.csv\n"
     ]
    }
   ],
   "source": [
    "# This Python 3 environment comes with many helpful analytics libraries installed\n",
    "# It is defined by the kaggle/python Docker image: https://github.com/kaggle/docker-python\n",
    "# For example, here's several helpful packages to load\n",
    "\n",
    "import numpy as np # linear algebra\n",
    "import pandas as pd # data processing, CSV file I/O (e.g. pd.read_csv)\n",
    "\n",
    "# Input data files are available in the read-only \"../input/\" directory\n",
    "# For example, running this (by clicking run or pressing Shift+Enter) will list all files under the input directory\n",
    "\n",
    "import os\n",
    "for dirname, _, filenames in os.walk('/kaggle/input'):\n",
    "    for filename in filenames:\n",
    "        print(os.path.join(dirname, filename))\n",
    "\n",
    "# You can write up to 20GB to the current directory (/kaggle/working/) that gets preserved as output when you create a version using \"Save & Run All\" \n",
    "# You can also write temporary files to /kaggle/temp/, but they won't be saved outside of the current session"
   ]
  },
  {
   "cell_type": "markdown",
   "id": "5a098609",
   "metadata": {
    "papermill": {
     "duration": 0.008076,
     "end_time": "2023-08-26T03:18:07.830212",
     "exception": false,
     "start_time": "2023-08-26T03:18:07.822136",
     "status": "completed"
    },
    "tags": []
   },
   "source": [
    "# Credits and Links\n",
    "\n",
    "* UDEMY - Machine Learning A-Z <sup>TM</sup>"
   ]
  },
  {
   "cell_type": "markdown",
   "id": "179f5f9c",
   "metadata": {
    "papermill": {
     "duration": 0.008094,
     "end_time": "2023-08-26T03:18:07.846516",
     "exception": false,
     "start_time": "2023-08-26T03:18:07.838422",
     "status": "completed"
    },
    "tags": []
   },
   "source": [
    "<a id=\"index\"></a>\n",
    "# Table of Content\n",
    "\n",
    "1. [Importing Libraries](#1)\n",
    "2. [Importing Dataset](#2)\n",
    "3. [Feature Scaling](#3)\n",
    "4. [SVR Model](#4)\n",
    "5. [Prediction](#5)\n",
    "6. [Visualization of SVR Results](#6)\n",
    "7. [Visualization of the SVR Results - Smoother Curve + High Resolution](#7)"
   ]
  },
  {
   "cell_type": "markdown",
   "id": "b979aed0",
   "metadata": {
    "papermill": {
     "duration": 0.008224,
     "end_time": "2023-08-26T03:18:07.863371",
     "exception": false,
     "start_time": "2023-08-26T03:18:07.855147",
     "status": "completed"
    },
    "tags": []
   },
   "source": [
    "<a id=\"1\"></a>\n",
    "# 1. Importing Libraries\n",
    "\n",
    "[Go back to Index](#index)"
   ]
  },
  {
   "cell_type": "code",
   "execution_count": 2,
   "id": "01f965b0",
   "metadata": {
    "execution": {
     "iopub.execute_input": "2023-08-26T03:18:07.883013Z",
     "iopub.status.busy": "2023-08-26T03:18:07.882273Z",
     "iopub.status.idle": "2023-08-26T03:18:09.714970Z",
     "shell.execute_reply": "2023-08-26T03:18:09.713374Z"
    },
    "papermill": {
     "duration": 1.845703,
     "end_time": "2023-08-26T03:18:09.718036",
     "exception": false,
     "start_time": "2023-08-26T03:18:07.872333",
     "status": "completed"
    },
    "tags": []
   },
   "outputs": [
    {
     "name": "stderr",
     "output_type": "stream",
     "text": [
      "/opt/conda/lib/python3.10/site-packages/scipy/__init__.py:146: UserWarning: A NumPy version >=1.16.5 and <1.23.0 is required for this version of SciPy (detected version 1.23.5\n",
      "  warnings.warn(f\"A NumPy version >={np_minversion} and <{np_maxversion}\"\n"
     ]
    }
   ],
   "source": [
    "#1. General\n",
    "import pandas as pd\n",
    "import numpy as np\n",
    "import os\n",
    "import matplotlib.pyplot as plt\n",
    "%matplotlib inline\n",
    "\n",
    "#2. Data Preprocessing\n",
    "##2.1 Fill Missing Data\n",
    "from sklearn.impute import SimpleImputer\n",
    "\n",
    "##2.2 Encoding\n",
    "from sklearn.compose import ColumnTransformer\n",
    "from sklearn.preprocessing import OneHotEncoder\n",
    "from sklearn.preprocessing import LabelEncoder\n",
    "\n",
    "##2.3 Splitting Train and Test\n",
    "from sklearn.model_selection import train_test_split\n",
    "\n",
    "##2.4 Feature Scaling\n",
    "from sklearn.preprocessing import StandardScaler\n",
    "\n",
    "#3. SVR Regression\n",
    "from sklearn.svm import SVR"
   ]
  },
  {
   "cell_type": "markdown",
   "id": "be93ac9f",
   "metadata": {
    "papermill": {
     "duration": 0.008298,
     "end_time": "2023-08-26T03:18:09.734864",
     "exception": false,
     "start_time": "2023-08-26T03:18:09.726566",
     "status": "completed"
    },
    "tags": []
   },
   "source": [
    "<a id=\"2\"></a>\n",
    "# 2. Importing Dataset\n",
    "\n",
    "[Go back to Index](#index)"
   ]
  },
  {
   "cell_type": "code",
   "execution_count": 3,
   "id": "169e6ec0",
   "metadata": {
    "execution": {
     "iopub.execute_input": "2023-08-26T03:18:09.754068Z",
     "iopub.status.busy": "2023-08-26T03:18:09.753624Z",
     "iopub.status.idle": "2023-08-26T03:18:09.796408Z",
     "shell.execute_reply": "2023-08-26T03:18:09.795095Z"
    },
    "papermill": {
     "duration": 0.055751,
     "end_time": "2023-08-26T03:18:09.799184",
     "exception": false,
     "start_time": "2023-08-26T03:18:09.743433",
     "status": "completed"
    },
    "tags": []
   },
   "outputs": [
    {
     "data": {
      "text/html": [
       "<div>\n",
       "<style scoped>\n",
       "    .dataframe tbody tr th:only-of-type {\n",
       "        vertical-align: middle;\n",
       "    }\n",
       "\n",
       "    .dataframe tbody tr th {\n",
       "        vertical-align: top;\n",
       "    }\n",
       "\n",
       "    .dataframe thead th {\n",
       "        text-align: right;\n",
       "    }\n",
       "</style>\n",
       "<table border=\"1\" class=\"dataframe\">\n",
       "  <thead>\n",
       "    <tr style=\"text-align: right;\">\n",
       "      <th></th>\n",
       "      <th>Position</th>\n",
       "      <th>Level</th>\n",
       "      <th>Salary</th>\n",
       "    </tr>\n",
       "  </thead>\n",
       "  <tbody>\n",
       "    <tr>\n",
       "      <th>0</th>\n",
       "      <td>Business Analyst</td>\n",
       "      <td>1</td>\n",
       "      <td>45000</td>\n",
       "    </tr>\n",
       "    <tr>\n",
       "      <th>1</th>\n",
       "      <td>Junior Consultant</td>\n",
       "      <td>2</td>\n",
       "      <td>50000</td>\n",
       "    </tr>\n",
       "  </tbody>\n",
       "</table>\n",
       "</div>"
      ],
      "text/plain": [
       "            Position  Level  Salary\n",
       "0   Business Analyst      1   45000\n",
       "1  Junior Consultant      2   50000"
      ]
     },
     "execution_count": 3,
     "metadata": {},
     "output_type": "execute_result"
    }
   ],
   "source": [
    "df = pd.read_csv(\"/kaggle/input/positionsalaries-data/position-salaries data.csv\")\n",
    "df.head(2)"
   ]
  },
  {
   "cell_type": "code",
   "execution_count": 4,
   "id": "844d1117",
   "metadata": {
    "execution": {
     "iopub.execute_input": "2023-08-26T03:18:09.819829Z",
     "iopub.status.busy": "2023-08-26T03:18:09.819386Z",
     "iopub.status.idle": "2023-08-26T03:18:09.829523Z",
     "shell.execute_reply": "2023-08-26T03:18:09.828109Z"
    },
    "papermill": {
     "duration": 0.022657,
     "end_time": "2023-08-26T03:18:09.832099",
     "exception": false,
     "start_time": "2023-08-26T03:18:09.809442",
     "status": "completed"
    },
    "tags": []
   },
   "outputs": [],
   "source": [
    "X = df.iloc[:, 1:-1].values\n",
    "y = df.iloc[:,-1].values"
   ]
  },
  {
   "cell_type": "code",
   "execution_count": 5,
   "id": "f15c46e5",
   "metadata": {
    "execution": {
     "iopub.execute_input": "2023-08-26T03:18:09.851751Z",
     "iopub.status.busy": "2023-08-26T03:18:09.850980Z",
     "iopub.status.idle": "2023-08-26T03:18:09.857918Z",
     "shell.execute_reply": "2023-08-26T03:18:09.856813Z"
    },
    "papermill": {
     "duration": 0.019806,
     "end_time": "2023-08-26T03:18:09.860527",
     "exception": false,
     "start_time": "2023-08-26T03:18:09.840721",
     "status": "completed"
    },
    "tags": []
   },
   "outputs": [
    {
     "data": {
      "text/plain": [
       "array([[ 1],\n",
       "       [ 2],\n",
       "       [ 3],\n",
       "       [ 4],\n",
       "       [ 5],\n",
       "       [ 6],\n",
       "       [ 7],\n",
       "       [ 8],\n",
       "       [ 9],\n",
       "       [10]])"
      ]
     },
     "execution_count": 5,
     "metadata": {},
     "output_type": "execute_result"
    }
   ],
   "source": [
    "X"
   ]
  },
  {
   "cell_type": "code",
   "execution_count": 6,
   "id": "413f3aa2",
   "metadata": {
    "execution": {
     "iopub.execute_input": "2023-08-26T03:18:09.880472Z",
     "iopub.status.busy": "2023-08-26T03:18:09.879722Z",
     "iopub.status.idle": "2023-08-26T03:18:09.887884Z",
     "shell.execute_reply": "2023-08-26T03:18:09.886344Z"
    },
    "papermill": {
     "duration": 0.020871,
     "end_time": "2023-08-26T03:18:09.890339",
     "exception": false,
     "start_time": "2023-08-26T03:18:09.869468",
     "status": "completed"
    },
    "tags": []
   },
   "outputs": [
    {
     "data": {
      "text/plain": [
       "(10, 1)"
      ]
     },
     "execution_count": 6,
     "metadata": {},
     "output_type": "execute_result"
    }
   ],
   "source": [
    "X.shape"
   ]
  },
  {
   "cell_type": "code",
   "execution_count": 7,
   "id": "1bbdb47c",
   "metadata": {
    "execution": {
     "iopub.execute_input": "2023-08-26T03:18:09.910546Z",
     "iopub.status.busy": "2023-08-26T03:18:09.909803Z",
     "iopub.status.idle": "2023-08-26T03:18:09.916928Z",
     "shell.execute_reply": "2023-08-26T03:18:09.915759Z"
    },
    "papermill": {
     "duration": 0.020081,
     "end_time": "2023-08-26T03:18:09.919436",
     "exception": false,
     "start_time": "2023-08-26T03:18:09.899355",
     "status": "completed"
    },
    "tags": []
   },
   "outputs": [
    {
     "data": {
      "text/plain": [
       "array([  45000,   50000,   60000,   80000,  110000,  150000,  200000,\n",
       "        300000,  500000, 1000000])"
      ]
     },
     "execution_count": 7,
     "metadata": {},
     "output_type": "execute_result"
    }
   ],
   "source": [
    "y"
   ]
  },
  {
   "cell_type": "code",
   "execution_count": 8,
   "id": "4622517e",
   "metadata": {
    "execution": {
     "iopub.execute_input": "2023-08-26T03:18:09.941173Z",
     "iopub.status.busy": "2023-08-26T03:18:09.940350Z",
     "iopub.status.idle": "2023-08-26T03:18:09.947427Z",
     "shell.execute_reply": "2023-08-26T03:18:09.946070Z"
    },
    "papermill": {
     "duration": 0.020998,
     "end_time": "2023-08-26T03:18:09.950104",
     "exception": false,
     "start_time": "2023-08-26T03:18:09.929106",
     "status": "completed"
    },
    "tags": []
   },
   "outputs": [
    {
     "data": {
      "text/plain": [
       "(10,)"
      ]
     },
     "execution_count": 8,
     "metadata": {},
     "output_type": "execute_result"
    }
   ],
   "source": [
    "y.shape"
   ]
  },
  {
   "cell_type": "code",
   "execution_count": 9,
   "id": "79a75fb2",
   "metadata": {
    "execution": {
     "iopub.execute_input": "2023-08-26T03:18:09.972590Z",
     "iopub.status.busy": "2023-08-26T03:18:09.971797Z",
     "iopub.status.idle": "2023-08-26T03:18:09.978256Z",
     "shell.execute_reply": "2023-08-26T03:18:09.977417Z"
    },
    "papermill": {
     "duration": 0.020839,
     "end_time": "2023-08-26T03:18:09.980665",
     "exception": false,
     "start_time": "2023-08-26T03:18:09.959826",
     "status": "completed"
    },
    "tags": []
   },
   "outputs": [
    {
     "data": {
      "text/plain": [
       "(10, 1)"
      ]
     },
     "execution_count": 9,
     "metadata": {},
     "output_type": "execute_result"
    }
   ],
   "source": [
    "# For feature scaling -> 2D Array is required\n",
    "y = y.reshape(len(y),1)\n",
    "y.shape"
   ]
  },
  {
   "cell_type": "markdown",
   "id": "db489271",
   "metadata": {
    "papermill": {
     "duration": 0.009152,
     "end_time": "2023-08-26T03:18:09.999710",
     "exception": false,
     "start_time": "2023-08-26T03:18:09.990558",
     "status": "completed"
    },
    "tags": []
   },
   "source": [
    "<a id=\"3\"></a>\n",
    "# 3. Feature Scaling\n",
    "\n",
    "[Go back to Index](#index)"
   ]
  },
  {
   "cell_type": "code",
   "execution_count": 10,
   "id": "e71f5f12",
   "metadata": {
    "execution": {
     "iopub.execute_input": "2023-08-26T03:18:10.021101Z",
     "iopub.status.busy": "2023-08-26T03:18:10.020358Z",
     "iopub.status.idle": "2023-08-26T03:18:10.029651Z",
     "shell.execute_reply": "2023-08-26T03:18:10.028581Z"
    },
    "papermill": {
     "duration": 0.022968,
     "end_time": "2023-08-26T03:18:10.032272",
     "exception": false,
     "start_time": "2023-08-26T03:18:10.009304",
     "status": "completed"
    },
    "tags": []
   },
   "outputs": [],
   "source": [
    "sc_X, sc_y = StandardScaler(), StandardScaler()\n",
    "X = sc_X.fit_transform(X)\n",
    "y = sc_y.fit_transform(y)"
   ]
  },
  {
   "cell_type": "code",
   "execution_count": 11,
   "id": "976bbc0e",
   "metadata": {
    "execution": {
     "iopub.execute_input": "2023-08-26T03:18:10.053423Z",
     "iopub.status.busy": "2023-08-26T03:18:10.052599Z",
     "iopub.status.idle": "2023-08-26T03:18:10.060595Z",
     "shell.execute_reply": "2023-08-26T03:18:10.059122Z"
    },
    "papermill": {
     "duration": 0.021398,
     "end_time": "2023-08-26T03:18:10.063027",
     "exception": false,
     "start_time": "2023-08-26T03:18:10.041629",
     "status": "completed"
    },
    "tags": []
   },
   "outputs": [
    {
     "data": {
      "text/plain": [
       "array([[-1.5666989 ],\n",
       "       [-1.21854359],\n",
       "       [-0.87038828],\n",
       "       [-0.52223297],\n",
       "       [-0.17407766],\n",
       "       [ 0.17407766],\n",
       "       [ 0.52223297],\n",
       "       [ 0.87038828],\n",
       "       [ 1.21854359],\n",
       "       [ 1.5666989 ]])"
      ]
     },
     "execution_count": 11,
     "metadata": {},
     "output_type": "execute_result"
    }
   ],
   "source": [
    "#position scaling\n",
    "# Range:= -3 to +3\n",
    "X"
   ]
  },
  {
   "cell_type": "code",
   "execution_count": 12,
   "id": "f0141ef7",
   "metadata": {
    "execution": {
     "iopub.execute_input": "2023-08-26T03:18:10.084499Z",
     "iopub.status.busy": "2023-08-26T03:18:10.084078Z",
     "iopub.status.idle": "2023-08-26T03:18:10.092660Z",
     "shell.execute_reply": "2023-08-26T03:18:10.091037Z"
    },
    "papermill": {
     "duration": 0.022679,
     "end_time": "2023-08-26T03:18:10.095437",
     "exception": false,
     "start_time": "2023-08-26T03:18:10.072758",
     "status": "completed"
    },
    "tags": []
   },
   "outputs": [
    {
     "data": {
      "text/plain": [
       "array([[-0.72004253],\n",
       "       [-0.70243757],\n",
       "       [-0.66722767],\n",
       "       [-0.59680786],\n",
       "       [-0.49117815],\n",
       "       [-0.35033854],\n",
       "       [-0.17428902],\n",
       "       [ 0.17781001],\n",
       "       [ 0.88200808],\n",
       "       [ 2.64250325]])"
      ]
     },
     "execution_count": 12,
     "metadata": {},
     "output_type": "execute_result"
    }
   ],
   "source": [
    "#salary scaling\n",
    "# Range:= -3 to +3\n",
    "y"
   ]
  },
  {
   "cell_type": "markdown",
   "id": "1bb74d67",
   "metadata": {
    "papermill": {
     "duration": 0.009415,
     "end_time": "2023-08-26T03:18:10.114627",
     "exception": false,
     "start_time": "2023-08-26T03:18:10.105212",
     "status": "completed"
    },
    "tags": []
   },
   "source": [
    "<a id=\"4\"></a>\n",
    "# 4. SVR Model\n",
    "\n",
    "[Go back to Index](#index)"
   ]
  },
  {
   "cell_type": "code",
   "execution_count": 13,
   "id": "d941c410",
   "metadata": {
    "execution": {
     "iopub.execute_input": "2023-08-26T03:18:10.136185Z",
     "iopub.status.busy": "2023-08-26T03:18:10.135637Z",
     "iopub.status.idle": "2023-08-26T03:18:10.159271Z",
     "shell.execute_reply": "2023-08-26T03:18:10.158284Z"
    },
    "papermill": {
     "duration": 0.037649,
     "end_time": "2023-08-26T03:18:10.162161",
     "exception": false,
     "start_time": "2023-08-26T03:18:10.124512",
     "status": "completed"
    },
    "tags": []
   },
   "outputs": [
    {
     "name": "stderr",
     "output_type": "stream",
     "text": [
      "/opt/conda/lib/python3.10/site-packages/sklearn/utils/validation.py:1143: DataConversionWarning: A column-vector y was passed when a 1d array was expected. Please change the shape of y to (n_samples, ), for example using ravel().\n",
      "  y = column_or_1d(y, warn=True)\n"
     ]
    },
    {
     "data": {
      "text/html": [
       "<style>#sk-container-id-1 {color: black;background-color: white;}#sk-container-id-1 pre{padding: 0;}#sk-container-id-1 div.sk-toggleable {background-color: white;}#sk-container-id-1 label.sk-toggleable__label {cursor: pointer;display: block;width: 100%;margin-bottom: 0;padding: 0.3em;box-sizing: border-box;text-align: center;}#sk-container-id-1 label.sk-toggleable__label-arrow:before {content: \"▸\";float: left;margin-right: 0.25em;color: #696969;}#sk-container-id-1 label.sk-toggleable__label-arrow:hover:before {color: black;}#sk-container-id-1 div.sk-estimator:hover label.sk-toggleable__label-arrow:before {color: black;}#sk-container-id-1 div.sk-toggleable__content {max-height: 0;max-width: 0;overflow: hidden;text-align: left;background-color: #f0f8ff;}#sk-container-id-1 div.sk-toggleable__content pre {margin: 0.2em;color: black;border-radius: 0.25em;background-color: #f0f8ff;}#sk-container-id-1 input.sk-toggleable__control:checked~div.sk-toggleable__content {max-height: 200px;max-width: 100%;overflow: auto;}#sk-container-id-1 input.sk-toggleable__control:checked~label.sk-toggleable__label-arrow:before {content: \"▾\";}#sk-container-id-1 div.sk-estimator input.sk-toggleable__control:checked~label.sk-toggleable__label {background-color: #d4ebff;}#sk-container-id-1 div.sk-label input.sk-toggleable__control:checked~label.sk-toggleable__label {background-color: #d4ebff;}#sk-container-id-1 input.sk-hidden--visually {border: 0;clip: rect(1px 1px 1px 1px);clip: rect(1px, 1px, 1px, 1px);height: 1px;margin: -1px;overflow: hidden;padding: 0;position: absolute;width: 1px;}#sk-container-id-1 div.sk-estimator {font-family: monospace;background-color: #f0f8ff;border: 1px dotted black;border-radius: 0.25em;box-sizing: border-box;margin-bottom: 0.5em;}#sk-container-id-1 div.sk-estimator:hover {background-color: #d4ebff;}#sk-container-id-1 div.sk-parallel-item::after {content: \"\";width: 100%;border-bottom: 1px solid gray;flex-grow: 1;}#sk-container-id-1 div.sk-label:hover label.sk-toggleable__label {background-color: #d4ebff;}#sk-container-id-1 div.sk-serial::before {content: \"\";position: absolute;border-left: 1px solid gray;box-sizing: border-box;top: 0;bottom: 0;left: 50%;z-index: 0;}#sk-container-id-1 div.sk-serial {display: flex;flex-direction: column;align-items: center;background-color: white;padding-right: 0.2em;padding-left: 0.2em;position: relative;}#sk-container-id-1 div.sk-item {position: relative;z-index: 1;}#sk-container-id-1 div.sk-parallel {display: flex;align-items: stretch;justify-content: center;background-color: white;position: relative;}#sk-container-id-1 div.sk-item::before, #sk-container-id-1 div.sk-parallel-item::before {content: \"\";position: absolute;border-left: 1px solid gray;box-sizing: border-box;top: 0;bottom: 0;left: 50%;z-index: -1;}#sk-container-id-1 div.sk-parallel-item {display: flex;flex-direction: column;z-index: 1;position: relative;background-color: white;}#sk-container-id-1 div.sk-parallel-item:first-child::after {align-self: flex-end;width: 50%;}#sk-container-id-1 div.sk-parallel-item:last-child::after {align-self: flex-start;width: 50%;}#sk-container-id-1 div.sk-parallel-item:only-child::after {width: 0;}#sk-container-id-1 div.sk-dashed-wrapped {border: 1px dashed gray;margin: 0 0.4em 0.5em 0.4em;box-sizing: border-box;padding-bottom: 0.4em;background-color: white;}#sk-container-id-1 div.sk-label label {font-family: monospace;font-weight: bold;display: inline-block;line-height: 1.2em;}#sk-container-id-1 div.sk-label-container {text-align: center;}#sk-container-id-1 div.sk-container {/* jupyter's `normalize.less` sets `[hidden] { display: none; }` but bootstrap.min.css set `[hidden] { display: none !important; }` so we also need the `!important` here to be able to override the default hidden behavior on the sphinx rendered scikit-learn.org. See: https://github.com/scikit-learn/scikit-learn/issues/21755 */display: inline-block !important;position: relative;}#sk-container-id-1 div.sk-text-repr-fallback {display: none;}</style><div id=\"sk-container-id-1\" class=\"sk-top-container\"><div class=\"sk-text-repr-fallback\"><pre>SVR()</pre><b>In a Jupyter environment, please rerun this cell to show the HTML representation or trust the notebook. <br />On GitHub, the HTML representation is unable to render, please try loading this page with nbviewer.org.</b></div><div class=\"sk-container\" hidden><div class=\"sk-item\"><div class=\"sk-estimator sk-toggleable\"><input class=\"sk-toggleable__control sk-hidden--visually\" id=\"sk-estimator-id-1\" type=\"checkbox\" checked><label for=\"sk-estimator-id-1\" class=\"sk-toggleable__label sk-toggleable__label-arrow\">SVR</label><div class=\"sk-toggleable__content\"><pre>SVR()</pre></div></div></div></div></div>"
      ],
      "text/plain": [
       "SVR()"
      ]
     },
     "execution_count": 13,
     "metadata": {},
     "output_type": "execute_result"
    }
   ],
   "source": [
    "#Kernel:= RBF -> Radial Basis Function\n",
    "regressor = SVR(kernel = 'rbf')\n",
    "\n",
    "#Train the whole dataset (post Feature Scaling)\n",
    "regressor.fit(X, y)"
   ]
  },
  {
   "cell_type": "markdown",
   "id": "2a93514c",
   "metadata": {
    "papermill": {
     "duration": 0.009937,
     "end_time": "2023-08-26T03:18:10.183108",
     "exception": false,
     "start_time": "2023-08-26T03:18:10.173171",
     "status": "completed"
    },
    "tags": []
   },
   "source": [
    "<a id=\"5\"></a>\n",
    "# 5. Prediction\n",
    "\n",
    "[Go back to Index](#index)"
   ]
  },
  {
   "cell_type": "markdown",
   "id": "ed025553",
   "metadata": {
    "papermill": {
     "duration": 0.009742,
     "end_time": "2023-08-26T03:18:10.203092",
     "exception": false,
     "start_time": "2023-08-26T03:18:10.193350",
     "status": "completed"
    },
    "tags": []
   },
   "source": [
    "Inverse Transformation - get the original format by inversing the feature scaling transform"
   ]
  },
  {
   "cell_type": "code",
   "execution_count": 14,
   "id": "6b87b5fa",
   "metadata": {
    "execution": {
     "iopub.execute_input": "2023-08-26T03:18:10.225247Z",
     "iopub.status.busy": "2023-08-26T03:18:10.224391Z",
     "iopub.status.idle": "2023-08-26T03:18:10.233683Z",
     "shell.execute_reply": "2023-08-26T03:18:10.232461Z"
    },
    "papermill": {
     "duration": 0.023302,
     "end_time": "2023-08-26T03:18:10.236370",
     "exception": false,
     "start_time": "2023-08-26T03:18:10.213068",
     "status": "completed"
    },
    "tags": []
   },
   "outputs": [
    {
     "data": {
      "text/plain": [
       "array([[170370.0204065]])"
      ]
     },
     "execution_count": 14,
     "metadata": {},
     "output_type": "execute_result"
    }
   ],
   "source": [
    "#Inverse transform the y Feature Scaler and then reshape by inversing ( the scaling ) it again to avoid formatting errors\n",
    "sc_y.inverse_transform(regressor.predict(sc_X.transform([[6.5]])).reshape(-1, 1))"
   ]
  },
  {
   "cell_type": "markdown",
   "id": "99fd0d76",
   "metadata": {
    "papermill": {
     "duration": 0.010576,
     "end_time": "2023-08-26T03:18:10.257761",
     "exception": false,
     "start_time": "2023-08-26T03:18:10.247185",
     "status": "completed"
    },
    "tags": []
   },
   "source": [
    "### Note:\n",
    "\n",
    "Be careful when you run the transform/inverse_transform codes, it gives different result based on the <b>order</b> of the cells you run"
   ]
  },
  {
   "cell_type": "markdown",
   "id": "20c16c7f",
   "metadata": {
    "papermill": {
     "duration": 0.010021,
     "end_time": "2023-08-26T03:18:10.278227",
     "exception": false,
     "start_time": "2023-08-26T03:18:10.268206",
     "status": "completed"
    },
    "tags": []
   },
   "source": [
    "<a id=\"6\"></a>\n",
    "# 6. Visualization of the SVR Results\n",
    "\n",
    "[Go back to Index](#index)"
   ]
  },
  {
   "cell_type": "code",
   "execution_count": 15,
   "id": "2c40c107",
   "metadata": {
    "execution": {
     "iopub.execute_input": "2023-08-26T03:18:10.301920Z",
     "iopub.status.busy": "2023-08-26T03:18:10.300664Z",
     "iopub.status.idle": "2023-08-26T03:18:10.650101Z",
     "shell.execute_reply": "2023-08-26T03:18:10.648594Z"
    },
    "papermill": {
     "duration": 0.364626,
     "end_time": "2023-08-26T03:18:10.653250",
     "exception": false,
     "start_time": "2023-08-26T03:18:10.288624",
     "status": "completed"
    },
    "tags": []
   },
   "outputs": [
    {
     "data": {
      "image/png": "[encoded data removed]",
      "text/plain": [
       "<Figure size 640x480 with 1 Axes>"
      ]
     },
     "metadata": {},
     "output_type": "display_data"
    }
   ],
   "source": [
    "plt.title(\"Truth or Bluff (SVR Regression)\")\n",
    "plt.xlabel(\"Position\")\n",
    "plt.ylabel(\"Salary ($)\")\n",
    "\n",
    "plt.scatter(sc_X.inverse_transform(X), sc_y.inverse_transform(y), color=\"red\")\n",
    "plt.plot(sc_X.inverse_transform(X), sc_y.inverse_transform(regressor.predict(X).reshape(-1, 1)), color=\"blue\")\n",
    "plt.show()"
   ]
  },
  {
   "cell_type": "markdown",
   "id": "be9bfcb3",
   "metadata": {
    "papermill": {
     "duration": 0.010824,
     "end_time": "2023-08-26T03:18:10.675031",
     "exception": false,
     "start_time": "2023-08-26T03:18:10.664207",
     "status": "completed"
    },
    "tags": []
   },
   "source": [
    "<a id=\"7\"></a>\n",
    "# 7. Visualization of the SVR Results - Smoother Curve + High Resolution\n",
    "\n",
    "[Go back to Index](#index)"
   ]
  },
  {
   "cell_type": "code",
   "execution_count": 16,
   "id": "c9042508",
   "metadata": {
    "execution": {
     "iopub.execute_input": "2023-08-26T03:18:10.699018Z",
     "iopub.status.busy": "2023-08-26T03:18:10.698605Z",
     "iopub.status.idle": "2023-08-26T03:18:11.018879Z",
     "shell.execute_reply": "2023-08-26T03:18:11.017674Z"
    },
    "papermill": {
     "duration": 0.335593,
     "end_time": "2023-08-26T03:18:11.021584",
     "exception": false,
     "start_time": "2023-08-26T03:18:10.685991",
     "status": "completed"
    },
    "tags": []
   },
   "outputs": [
    {
     "data": {
      "image/png": "[encoded data removed]",
      "text/plain": [
       "<Figure size 640x480 with 1 Axes>"
      ]
     },
     "metadata": {},
     "output_type": "display_data"
    }
   ],
   "source": [
    "plt.title(\"Truth or Bluff (SVR Regression)\")\n",
    "plt.xlabel(\"Position\")\n",
    "plt.ylabel(\"Salary ($)\")\n",
    "\n",
    "X_new = sc_X.inverse_transform(X)\n",
    "X_grid = np.arange(min(X_new), max(X_new), 0.1)\n",
    "X_grid = X_grid.reshape(len(X_grid),1)\n",
    "\n",
    "plt.scatter(sc_X.inverse_transform(X), sc_y.inverse_transform(y), color=\"red\")\n",
    "plt.plot(X_grid, sc_y.inverse_transform(regressor.predict(sc_X.transform(X_grid)).reshape(-1, 1)), color=\"blue\")\n",
    "plt.show()"
   ]
  }
 ],
 "metadata": {
  "kernelspec": {
   "display_name": "Python 3",
   "language": "python",
   "name": "python3"
  },
  "language_info": {
   "codemirror_mode": {
    "name": "ipython",
    "version": 3
   },
   "file_extension": ".py",
   "mimetype": "text/x-python",
   "name": "python",
   "nbconvert_exporter": "python",
   "pygments_lexer": "ipython3",
   "version": "3.10.12"
  },
  "papermill": {
   "default_parameters": {},
   "duration": 16.606789,
   "end_time": "2023-08-26T03:18:12.060435",
   "environment_variables": {},
   "exception": null,
   "input_path": "__notebook__.ipynb",
   "output_path": "__notebook__.ipynb",
   "parameters": {},
   "start_time": "2023-08-26T03:17:55.453646",
   "version": "2.4.0"
  }
 },
 "nbformat": 4,
 "nbformat_minor": 5
}
