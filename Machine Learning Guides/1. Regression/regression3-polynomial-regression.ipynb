{
 "cells": [
  {
   "cell_type": "code",
   "execution_count": 1,
   "id": "d234636c",
   "metadata": {
    "_cell_guid": "b1076dfc-b9ad-4769-8c92-a6c4dae69d19",
    "_uuid": "8f2839f25d086af736a60e9eeb907d3b93b6e0e5",
    "execution": {
     "iopub.execute_input": "2023-08-26T03:16:20.923786Z",
     "iopub.status.busy": "2023-08-26T03:16:20.922892Z",
     "iopub.status.idle": "2023-08-26T03:16:20.948146Z",
     "shell.execute_reply": "2023-08-26T03:16:20.946879Z"
    },
    "papermill": {
     "duration": 0.040519,
     "end_time": "2023-08-26T03:16:20.951060",
     "exception": false,
     "start_time": "2023-08-26T03:16:20.910541",
     "status": "completed"
    },
    "tags": []
   },
   "outputs": [
    {
     "name": "stdout",
     "output_type": "stream",
     "text": [
      "/kaggle/input/position-salaries-polynomial-linear-regression/position_salaries.csv\n"
     ]
    }
   ],
   "source": [
    "# This Python 3 environment comes with many helpful analytics libraries installed\n",
    "# It is defined by the kaggle/python Docker image: https://github.com/kaggle/docker-python\n",
    "# For example, here's several helpful packages to load\n",
    "\n",
    "import numpy as np # linear algebra\n",
    "import pandas as pd # data processing, CSV file I/O (e.g. pd.read_csv)\n",
    "\n",
    "# Input data files are available in the read-only \"../input/\" directory\n",
    "# For example, running this (by clicking run or pressing Shift+Enter) will list all files under the input directory\n",
    "\n",
    "import os\n",
    "for dirname, _, filenames in os.walk('/kaggle/input'):\n",
    "    for filename in filenames:\n",
    "        print(os.path.join(dirname, filename))\n",
    "\n",
    "# You can write up to 20GB to the current directory (/kaggle/working/) that gets preserved as output when you create a version using \"Save & Run All\" \n",
    "# You can also write temporary files to /kaggle/temp/, but they won't be saved outside of the current session"
   ]
  },
  {
   "cell_type": "markdown",
   "id": "e8a631af",
   "metadata": {
    "papermill": {
     "duration": 0.009481,
     "end_time": "2023-08-26T03:16:20.970539",
     "exception": false,
     "start_time": "2023-08-26T03:16:20.961058",
     "status": "completed"
    },
    "tags": []
   },
   "source": [
    "# Credits and Links\n",
    "\n",
    "* UDEMY - Machine Learning A-Z <sup>TM</sup>"
   ]
  },
  {
   "cell_type": "markdown",
   "id": "96a86167",
   "metadata": {
    "papermill": {
     "duration": 0.009834,
     "end_time": "2023-08-26T03:16:20.992342",
     "exception": false,
     "start_time": "2023-08-26T03:16:20.982508",
     "status": "completed"
    },
    "tags": []
   },
   "source": [
    "<a id=\"index\"></a>\n",
    "# Table of Content\n",
    "\n",
    "1. [Importing Libraries](#1)\n",
    "2. [Importing Dataset](#2)\n",
    "3. [Training Linear Regression Model on whole dataset](#3)\n",
    "4. [Training Polynomial Regression Model on whole dataset](#4)\n",
    "5. [Visualizing Linear Regression Results](#5)\n",
    "6. [Visualizing Polynomial Regression Results](#6)\n",
    "7. [Visualizing Polynomial Regression Results - Smoother curve + Higher Resolution](#7)\n",
    "8. [Predict - Linear Model](#8)\n",
    "9. [Predict - Polynomial Model](#9)"
   ]
  },
  {
   "cell_type": "markdown",
   "id": "dcccbe1c",
   "metadata": {
    "papermill": {
     "duration": 0.009985,
     "end_time": "2023-08-26T03:16:21.012835",
     "exception": false,
     "start_time": "2023-08-26T03:16:21.002850",
     "status": "completed"
    },
    "tags": []
   },
   "source": [
    "<a id=\"1\"></a>\n",
    "# 1. Importing Libraries\n",
    "\n",
    "[Go back to Index](#index)"
   ]
  },
  {
   "cell_type": "code",
   "execution_count": 2,
   "id": "32854de8",
   "metadata": {
    "execution": {
     "iopub.execute_input": "2023-08-26T03:16:21.034791Z",
     "iopub.status.busy": "2023-08-26T03:16:21.034309Z",
     "iopub.status.idle": "2023-08-26T03:16:22.785069Z",
     "shell.execute_reply": "2023-08-26T03:16:22.783465Z"
    },
    "papermill": {
     "duration": 1.765713,
     "end_time": "2023-08-26T03:16:22.788559",
     "exception": false,
     "start_time": "2023-08-26T03:16:21.022846",
     "status": "completed"
    },
    "tags": []
   },
   "outputs": [
    {
     "name": "stderr",
     "output_type": "stream",
     "text": [
      "/opt/conda/lib/python3.10/site-packages/scipy/__init__.py:146: UserWarning: A NumPy version >=1.16.5 and <1.23.0 is required for this version of SciPy (detected version 1.23.5\n",
      "  warnings.warn(f\"A NumPy version >={np_minversion} and <{np_maxversion}\"\n"
     ]
    }
   ],
   "source": [
    "#1. General\n",
    "import pandas as pd\n",
    "import numpy as np\n",
    "import os\n",
    "import matplotlib.pyplot as plt\n",
    "%matplotlib inline\n",
    "\n",
    "#2. Data Preprocessing\n",
    "##2.1 Fill Missing Data\n",
    "from sklearn.impute import SimpleImputer\n",
    "\n",
    "##2.2 Encoding\n",
    "from sklearn.compose import ColumnTransformer\n",
    "from sklearn.preprocessing import OneHotEncoder\n",
    "from sklearn.preprocessing import LabelEncoder\n",
    "\n",
    "##2.3 Splitting Train and Test\n",
    "from sklearn.model_selection import train_test_split\n",
    "\n",
    "##2.4 Feature Scaling\n",
    "from sklearn.preprocessing import StandardScaler\n",
    "\n",
    "#3. Linear Regression\n",
    "from sklearn.linear_model import LinearRegression\n",
    "\n",
    "#4. Polynomial Regression\n",
    "from sklearn.preprocessing import PolynomialFeatures"
   ]
  },
  {
   "cell_type": "markdown",
   "id": "da3785bd",
   "metadata": {
    "papermill": {
     "duration": 0.009345,
     "end_time": "2023-08-26T03:16:22.809275",
     "exception": false,
     "start_time": "2023-08-26T03:16:22.799930",
     "status": "completed"
    },
    "tags": []
   },
   "source": [
    "<a id=\"2\"></a>\n",
    "# 2. Importing Dataset\n",
    "[Go back to Index](#index)"
   ]
  },
  {
   "cell_type": "code",
   "execution_count": 3,
   "id": "20d7fb1b",
   "metadata": {
    "execution": {
     "iopub.execute_input": "2023-08-26T03:16:22.830554Z",
     "iopub.status.busy": "2023-08-26T03:16:22.830113Z",
     "iopub.status.idle": "2023-08-26T03:16:22.869076Z",
     "shell.execute_reply": "2023-08-26T03:16:22.867776Z"
    },
    "papermill": {
     "duration": 0.052789,
     "end_time": "2023-08-26T03:16:22.871851",
     "exception": false,
     "start_time": "2023-08-26T03:16:22.819062",
     "status": "completed"
    },
    "tags": []
   },
   "outputs": [
    {
     "data": {
      "text/html": [
       "<div>\n",
       "<style scoped>\n",
       "    .dataframe tbody tr th:only-of-type {\n",
       "        vertical-align: middle;\n",
       "    }\n",
       "\n",
       "    .dataframe tbody tr th {\n",
       "        vertical-align: top;\n",
       "    }\n",
       "\n",
       "    .dataframe thead th {\n",
       "        text-align: right;\n",
       "    }\n",
       "</style>\n",
       "<table border=\"1\" class=\"dataframe\">\n",
       "  <thead>\n",
       "    <tr style=\"text-align: right;\">\n",
       "      <th></th>\n",
       "      <th>Position</th>\n",
       "      <th>Level</th>\n",
       "      <th>Salary</th>\n",
       "    </tr>\n",
       "  </thead>\n",
       "  <tbody>\n",
       "    <tr>\n",
       "      <th>0</th>\n",
       "      <td>Business Analyst</td>\n",
       "      <td>1</td>\n",
       "      <td>45000</td>\n",
       "    </tr>\n",
       "    <tr>\n",
       "      <th>1</th>\n",
       "      <td>Junior Consultant</td>\n",
       "      <td>2</td>\n",
       "      <td>50000</td>\n",
       "    </tr>\n",
       "  </tbody>\n",
       "</table>\n",
       "</div>"
      ],
      "text/plain": [
       "            Position  Level  Salary\n",
       "0   Business Analyst      1   45000\n",
       "1  Junior Consultant      2   50000"
      ]
     },
     "execution_count": 3,
     "metadata": {},
     "output_type": "execute_result"
    }
   ],
   "source": [
    "df = pd.read_csv(\"/kaggle/input/position-salaries-polynomial-linear-regression/position_salaries.csv\")\n",
    "df.head(2)"
   ]
  },
  {
   "cell_type": "code",
   "execution_count": 4,
   "id": "7bc13b8a",
   "metadata": {
    "execution": {
     "iopub.execute_input": "2023-08-26T03:16:22.893882Z",
     "iopub.status.busy": "2023-08-26T03:16:22.893492Z",
     "iopub.status.idle": "2023-08-26T03:16:22.903275Z",
     "shell.execute_reply": "2023-08-26T03:16:22.902003Z"
    },
    "papermill": {
     "duration": 0.02386,
     "end_time": "2023-08-26T03:16:22.906001",
     "exception": false,
     "start_time": "2023-08-26T03:16:22.882141",
     "status": "completed"
    },
    "tags": []
   },
   "outputs": [],
   "source": [
    "X = df.iloc[:,1:-1].values #0th column is redundant as we already have the encoding done in \"Level\"\n",
    "y = df.iloc[:,-1].values"
   ]
  },
  {
   "cell_type": "markdown",
   "id": "42cb7f42",
   "metadata": {
    "papermill": {
     "duration": 0.009655,
     "end_time": "2023-08-26T03:16:22.925641",
     "exception": false,
     "start_time": "2023-08-26T03:16:22.915986",
     "status": "completed"
    },
    "tags": []
   },
   "source": [
    "<a id=\"3\"></a>\n",
    "# 3. Training Linear Regression Model on whole dataset\n",
    "[Go back to Index](#index)"
   ]
  },
  {
   "cell_type": "code",
   "execution_count": 5,
   "id": "c0a24e55",
   "metadata": {
    "execution": {
     "iopub.execute_input": "2023-08-26T03:16:22.947589Z",
     "iopub.status.busy": "2023-08-26T03:16:22.947076Z",
     "iopub.status.idle": "2023-08-26T03:16:22.983345Z",
     "shell.execute_reply": "2023-08-26T03:16:22.982036Z"
    },
    "papermill": {
     "duration": 0.050874,
     "end_time": "2023-08-26T03:16:22.986448",
     "exception": false,
     "start_time": "2023-08-26T03:16:22.935574",
     "status": "completed"
    },
    "tags": []
   },
   "outputs": [
    {
     "data": {
      "text/html": [
       "<style>#sk-container-id-1 {color: black;background-color: white;}#sk-container-id-1 pre{padding: 0;}#sk-container-id-1 div.sk-toggleable {background-color: white;}#sk-container-id-1 label.sk-toggleable__label {cursor: pointer;display: block;width: 100%;margin-bottom: 0;padding: 0.3em;box-sizing: border-box;text-align: center;}#sk-container-id-1 label.sk-toggleable__label-arrow:before {content: \"▸\";float: left;margin-right: 0.25em;color: #696969;}#sk-container-id-1 label.sk-toggleable__label-arrow:hover:before {color: black;}#sk-container-id-1 div.sk-estimator:hover label.sk-toggleable__label-arrow:before {color: black;}#sk-container-id-1 div.sk-toggleable__content {max-height: 0;max-width: 0;overflow: hidden;text-align: left;background-color: #f0f8ff;}#sk-container-id-1 div.sk-toggleable__content pre {margin: 0.2em;color: black;border-radius: 0.25em;background-color: #f0f8ff;}#sk-container-id-1 input.sk-toggleable__control:checked~div.sk-toggleable__content {max-height: 200px;max-width: 100%;overflow: auto;}#sk-container-id-1 input.sk-toggleable__control:checked~label.sk-toggleable__label-arrow:before {content: \"▾\";}#sk-container-id-1 div.sk-estimator input.sk-toggleable__control:checked~label.sk-toggleable__label {background-color: #d4ebff;}#sk-container-id-1 div.sk-label input.sk-toggleable__control:checked~label.sk-toggleable__label {background-color: #d4ebff;}#sk-container-id-1 input.sk-hidden--visually {border: 0;clip: rect(1px 1px 1px 1px);clip: rect(1px, 1px, 1px, 1px);height: 1px;margin: -1px;overflow: hidden;padding: 0;position: absolute;width: 1px;}#sk-container-id-1 div.sk-estimator {font-family: monospace;background-color: #f0f8ff;border: 1px dotted black;border-radius: 0.25em;box-sizing: border-box;margin-bottom: 0.5em;}#sk-container-id-1 div.sk-estimator:hover {background-color: #d4ebff;}#sk-container-id-1 div.sk-parallel-item::after {content: \"\";width: 100%;border-bottom: 1px solid gray;flex-grow: 1;}#sk-container-id-1 div.sk-label:hover label.sk-toggleable__label {background-color: #d4ebff;}#sk-container-id-1 div.sk-serial::before {content: \"\";position: absolute;border-left: 1px solid gray;box-sizing: border-box;top: 0;bottom: 0;left: 50%;z-index: 0;}#sk-container-id-1 div.sk-serial {display: flex;flex-direction: column;align-items: center;background-color: white;padding-right: 0.2em;padding-left: 0.2em;position: relative;}#sk-container-id-1 div.sk-item {position: relative;z-index: 1;}#sk-container-id-1 div.sk-parallel {display: flex;align-items: stretch;justify-content: center;background-color: white;position: relative;}#sk-container-id-1 div.sk-item::before, #sk-container-id-1 div.sk-parallel-item::before {content: \"\";position: absolute;border-left: 1px solid gray;box-sizing: border-box;top: 0;bottom: 0;left: 50%;z-index: -1;}#sk-container-id-1 div.sk-parallel-item {display: flex;flex-direction: column;z-index: 1;position: relative;background-color: white;}#sk-container-id-1 div.sk-parallel-item:first-child::after {align-self: flex-end;width: 50%;}#sk-container-id-1 div.sk-parallel-item:last-child::after {align-self: flex-start;width: 50%;}#sk-container-id-1 div.sk-parallel-item:only-child::after {width: 0;}#sk-container-id-1 div.sk-dashed-wrapped {border: 1px dashed gray;margin: 0 0.4em 0.5em 0.4em;box-sizing: border-box;padding-bottom: 0.4em;background-color: white;}#sk-container-id-1 div.sk-label label {font-family: monospace;font-weight: bold;display: inline-block;line-height: 1.2em;}#sk-container-id-1 div.sk-label-container {text-align: center;}#sk-container-id-1 div.sk-container {/* jupyter's `normalize.less` sets `[hidden] { display: none; }` but bootstrap.min.css set `[hidden] { display: none !important; }` so we also need the `!important` here to be able to override the default hidden behavior on the sphinx rendered scikit-learn.org. See: https://github.com/scikit-learn/scikit-learn/issues/21755 */display: inline-block !important;position: relative;}#sk-container-id-1 div.sk-text-repr-fallback {display: none;}</style><div id=\"sk-container-id-1\" class=\"sk-top-container\"><div class=\"sk-text-repr-fallback\"><pre>LinearRegression()</pre><b>In a Jupyter environment, please rerun this cell to show the HTML representation or trust the notebook. <br />On GitHub, the HTML representation is unable to render, please try loading this page with nbviewer.org.</b></div><div class=\"sk-container\" hidden><div class=\"sk-item\"><div class=\"sk-estimator sk-toggleable\"><input class=\"sk-toggleable__control sk-hidden--visually\" id=\"sk-estimator-id-1\" type=\"checkbox\" checked><label for=\"sk-estimator-id-1\" class=\"sk-toggleable__label sk-toggleable__label-arrow\">LinearRegression</label><div class=\"sk-toggleable__content\"><pre>LinearRegression()</pre></div></div></div></div></div>"
      ],
      "text/plain": [
       "LinearRegression()"
      ]
     },
     "execution_count": 5,
     "metadata": {},
     "output_type": "execute_result"
    }
   ],
   "source": [
    "lin_reg = LinearRegression() #y = b0 + b1*X1\n",
    "lin_reg.fit(X, y) #we have used the entirety of X and y, without dividing them into train/test set"
   ]
  },
  {
   "cell_type": "markdown",
   "id": "ec0d63ee",
   "metadata": {
    "papermill": {
     "duration": 0.009841,
     "end_time": "2023-08-26T03:16:23.008859",
     "exception": false,
     "start_time": "2023-08-26T03:16:22.999018",
     "status": "completed"
    },
    "tags": []
   },
   "source": [
    "<a id=\"4\"></a>\n",
    "# 4. Training Polynomial Regression Model on whole dataset\n",
    "[Go back to Index](#index)"
   ]
  },
  {
   "cell_type": "code",
   "execution_count": 6,
   "id": "5f3360c9",
   "metadata": {
    "execution": {
     "iopub.execute_input": "2023-08-26T03:16:23.031248Z",
     "iopub.status.busy": "2023-08-26T03:16:23.030848Z",
     "iopub.status.idle": "2023-08-26T03:16:23.038721Z",
     "shell.execute_reply": "2023-08-26T03:16:23.037431Z"
    },
    "papermill": {
     "duration": 0.02213,
     "end_time": "2023-08-26T03:16:23.041329",
     "exception": false,
     "start_time": "2023-08-26T03:16:23.019199",
     "status": "completed"
    },
    "tags": []
   },
   "outputs": [
    {
     "data": {
      "text/plain": [
       "array([[ 1],\n",
       "       [ 2],\n",
       "       [ 3],\n",
       "       [ 4],\n",
       "       [ 5],\n",
       "       [ 6],\n",
       "       [ 7],\n",
       "       [ 8],\n",
       "       [ 9],\n",
       "       [10]])"
      ]
     },
     "execution_count": 6,
     "metadata": {},
     "output_type": "execute_result"
    }
   ],
   "source": [
    "X"
   ]
  },
  {
   "cell_type": "code",
   "execution_count": 7,
   "id": "112e8ef3",
   "metadata": {
    "execution": {
     "iopub.execute_input": "2023-08-26T03:16:23.064100Z",
     "iopub.status.busy": "2023-08-26T03:16:23.063647Z",
     "iopub.status.idle": "2023-08-26T03:16:23.073241Z",
     "shell.execute_reply": "2023-08-26T03:16:23.071950Z"
    },
    "papermill": {
     "duration": 0.024062,
     "end_time": "2023-08-26T03:16:23.075854",
     "exception": false,
     "start_time": "2023-08-26T03:16:23.051792",
     "status": "completed"
    },
    "tags": []
   },
   "outputs": [
    {
     "data": {
      "text/plain": [
       "array([[1.000e+00, 1.000e+00, 1.000e+00, 1.000e+00, 1.000e+00],\n",
       "       [1.000e+00, 2.000e+00, 4.000e+00, 8.000e+00, 1.600e+01],\n",
       "       [1.000e+00, 3.000e+00, 9.000e+00, 2.700e+01, 8.100e+01],\n",
       "       [1.000e+00, 4.000e+00, 1.600e+01, 6.400e+01, 2.560e+02],\n",
       "       [1.000e+00, 5.000e+00, 2.500e+01, 1.250e+02, 6.250e+02],\n",
       "       [1.000e+00, 6.000e+00, 3.600e+01, 2.160e+02, 1.296e+03],\n",
       "       [1.000e+00, 7.000e+00, 4.900e+01, 3.430e+02, 2.401e+03],\n",
       "       [1.000e+00, 8.000e+00, 6.400e+01, 5.120e+02, 4.096e+03],\n",
       "       [1.000e+00, 9.000e+00, 8.100e+01, 7.290e+02, 6.561e+03],\n",
       "       [1.000e+00, 1.000e+01, 1.000e+02, 1.000e+03, 1.000e+04]])"
      ]
     },
     "execution_count": 7,
     "metadata": {},
     "output_type": "execute_result"
    }
   ],
   "source": [
    "#poly_reg = PolynomialFeatures(degree=2) #y = b0 + b1*X1 + b2*(X1 ^ 2)\n",
    "poly_reg = PolynomialFeatures(degree=4) #y = b0 + b1*X1 + b2*(X1 ^ 2) + b3*(X1 ^ 3) + b4*(X1 ^ 4)\n",
    "X_poly = poly_reg.fit_transform(X)\n",
    "X_poly"
   ]
  },
  {
   "cell_type": "code",
   "execution_count": 8,
   "id": "197e1efa",
   "metadata": {
    "execution": {
     "iopub.execute_input": "2023-08-26T03:16:23.099496Z",
     "iopub.status.busy": "2023-08-26T03:16:23.098271Z",
     "iopub.status.idle": "2023-08-26T03:16:23.115075Z",
     "shell.execute_reply": "2023-08-26T03:16:23.113875Z"
    },
    "papermill": {
     "duration": 0.031468,
     "end_time": "2023-08-26T03:16:23.117783",
     "exception": false,
     "start_time": "2023-08-26T03:16:23.086315",
     "status": "completed"
    },
    "tags": []
   },
   "outputs": [
    {
     "data": {
      "text/html": [
       "<style>#sk-container-id-2 {color: black;background-color: white;}#sk-container-id-2 pre{padding: 0;}#sk-container-id-2 div.sk-toggleable {background-color: white;}#sk-container-id-2 label.sk-toggleable__label {cursor: pointer;display: block;width: 100%;margin-bottom: 0;padding: 0.3em;box-sizing: border-box;text-align: center;}#sk-container-id-2 label.sk-toggleable__label-arrow:before {content: \"▸\";float: left;margin-right: 0.25em;color: #696969;}#sk-container-id-2 label.sk-toggleable__label-arrow:hover:before {color: black;}#sk-container-id-2 div.sk-estimator:hover label.sk-toggleable__label-arrow:before {color: black;}#sk-container-id-2 div.sk-toggleable__content {max-height: 0;max-width: 0;overflow: hidden;text-align: left;background-color: #f0f8ff;}#sk-container-id-2 div.sk-toggleable__content pre {margin: 0.2em;color: black;border-radius: 0.25em;background-color: #f0f8ff;}#sk-container-id-2 input.sk-toggleable__control:checked~div.sk-toggleable__content {max-height: 200px;max-width: 100%;overflow: auto;}#sk-container-id-2 input.sk-toggleable__control:checked~label.sk-toggleable__label-arrow:before {content: \"▾\";}#sk-container-id-2 div.sk-estimator input.sk-toggleable__control:checked~label.sk-toggleable__label {background-color: #d4ebff;}#sk-container-id-2 div.sk-label input.sk-toggleable__control:checked~label.sk-toggleable__label {background-color: #d4ebff;}#sk-container-id-2 input.sk-hidden--visually {border: 0;clip: rect(1px 1px 1px 1px);clip: rect(1px, 1px, 1px, 1px);height: 1px;margin: -1px;overflow: hidden;padding: 0;position: absolute;width: 1px;}#sk-container-id-2 div.sk-estimator {font-family: monospace;background-color: #f0f8ff;border: 1px dotted black;border-radius: 0.25em;box-sizing: border-box;margin-bottom: 0.5em;}#sk-container-id-2 div.sk-estimator:hover {background-color: #d4ebff;}#sk-container-id-2 div.sk-parallel-item::after {content: \"\";width: 100%;border-bottom: 1px solid gray;flex-grow: 1;}#sk-container-id-2 div.sk-label:hover label.sk-toggleable__label {background-color: #d4ebff;}#sk-container-id-2 div.sk-serial::before {content: \"\";position: absolute;border-left: 1px solid gray;box-sizing: border-box;top: 0;bottom: 0;left: 50%;z-index: 0;}#sk-container-id-2 div.sk-serial {display: flex;flex-direction: column;align-items: center;background-color: white;padding-right: 0.2em;padding-left: 0.2em;position: relative;}#sk-container-id-2 div.sk-item {position: relative;z-index: 1;}#sk-container-id-2 div.sk-parallel {display: flex;align-items: stretch;justify-content: center;background-color: white;position: relative;}#sk-container-id-2 div.sk-item::before, #sk-container-id-2 div.sk-parallel-item::before {content: \"\";position: absolute;border-left: 1px solid gray;box-sizing: border-box;top: 0;bottom: 0;left: 50%;z-index: -1;}#sk-container-id-2 div.sk-parallel-item {display: flex;flex-direction: column;z-index: 1;position: relative;background-color: white;}#sk-container-id-2 div.sk-parallel-item:first-child::after {align-self: flex-end;width: 50%;}#sk-container-id-2 div.sk-parallel-item:last-child::after {align-self: flex-start;width: 50%;}#sk-container-id-2 div.sk-parallel-item:only-child::after {width: 0;}#sk-container-id-2 div.sk-dashed-wrapped {border: 1px dashed gray;margin: 0 0.4em 0.5em 0.4em;box-sizing: border-box;padding-bottom: 0.4em;background-color: white;}#sk-container-id-2 div.sk-label label {font-family: monospace;font-weight: bold;display: inline-block;line-height: 1.2em;}#sk-container-id-2 div.sk-label-container {text-align: center;}#sk-container-id-2 div.sk-container {/* jupyter's `normalize.less` sets `[hidden] { display: none; }` but bootstrap.min.css set `[hidden] { display: none !important; }` so we also need the `!important` here to be able to override the default hidden behavior on the sphinx rendered scikit-learn.org. See: https://github.com/scikit-learn/scikit-learn/issues/21755 */display: inline-block !important;position: relative;}#sk-container-id-2 div.sk-text-repr-fallback {display: none;}</style><div id=\"sk-container-id-2\" class=\"sk-top-container\"><div class=\"sk-text-repr-fallback\"><pre>LinearRegression()</pre><b>In a Jupyter environment, please rerun this cell to show the HTML representation or trust the notebook. <br />On GitHub, the HTML representation is unable to render, please try loading this page with nbviewer.org.</b></div><div class=\"sk-container\" hidden><div class=\"sk-item\"><div class=\"sk-estimator sk-toggleable\"><input class=\"sk-toggleable__control sk-hidden--visually\" id=\"sk-estimator-id-2\" type=\"checkbox\" checked><label for=\"sk-estimator-id-2\" class=\"sk-toggleable__label sk-toggleable__label-arrow\">LinearRegression</label><div class=\"sk-toggleable__content\"><pre>LinearRegression()</pre></div></div></div></div></div>"
      ],
      "text/plain": [
       "LinearRegression()"
      ]
     },
     "execution_count": 8,
     "metadata": {},
     "output_type": "execute_result"
    }
   ],
   "source": [
    "lin_reg2 = LinearRegression()\n",
    "lin_reg2.fit(X_poly, y)"
   ]
  },
  {
   "cell_type": "markdown",
   "id": "0219c938",
   "metadata": {
    "papermill": {
     "duration": 0.011158,
     "end_time": "2023-08-26T03:16:23.140357",
     "exception": false,
     "start_time": "2023-08-26T03:16:23.129199",
     "status": "completed"
    },
    "tags": []
   },
   "source": [
    "<a id=\"5\"></a>\n",
    "# 5. Visualizing Linear Regression Results\n",
    "[Go back to Index](#index)"
   ]
  },
  {
   "cell_type": "code",
   "execution_count": 9,
   "id": "1c5adad1",
   "metadata": {
    "execution": {
     "iopub.execute_input": "2023-08-26T03:16:23.164324Z",
     "iopub.status.busy": "2023-08-26T03:16:23.163888Z",
     "iopub.status.idle": "2023-08-26T03:16:23.501266Z",
     "shell.execute_reply": "2023-08-26T03:16:23.499687Z"
    },
    "papermill": {
     "duration": 0.353187,
     "end_time": "2023-08-26T03:16:23.504558",
     "exception": false,
     "start_time": "2023-08-26T03:16:23.151371",
     "status": "completed"
    },
    "tags": []
   },
   "outputs": [
    {
     "data": {
      "image/png": "[encoded data removed]",
      "text/plain": [
       "<Figure size 640x480 with 1 Axes>"
      ]
     },
     "metadata": {},
     "output_type": "display_data"
    }
   ],
   "source": [
    "plt.title(\"Truth or Bluff (Linear Regression)\")\n",
    "plt.xlabel(\"Position\")\n",
    "plt.ylabel(\"Salary ($)\")\n",
    "\n",
    "plt.scatter(X, y, color=\"red\")\n",
    "plt.plot(X, lin_reg.predict(X), color=\"blue\")\n",
    "plt.show()"
   ]
  },
  {
   "cell_type": "markdown",
   "id": "9763ff31",
   "metadata": {
    "papermill": {
     "duration": 0.011093,
     "end_time": "2023-08-26T03:16:23.527614",
     "exception": false,
     "start_time": "2023-08-26T03:16:23.516521",
     "status": "completed"
    },
    "tags": []
   },
   "source": [
    "<a id=\"6\"></a>\n",
    "# 6. Visualizing Polynomial Regression Results\n",
    "[Go back to Index](#index)"
   ]
  },
  {
   "cell_type": "code",
   "execution_count": 10,
   "id": "d63a482e",
   "metadata": {
    "execution": {
     "iopub.execute_input": "2023-08-26T03:16:23.554523Z",
     "iopub.status.busy": "2023-08-26T03:16:23.553569Z",
     "iopub.status.idle": "2023-08-26T03:16:23.862507Z",
     "shell.execute_reply": "2023-08-26T03:16:23.861261Z"
    },
    "papermill": {
     "duration": 0.325924,
     "end_time": "2023-08-26T03:16:23.865192",
     "exception": false,
     "start_time": "2023-08-26T03:16:23.539268",
     "status": "completed"
    },
    "tags": []
   },
   "outputs": [
    {
     "data": {
      "image/png": "[encoded data removed]",
      "text/plain": [
       "<Figure size 640x480 with 1 Axes>"
      ]
     },
     "metadata": {},
     "output_type": "display_data"
    }
   ],
   "source": [
    "plt.title(\"Truth or Bluff (Polynomial Regression)\")\n",
    "plt.xlabel(\"Position\")\n",
    "plt.ylabel(\"Salary ($)\")\n",
    "\n",
    "plt.scatter(X, y, color=\"red\")\n",
    "plt.plot(X, lin_reg2.predict(X_poly), color=\"blue\")\n",
    "plt.show()"
   ]
  },
  {
   "cell_type": "markdown",
   "id": "c71cd3c4",
   "metadata": {
    "papermill": {
     "duration": 0.011737,
     "end_time": "2023-08-26T03:16:23.889266",
     "exception": false,
     "start_time": "2023-08-26T03:16:23.877529",
     "status": "completed"
    },
    "tags": []
   },
   "source": [
    "### Note:\n",
    "\n",
    "This is also an example of `overfitting`"
   ]
  },
  {
   "cell_type": "markdown",
   "id": "37f699d6",
   "metadata": {
    "papermill": {
     "duration": 0.011699,
     "end_time": "2023-08-26T03:16:23.912902",
     "exception": false,
     "start_time": "2023-08-26T03:16:23.901203",
     "status": "completed"
    },
    "tags": []
   },
   "source": [
    "<a id=\"7\"></a>\n",
    "# 7. Visualizing Polynomial Regression Results - Higher Resolutions + Smoother Curve\n",
    "[Go back to Index](#index)"
   ]
  },
  {
   "cell_type": "code",
   "execution_count": 11,
   "id": "1453a77f",
   "metadata": {
    "execution": {
     "iopub.execute_input": "2023-08-26T03:16:23.939214Z",
     "iopub.status.busy": "2023-08-26T03:16:23.938292Z",
     "iopub.status.idle": "2023-08-26T03:16:23.946946Z",
     "shell.execute_reply": "2023-08-26T03:16:23.945501Z"
    },
    "papermill": {
     "duration": 0.025746,
     "end_time": "2023-08-26T03:16:23.950586",
     "exception": false,
     "start_time": "2023-08-26T03:16:23.924840",
     "status": "completed"
    },
    "tags": []
   },
   "outputs": [
    {
     "data": {
      "text/plain": [
       "array([[ 1],\n",
       "       [ 2],\n",
       "       [ 3],\n",
       "       [ 4],\n",
       "       [ 5],\n",
       "       [ 6],\n",
       "       [ 7],\n",
       "       [ 8],\n",
       "       [ 9],\n",
       "       [10]])"
      ]
     },
     "execution_count": 11,
     "metadata": {},
     "output_type": "execute_result"
    }
   ],
   "source": [
    "X"
   ]
  },
  {
   "cell_type": "code",
   "execution_count": 12,
   "id": "8539f50b",
   "metadata": {
    "execution": {
     "iopub.execute_input": "2023-08-26T03:16:23.977121Z",
     "iopub.status.busy": "2023-08-26T03:16:23.976228Z",
     "iopub.status.idle": "2023-08-26T03:16:23.984165Z",
     "shell.execute_reply": "2023-08-26T03:16:23.983049Z"
    },
    "papermill": {
     "duration": 0.024578,
     "end_time": "2023-08-26T03:16:23.987224",
     "exception": false,
     "start_time": "2023-08-26T03:16:23.962646",
     "status": "completed"
    },
    "tags": []
   },
   "outputs": [
    {
     "data": {
      "text/plain": [
       "(10, 1)"
      ]
     },
     "execution_count": 12,
     "metadata": {},
     "output_type": "execute_result"
    }
   ],
   "source": [
    "X.shape"
   ]
  },
  {
   "cell_type": "code",
   "execution_count": 13,
   "id": "850fbd23",
   "metadata": {
    "execution": {
     "iopub.execute_input": "2023-08-26T03:16:24.015312Z",
     "iopub.status.busy": "2023-08-26T03:16:24.014855Z",
     "iopub.status.idle": "2023-08-26T03:16:24.025078Z",
     "shell.execute_reply": "2023-08-26T03:16:24.023833Z"
    },
    "papermill": {
     "duration": 0.026952,
     "end_time": "2023-08-26T03:16:24.027723",
     "exception": false,
     "start_time": "2023-08-26T03:16:24.000771",
     "status": "completed"
    },
    "tags": []
   },
   "outputs": [
    {
     "data": {
      "text/plain": [
       "array([1. , 1.1, 1.2, 1.3, 1.4, 1.5, 1.6, 1.7, 1.8, 1.9, 2. , 2.1, 2.2,\n",
       "       2.3, 2.4, 2.5, 2.6, 2.7, 2.8, 2.9, 3. , 3.1, 3.2, 3.3, 3.4, 3.5,\n",
       "       3.6, 3.7, 3.8, 3.9, 4. , 4.1, 4.2, 4.3, 4.4, 4.5, 4.6, 4.7, 4.8,\n",
       "       4.9, 5. , 5.1, 5.2, 5.3, 5.4, 5.5, 5.6, 5.7, 5.8, 5.9, 6. , 6.1,\n",
       "       6.2, 6.3, 6.4, 6.5, 6.6, 6.7, 6.8, 6.9, 7. , 7.1, 7.2, 7.3, 7.4,\n",
       "       7.5, 7.6, 7.7, 7.8, 7.9, 8. , 8.1, 8.2, 8.3, 8.4, 8.5, 8.6, 8.7,\n",
       "       8.8, 8.9, 9. , 9.1, 9.2, 9.3, 9.4, 9.5, 9.6, 9.7, 9.8, 9.9])"
      ]
     },
     "execution_count": 13,
     "metadata": {},
     "output_type": "execute_result"
    }
   ],
   "source": [
    "X_grid = np.arange(min(X), max(X), 0.1)\n",
    "X_grid"
   ]
  },
  {
   "cell_type": "code",
   "execution_count": 14,
   "id": "5cf7e709",
   "metadata": {
    "execution": {
     "iopub.execute_input": "2023-08-26T03:16:24.055632Z",
     "iopub.status.busy": "2023-08-26T03:16:24.054671Z",
     "iopub.status.idle": "2023-08-26T03:16:24.062834Z",
     "shell.execute_reply": "2023-08-26T03:16:24.061408Z"
    },
    "papermill": {
     "duration": 0.025131,
     "end_time": "2023-08-26T03:16:24.065837",
     "exception": false,
     "start_time": "2023-08-26T03:16:24.040706",
     "status": "completed"
    },
    "tags": []
   },
   "outputs": [
    {
     "data": {
      "text/plain": [
       "(90,)"
      ]
     },
     "execution_count": 14,
     "metadata": {},
     "output_type": "execute_result"
    }
   ],
   "source": [
    "X_grid.shape"
   ]
  },
  {
   "cell_type": "code",
   "execution_count": 15,
   "id": "bffba98f",
   "metadata": {
    "execution": {
     "iopub.execute_input": "2023-08-26T03:16:24.093545Z",
     "iopub.status.busy": "2023-08-26T03:16:24.093111Z",
     "iopub.status.idle": "2023-08-26T03:16:24.104846Z",
     "shell.execute_reply": "2023-08-26T03:16:24.103435Z"
    },
    "papermill": {
     "duration": 0.029259,
     "end_time": "2023-08-26T03:16:24.107778",
     "exception": false,
     "start_time": "2023-08-26T03:16:24.078519",
     "status": "completed"
    },
    "tags": []
   },
   "outputs": [
    {
     "data": {
      "text/plain": [
       "array([[1. ],\n",
       "       [1.1],\n",
       "       [1.2],\n",
       "       [1.3],\n",
       "       [1.4],\n",
       "       [1.5],\n",
       "       [1.6],\n",
       "       [1.7],\n",
       "       [1.8],\n",
       "       [1.9],\n",
       "       [2. ],\n",
       "       [2.1],\n",
       "       [2.2],\n",
       "       [2.3],\n",
       "       [2.4],\n",
       "       [2.5],\n",
       "       [2.6],\n",
       "       [2.7],\n",
       "       [2.8],\n",
       "       [2.9],\n",
       "       [3. ],\n",
       "       [3.1],\n",
       "       [3.2],\n",
       "       [3.3],\n",
       "       [3.4],\n",
       "       [3.5],\n",
       "       [3.6],\n",
       "       [3.7],\n",
       "       [3.8],\n",
       "       [3.9],\n",
       "       [4. ],\n",
       "       [4.1],\n",
       "       [4.2],\n",
       "       [4.3],\n",
       "       [4.4],\n",
       "       [4.5],\n",
       "       [4.6],\n",
       "       [4.7],\n",
       "       [4.8],\n",
       "       [4.9],\n",
       "       [5. ],\n",
       "       [5.1],\n",
       "       [5.2],\n",
       "       [5.3],\n",
       "       [5.4],\n",
       "       [5.5],\n",
       "       [5.6],\n",
       "       [5.7],\n",
       "       [5.8],\n",
       "       [5.9],\n",
       "       [6. ],\n",
       "       [6.1],\n",
       "       [6.2],\n",
       "       [6.3],\n",
       "       [6.4],\n",
       "       [6.5],\n",
       "       [6.6],\n",
       "       [6.7],\n",
       "       [6.8],\n",
       "       [6.9],\n",
       "       [7. ],\n",
       "       [7.1],\n",
       "       [7.2],\n",
       "       [7.3],\n",
       "       [7.4],\n",
       "       [7.5],\n",
       "       [7.6],\n",
       "       [7.7],\n",
       "       [7.8],\n",
       "       [7.9],\n",
       "       [8. ],\n",
       "       [8.1],\n",
       "       [8.2],\n",
       "       [8.3],\n",
       "       [8.4],\n",
       "       [8.5],\n",
       "       [8.6],\n",
       "       [8.7],\n",
       "       [8.8],\n",
       "       [8.9],\n",
       "       [9. ],\n",
       "       [9.1],\n",
       "       [9.2],\n",
       "       [9.3],\n",
       "       [9.4],\n",
       "       [9.5],\n",
       "       [9.6],\n",
       "       [9.7],\n",
       "       [9.8],\n",
       "       [9.9]])"
      ]
     },
     "execution_count": 15,
     "metadata": {},
     "output_type": "execute_result"
    }
   ],
   "source": [
    "X_grid = X_grid.reshape((len(X_grid),1))\n",
    "X_grid"
   ]
  },
  {
   "cell_type": "code",
   "execution_count": 16,
   "id": "8851f607",
   "metadata": {
    "execution": {
     "iopub.execute_input": "2023-08-26T03:16:24.134919Z",
     "iopub.status.busy": "2023-08-26T03:16:24.134471Z",
     "iopub.status.idle": "2023-08-26T03:16:24.141970Z",
     "shell.execute_reply": "2023-08-26T03:16:24.140786Z"
    },
    "papermill": {
     "duration": 0.024247,
     "end_time": "2023-08-26T03:16:24.144560",
     "exception": false,
     "start_time": "2023-08-26T03:16:24.120313",
     "status": "completed"
    },
    "tags": []
   },
   "outputs": [
    {
     "data": {
      "text/plain": [
       "(90, 1)"
      ]
     },
     "execution_count": 16,
     "metadata": {},
     "output_type": "execute_result"
    }
   ],
   "source": [
    "X_grid.shape"
   ]
  },
  {
   "cell_type": "code",
   "execution_count": 17,
   "id": "b6009531",
   "metadata": {
    "execution": {
     "iopub.execute_input": "2023-08-26T03:16:24.173185Z",
     "iopub.status.busy": "2023-08-26T03:16:24.172764Z",
     "iopub.status.idle": "2023-08-26T03:16:24.187812Z",
     "shell.execute_reply": "2023-08-26T03:16:24.186818Z"
    },
    "papermill": {
     "duration": 0.032011,
     "end_time": "2023-08-26T03:16:24.190329",
     "exception": false,
     "start_time": "2023-08-26T03:16:24.158318",
     "status": "completed"
    },
    "tags": []
   },
   "outputs": [
    {
     "data": {
      "text/plain": [
       "array([[1.0000000e+00, 1.0000000e+00, 1.0000000e+00, 1.0000000e+00,\n",
       "        1.0000000e+00],\n",
       "       [1.0000000e+00, 1.1000000e+00, 1.2100000e+00, 1.3310000e+00,\n",
       "        1.4641000e+00],\n",
       "       [1.0000000e+00, 1.2000000e+00, 1.4400000e+00, 1.7280000e+00,\n",
       "        2.0736000e+00],\n",
       "       [1.0000000e+00, 1.3000000e+00, 1.6900000e+00, 2.1970000e+00,\n",
       "        2.8561000e+00],\n",
       "       [1.0000000e+00, 1.4000000e+00, 1.9600000e+00, 2.7440000e+00,\n",
       "        3.8416000e+00],\n",
       "       [1.0000000e+00, 1.5000000e+00, 2.2500000e+00, 3.3750000e+00,\n",
       "        5.0625000e+00],\n",
       "       [1.0000000e+00, 1.6000000e+00, 2.5600000e+00, 4.0960000e+00,\n",
       "        6.5536000e+00],\n",
       "       [1.0000000e+00, 1.7000000e+00, 2.8900000e+00, 4.9130000e+00,\n",
       "        8.3521000e+00],\n",
       "       [1.0000000e+00, 1.8000000e+00, 3.2400000e+00, 5.8320000e+00,\n",
       "        1.0497600e+01],\n",
       "       [1.0000000e+00, 1.9000000e+00, 3.6100000e+00, 6.8590000e+00,\n",
       "        1.3032100e+01],\n",
       "       [1.0000000e+00, 2.0000000e+00, 4.0000000e+00, 8.0000000e+00,\n",
       "        1.6000000e+01],\n",
       "       [1.0000000e+00, 2.1000000e+00, 4.4100000e+00, 9.2610000e+00,\n",
       "        1.9448100e+01],\n",
       "       [1.0000000e+00, 2.2000000e+00, 4.8400000e+00, 1.0648000e+01,\n",
       "        2.3425600e+01],\n",
       "       [1.0000000e+00, 2.3000000e+00, 5.2900000e+00, 1.2167000e+01,\n",
       "        2.7984100e+01],\n",
       "       [1.0000000e+00, 2.4000000e+00, 5.7600000e+00, 1.3824000e+01,\n",
       "        3.3177600e+01],\n",
       "       [1.0000000e+00, 2.5000000e+00, 6.2500000e+00, 1.5625000e+01,\n",
       "        3.9062500e+01],\n",
       "       [1.0000000e+00, 2.6000000e+00, 6.7600000e+00, 1.7576000e+01,\n",
       "        4.5697600e+01],\n",
       "       [1.0000000e+00, 2.7000000e+00, 7.2900000e+00, 1.9683000e+01,\n",
       "        5.3144100e+01],\n",
       "       [1.0000000e+00, 2.8000000e+00, 7.8400000e+00, 2.1952000e+01,\n",
       "        6.1465600e+01],\n",
       "       [1.0000000e+00, 2.9000000e+00, 8.4100000e+00, 2.4389000e+01,\n",
       "        7.0728100e+01],\n",
       "       [1.0000000e+00, 3.0000000e+00, 9.0000000e+00, 2.7000000e+01,\n",
       "        8.1000000e+01],\n",
       "       [1.0000000e+00, 3.1000000e+00, 9.6100000e+00, 2.9791000e+01,\n",
       "        9.2352100e+01],\n",
       "       [1.0000000e+00, 3.2000000e+00, 1.0240000e+01, 3.2768000e+01,\n",
       "        1.0485760e+02],\n",
       "       [1.0000000e+00, 3.3000000e+00, 1.0890000e+01, 3.5937000e+01,\n",
       "        1.1859210e+02],\n",
       "       [1.0000000e+00, 3.4000000e+00, 1.1560000e+01, 3.9304000e+01,\n",
       "        1.3363360e+02],\n",
       "       [1.0000000e+00, 3.5000000e+00, 1.2250000e+01, 4.2875000e+01,\n",
       "        1.5006250e+02],\n",
       "       [1.0000000e+00, 3.6000000e+00, 1.2960000e+01, 4.6656000e+01,\n",
       "        1.6796160e+02],\n",
       "       [1.0000000e+00, 3.7000000e+00, 1.3690000e+01, 5.0653000e+01,\n",
       "        1.8741610e+02],\n",
       "       [1.0000000e+00, 3.8000000e+00, 1.4440000e+01, 5.4872000e+01,\n",
       "        2.0851360e+02],\n",
       "       [1.0000000e+00, 3.9000000e+00, 1.5210000e+01, 5.9319000e+01,\n",
       "        2.3134410e+02],\n",
       "       [1.0000000e+00, 4.0000000e+00, 1.6000000e+01, 6.4000000e+01,\n",
       "        2.5600000e+02],\n",
       "       [1.0000000e+00, 4.1000000e+00, 1.6810000e+01, 6.8921000e+01,\n",
       "        2.8257610e+02],\n",
       "       [1.0000000e+00, 4.2000000e+00, 1.7640000e+01, 7.4088000e+01,\n",
       "        3.1116960e+02],\n",
       "       [1.0000000e+00, 4.3000000e+00, 1.8490000e+01, 7.9507000e+01,\n",
       "        3.4188010e+02],\n",
       "       [1.0000000e+00, 4.4000000e+00, 1.9360000e+01, 8.5184000e+01,\n",
       "        3.7480960e+02],\n",
       "       [1.0000000e+00, 4.5000000e+00, 2.0250000e+01, 9.1125000e+01,\n",
       "        4.1006250e+02],\n",
       "       [1.0000000e+00, 4.6000000e+00, 2.1160000e+01, 9.7336000e+01,\n",
       "        4.4774560e+02],\n",
       "       [1.0000000e+00, 4.7000000e+00, 2.2090000e+01, 1.0382300e+02,\n",
       "        4.8796810e+02],\n",
       "       [1.0000000e+00, 4.8000000e+00, 2.3040000e+01, 1.1059200e+02,\n",
       "        5.3084160e+02],\n",
       "       [1.0000000e+00, 4.9000000e+00, 2.4010000e+01, 1.1764900e+02,\n",
       "        5.7648010e+02],\n",
       "       [1.0000000e+00, 5.0000000e+00, 2.5000000e+01, 1.2500000e+02,\n",
       "        6.2500000e+02],\n",
       "       [1.0000000e+00, 5.1000000e+00, 2.6010000e+01, 1.3265100e+02,\n",
       "        6.7652010e+02],\n",
       "       [1.0000000e+00, 5.2000000e+00, 2.7040000e+01, 1.4060800e+02,\n",
       "        7.3116160e+02],\n",
       "       [1.0000000e+00, 5.3000000e+00, 2.8090000e+01, 1.4887700e+02,\n",
       "        7.8904810e+02],\n",
       "       [1.0000000e+00, 5.4000000e+00, 2.9160000e+01, 1.5746400e+02,\n",
       "        8.5030560e+02],\n",
       "       [1.0000000e+00, 5.5000000e+00, 3.0250000e+01, 1.6637500e+02,\n",
       "        9.1506250e+02],\n",
       "       [1.0000000e+00, 5.6000000e+00, 3.1360000e+01, 1.7561600e+02,\n",
       "        9.8344960e+02],\n",
       "       [1.0000000e+00, 5.7000000e+00, 3.2490000e+01, 1.8519300e+02,\n",
       "        1.0556001e+03],\n",
       "       [1.0000000e+00, 5.8000000e+00, 3.3640000e+01, 1.9511200e+02,\n",
       "        1.1316496e+03],\n",
       "       [1.0000000e+00, 5.9000000e+00, 3.4810000e+01, 2.0537900e+02,\n",
       "        1.2117361e+03],\n",
       "       [1.0000000e+00, 6.0000000e+00, 3.6000000e+01, 2.1600000e+02,\n",
       "        1.2960000e+03],\n",
       "       [1.0000000e+00, 6.1000000e+00, 3.7210000e+01, 2.2698100e+02,\n",
       "        1.3845841e+03],\n",
       "       [1.0000000e+00, 6.2000000e+00, 3.8440000e+01, 2.3832800e+02,\n",
       "        1.4776336e+03],\n",
       "       [1.0000000e+00, 6.3000000e+00, 3.9690000e+01, 2.5004700e+02,\n",
       "        1.5752961e+03],\n",
       "       [1.0000000e+00, 6.4000000e+00, 4.0960000e+01, 2.6214400e+02,\n",
       "        1.6777216e+03],\n",
       "       [1.0000000e+00, 6.5000000e+00, 4.2250000e+01, 2.7462500e+02,\n",
       "        1.7850625e+03],\n",
       "       [1.0000000e+00, 6.6000000e+00, 4.3560000e+01, 2.8749600e+02,\n",
       "        1.8974736e+03],\n",
       "       [1.0000000e+00, 6.7000000e+00, 4.4890000e+01, 3.0076300e+02,\n",
       "        2.0151121e+03],\n",
       "       [1.0000000e+00, 6.8000000e+00, 4.6240000e+01, 3.1443200e+02,\n",
       "        2.1381376e+03],\n",
       "       [1.0000000e+00, 6.9000000e+00, 4.7610000e+01, 3.2850900e+02,\n",
       "        2.2667121e+03],\n",
       "       [1.0000000e+00, 7.0000000e+00, 4.9000000e+01, 3.4300000e+02,\n",
       "        2.4010000e+03],\n",
       "       [1.0000000e+00, 7.1000000e+00, 5.0410000e+01, 3.5791100e+02,\n",
       "        2.5411681e+03],\n",
       "       [1.0000000e+00, 7.2000000e+00, 5.1840000e+01, 3.7324800e+02,\n",
       "        2.6873856e+03],\n",
       "       [1.0000000e+00, 7.3000000e+00, 5.3290000e+01, 3.8901700e+02,\n",
       "        2.8398241e+03],\n",
       "       [1.0000000e+00, 7.4000000e+00, 5.4760000e+01, 4.0522400e+02,\n",
       "        2.9986576e+03],\n",
       "       [1.0000000e+00, 7.5000000e+00, 5.6250000e+01, 4.2187500e+02,\n",
       "        3.1640625e+03],\n",
       "       [1.0000000e+00, 7.6000000e+00, 5.7760000e+01, 4.3897600e+02,\n",
       "        3.3362176e+03],\n",
       "       [1.0000000e+00, 7.7000000e+00, 5.9290000e+01, 4.5653300e+02,\n",
       "        3.5153041e+03],\n",
       "       [1.0000000e+00, 7.8000000e+00, 6.0840000e+01, 4.7455200e+02,\n",
       "        3.7015056e+03],\n",
       "       [1.0000000e+00, 7.9000000e+00, 6.2410000e+01, 4.9303900e+02,\n",
       "        3.8950081e+03],\n",
       "       [1.0000000e+00, 8.0000000e+00, 6.4000000e+01, 5.1200000e+02,\n",
       "        4.0960000e+03],\n",
       "       [1.0000000e+00, 8.1000000e+00, 6.5610000e+01, 5.3144100e+02,\n",
       "        4.3046721e+03],\n",
       "       [1.0000000e+00, 8.2000000e+00, 6.7240000e+01, 5.5136800e+02,\n",
       "        4.5212176e+03],\n",
       "       [1.0000000e+00, 8.3000000e+00, 6.8890000e+01, 5.7178700e+02,\n",
       "        4.7458321e+03],\n",
       "       [1.0000000e+00, 8.4000000e+00, 7.0560000e+01, 5.9270400e+02,\n",
       "        4.9787136e+03],\n",
       "       [1.0000000e+00, 8.5000000e+00, 7.2250000e+01, 6.1412500e+02,\n",
       "        5.2200625e+03],\n",
       "       [1.0000000e+00, 8.6000000e+00, 7.3960000e+01, 6.3605600e+02,\n",
       "        5.4700816e+03],\n",
       "       [1.0000000e+00, 8.7000000e+00, 7.5690000e+01, 6.5850300e+02,\n",
       "        5.7289761e+03],\n",
       "       [1.0000000e+00, 8.8000000e+00, 7.7440000e+01, 6.8147200e+02,\n",
       "        5.9969536e+03],\n",
       "       [1.0000000e+00, 8.9000000e+00, 7.9210000e+01, 7.0496900e+02,\n",
       "        6.2742241e+03],\n",
       "       [1.0000000e+00, 9.0000000e+00, 8.1000000e+01, 7.2900000e+02,\n",
       "        6.5610000e+03],\n",
       "       [1.0000000e+00, 9.1000000e+00, 8.2810000e+01, 7.5357100e+02,\n",
       "        6.8574961e+03],\n",
       "       [1.0000000e+00, 9.2000000e+00, 8.4640000e+01, 7.7868800e+02,\n",
       "        7.1639296e+03],\n",
       "       [1.0000000e+00, 9.3000000e+00, 8.6490000e+01, 8.0435700e+02,\n",
       "        7.4805201e+03],\n",
       "       [1.0000000e+00, 9.4000000e+00, 8.8360000e+01, 8.3058400e+02,\n",
       "        7.8074896e+03],\n",
       "       [1.0000000e+00, 9.5000000e+00, 9.0250000e+01, 8.5737500e+02,\n",
       "        8.1450625e+03],\n",
       "       [1.0000000e+00, 9.6000000e+00, 9.2160000e+01, 8.8473600e+02,\n",
       "        8.4934656e+03],\n",
       "       [1.0000000e+00, 9.7000000e+00, 9.4090000e+01, 9.1267300e+02,\n",
       "        8.8529281e+03],\n",
       "       [1.0000000e+00, 9.8000000e+00, 9.6040000e+01, 9.4119200e+02,\n",
       "        9.2236816e+03],\n",
       "       [1.0000000e+00, 9.9000000e+00, 9.8010000e+01, 9.7029900e+02,\n",
       "        9.6059601e+03]])"
      ]
     },
     "execution_count": 17,
     "metadata": {},
     "output_type": "execute_result"
    }
   ],
   "source": [
    "X_poly2 = poly_reg.fit_transform(X_grid)\n",
    "X_poly2"
   ]
  },
  {
   "cell_type": "code",
   "execution_count": 18,
   "id": "a696eae1",
   "metadata": {
    "execution": {
     "iopub.execute_input": "2023-08-26T03:16:24.219081Z",
     "iopub.status.busy": "2023-08-26T03:16:24.218677Z",
     "iopub.status.idle": "2023-08-26T03:16:24.535729Z",
     "shell.execute_reply": "2023-08-26T03:16:24.534484Z"
    },
    "papermill": {
     "duration": 0.334966,
     "end_time": "2023-08-26T03:16:24.538710",
     "exception": false,
     "start_time": "2023-08-26T03:16:24.203744",
     "status": "completed"
    },
    "tags": []
   },
   "outputs": [
    {
     "data": {
      "image/png": "[encoded data removed]",
      "text/plain": [
       "<Figure size 640x480 with 1 Axes>"
      ]
     },
     "metadata": {},
     "output_type": "display_data"
    }
   ],
   "source": [
    "plt.title(\"Truth or Bluff (Polynomial Regression)\")\n",
    "plt.xlabel(\"Position\")\n",
    "plt.ylabel(\"Salary ($)\")\n",
    "\n",
    "plt.scatter(X, y, color=\"red\")\n",
    "plt.plot(X_grid, lin_reg2.predict(X_poly2), color=\"blue\")\n",
    "plt.show()"
   ]
  },
  {
   "cell_type": "markdown",
   "id": "8be62e9e",
   "metadata": {
    "papermill": {
     "duration": 0.013627,
     "end_time": "2023-08-26T03:16:24.566840",
     "exception": false,
     "start_time": "2023-08-26T03:16:24.553213",
     "status": "completed"
    },
    "tags": []
   },
   "source": [
    "<a id=\"8\"></a>\n",
    "# 8. Predict - Linear Model \n",
    "[Go back to Index](#index)"
   ]
  },
  {
   "cell_type": "code",
   "execution_count": 19,
   "id": "4b50c0e0",
   "metadata": {
    "execution": {
     "iopub.execute_input": "2023-08-26T03:16:24.597309Z",
     "iopub.status.busy": "2023-08-26T03:16:24.596462Z",
     "iopub.status.idle": "2023-08-26T03:16:24.603762Z",
     "shell.execute_reply": "2023-08-26T03:16:24.602691Z"
    },
    "papermill": {
     "duration": 0.025573,
     "end_time": "2023-08-26T03:16:24.606442",
     "exception": false,
     "start_time": "2023-08-26T03:16:24.580869",
     "status": "completed"
    },
    "tags": []
   },
   "outputs": [
    {
     "data": {
      "text/plain": [
       "array([330378.78787879])"
      ]
     },
     "execution_count": 19,
     "metadata": {},
     "output_type": "execute_result"
    }
   ],
   "source": [
    "lin_reg.predict([[6.5]])"
   ]
  },
  {
   "cell_type": "markdown",
   "id": "b57c751f",
   "metadata": {
    "papermill": {
     "duration": 0.013588,
     "end_time": "2023-08-26T03:16:24.634046",
     "exception": false,
     "start_time": "2023-08-26T03:16:24.620458",
     "status": "completed"
    },
    "tags": []
   },
   "source": [
    "<a id=\"9\"></a>\n",
    "# 9. Predict - Polynomial Model \n",
    "[Go back to Index](#index)"
   ]
  },
  {
   "cell_type": "code",
   "execution_count": 20,
   "id": "9025f88f",
   "metadata": {
    "execution": {
     "iopub.execute_input": "2023-08-26T03:16:24.663975Z",
     "iopub.status.busy": "2023-08-26T03:16:24.663502Z",
     "iopub.status.idle": "2023-08-26T03:16:24.673315Z",
     "shell.execute_reply": "2023-08-26T03:16:24.671186Z"
    },
    "papermill": {
     "duration": 0.028246,
     "end_time": "2023-08-26T03:16:24.676359",
     "exception": false,
     "start_time": "2023-08-26T03:16:24.648113",
     "status": "completed"
    },
    "tags": []
   },
   "outputs": [
    {
     "data": {
      "text/plain": [
       "array([158862.45265155])"
      ]
     },
     "execution_count": 20,
     "metadata": {},
     "output_type": "execute_result"
    }
   ],
   "source": [
    "lin_reg2.predict(poly_reg.fit_transform([[6.5]]))"
   ]
  }
 ],
 "metadata": {
  "kernelspec": {
   "display_name": "Python 3",
   "language": "python",
   "name": "python3"
  },
  "language_info": {
   "codemirror_mode": {
    "name": "ipython",
    "version": 3
   },
   "file_extension": ".py",
   "mimetype": "text/x-python",
   "name": "python",
   "nbconvert_exporter": "python",
   "pygments_lexer": "ipython3",
   "version": "3.10.12"
  },
  "papermill": {
   "default_parameters": {},
   "duration": 17.368941,
   "end_time": "2023-08-26T03:16:25.715095",
   "environment_variables": {},
   "exception": null,
   "input_path": "__notebook__.ipynb",
   "output_path": "__notebook__.ipynb",
   "parameters": {},
   "start_time": "2023-08-26T03:16:08.346154",
   "version": "2.4.0"
  }
 },
 "nbformat": 4,
 "nbformat_minor": 5
}
