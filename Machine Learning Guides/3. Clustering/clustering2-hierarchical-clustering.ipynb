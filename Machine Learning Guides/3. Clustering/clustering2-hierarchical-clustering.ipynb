{
 "cells": [
  {
   "cell_type": "code",
   "execution_count": 1,
   "id": "1279e1b6",
   "metadata": {
    "_cell_guid": "b1076dfc-b9ad-4769-8c92-a6c4dae69d19",
    "_uuid": "8f2839f25d086af736a60e9eeb907d3b93b6e0e5",
    "execution": {
     "iopub.execute_input": "2023-09-26T16:40:21.925325Z",
     "iopub.status.busy": "2023-09-26T16:40:21.924686Z",
     "iopub.status.idle": "2023-09-26T16:40:22.290947Z",
     "shell.execute_reply": "2023-09-26T16:40:22.289893Z"
    },
    "papermill": {
     "duration": 0.377363,
     "end_time": "2023-09-26T16:40:22.295040",
     "exception": false,
     "start_time": "2023-09-26T16:40:21.917677",
     "status": "completed"
    },
    "tags": []
   },
   "outputs": [
    {
     "name": "stdout",
     "output_type": "stream",
     "text": [
      "/kaggle/input/mail-customer/Mall_Customers.csv\n"
     ]
    }
   ],
   "source": [
    "# This Python 3 environment comes with many helpful analytics libraries installed\n",
    "# It is defined by the kaggle/python Docker image: https://github.com/kaggle/docker-python\n",
    "# For example, here's several helpful packages to load\n",
    "\n",
    "import numpy as np # linear algebra\n",
    "import pandas as pd # data processing, CSV file I/O (e.g. pd.read_csv)\n",
    "\n",
    "# Input data files are available in the read-only \"../input/\" directory\n",
    "# For example, running this (by clicking run or pressing Shift+Enter) will list all files under the input directory\n",
    "\n",
    "import os\n",
    "for dirname, _, filenames in os.walk('/kaggle/input'):\n",
    "    for filename in filenames:\n",
    "        print(os.path.join(dirname, filename))\n",
    "\n",
    "# You can write up to 20GB to the current directory (/kaggle/working/) that gets preserved as output when you create a version using \"Save & Run All\" \n",
    "# You can also write temporary files to /kaggle/temp/, but they won't be saved outside of the current session"
   ]
  },
  {
   "cell_type": "markdown",
   "id": "f8b1c3e9",
   "metadata": {
    "papermill": {
     "duration": 0.004447,
     "end_time": "2023-09-26T16:40:22.305052",
     "exception": false,
     "start_time": "2023-09-26T16:40:22.300605",
     "status": "completed"
    },
    "tags": []
   },
   "source": [
    "# Credits and Links\n",
    "\n",
    "* UDEMY - Machine Learning A-Z <sup>TM</sup>*"
   ]
  },
  {
   "cell_type": "markdown",
   "id": "b302cd02",
   "metadata": {
    "papermill": {
     "duration": 0.004133,
     "end_time": "2023-09-26T16:40:22.313647",
     "exception": false,
     "start_time": "2023-09-26T16:40:22.309514",
     "status": "completed"
    },
    "tags": []
   },
   "source": [
    "<a id=\"index\"></a>\n",
    "# Table of Content\n",
    "\n",
    "1. [Importing Libraries](#1)\n",
    "2. [Importing Dataset](#2)\n",
    "3. [Dendogram to find optimal clusters](#3)\n",
    "4. [Hierarchical Clustering Training](#4)\n",
    "5. [Visualization](#5)"
   ]
  },
  {
   "cell_type": "markdown",
   "id": "0a9079f6",
   "metadata": {
    "papermill": {
     "duration": 0.00407,
     "end_time": "2023-09-26T16:40:22.322050",
     "exception": false,
     "start_time": "2023-09-26T16:40:22.317980",
     "status": "completed"
    },
    "tags": []
   },
   "source": [
    "<a id=\"1\"></a>\n",
    "# 1. Importing Libraries\n",
    "\n",
    "[Go back to Index](#index)"
   ]
  },
  {
   "cell_type": "code",
   "execution_count": 2,
   "id": "f70b02db",
   "metadata": {
    "execution": {
     "iopub.execute_input": "2023-09-26T16:40:22.332580Z",
     "iopub.status.busy": "2023-09-26T16:40:22.331986Z",
     "iopub.status.idle": "2023-09-26T16:40:23.951917Z",
     "shell.execute_reply": "2023-09-26T16:40:23.950932Z"
    },
    "papermill": {
     "duration": 1.627943,
     "end_time": "2023-09-26T16:40:23.954354",
     "exception": false,
     "start_time": "2023-09-26T16:40:22.326411",
     "status": "completed"
    },
    "tags": []
   },
   "outputs": [],
   "source": [
    "#1. General\n",
    "import pandas as pd\n",
    "import numpy as np\n",
    "import os\n",
    "import matplotlib.pyplot as plt\n",
    "%matplotlib inline\n",
    "\n",
    "#2. Hierarchical Clustering \n",
    "\n",
    "##2.1 Dendogram\n",
    "from scipy.cluster import hierarchy as sch\n",
    "\n",
    "##2.2 Model\n",
    "from sklearn.cluster import AgglomerativeClustering"
   ]
  },
  {
   "cell_type": "markdown",
   "id": "1c9fc306",
   "metadata": {
    "papermill": {
     "duration": 0.004327,
     "end_time": "2023-09-26T16:40:23.963381",
     "exception": false,
     "start_time": "2023-09-26T16:40:23.959054",
     "status": "completed"
    },
    "tags": []
   },
   "source": [
    "<a id=\"2\"></a>\n",
    "# 2. Importing Dataset\n",
    "\n",
    "[Go back to Index](#index)"
   ]
  },
  {
   "cell_type": "code",
   "execution_count": 3,
   "id": "9425a993",
   "metadata": {
    "execution": {
     "iopub.execute_input": "2023-09-26T16:40:23.974673Z",
     "iopub.status.busy": "2023-09-26T16:40:23.973570Z",
     "iopub.status.idle": "2023-09-26T16:40:23.991906Z",
     "shell.execute_reply": "2023-09-26T16:40:23.991043Z"
    },
    "papermill": {
     "duration": 0.026173,
     "end_time": "2023-09-26T16:40:23.994120",
     "exception": false,
     "start_time": "2023-09-26T16:40:23.967947",
     "status": "completed"
    },
    "tags": []
   },
   "outputs": [],
   "source": [
    "df = pd.read_csv(\"/kaggle/input/mail-customer/Mall_Customers.csv\")"
   ]
  },
  {
   "cell_type": "code",
   "execution_count": 4,
   "id": "0b263f35",
   "metadata": {
    "execution": {
     "iopub.execute_input": "2023-09-26T16:40:24.005905Z",
     "iopub.status.busy": "2023-09-26T16:40:24.004698Z",
     "iopub.status.idle": "2023-09-26T16:40:24.026956Z",
     "shell.execute_reply": "2023-09-26T16:40:24.025943Z"
    },
    "papermill": {
     "duration": 0.030481,
     "end_time": "2023-09-26T16:40:24.029311",
     "exception": false,
     "start_time": "2023-09-26T16:40:23.998830",
     "status": "completed"
    },
    "tags": []
   },
   "outputs": [
    {
     "data": {
      "text/html": [
       "<div>\n",
       "<style scoped>\n",
       "    .dataframe tbody tr th:only-of-type {\n",
       "        vertical-align: middle;\n",
       "    }\n",
       "\n",
       "    .dataframe tbody tr th {\n",
       "        vertical-align: top;\n",
       "    }\n",
       "\n",
       "    .dataframe thead th {\n",
       "        text-align: right;\n",
       "    }\n",
       "</style>\n",
       "<table border=\"1\" class=\"dataframe\">\n",
       "  <thead>\n",
       "    <tr style=\"text-align: right;\">\n",
       "      <th></th>\n",
       "      <th>CustomerID</th>\n",
       "      <th>Gender</th>\n",
       "      <th>Age</th>\n",
       "      <th>Annual Income (k$)</th>\n",
       "      <th>Spending Score (1-100)</th>\n",
       "    </tr>\n",
       "  </thead>\n",
       "  <tbody>\n",
       "    <tr>\n",
       "      <th>0</th>\n",
       "      <td>1</td>\n",
       "      <td>Male</td>\n",
       "      <td>19</td>\n",
       "      <td>15</td>\n",
       "      <td>39</td>\n",
       "    </tr>\n",
       "    <tr>\n",
       "      <th>1</th>\n",
       "      <td>2</td>\n",
       "      <td>Male</td>\n",
       "      <td>21</td>\n",
       "      <td>15</td>\n",
       "      <td>81</td>\n",
       "    </tr>\n",
       "  </tbody>\n",
       "</table>\n",
       "</div>"
      ],
      "text/plain": [
       "   CustomerID Gender  Age  Annual Income (k$)  Spending Score (1-100)\n",
       "0           1   Male   19                  15                      39\n",
       "1           2   Male   21                  15                      81"
      ]
     },
     "execution_count": 4,
     "metadata": {},
     "output_type": "execute_result"
    }
   ],
   "source": [
    "df.head(2)"
   ]
  },
  {
   "cell_type": "code",
   "execution_count": 5,
   "id": "6a39abbd",
   "metadata": {
    "execution": {
     "iopub.execute_input": "2023-09-26T16:40:24.040384Z",
     "iopub.status.busy": "2023-09-26T16:40:24.039992Z",
     "iopub.status.idle": "2023-09-26T16:40:24.056840Z",
     "shell.execute_reply": "2023-09-26T16:40:24.055989Z"
    },
    "papermill": {
     "duration": 0.024734,
     "end_time": "2023-09-26T16:40:24.059018",
     "exception": false,
     "start_time": "2023-09-26T16:40:24.034284",
     "status": "completed"
    },
    "tags": []
   },
   "outputs": [
    {
     "data": {
      "text/html": [
       "<div>\n",
       "<style scoped>\n",
       "    .dataframe tbody tr th:only-of-type {\n",
       "        vertical-align: middle;\n",
       "    }\n",
       "\n",
       "    .dataframe tbody tr th {\n",
       "        vertical-align: top;\n",
       "    }\n",
       "\n",
       "    .dataframe thead th {\n",
       "        text-align: right;\n",
       "    }\n",
       "</style>\n",
       "<table border=\"1\" class=\"dataframe\">\n",
       "  <thead>\n",
       "    <tr style=\"text-align: right;\">\n",
       "      <th></th>\n",
       "      <th>Annual Income (k$)</th>\n",
       "      <th>Spending Score (1-100)</th>\n",
       "    </tr>\n",
       "  </thead>\n",
       "  <tbody>\n",
       "    <tr>\n",
       "      <th>0</th>\n",
       "      <td>15</td>\n",
       "      <td>39</td>\n",
       "    </tr>\n",
       "    <tr>\n",
       "      <th>1</th>\n",
       "      <td>15</td>\n",
       "      <td>81</td>\n",
       "    </tr>\n",
       "    <tr>\n",
       "      <th>2</th>\n",
       "      <td>16</td>\n",
       "      <td>6</td>\n",
       "    </tr>\n",
       "    <tr>\n",
       "      <th>3</th>\n",
       "      <td>16</td>\n",
       "      <td>77</td>\n",
       "    </tr>\n",
       "    <tr>\n",
       "      <th>4</th>\n",
       "      <td>17</td>\n",
       "      <td>40</td>\n",
       "    </tr>\n",
       "    <tr>\n",
       "      <th>...</th>\n",
       "      <td>...</td>\n",
       "      <td>...</td>\n",
       "    </tr>\n",
       "    <tr>\n",
       "      <th>195</th>\n",
       "      <td>120</td>\n",
       "      <td>79</td>\n",
       "    </tr>\n",
       "    <tr>\n",
       "      <th>196</th>\n",
       "      <td>126</td>\n",
       "      <td>28</td>\n",
       "    </tr>\n",
       "    <tr>\n",
       "      <th>197</th>\n",
       "      <td>126</td>\n",
       "      <td>74</td>\n",
       "    </tr>\n",
       "    <tr>\n",
       "      <th>198</th>\n",
       "      <td>137</td>\n",
       "      <td>18</td>\n",
       "    </tr>\n",
       "    <tr>\n",
       "      <th>199</th>\n",
       "      <td>137</td>\n",
       "      <td>83</td>\n",
       "    </tr>\n",
       "  </tbody>\n",
       "</table>\n",
       "<p>200 rows × 2 columns</p>\n",
       "</div>"
      ],
      "text/plain": [
       "     Annual Income (k$)  Spending Score (1-100)\n",
       "0                    15                      39\n",
       "1                    15                      81\n",
       "2                    16                       6\n",
       "3                    16                      77\n",
       "4                    17                      40\n",
       "..                  ...                     ...\n",
       "195                 120                      79\n",
       "196                 126                      28\n",
       "197                 126                      74\n",
       "198                 137                      18\n",
       "199                 137                      83\n",
       "\n",
       "[200 rows x 2 columns]"
      ]
     },
     "execution_count": 5,
     "metadata": {},
     "output_type": "execute_result"
    }
   ],
   "source": [
    "df.iloc[:, [3,4]]"
   ]
  },
  {
   "cell_type": "code",
   "execution_count": 6,
   "id": "9c3e9a39",
   "metadata": {
    "execution": {
     "iopub.execute_input": "2023-09-26T16:40:24.070659Z",
     "iopub.status.busy": "2023-09-26T16:40:24.070020Z",
     "iopub.status.idle": "2023-09-26T16:40:24.077948Z",
     "shell.execute_reply": "2023-09-26T16:40:24.077086Z"
    },
    "papermill": {
     "duration": 0.016109,
     "end_time": "2023-09-26T16:40:24.080149",
     "exception": false,
     "start_time": "2023-09-26T16:40:24.064040",
     "status": "completed"
    },
    "tags": []
   },
   "outputs": [],
   "source": [
    "df = pd.read_csv('/kaggle/input/mail-customer/Mall_Customers.csv')\n",
    "X = df.iloc[:, [3,4]].values #Unsupervised learning, only X, also [3,4] is the random centroid we start with"
   ]
  },
  {
   "cell_type": "markdown",
   "id": "2a9fdf03",
   "metadata": {
    "papermill": {
     "duration": 0.004686,
     "end_time": "2023-09-26T16:40:24.089973",
     "exception": false,
     "start_time": "2023-09-26T16:40:24.085287",
     "status": "completed"
    },
    "tags": []
   },
   "source": [
    "<a id=\"3\"></a>\n",
    "# 3. Dendogram Method to find the optimal number of clusters\n",
    "\n",
    "[Go back to Index](#index)"
   ]
  },
  {
   "cell_type": "markdown",
   "id": "38196c96",
   "metadata": {
    "papermill": {
     "duration": 0.004591,
     "end_time": "2023-09-26T16:40:24.099363",
     "exception": false,
     "start_time": "2023-09-26T16:40:24.094772",
     "status": "completed"
    },
    "tags": []
   },
   "source": [
    "<a href=\"https://en.wikipedia.org/wiki/Ward%27s_method\">Ward's method for Hierarchical Clustering</a>"
   ]
  },
  {
   "cell_type": "markdown",
   "id": "d6692928",
   "metadata": {
    "papermill": {
     "duration": 0.004436,
     "end_time": "2023-09-26T16:40:24.108916",
     "exception": false,
     "start_time": "2023-09-26T16:40:24.104480",
     "status": "completed"
    },
    "tags": []
   },
   "source": [
    "<a href=\"https://www.datacamp.com/tutorial/introduction-hierarchical-clustering-python\">Datacamp article on Hierarchical clustering</a>"
   ]
  },
  {
   "cell_type": "code",
   "execution_count": 7,
   "id": "bbd44ca9",
   "metadata": {
    "execution": {
     "iopub.execute_input": "2023-09-26T16:40:24.120067Z",
     "iopub.status.busy": "2023-09-26T16:40:24.119713Z",
     "iopub.status.idle": "2023-09-26T16:40:26.214631Z",
     "shell.execute_reply": "2023-09-26T16:40:26.213604Z"
    },
    "papermill": {
     "duration": 2.103461,
     "end_time": "2023-09-26T16:40:26.217108",
     "exception": false,
     "start_time": "2023-09-26T16:40:24.113647",
     "status": "completed"
    },
    "tags": []
   },
   "outputs": [
    {
     "data": {
      "image/png": "[encoded data removed]",
      "text/plain": [
       "<Figure size 640x480 with 1 Axes>"
      ]
     },
     "metadata": {},
     "output_type": "display_data"
    }
   ],
   "source": [
    "# clustering method:= ward\n",
    "# minimizing variance inside clusters\n",
    "dendogram = sch.dendrogram(sch.linkage(X, method=\"ward\"))\n",
    "\n",
    "plt.title(\"Dendogram\")\n",
    "plt.xlabel(\"Customers\")\n",
    "plt.ylabel(\"Euclidean Distances\")\n",
    "plt.show()"
   ]
  },
  {
   "cell_type": "markdown",
   "id": "5c122666",
   "metadata": {
    "papermill": {
     "duration": 0.00552,
     "end_time": "2023-09-26T16:40:26.228352",
     "exception": false,
     "start_time": "2023-09-26T16:40:26.222832",
     "status": "completed"
    },
    "tags": []
   },
   "source": [
    "How to find the optimal number of clusters ? Simply find the largest euclidean distance possible when you scroll the horizontal line (you should stop when you reach the next horizontal line)\n",
    "\n",
    "Here, it is 5"
   ]
  },
  {
   "cell_type": "markdown",
   "id": "ea80d816",
   "metadata": {
    "papermill": {
     "duration": 0.005157,
     "end_time": "2023-09-26T16:40:26.239103",
     "exception": false,
     "start_time": "2023-09-26T16:40:26.233946",
     "status": "completed"
    },
    "tags": []
   },
   "source": [
    "<a id=\"4\"></a>\n",
    "# 4. Training Hierarchical model on the dataset\n",
    "\n",
    "[Go back to Index](#index)"
   ]
  },
  {
   "cell_type": "code",
   "execution_count": 8,
   "id": "674ee6ef",
   "metadata": {
    "execution": {
     "iopub.execute_input": "2023-09-26T16:40:26.251909Z",
     "iopub.status.busy": "2023-09-26T16:40:26.251286Z",
     "iopub.status.idle": "2023-09-26T16:40:26.259670Z",
     "shell.execute_reply": "2023-09-26T16:40:26.258636Z"
    },
    "papermill": {
     "duration": 0.017344,
     "end_time": "2023-09-26T16:40:26.261930",
     "exception": false,
     "start_time": "2023-09-26T16:40:26.244586",
     "status": "completed"
    },
    "tags": []
   },
   "outputs": [
    {
     "name": "stderr",
     "output_type": "stream",
     "text": [
      "/opt/conda/lib/python3.10/site-packages/sklearn/cluster/_agglomerative.py:983: FutureWarning: Attribute `affinity` was deprecated in version 1.2 and will be removed in 1.4. Use `metric` instead\n",
      "  warnings.warn(\n"
     ]
    }
   ],
   "source": [
    "hc = AgglomerativeClustering(n_clusters = 5, affinity=\"euclidean\", linkage=\"ward\")\n",
    "y_hc = hc.fit_predict(X)"
   ]
  },
  {
   "cell_type": "code",
   "execution_count": 9,
   "id": "d46e5b13",
   "metadata": {
    "execution": {
     "iopub.execute_input": "2023-09-26T16:40:26.274785Z",
     "iopub.status.busy": "2023-09-26T16:40:26.274452Z",
     "iopub.status.idle": "2023-09-26T16:40:26.280305Z",
     "shell.execute_reply": "2023-09-26T16:40:26.279606Z"
    },
    "papermill": {
     "duration": 0.01449,
     "end_time": "2023-09-26T16:40:26.282060",
     "exception": false,
     "start_time": "2023-09-26T16:40:26.267570",
     "status": "completed"
    },
    "tags": []
   },
   "outputs": [
    {
     "data": {
      "text/plain": [
       "array([4, 3, 4, 3, 4, 3, 4, 3, 4, 3, 4, 3, 4, 3, 4, 3, 4, 3, 4, 3, 4, 3,\n",
       "       4, 3, 4, 3, 4, 3, 4, 3, 4, 3, 4, 3, 4, 3, 4, 3, 4, 3, 4, 3, 4, 1,\n",
       "       4, 1, 1, 1, 1, 1, 1, 1, 1, 1, 1, 1, 1, 1, 1, 1, 1, 1, 1, 1, 1, 1,\n",
       "       1, 1, 1, 1, 1, 1, 1, 1, 1, 1, 1, 1, 1, 1, 1, 1, 1, 1, 1, 1, 1, 1,\n",
       "       1, 1, 1, 1, 1, 1, 1, 1, 1, 1, 1, 1, 1, 1, 1, 1, 1, 1, 1, 1, 1, 1,\n",
       "       1, 1, 1, 1, 1, 1, 1, 1, 1, 1, 1, 1, 1, 2, 1, 2, 1, 2, 0, 2, 0, 2,\n",
       "       1, 2, 0, 2, 0, 2, 0, 2, 0, 2, 1, 2, 0, 2, 1, 2, 0, 2, 0, 2, 0, 2,\n",
       "       0, 2, 0, 2, 0, 2, 1, 2, 0, 2, 0, 2, 0, 2, 0, 2, 0, 2, 0, 2, 0, 2,\n",
       "       0, 2, 0, 2, 0, 2, 0, 2, 0, 2, 0, 2, 0, 2, 0, 2, 0, 2, 0, 2, 0, 2,\n",
       "       0, 2])"
      ]
     },
     "execution_count": 9,
     "metadata": {},
     "output_type": "execute_result"
    }
   ],
   "source": [
    "y_hc"
   ]
  },
  {
   "cell_type": "markdown",
   "id": "c8c34394",
   "metadata": {
    "papermill": {
     "duration": 0.005401,
     "end_time": "2023-09-26T16:40:26.293208",
     "exception": false,
     "start_time": "2023-09-26T16:40:26.287807",
     "status": "completed"
    },
    "tags": []
   },
   "source": [
    "<a id=\"5\"></a>\n",
    "# 5. Visualization\n",
    "\n",
    "[Go back to Index](#index)"
   ]
  },
  {
   "cell_type": "code",
   "execution_count": 10,
   "id": "0677bb41",
   "metadata": {
    "execution": {
     "iopub.execute_input": "2023-09-26T16:40:26.306702Z",
     "iopub.status.busy": "2023-09-26T16:40:26.305694Z",
     "iopub.status.idle": "2023-09-26T16:40:26.685430Z",
     "shell.execute_reply": "2023-09-26T16:40:26.684560Z"
    },
    "papermill": {
     "duration": 0.388609,
     "end_time": "2023-09-26T16:40:26.687389",
     "exception": false,
     "start_time": "2023-09-26T16:40:26.298780",
     "status": "completed"
    },
    "tags": []
   },
   "outputs": [
    {
     "data": {
      "image/png": "[encoded data removed]",
      "text/plain": [
       "<Figure size 640x480 with 1 Axes>"
      ]
     },
     "metadata": {},
     "output_type": "display_data"
    }
   ],
   "source": [
    "#Cluster 1\n",
    "plt.scatter(\n",
    "    X[y_hc == 0, 0],\n",
    "    X[y_hc == 0, 1],\n",
    "    s = 100, #size\n",
    "    c = \"red\", #color\n",
    "    label=\"Cluster1\"\n",
    ")\n",
    "\n",
    "#Cluster 2\n",
    "plt.scatter(\n",
    "    X[y_hc == 1, 0],\n",
    "    X[y_hc == 1, 1],\n",
    "    s = 100, #size\n",
    "    c = \"blue\", #color\n",
    "    label=\"Cluster2\"\n",
    ")\n",
    "\n",
    "#Cluster 3\n",
    "plt.scatter(\n",
    "    X[y_hc == 2, 0],\n",
    "    X[y_hc == 2, 1],\n",
    "    s = 100, #size\n",
    "    c = \"green\", #color\n",
    "    label=\"Cluster3\"\n",
    ")\n",
    "\n",
    "#Cluster 4\n",
    "plt.scatter(\n",
    "    X[y_hc == 3, 0],\n",
    "    X[y_hc == 3, 1],\n",
    "    s = 100, #size\n",
    "    c = \"cyan\", #color\n",
    "    label=\"Cluster3\"\n",
    ")\n",
    "\n",
    "#Cluster 5\n",
    "plt.scatter(\n",
    "    X[y_hc == 4, 0],\n",
    "    X[y_hc == 4, 1],\n",
    "    s = 100, #size\n",
    "    c = \"magenta\", #color\n",
    "    label=\"Cluster3\"\n",
    ")\n",
    "\n",
    "plt.title(\"Clusters of Customers\")\n",
    "plt.xlabel(\"Annual Income (k$)\")\n",
    "plt.ylabel(\"Spending Score (1-100)\")\n",
    "plt.legend()\n",
    "plt.show()"
   ]
  }
 ],
 "metadata": {
  "kernelspec": {
   "display_name": "Python 3",
   "language": "python",
   "name": "python3"
  },
  "language_info": {
   "codemirror_mode": {
    "name": "ipython",
    "version": 3
   },
   "file_extension": ".py",
   "mimetype": "text/x-python",
   "name": "python",
   "nbconvert_exporter": "python",
   "pygments_lexer": "ipython3",
   "version": "3.10.12"
  },
  "papermill": {
   "default_parameters": {},
   "duration": 8.55406,
   "end_time": "2023-09-26T16:40:27.316180",
   "environment_variables": {},
   "exception": null,
   "input_path": "__notebook__.ipynb",
   "output_path": "__notebook__.ipynb",
   "parameters": {},
   "start_time": "2023-09-26T16:40:18.762120",
   "version": "2.4.0"
  }
 },
 "nbformat": 4,
 "nbformat_minor": 5
}
