{
 "cells": [
  {
   "cell_type": "code",
   "execution_count": 1,
   "id": "9bba594e",
   "metadata": {
    "_cell_guid": "b1076dfc-b9ad-4769-8c92-a6c4dae69d19",
    "_uuid": "8f2839f25d086af736a60e9eeb907d3b93b6e0e5",
    "execution": {
     "iopub.execute_input": "2023-09-03T13:29:53.193648Z",
     "iopub.status.busy": "2023-09-03T13:29:53.193127Z",
     "iopub.status.idle": "2023-09-03T13:29:53.618246Z",
     "shell.execute_reply": "2023-09-03T13:29:53.617074Z"
    },
    "papermill": {
     "duration": 0.442463,
     "end_time": "2023-09-03T13:29:53.620994",
     "exception": false,
     "start_time": "2023-09-03T13:29:53.178531",
     "status": "completed"
    },
    "tags": []
   },
   "outputs": [
    {
     "name": "stdout",
     "output_type": "stream",
     "text": [
      "/kaggle/input/social-network-ads/Social_Network_Ads.csv\n"
     ]
    }
   ],
   "source": [
    "# This Python 3 environment comes with many helpful analytics libraries installed\n",
    "# It is defined by the kaggle/python Docker image: https://github.com/kaggle/docker-python\n",
    "# For example, here's several helpful packages to load\n",
    "\n",
    "import numpy as np # linear algebra\n",
    "import pandas as pd # data processing, CSV file I/O (e.g. pd.read_csv)\n",
    "\n",
    "# Input data files are available in the read-only \"../input/\" directory\n",
    "# For example, running this (by clicking run or pressing Shift+Enter) will list all files under the input directory\n",
    "\n",
    "import os\n",
    "for dirname, _, filenames in os.walk('/kaggle/input'):\n",
    "    for filename in filenames:\n",
    "        print(os.path.join(dirname, filename))\n",
    "\n",
    "# You can write up to 20GB to the current directory (/kaggle/working/) that gets preserved as output when you create a version using \"Save & Run All\" \n",
    "# You can also write temporary files to /kaggle/temp/, but they won't be saved outside of the current session"
   ]
  },
  {
   "cell_type": "markdown",
   "id": "3c52f293",
   "metadata": {
    "papermill": {
     "duration": 0.011081,
     "end_time": "2023-09-03T13:29:53.644045",
     "exception": false,
     "start_time": "2023-09-03T13:29:53.632964",
     "status": "completed"
    },
    "tags": []
   },
   "source": [
    "# Credits and Links\n",
    "\n",
    "* UDEMY - Machine Learning A-Z <sup>TM</sup>*"
   ]
  },
  {
   "cell_type": "markdown",
   "id": "86759a89",
   "metadata": {
    "papermill": {
     "duration": 0.010982,
     "end_time": "2023-09-03T13:29:53.666583",
     "exception": false,
     "start_time": "2023-09-03T13:29:53.655601",
     "status": "completed"
    },
    "tags": []
   },
   "source": [
    "<a id=\"index\"></a>\n",
    "# Table of Content\n",
    "\n",
    "1. [Importing Libraries](#1)\n",
    "2. [Importing Dataset](#2)\n",
    "3. [Splitting the dataset into Train/Test](#3)\n",
    "4. [Feature Scaling](#4)\n",
    "5. [Naive Bayes Classifier](#5)\n",
    "6. [Prediction](#6)\n",
    "    - [New Result](#6.1)\n",
    "    - [Test Result](#6.2)\n",
    "7. [Confusion Matrix](#7)\n",
    "6. [Visualization](#8)\n",
    "    - [Training set results](#8.1)\n",
    "    - [Test set results](#8.2)"
   ]
  },
  {
   "cell_type": "markdown",
   "id": "803bd7dd",
   "metadata": {
    "papermill": {
     "duration": 0.011154,
     "end_time": "2023-09-03T13:29:53.689102",
     "exception": false,
     "start_time": "2023-09-03T13:29:53.677948",
     "status": "completed"
    },
    "tags": []
   },
   "source": [
    "<a id=\"1\"></a>\n",
    "# 1. Importing Libraries\n",
    "\n",
    "[Go back to Index](#index)"
   ]
  },
  {
   "cell_type": "code",
   "execution_count": 2,
   "id": "f4f493bb",
   "metadata": {
    "execution": {
     "iopub.execute_input": "2023-09-03T13:29:53.713885Z",
     "iopub.status.busy": "2023-09-03T13:29:53.713381Z",
     "iopub.status.idle": "2023-09-03T13:29:55.233620Z",
     "shell.execute_reply": "2023-09-03T13:29:55.232374Z"
    },
    "papermill": {
     "duration": 1.535899,
     "end_time": "2023-09-03T13:29:55.236357",
     "exception": false,
     "start_time": "2023-09-03T13:29:53.700458",
     "status": "completed"
    },
    "tags": []
   },
   "outputs": [],
   "source": [
    "#1. General\n",
    "import pandas as pd\n",
    "import numpy as np\n",
    "import os\n",
    "import matplotlib.pyplot as plt\n",
    "%matplotlib inline\n",
    "\n",
    "#2. Data Preprocessing\n",
    "##2.1 Fill Missing Data\n",
    "from sklearn.impute import SimpleImputer\n",
    "\n",
    "##2.2 Encoding\n",
    "from sklearn.compose import ColumnTransformer\n",
    "from sklearn.preprocessing import OneHotEncoder\n",
    "from sklearn.preprocessing import LabelEncoder\n",
    "\n",
    "##2.3 Splitting Train and Test\n",
    "from sklearn.model_selection import train_test_split\n",
    "\n",
    "##2.4 Feature Scaling\n",
    "from sklearn.preprocessing import StandardScaler\n",
    "\n",
    "#3. Naive Bayes Classifier\n",
    "from sklearn.naive_bayes import GaussianNB\n",
    "\n",
    "#4. Scikit Confusion Matrix\n",
    "from sklearn.metrics import confusion_matrix, accuracy_score"
   ]
  },
  {
   "cell_type": "markdown",
   "id": "7f52c120",
   "metadata": {
    "papermill": {
     "duration": 0.011414,
     "end_time": "2023-09-03T13:29:55.259572",
     "exception": false,
     "start_time": "2023-09-03T13:29:55.248158",
     "status": "completed"
    },
    "tags": []
   },
   "source": [
    "<a id=\"2\"></a>\n",
    "# 2. Importing Dataset\n",
    "\n",
    "[Go back to Index](#index)"
   ]
  },
  {
   "cell_type": "code",
   "execution_count": 3,
   "id": "48b024af",
   "metadata": {
    "execution": {
     "iopub.execute_input": "2023-09-03T13:29:55.285061Z",
     "iopub.status.busy": "2023-09-03T13:29:55.284494Z",
     "iopub.status.idle": "2023-09-03T13:29:55.306067Z",
     "shell.execute_reply": "2023-09-03T13:29:55.305154Z"
    },
    "papermill": {
     "duration": 0.037203,
     "end_time": "2023-09-03T13:29:55.308538",
     "exception": false,
     "start_time": "2023-09-03T13:29:55.271335",
     "status": "completed"
    },
    "tags": []
   },
   "outputs": [],
   "source": [
    "# Dataset:= Combined Cycle Powerplant.csv\n",
    "df = pd.read_csv('/kaggle/input/social-network-ads/Social_Network_Ads.csv')\n",
    "X = df.iloc[:, :-1].values\n",
    "y = df.iloc[:, -1].values"
   ]
  },
  {
   "cell_type": "markdown",
   "id": "dd572e27",
   "metadata": {
    "papermill": {
     "duration": 0.01115,
     "end_time": "2023-09-03T13:29:55.331401",
     "exception": false,
     "start_time": "2023-09-03T13:29:55.320251",
     "status": "completed"
    },
    "tags": []
   },
   "source": [
    "<a id=\"3\"></a>\n",
    "# 3. Splitting the dataset into Train/Test\n",
    "\n",
    "[Go back to Index](#index)"
   ]
  },
  {
   "cell_type": "code",
   "execution_count": 4,
   "id": "0d2f02aa",
   "metadata": {
    "execution": {
     "iopub.execute_input": "2023-09-03T13:29:55.357132Z",
     "iopub.status.busy": "2023-09-03T13:29:55.355929Z",
     "iopub.status.idle": "2023-09-03T13:29:55.365401Z",
     "shell.execute_reply": "2023-09-03T13:29:55.363838Z"
    },
    "papermill": {
     "duration": 0.025326,
     "end_time": "2023-09-03T13:29:55.368261",
     "exception": false,
     "start_time": "2023-09-03T13:29:55.342935",
     "status": "completed"
    },
    "tags": []
   },
   "outputs": [],
   "source": [
    "X_train, X_test, y_train, y_test = train_test_split(X, y, test_size=0.25, random_state=0)"
   ]
  },
  {
   "cell_type": "markdown",
   "id": "ac5d909c",
   "metadata": {
    "papermill": {
     "duration": 0.011396,
     "end_time": "2023-09-03T13:29:55.391264",
     "exception": false,
     "start_time": "2023-09-03T13:29:55.379868",
     "status": "completed"
    },
    "tags": []
   },
   "source": [
    "<a id=\"4\"></a>\n",
    "# 4. Feature Scaling\n",
    "\n",
    "[Go back to Index](#index)"
   ]
  },
  {
   "cell_type": "code",
   "execution_count": 5,
   "id": "718ad9b9",
   "metadata": {
    "execution": {
     "iopub.execute_input": "2023-09-03T13:29:55.417622Z",
     "iopub.status.busy": "2023-09-03T13:29:55.417210Z",
     "iopub.status.idle": "2023-09-03T13:29:55.422145Z",
     "shell.execute_reply": "2023-09-03T13:29:55.421088Z"
    },
    "papermill": {
     "duration": 0.019948,
     "end_time": "2023-09-03T13:29:55.424337",
     "exception": false,
     "start_time": "2023-09-03T13:29:55.404389",
     "status": "completed"
    },
    "tags": []
   },
   "outputs": [],
   "source": [
    "sc = StandardScaler()"
   ]
  },
  {
   "cell_type": "code",
   "execution_count": 6,
   "id": "daf788a0",
   "metadata": {
    "execution": {
     "iopub.execute_input": "2023-09-03T13:29:55.449255Z",
     "iopub.status.busy": "2023-09-03T13:29:55.448832Z",
     "iopub.status.idle": "2023-09-03T13:29:55.456654Z",
     "shell.execute_reply": "2023-09-03T13:29:55.455642Z"
    },
    "papermill": {
     "duration": 0.023159,
     "end_time": "2023-09-03T13:29:55.459216",
     "exception": false,
     "start_time": "2023-09-03T13:29:55.436057",
     "status": "completed"
    },
    "tags": []
   },
   "outputs": [],
   "source": [
    "X_train = sc.fit_transform(X_train)\n",
    "X_test = sc.transform(X_test)"
   ]
  },
  {
   "cell_type": "markdown",
   "id": "f3e24cc9",
   "metadata": {
    "papermill": {
     "duration": 0.011554,
     "end_time": "2023-09-03T13:29:55.482621",
     "exception": false,
     "start_time": "2023-09-03T13:29:55.471067",
     "status": "completed"
    },
    "tags": []
   },
   "source": [
    "<a id=\"5\"></a>\n",
    "# 5. Naive Bayes Classifier - Gaussian \n",
    "\n",
    "[Go back to Index](#index)"
   ]
  },
  {
   "cell_type": "code",
   "execution_count": 7,
   "id": "72cabc8a",
   "metadata": {
    "execution": {
     "iopub.execute_input": "2023-09-03T13:29:55.508150Z",
     "iopub.status.busy": "2023-09-03T13:29:55.507540Z",
     "iopub.status.idle": "2023-09-03T13:29:55.511953Z",
     "shell.execute_reply": "2023-09-03T13:29:55.510680Z"
    },
    "papermill": {
     "duration": 0.020253,
     "end_time": "2023-09-03T13:29:55.514569",
     "exception": false,
     "start_time": "2023-09-03T13:29:55.494316",
     "status": "completed"
    },
    "tags": []
   },
   "outputs": [],
   "source": [
    "#linear classifier\n",
    "classifier = GaussianNB()"
   ]
  },
  {
   "cell_type": "code",
   "execution_count": 8,
   "id": "1df91921",
   "metadata": {
    "execution": {
     "iopub.execute_input": "2023-09-03T13:29:55.540026Z",
     "iopub.status.busy": "2023-09-03T13:29:55.539647Z",
     "iopub.status.idle": "2023-09-03T13:29:55.555836Z",
     "shell.execute_reply": "2023-09-03T13:29:55.554674Z"
    },
    "papermill": {
     "duration": 0.032309,
     "end_time": "2023-09-03T13:29:55.558868",
     "exception": false,
     "start_time": "2023-09-03T13:29:55.526559",
     "status": "completed"
    },
    "tags": []
   },
   "outputs": [
    {
     "data": {
      "text/html": [
       "<style>#sk-container-id-1 {color: black;background-color: white;}#sk-container-id-1 pre{padding: 0;}#sk-container-id-1 div.sk-toggleable {background-color: white;}#sk-container-id-1 label.sk-toggleable__label {cursor: pointer;display: block;width: 100%;margin-bottom: 0;padding: 0.3em;box-sizing: border-box;text-align: center;}#sk-container-id-1 label.sk-toggleable__label-arrow:before {content: \"▸\";float: left;margin-right: 0.25em;color: #696969;}#sk-container-id-1 label.sk-toggleable__label-arrow:hover:before {color: black;}#sk-container-id-1 div.sk-estimator:hover label.sk-toggleable__label-arrow:before {color: black;}#sk-container-id-1 div.sk-toggleable__content {max-height: 0;max-width: 0;overflow: hidden;text-align: left;background-color: #f0f8ff;}#sk-container-id-1 div.sk-toggleable__content pre {margin: 0.2em;color: black;border-radius: 0.25em;background-color: #f0f8ff;}#sk-container-id-1 input.sk-toggleable__control:checked~div.sk-toggleable__content {max-height: 200px;max-width: 100%;overflow: auto;}#sk-container-id-1 input.sk-toggleable__control:checked~label.sk-toggleable__label-arrow:before {content: \"▾\";}#sk-container-id-1 div.sk-estimator input.sk-toggleable__control:checked~label.sk-toggleable__label {background-color: #d4ebff;}#sk-container-id-1 div.sk-label input.sk-toggleable__control:checked~label.sk-toggleable__label {background-color: #d4ebff;}#sk-container-id-1 input.sk-hidden--visually {border: 0;clip: rect(1px 1px 1px 1px);clip: rect(1px, 1px, 1px, 1px);height: 1px;margin: -1px;overflow: hidden;padding: 0;position: absolute;width: 1px;}#sk-container-id-1 div.sk-estimator {font-family: monospace;background-color: #f0f8ff;border: 1px dotted black;border-radius: 0.25em;box-sizing: border-box;margin-bottom: 0.5em;}#sk-container-id-1 div.sk-estimator:hover {background-color: #d4ebff;}#sk-container-id-1 div.sk-parallel-item::after {content: \"\";width: 100%;border-bottom: 1px solid gray;flex-grow: 1;}#sk-container-id-1 div.sk-label:hover label.sk-toggleable__label {background-color: #d4ebff;}#sk-container-id-1 div.sk-serial::before {content: \"\";position: absolute;border-left: 1px solid gray;box-sizing: border-box;top: 0;bottom: 0;left: 50%;z-index: 0;}#sk-container-id-1 div.sk-serial {display: flex;flex-direction: column;align-items: center;background-color: white;padding-right: 0.2em;padding-left: 0.2em;position: relative;}#sk-container-id-1 div.sk-item {position: relative;z-index: 1;}#sk-container-id-1 div.sk-parallel {display: flex;align-items: stretch;justify-content: center;background-color: white;position: relative;}#sk-container-id-1 div.sk-item::before, #sk-container-id-1 div.sk-parallel-item::before {content: \"\";position: absolute;border-left: 1px solid gray;box-sizing: border-box;top: 0;bottom: 0;left: 50%;z-index: -1;}#sk-container-id-1 div.sk-parallel-item {display: flex;flex-direction: column;z-index: 1;position: relative;background-color: white;}#sk-container-id-1 div.sk-parallel-item:first-child::after {align-self: flex-end;width: 50%;}#sk-container-id-1 div.sk-parallel-item:last-child::after {align-self: flex-start;width: 50%;}#sk-container-id-1 div.sk-parallel-item:only-child::after {width: 0;}#sk-container-id-1 div.sk-dashed-wrapped {border: 1px dashed gray;margin: 0 0.4em 0.5em 0.4em;box-sizing: border-box;padding-bottom: 0.4em;background-color: white;}#sk-container-id-1 div.sk-label label {font-family: monospace;font-weight: bold;display: inline-block;line-height: 1.2em;}#sk-container-id-1 div.sk-label-container {text-align: center;}#sk-container-id-1 div.sk-container {/* jupyter's `normalize.less` sets `[hidden] { display: none; }` but bootstrap.min.css set `[hidden] { display: none !important; }` so we also need the `!important` here to be able to override the default hidden behavior on the sphinx rendered scikit-learn.org. See: https://github.com/scikit-learn/scikit-learn/issues/21755 */display: inline-block !important;position: relative;}#sk-container-id-1 div.sk-text-repr-fallback {display: none;}</style><div id=\"sk-container-id-1\" class=\"sk-top-container\"><div class=\"sk-text-repr-fallback\"><pre>GaussianNB()</pre><b>In a Jupyter environment, please rerun this cell to show the HTML representation or trust the notebook. <br />On GitHub, the HTML representation is unable to render, please try loading this page with nbviewer.org.</b></div><div class=\"sk-container\" hidden><div class=\"sk-item\"><div class=\"sk-estimator sk-toggleable\"><input class=\"sk-toggleable__control sk-hidden--visually\" id=\"sk-estimator-id-1\" type=\"checkbox\" checked><label for=\"sk-estimator-id-1\" class=\"sk-toggleable__label sk-toggleable__label-arrow\">GaussianNB</label><div class=\"sk-toggleable__content\"><pre>GaussianNB()</pre></div></div></div></div></div>"
      ],
      "text/plain": [
       "GaussianNB()"
      ]
     },
     "execution_count": 8,
     "metadata": {},
     "output_type": "execute_result"
    }
   ],
   "source": [
    "classifier.fit(X_train, y_train)"
   ]
  },
  {
   "cell_type": "markdown",
   "id": "f54b2869",
   "metadata": {
    "papermill": {
     "duration": 0.011613,
     "end_time": "2023-09-03T13:29:55.582735",
     "exception": false,
     "start_time": "2023-09-03T13:29:55.571122",
     "status": "completed"
    },
    "tags": []
   },
   "source": [
    "<a id=\"6\"></a>\n",
    "# 6. Prediction\n",
    "\n",
    "[Go back to Index](#index)"
   ]
  },
  {
   "cell_type": "markdown",
   "id": "8f70b604",
   "metadata": {
    "papermill": {
     "duration": 0.011586,
     "end_time": "2023-09-03T13:29:55.606061",
     "exception": false,
     "start_time": "2023-09-03T13:29:55.594475",
     "status": "completed"
    },
    "tags": []
   },
   "source": [
    "<a id=\"6.1\"></a>\n",
    "## 6.1 Predicting a new value\n",
    "\n",
    "[Go back to Index](#index)"
   ]
  },
  {
   "cell_type": "code",
   "execution_count": 9,
   "id": "ad0cb908",
   "metadata": {
    "execution": {
     "iopub.execute_input": "2023-09-03T13:29:55.632550Z",
     "iopub.status.busy": "2023-09-03T13:29:55.631250Z",
     "iopub.status.idle": "2023-09-03T13:29:55.640349Z",
     "shell.execute_reply": "2023-09-03T13:29:55.639200Z"
    },
    "papermill": {
     "duration": 0.024792,
     "end_time": "2023-09-03T13:29:55.642815",
     "exception": false,
     "start_time": "2023-09-03T13:29:55.618023",
     "status": "completed"
    },
    "tags": []
   },
   "outputs": [
    {
     "data": {
      "text/plain": [
       "array([0])"
      ]
     },
     "execution_count": 9,
     "metadata": {},
     "output_type": "execute_result"
    }
   ],
   "source": [
    "#Remember to put 2D array as input\n",
    "#[[Age, Salary]] -> 1 or 0 output\n",
    "#classifier.predict([[30, 87000]]) -> Feature scaling is missing -> wrong output !\n",
    "classifier.predict(sc.transform([[30, 87000]]))"
   ]
  },
  {
   "cell_type": "markdown",
   "id": "072e9ae1",
   "metadata": {
    "papermill": {
     "duration": 0.012428,
     "end_time": "2023-09-03T13:29:55.667432",
     "exception": false,
     "start_time": "2023-09-03T13:29:55.655004",
     "status": "completed"
    },
    "tags": []
   },
   "source": [
    "<a id=\"6.2\"></a>\n",
    "## 6.2 Predicting X_test\n",
    "\n",
    "[Go back to Index](#index)"
   ]
  },
  {
   "cell_type": "code",
   "execution_count": 10,
   "id": "2e567bc2",
   "metadata": {
    "execution": {
     "iopub.execute_input": "2023-09-03T13:29:55.693438Z",
     "iopub.status.busy": "2023-09-03T13:29:55.692977Z",
     "iopub.status.idle": "2023-09-03T13:29:55.702290Z",
     "shell.execute_reply": "2023-09-03T13:29:55.700942Z"
    },
    "papermill": {
     "duration": 0.026439,
     "end_time": "2023-09-03T13:29:55.706012",
     "exception": false,
     "start_time": "2023-09-03T13:29:55.679573",
     "status": "completed"
    },
    "tags": []
   },
   "outputs": [
    {
     "name": "stdout",
     "output_type": "stream",
     "text": [
      "[[0 0]\n",
      " [0 0]\n",
      " [0 0]\n",
      " [0 0]\n",
      " [0 0]\n",
      " [0 0]\n",
      " [0 0]\n",
      " [1 1]\n",
      " [0 0]\n",
      " [1 0]\n",
      " [0 0]\n",
      " [0 0]\n",
      " [0 0]\n",
      " [0 0]\n",
      " [0 0]\n",
      " [0 0]\n",
      " [0 0]\n",
      " [0 0]\n",
      " [1 1]\n",
      " [0 0]\n",
      " [0 0]\n",
      " [1 1]\n",
      " [0 0]\n",
      " [1 1]\n",
      " [0 0]\n",
      " [1 1]\n",
      " [0 0]\n",
      " [0 0]\n",
      " [0 0]\n",
      " [0 0]\n",
      " [0 0]\n",
      " [0 1]\n",
      " [1 1]\n",
      " [0 0]\n",
      " [0 0]\n",
      " [0 0]\n",
      " [0 0]\n",
      " [0 0]\n",
      " [0 0]\n",
      " [1 1]\n",
      " [0 0]\n",
      " [0 0]\n",
      " [0 0]\n",
      " [0 0]\n",
      " [1 1]\n",
      " [0 0]\n",
      " [0 0]\n",
      " [1 1]\n",
      " [0 0]\n",
      " [1 1]\n",
      " [1 1]\n",
      " [0 0]\n",
      " [0 0]\n",
      " [1 0]\n",
      " [1 1]\n",
      " [0 1]\n",
      " [0 0]\n",
      " [0 0]\n",
      " [1 1]\n",
      " [0 0]\n",
      " [0 0]\n",
      " [1 1]\n",
      " [0 0]\n",
      " [0 1]\n",
      " [0 0]\n",
      " [1 1]\n",
      " [0 0]\n",
      " [0 0]\n",
      " [0 0]\n",
      " [0 0]\n",
      " [1 1]\n",
      " [0 0]\n",
      " [0 0]\n",
      " [0 1]\n",
      " [0 0]\n",
      " [0 0]\n",
      " [0 0]\n",
      " [0 0]\n",
      " [1 1]\n",
      " [1 1]\n",
      " [1 1]\n",
      " [1 0]\n",
      " [0 0]\n",
      " [0 0]\n",
      " [1 1]\n",
      " [0 1]\n",
      " [0 0]\n",
      " [1 1]\n",
      " [0 1]\n",
      " [0 0]\n",
      " [0 0]\n",
      " [1 1]\n",
      " [0 0]\n",
      " [0 0]\n",
      " [0 0]\n",
      " [0 1]\n",
      " [0 0]\n",
      " [1 1]\n",
      " [1 1]\n",
      " [1 1]]\n"
     ]
    }
   ],
   "source": [
    "y_pred = classifier.predict(X_test) #X_test has already undergone feature scaling\n",
    "_y_pred = y_pred.reshape(len(y_pred),1) #Convert 1D -> 2D\n",
    "_y_test = y_test.reshape(len(y_test),1) #Convert 1D -> 2D\n",
    "print(np.concatenate((_y_pred, _y_test),1)) #Side by side depiciton of predicted vs actual results expected"
   ]
  },
  {
   "cell_type": "markdown",
   "id": "ac15fde9",
   "metadata": {
    "papermill": {
     "duration": 0.01196,
     "end_time": "2023-09-03T13:29:55.730706",
     "exception": false,
     "start_time": "2023-09-03T13:29:55.718746",
     "status": "completed"
    },
    "tags": []
   },
   "source": [
    "<a id=\"7\"></a>\n",
    "# 7. Confusion Matrix\n",
    "\n",
    "[Go back to Index](#index)"
   ]
  },
  {
   "cell_type": "markdown",
   "id": "e2201468",
   "metadata": {
    "papermill": {
     "duration": 0.012411,
     "end_time": "2023-09-03T13:29:55.755349",
     "exception": false,
     "start_time": "2023-09-03T13:29:55.742938",
     "status": "completed"
    },
    "tags": []
   },
   "source": [
    "<a href=\"https://towardsdatascience.com/understanding-confusion-matrix-a9ad42dcfd62\">Confusion Matrix Explained</a>\n",
    "\n",
    "<a href=\"https://datascience.stackexchange.com/questions/28426/train-accuracy-vs-test-accuracy-vs-confusion-matrix\">confusion matrix vs accuracy_score</a>"
   ]
  },
  {
   "cell_type": "code",
   "execution_count": 11,
   "id": "f9625696",
   "metadata": {
    "execution": {
     "iopub.execute_input": "2023-09-03T13:29:55.782027Z",
     "iopub.status.busy": "2023-09-03T13:29:55.781598Z",
     "iopub.status.idle": "2023-09-03T13:29:55.791017Z",
     "shell.execute_reply": "2023-09-03T13:29:55.789887Z"
    },
    "papermill": {
     "duration": 0.025365,
     "end_time": "2023-09-03T13:29:55.793266",
     "exception": false,
     "start_time": "2023-09-03T13:29:55.767901",
     "status": "completed"
    },
    "tags": []
   },
   "outputs": [
    {
     "data": {
      "text/plain": [
       "array([[65,  3],\n",
       "       [ 7, 25]])"
      ]
     },
     "execution_count": 11,
     "metadata": {},
     "output_type": "execute_result"
    }
   ],
   "source": [
    "confusion_matrix(y_test, y_pred)"
   ]
  },
  {
   "cell_type": "markdown",
   "id": "76202d79",
   "metadata": {
    "papermill": {
     "duration": 0.0119,
     "end_time": "2023-09-03T13:29:55.818095",
     "exception": false,
     "start_time": "2023-09-03T13:29:55.806195",
     "status": "completed"
    },
    "tags": []
   },
   "source": [
    "### Note\n",
    "\n",
    "* TP:= 65 correct predictions of class (1)\n",
    "* FP:= 3 incorrect predictions of class (0)\n",
    "* FP:= 7 incorrect predictions of class (1)\n",
    "* TN:= 25 correct predictions of class (0)\n",
    "\n",
    "* TP + TN = 90 = total accuracy"
   ]
  },
  {
   "cell_type": "code",
   "execution_count": 12,
   "id": "2ebb5441",
   "metadata": {
    "execution": {
     "iopub.execute_input": "2023-09-03T13:29:55.845301Z",
     "iopub.status.busy": "2023-09-03T13:29:55.844056Z",
     "iopub.status.idle": "2023-09-03T13:29:55.852603Z",
     "shell.execute_reply": "2023-09-03T13:29:55.851471Z"
    },
    "papermill": {
     "duration": 0.024947,
     "end_time": "2023-09-03T13:29:55.855281",
     "exception": false,
     "start_time": "2023-09-03T13:29:55.830334",
     "status": "completed"
    },
    "tags": []
   },
   "outputs": [
    {
     "data": {
      "text/plain": [
       "0.9"
      ]
     },
     "execution_count": 12,
     "metadata": {},
     "output_type": "execute_result"
    }
   ],
   "source": [
    "accuracy_score(y_test, y_pred)"
   ]
  },
  {
   "cell_type": "markdown",
   "id": "de4194cf",
   "metadata": {
    "papermill": {
     "duration": 0.01238,
     "end_time": "2023-09-03T13:29:55.881239",
     "exception": false,
     "start_time": "2023-09-03T13:29:55.868859",
     "status": "completed"
    },
    "tags": []
   },
   "source": [
    "<a id=\"8\"></a>\n",
    "# 8. Visualization\n",
    "\n",
    "[Go back to Index](#index)"
   ]
  },
  {
   "cell_type": "markdown",
   "id": "691a2e78",
   "metadata": {
    "papermill": {
     "duration": 0.012287,
     "end_time": "2023-09-03T13:29:55.906271",
     "exception": false,
     "start_time": "2023-09-03T13:29:55.893984",
     "status": "completed"
    },
    "tags": []
   },
   "source": [
    "<a id=\"8.1\"></a>\n",
    "## 8.1 Training Results\n",
    "\n",
    "[Go back to Index](#index)"
   ]
  },
  {
   "cell_type": "code",
   "execution_count": 13,
   "id": "a319a611",
   "metadata": {
    "execution": {
     "iopub.execute_input": "2023-09-03T13:29:55.933669Z",
     "iopub.status.busy": "2023-09-03T13:29:55.932695Z",
     "iopub.status.idle": "2023-09-03T13:29:55.989852Z",
     "shell.execute_reply": "2023-09-03T13:29:55.988839Z"
    },
    "papermill": {
     "duration": 0.073836,
     "end_time": "2023-09-03T13:29:55.992553",
     "exception": false,
     "start_time": "2023-09-03T13:29:55.918717",
     "status": "completed"
    },
    "tags": []
   },
   "outputs": [],
   "source": [
    "from matplotlib.colors import ListedColormap\n",
    "X_set, y_set = sc.inverse_transform(X_train), y_train\n",
    "X1, X2 = np.meshgrid(np.arange(start = X_set[:, 0].min() - 10, stop = X_set[:, 0].max() + 10, step = 1),\n",
    "                     np.arange(start = X_set[:, 1].min() - 1000, stop = X_set[:, 1].max() + 1000, step = 1))"
   ]
  },
  {
   "cell_type": "code",
   "execution_count": 14,
   "id": "9da2375a",
   "metadata": {
    "execution": {
     "iopub.execute_input": "2023-09-03T13:29:56.019912Z",
     "iopub.status.busy": "2023-09-03T13:29:56.019511Z",
     "iopub.status.idle": "2023-09-03T13:29:56.899319Z",
     "shell.execute_reply": "2023-09-03T13:29:56.898085Z"
    },
    "papermill": {
     "duration": 0.896943,
     "end_time": "2023-09-03T13:29:56.902079",
     "exception": false,
     "start_time": "2023-09-03T13:29:56.005136",
     "status": "completed"
    },
    "tags": []
   },
   "outputs": [],
   "source": [
    "y12_pred = classifier.predict(sc.transform(np.array([X1.ravel(), X2.ravel()]).T)).reshape(X1.shape)"
   ]
  },
  {
   "cell_type": "code",
   "execution_count": 15,
   "id": "c0571e25",
   "metadata": {
    "execution": {
     "iopub.execute_input": "2023-09-03T13:29:56.929490Z",
     "iopub.status.busy": "2023-09-03T13:29:56.928880Z",
     "iopub.status.idle": "2023-09-03T13:29:58.847888Z",
     "shell.execute_reply": "2023-09-03T13:29:58.846452Z"
    },
    "papermill": {
     "duration": 1.935759,
     "end_time": "2023-09-03T13:29:58.850591",
     "exception": false,
     "start_time": "2023-09-03T13:29:56.914832",
     "status": "completed"
    },
    "tags": []
   },
   "outputs": [
    {
     "name": "stderr",
     "output_type": "stream",
     "text": [
      "/tmp/ipykernel_20/224499679.py:11: UserWarning: *c* argument looks like a single numeric RGB or RGBA sequence, which should be avoided as value-mapping will have precedence in case its length matches with *x* & *y*.  Please use the *color* keyword-argument or provide a 2D array with a single row if you intend to specify the same RGB or RGBA value for all points.\n",
      "  plt.scatter(X_set[y_set == j, 0], X_set[y_set == j, 1], c = ListedColormap(('red', 'green'))(i), label = j)\n"
     ]
    },
    {
     "data": {
      "image/png": "[encoded data removed]",
      "text/plain": [
       "<Figure size 640x480 with 1 Axes>"
      ]
     },
     "metadata": {},
     "output_type": "display_data"
    }
   ],
   "source": [
    "plt.title('Decision Tree (Classifier)')\n",
    "plt.xlabel('Age')\n",
    "plt.ylabel('Estimated Salary')\n",
    "plt.legend()\n",
    "\n",
    "plt.contourf(X1, X2, y12_pred,\n",
    "             alpha = 0.75, cmap = ListedColormap(('red', 'green')))\n",
    "plt.xlim(X1.min(), X1.max())\n",
    "plt.ylim(X2.min(), X2.max())\n",
    "for i, j in enumerate(np.unique(y_set)):\n",
    "    plt.scatter(X_set[y_set == j, 0], X_set[y_set == j, 1], c = ListedColormap(('red', 'green'))(i), label = j)\n",
    "\n",
    "plt.show()"
   ]
  },
  {
   "cell_type": "markdown",
   "id": "ebf0b9c5",
   "metadata": {
    "papermill": {
     "duration": 0.013466,
     "end_time": "2023-09-03T13:29:58.878216",
     "exception": false,
     "start_time": "2023-09-03T13:29:58.864750",
     "status": "completed"
    },
    "tags": []
   },
   "source": [
    "<a id=\"8.2\"></a>\n",
    "## 8.2 Test Results\n",
    "\n",
    "[Go back to Index](#index)"
   ]
  },
  {
   "cell_type": "code",
   "execution_count": 16,
   "id": "5965d54f",
   "metadata": {
    "execution": {
     "iopub.execute_input": "2023-09-03T13:29:58.906975Z",
     "iopub.status.busy": "2023-09-03T13:29:58.906590Z",
     "iopub.status.idle": "2023-09-03T13:29:58.949061Z",
     "shell.execute_reply": "2023-09-03T13:29:58.947927Z"
    },
    "papermill": {
     "duration": 0.06007,
     "end_time": "2023-09-03T13:29:58.951694",
     "exception": false,
     "start_time": "2023-09-03T13:29:58.891624",
     "status": "completed"
    },
    "tags": []
   },
   "outputs": [],
   "source": [
    "from matplotlib.colors import ListedColormap\n",
    "X_set, y_set = sc.inverse_transform(X_test), y_test\n",
    "X1, X2 = np.meshgrid(np.arange(start = X_set[:, 0].min() - 10, stop = X_set[:, 0].max() + 10, step = 1),\n",
    "                     np.arange(start = X_set[:, 1].min() - 1000, stop = X_set[:, 1].max() + 1000, step = 1))"
   ]
  },
  {
   "cell_type": "code",
   "execution_count": 17,
   "id": "07ac6968",
   "metadata": {
    "execution": {
     "iopub.execute_input": "2023-09-03T13:29:59.041735Z",
     "iopub.status.busy": "2023-09-03T13:29:59.041295Z",
     "iopub.status.idle": "2023-09-03T13:29:59.904949Z",
     "shell.execute_reply": "2023-09-03T13:29:59.903653Z"
    },
    "papermill": {
     "duration": 0.881292,
     "end_time": "2023-09-03T13:29:59.907832",
     "exception": false,
     "start_time": "2023-09-03T13:29:59.026540",
     "status": "completed"
    },
    "tags": []
   },
   "outputs": [],
   "source": [
    "y12_pred = classifier.predict(sc.transform(np.array([X1.ravel(), X2.ravel()]).T)).reshape(X1.shape)"
   ]
  },
  {
   "cell_type": "code",
   "execution_count": 18,
   "id": "071f8cc3",
   "metadata": {
    "execution": {
     "iopub.execute_input": "2023-09-03T13:29:59.938064Z",
     "iopub.status.busy": "2023-09-03T13:29:59.937685Z",
     "iopub.status.idle": "2023-09-03T13:30:01.842296Z",
     "shell.execute_reply": "2023-09-03T13:30:01.841081Z"
    },
    "papermill": {
     "duration": 1.922694,
     "end_time": "2023-09-03T13:30:01.844928",
     "exception": false,
     "start_time": "2023-09-03T13:29:59.922234",
     "status": "completed"
    },
    "tags": []
   },
   "outputs": [
    {
     "name": "stderr",
     "output_type": "stream",
     "text": [
      "/tmp/ipykernel_20/621416509.py:5: UserWarning: *c* argument looks like a single numeric RGB or RGBA sequence, which should be avoided as value-mapping will have precedence in case its length matches with *x* & *y*.  Please use the *color* keyword-argument or provide a 2D array with a single row if you intend to specify the same RGB or RGBA value for all points.\n",
      "  plt.scatter(X_set[y_set == j, 0], X_set[y_set == j, 1], c = ListedColormap(('red', 'green'))(i), label = j)\n"
     ]
    },
    {
     "data": {
      "image/png": "[encoded data removed]",
      "text/plain": [
       "<Figure size 640x480 with 1 Axes>"
      ]
     },
     "metadata": {},
     "output_type": "display_data"
    }
   ],
   "source": [
    "plt.contourf(X1, X2, y12_pred, alpha = 0.75, cmap = ListedColormap(('red', 'green')))\n",
    "plt.xlim(X1.min(), X1.max())\n",
    "plt.ylim(X2.min(), X2.max())\n",
    "for i, j in enumerate(np.unique(y_set)):\n",
    "    plt.scatter(X_set[y_set == j, 0], X_set[y_set == j, 1], c = ListedColormap(('red', 'green'))(i), label = j)\n",
    "plt.title('Decision Tree Classifer (Test Set)')\n",
    "plt.xlabel('Age')\n",
    "plt.ylabel('Estimated Salary')\n",
    "plt.legend()\n",
    "plt.show()"
   ]
  }
 ],
 "kernelspec": {
  "display_name": "Python 3",
  "language": "python",
  "name": "python3"
 },
 "language_info": {
  "codemirror_mode": {
   "name": "ipython",
   "version": 3
  },
  "file_extension": ".py",
  "mimetype": "text/x-python",
  "name": "python",
  "nbconvert_exporter": "python",
  "pygments_lexer": "ipython3",
  "version": "3.6.4"
 },
 "metadata": {
  "kernelspec": {
   "display_name": "Python 3",
   "language": "python",
   "name": "python3"
  },
  "language_info": {
   "codemirror_mode": {
    "name": "ipython",
    "version": 3
   },
   "file_extension": ".py",
   "mimetype": "text/x-python",
   "name": "python",
   "nbconvert_exporter": "python",
   "pygments_lexer": "ipython3",
   "version": "3.10.12"
  },
  "papermill": {
   "default_parameters": {},
   "duration": 12.868695,
   "end_time": "2023-09-03T13:30:02.480372",
   "environment_variables": {},
   "exception": null,
   "input_path": "__notebook__.ipynb",
   "output_path": "__notebook__.ipynb",
   "parameters": {},
   "start_time": "2023-09-03T13:29:49.611677",
   "version": "2.4.0"
  }
 },
 "nbformat": 4,
 "nbformat_minor": 5
}
