{
 "cells": [
  {
   "cell_type": "code",
   "execution_count": 1,
   "id": "b59e32ad",
   "metadata": {
    "_cell_guid": "b1076dfc-b9ad-4769-8c92-a6c4dae69d19",
    "_uuid": "8f2839f25d086af736a60e9eeb907d3b93b6e0e5",
    "execution": {
     "iopub.execute_input": "2023-09-04T11:37:41.629328Z",
     "iopub.status.busy": "2023-09-04T11:37:41.628781Z",
     "iopub.status.idle": "2023-09-04T11:37:42.004678Z",
     "shell.execute_reply": "2023-09-04T11:37:42.003784Z"
    },
    "papermill": {
     "duration": 0.389492,
     "end_time": "2023-09-04T11:37:42.007761",
     "exception": false,
     "start_time": "2023-09-04T11:37:41.618269",
     "status": "completed"
    },
    "tags": []
   },
   "outputs": [
    {
     "name": "stdout",
     "output_type": "stream",
     "text": [
      "/kaggle/input/social-network-ads/Social_Network_Ads.csv\n"
     ]
    }
   ],
   "source": [
    "# This Python 3 environment comes with many helpful analytics libraries installed\n",
    "# It is defined by the kaggle/python Docker image: https://github.com/kaggle/docker-python\n",
    "# For example, here's several helpful packages to load\n",
    "\n",
    "import numpy as np # linear algebra\n",
    "import pandas as pd # data processing, CSV file I/O (e.g. pd.read_csv)\n",
    "\n",
    "# Input data files are available in the read-only \"../input/\" directory\n",
    "# For example, running this (by clicking run or pressing Shift+Enter) will list all files under the input directory\n",
    "\n",
    "import os\n",
    "for dirname, _, filenames in os.walk('/kaggle/input'):\n",
    "    for filename in filenames:\n",
    "        print(os.path.join(dirname, filename))\n",
    "\n",
    "# You can write up to 20GB to the current directory (/kaggle/working/) that gets preserved as output when you create a version using \"Save & Run All\" \n",
    "# You can also write temporary files to /kaggle/temp/, but they won't be saved outside of the current session"
   ]
  },
  {
   "cell_type": "markdown",
   "id": "410cd166",
   "metadata": {
    "papermill": {
     "duration": 0.007825,
     "end_time": "2023-09-04T11:37:42.024797",
     "exception": false,
     "start_time": "2023-09-04T11:37:42.016972",
     "status": "completed"
    },
    "tags": []
   },
   "source": [
    "# Credits and Links\n",
    "\n",
    "* UDEMY - Machine Learning A-Z <sup>TM</sup>*"
   ]
  },
  {
   "cell_type": "markdown",
   "id": "9787f9cb",
   "metadata": {
    "papermill": {
     "duration": 0.007672,
     "end_time": "2023-09-04T11:37:42.040482",
     "exception": false,
     "start_time": "2023-09-04T11:37:42.032810",
     "status": "completed"
    },
    "tags": []
   },
   "source": [
    "<a id=\"index\"></a>\n",
    "# Table of Content\n",
    "\n",
    "1. [Importing Libraries](#1)\n",
    "2. [Importing Dataset](#2)\n",
    "3. [Splitting the dataset into Train/Test](#3)\n",
    "4. [Feature Scaling](#4)\n",
    "5. [Random Forest Classifier](#5)\n",
    "6. [Prediction](#6)\n",
    "    - [New Result](#6.1)\n",
    "    - [Test Result](#6.2)\n",
    "7. [Confusion Matrix](#7)\n",
    "6. [Visualization](#8)\n",
    "    - [Training set results](#8.1)\n",
    "    - [Test set results](#8.2)"
   ]
  },
  {
   "cell_type": "markdown",
   "id": "78a2af89",
   "metadata": {
    "papermill": {
     "duration": 0.007558,
     "end_time": "2023-09-04T11:37:42.055950",
     "exception": false,
     "start_time": "2023-09-04T11:37:42.048392",
     "status": "completed"
    },
    "tags": []
   },
   "source": [
    "<a id=\"1\"></a>\n",
    "# 1. Importing Libraries\n",
    "\n",
    "[Go back to Index](#index)"
   ]
  },
  {
   "cell_type": "code",
   "execution_count": 2,
   "id": "b9cd6a85",
   "metadata": {
    "execution": {
     "iopub.execute_input": "2023-09-04T11:37:42.074005Z",
     "iopub.status.busy": "2023-09-04T11:37:42.073338Z",
     "iopub.status.idle": "2023-09-04T11:37:43.718960Z",
     "shell.execute_reply": "2023-09-04T11:37:43.717790Z"
    },
    "papermill": {
     "duration": 1.657466,
     "end_time": "2023-09-04T11:37:43.721536",
     "exception": false,
     "start_time": "2023-09-04T11:37:42.064070",
     "status": "completed"
    },
    "tags": []
   },
   "outputs": [],
   "source": [
    "#1. General\n",
    "import pandas as pd\n",
    "import numpy as np\n",
    "import os\n",
    "import matplotlib.pyplot as plt\n",
    "%matplotlib inline\n",
    "\n",
    "#2. Data Preprocessing\n",
    "##2.1 Fill Missing Data\n",
    "from sklearn.impute import SimpleImputer\n",
    "\n",
    "##2.2 Encoding\n",
    "from sklearn.compose import ColumnTransformer\n",
    "from sklearn.preprocessing import OneHotEncoder\n",
    "from sklearn.preprocessing import LabelEncoder\n",
    "\n",
    "##2.3 Splitting Train and Test\n",
    "from sklearn.model_selection import train_test_split\n",
    "\n",
    "##2.4 Feature Scaling\n",
    "from sklearn.preprocessing import StandardScaler\n",
    "\n",
    "#3. Random Forest Classifier\n",
    "from sklearn.ensemble import RandomForestClassifier\n",
    "\n",
    "#4. Scikit Confusion Matrix\n",
    "from sklearn.metrics import confusion_matrix, accuracy_score"
   ]
  },
  {
   "cell_type": "markdown",
   "id": "2b249d52",
   "metadata": {
    "papermill": {
     "duration": 0.008393,
     "end_time": "2023-09-04T11:37:43.738994",
     "exception": false,
     "start_time": "2023-09-04T11:37:43.730601",
     "status": "completed"
    },
    "tags": []
   },
   "source": [
    "<a id=\"2\"></a>\n",
    "# 2. Importing Dataset\n",
    "\n",
    "[Go back to Index](#index)"
   ]
  },
  {
   "cell_type": "code",
   "execution_count": 3,
   "id": "7298cb9d",
   "metadata": {
    "execution": {
     "iopub.execute_input": "2023-09-04T11:37:43.757949Z",
     "iopub.status.busy": "2023-09-04T11:37:43.756925Z",
     "iopub.status.idle": "2023-09-04T11:37:43.773610Z",
     "shell.execute_reply": "2023-09-04T11:37:43.772650Z"
    },
    "papermill": {
     "duration": 0.028815,
     "end_time": "2023-09-04T11:37:43.775946",
     "exception": false,
     "start_time": "2023-09-04T11:37:43.747131",
     "status": "completed"
    },
    "tags": []
   },
   "outputs": [],
   "source": [
    "# Dataset:= Combined Cycle Powerplant.csv\n",
    "df = pd.read_csv('/kaggle/input/social-network-ads/Social_Network_Ads.csv')\n",
    "X = df.iloc[:, :-1].values\n",
    "y = df.iloc[:, -1].values"
   ]
  },
  {
   "cell_type": "markdown",
   "id": "9df5074c",
   "metadata": {
    "papermill": {
     "duration": 0.007657,
     "end_time": "2023-09-04T11:37:43.791809",
     "exception": false,
     "start_time": "2023-09-04T11:37:43.784152",
     "status": "completed"
    },
    "tags": []
   },
   "source": [
    "<a id=\"3\"></a>\n",
    "# 3. Splitting the dataset into Train/Test\n",
    "\n",
    "[Go back to Index](#index)"
   ]
  },
  {
   "cell_type": "code",
   "execution_count": 4,
   "id": "300c25d3",
   "metadata": {
    "execution": {
     "iopub.execute_input": "2023-09-04T11:37:43.809515Z",
     "iopub.status.busy": "2023-09-04T11:37:43.809078Z",
     "iopub.status.idle": "2023-09-04T11:37:43.816136Z",
     "shell.execute_reply": "2023-09-04T11:37:43.815130Z"
    },
    "papermill": {
     "duration": 0.018505,
     "end_time": "2023-09-04T11:37:43.818188",
     "exception": false,
     "start_time": "2023-09-04T11:37:43.799683",
     "status": "completed"
    },
    "tags": []
   },
   "outputs": [],
   "source": [
    "X_train, X_test, y_train, y_test = train_test_split(X, y, test_size=0.25, random_state=0)"
   ]
  },
  {
   "cell_type": "markdown",
   "id": "e1cd7169",
   "metadata": {
    "papermill": {
     "duration": 0.007762,
     "end_time": "2023-09-04T11:37:43.833938",
     "exception": false,
     "start_time": "2023-09-04T11:37:43.826176",
     "status": "completed"
    },
    "tags": []
   },
   "source": [
    "<a id=\"4\"></a>\n",
    "# 4. Feature Scaling\n",
    "\n",
    "[Go back to Index](#index)"
   ]
  },
  {
   "cell_type": "code",
   "execution_count": 5,
   "id": "e21fcaca",
   "metadata": {
    "execution": {
     "iopub.execute_input": "2023-09-04T11:37:43.850987Z",
     "iopub.status.busy": "2023-09-04T11:37:43.850581Z",
     "iopub.status.idle": "2023-09-04T11:37:43.854987Z",
     "shell.execute_reply": "2023-09-04T11:37:43.853995Z"
    },
    "papermill": {
     "duration": 0.015486,
     "end_time": "2023-09-04T11:37:43.857191",
     "exception": false,
     "start_time": "2023-09-04T11:37:43.841705",
     "status": "completed"
    },
    "tags": []
   },
   "outputs": [],
   "source": [
    "sc = StandardScaler()"
   ]
  },
  {
   "cell_type": "code",
   "execution_count": 6,
   "id": "b4fa19c3",
   "metadata": {
    "execution": {
     "iopub.execute_input": "2023-09-04T11:37:43.875260Z",
     "iopub.status.busy": "2023-09-04T11:37:43.874594Z",
     "iopub.status.idle": "2023-09-04T11:37:43.882052Z",
     "shell.execute_reply": "2023-09-04T11:37:43.881211Z"
    },
    "papermill": {
     "duration": 0.018827,
     "end_time": "2023-09-04T11:37:43.884129",
     "exception": false,
     "start_time": "2023-09-04T11:37:43.865302",
     "status": "completed"
    },
    "tags": []
   },
   "outputs": [],
   "source": [
    "X_train = sc.fit_transform(X_train)\n",
    "X_test = sc.transform(X_test)"
   ]
  },
  {
   "cell_type": "markdown",
   "id": "1285cfc8",
   "metadata": {
    "papermill": {
     "duration": 0.008373,
     "end_time": "2023-09-04T11:37:43.900664",
     "exception": false,
     "start_time": "2023-09-04T11:37:43.892291",
     "status": "completed"
    },
    "tags": []
   },
   "source": [
    "<a id=\"5\"></a>\n",
    "# 5. Support Vector Machine\n",
    "\n",
    "[Go back to Index](#index)"
   ]
  },
  {
   "cell_type": "code",
   "execution_count": 7,
   "id": "5bd08281",
   "metadata": {
    "execution": {
     "iopub.execute_input": "2023-09-04T11:37:43.918542Z",
     "iopub.status.busy": "2023-09-04T11:37:43.918172Z",
     "iopub.status.idle": "2023-09-04T11:37:43.922887Z",
     "shell.execute_reply": "2023-09-04T11:37:43.921826Z"
    },
    "papermill": {
     "duration": 0.016244,
     "end_time": "2023-09-04T11:37:43.924966",
     "exception": false,
     "start_time": "2023-09-04T11:37:43.908722",
     "status": "completed"
    },
    "tags": []
   },
   "outputs": [],
   "source": [
    "#linear classifier\n",
    "#entropy:= The range of Entropy lies in between 0 to 1\n",
    "classifier = RandomForestClassifier(n_estimators=10, criterion=\"entropy\", random_state=0)"
   ]
  },
  {
   "cell_type": "code",
   "execution_count": 8,
   "id": "f22a42c9",
   "metadata": {
    "execution": {
     "iopub.execute_input": "2023-09-04T11:37:43.942534Z",
     "iopub.status.busy": "2023-09-04T11:37:43.942128Z",
     "iopub.status.idle": "2023-09-04T11:37:43.975919Z",
     "shell.execute_reply": "2023-09-04T11:37:43.975096Z"
    },
    "papermill": {
     "duration": 0.044839,
     "end_time": "2023-09-04T11:37:43.977880",
     "exception": false,
     "start_time": "2023-09-04T11:37:43.933041",
     "status": "completed"
    },
    "tags": []
   },
   "outputs": [
    {
     "data": {
      "text/html": [
       "<style>#sk-container-id-1 {color: black;background-color: white;}#sk-container-id-1 pre{padding: 0;}#sk-container-id-1 div.sk-toggleable {background-color: white;}#sk-container-id-1 label.sk-toggleable__label {cursor: pointer;display: block;width: 100%;margin-bottom: 0;padding: 0.3em;box-sizing: border-box;text-align: center;}#sk-container-id-1 label.sk-toggleable__label-arrow:before {content: \"▸\";float: left;margin-right: 0.25em;color: #696969;}#sk-container-id-1 label.sk-toggleable__label-arrow:hover:before {color: black;}#sk-container-id-1 div.sk-estimator:hover label.sk-toggleable__label-arrow:before {color: black;}#sk-container-id-1 div.sk-toggleable__content {max-height: 0;max-width: 0;overflow: hidden;text-align: left;background-color: #f0f8ff;}#sk-container-id-1 div.sk-toggleable__content pre {margin: 0.2em;color: black;border-radius: 0.25em;background-color: #f0f8ff;}#sk-container-id-1 input.sk-toggleable__control:checked~div.sk-toggleable__content {max-height: 200px;max-width: 100%;overflow: auto;}#sk-container-id-1 input.sk-toggleable__control:checked~label.sk-toggleable__label-arrow:before {content: \"▾\";}#sk-container-id-1 div.sk-estimator input.sk-toggleable__control:checked~label.sk-toggleable__label {background-color: #d4ebff;}#sk-container-id-1 div.sk-label input.sk-toggleable__control:checked~label.sk-toggleable__label {background-color: #d4ebff;}#sk-container-id-1 input.sk-hidden--visually {border: 0;clip: rect(1px 1px 1px 1px);clip: rect(1px, 1px, 1px, 1px);height: 1px;margin: -1px;overflow: hidden;padding: 0;position: absolute;width: 1px;}#sk-container-id-1 div.sk-estimator {font-family: monospace;background-color: #f0f8ff;border: 1px dotted black;border-radius: 0.25em;box-sizing: border-box;margin-bottom: 0.5em;}#sk-container-id-1 div.sk-estimator:hover {background-color: #d4ebff;}#sk-container-id-1 div.sk-parallel-item::after {content: \"\";width: 100%;border-bottom: 1px solid gray;flex-grow: 1;}#sk-container-id-1 div.sk-label:hover label.sk-toggleable__label {background-color: #d4ebff;}#sk-container-id-1 div.sk-serial::before {content: \"\";position: absolute;border-left: 1px solid gray;box-sizing: border-box;top: 0;bottom: 0;left: 50%;z-index: 0;}#sk-container-id-1 div.sk-serial {display: flex;flex-direction: column;align-items: center;background-color: white;padding-right: 0.2em;padding-left: 0.2em;position: relative;}#sk-container-id-1 div.sk-item {position: relative;z-index: 1;}#sk-container-id-1 div.sk-parallel {display: flex;align-items: stretch;justify-content: center;background-color: white;position: relative;}#sk-container-id-1 div.sk-item::before, #sk-container-id-1 div.sk-parallel-item::before {content: \"\";position: absolute;border-left: 1px solid gray;box-sizing: border-box;top: 0;bottom: 0;left: 50%;z-index: -1;}#sk-container-id-1 div.sk-parallel-item {display: flex;flex-direction: column;z-index: 1;position: relative;background-color: white;}#sk-container-id-1 div.sk-parallel-item:first-child::after {align-self: flex-end;width: 50%;}#sk-container-id-1 div.sk-parallel-item:last-child::after {align-self: flex-start;width: 50%;}#sk-container-id-1 div.sk-parallel-item:only-child::after {width: 0;}#sk-container-id-1 div.sk-dashed-wrapped {border: 1px dashed gray;margin: 0 0.4em 0.5em 0.4em;box-sizing: border-box;padding-bottom: 0.4em;background-color: white;}#sk-container-id-1 div.sk-label label {font-family: monospace;font-weight: bold;display: inline-block;line-height: 1.2em;}#sk-container-id-1 div.sk-label-container {text-align: center;}#sk-container-id-1 div.sk-container {/* jupyter's `normalize.less` sets `[hidden] { display: none; }` but bootstrap.min.css set `[hidden] { display: none !important; }` so we also need the `!important` here to be able to override the default hidden behavior on the sphinx rendered scikit-learn.org. See: https://github.com/scikit-learn/scikit-learn/issues/21755 */display: inline-block !important;position: relative;}#sk-container-id-1 div.sk-text-repr-fallback {display: none;}</style><div id=\"sk-container-id-1\" class=\"sk-top-container\"><div class=\"sk-text-repr-fallback\"><pre>RandomForestClassifier(criterion=&#x27;entropy&#x27;, n_estimators=10, random_state=0)</pre><b>In a Jupyter environment, please rerun this cell to show the HTML representation or trust the notebook. <br />On GitHub, the HTML representation is unable to render, please try loading this page with nbviewer.org.</b></div><div class=\"sk-container\" hidden><div class=\"sk-item\"><div class=\"sk-estimator sk-toggleable\"><input class=\"sk-toggleable__control sk-hidden--visually\" id=\"sk-estimator-id-1\" type=\"checkbox\" checked><label for=\"sk-estimator-id-1\" class=\"sk-toggleable__label sk-toggleable__label-arrow\">RandomForestClassifier</label><div class=\"sk-toggleable__content\"><pre>RandomForestClassifier(criterion=&#x27;entropy&#x27;, n_estimators=10, random_state=0)</pre></div></div></div></div></div>"
      ],
      "text/plain": [
       "RandomForestClassifier(criterion='entropy', n_estimators=10, random_state=0)"
      ]
     },
     "execution_count": 8,
     "metadata": {},
     "output_type": "execute_result"
    }
   ],
   "source": [
    "classifier.fit(X_train, y_train)"
   ]
  },
  {
   "cell_type": "markdown",
   "id": "5060f43b",
   "metadata": {
    "papermill": {
     "duration": 0.008238,
     "end_time": "2023-09-04T11:37:43.994548",
     "exception": false,
     "start_time": "2023-09-04T11:37:43.986310",
     "status": "completed"
    },
    "tags": []
   },
   "source": [
    "<a id=\"6\"></a>\n",
    "# 6. Prediction\n",
    "\n",
    "[Go back to Index](#index)"
   ]
  },
  {
   "cell_type": "markdown",
   "id": "45f76b4a",
   "metadata": {
    "papermill": {
     "duration": 0.008126,
     "end_time": "2023-09-04T11:37:44.010863",
     "exception": false,
     "start_time": "2023-09-04T11:37:44.002737",
     "status": "completed"
    },
    "tags": []
   },
   "source": [
    "<a id=\"6.1\"></a>\n",
    "## 6.1 Predicting a new value\n",
    "\n",
    "[Go back to Index](#index)"
   ]
  },
  {
   "cell_type": "code",
   "execution_count": 9,
   "id": "63fd5965",
   "metadata": {
    "execution": {
     "iopub.execute_input": "2023-09-04T11:37:44.029674Z",
     "iopub.status.busy": "2023-09-04T11:37:44.028700Z",
     "iopub.status.idle": "2023-09-04T11:37:44.037971Z",
     "shell.execute_reply": "2023-09-04T11:37:44.036777Z"
    },
    "papermill": {
     "duration": 0.020846,
     "end_time": "2023-09-04T11:37:44.040084",
     "exception": false,
     "start_time": "2023-09-04T11:37:44.019238",
     "status": "completed"
    },
    "tags": []
   },
   "outputs": [
    {
     "data": {
      "text/plain": [
       "array([0])"
      ]
     },
     "execution_count": 9,
     "metadata": {},
     "output_type": "execute_result"
    }
   ],
   "source": [
    "#Remember to put 2D array as input\n",
    "#[[Age, Salary]] -> 1 or 0 output\n",
    "#classifier.predict([[30, 87000]]) -> Feature scaling is missing -> wrong output !\n",
    "classifier.predict(sc.transform([[30, 87000]]))"
   ]
  },
  {
   "cell_type": "markdown",
   "id": "f074421a",
   "metadata": {
    "papermill": {
     "duration": 0.008236,
     "end_time": "2023-09-04T11:37:44.056924",
     "exception": false,
     "start_time": "2023-09-04T11:37:44.048688",
     "status": "completed"
    },
    "tags": []
   },
   "source": [
    "<a id=\"6.2\"></a>\n",
    "## 6.2 Predicting X_test\n",
    "\n",
    "[Go back to Index](#index)"
   ]
  },
  {
   "cell_type": "code",
   "execution_count": 10,
   "id": "4c1eb892",
   "metadata": {
    "execution": {
     "iopub.execute_input": "2023-09-04T11:37:44.075886Z",
     "iopub.status.busy": "2023-09-04T11:37:44.074800Z",
     "iopub.status.idle": "2023-09-04T11:37:44.084451Z",
     "shell.execute_reply": "2023-09-04T11:37:44.082729Z"
    },
    "papermill": {
     "duration": 0.021062,
     "end_time": "2023-09-04T11:37:44.086295",
     "exception": false,
     "start_time": "2023-09-04T11:37:44.065233",
     "status": "completed"
    },
    "tags": []
   },
   "outputs": [
    {
     "name": "stdout",
     "output_type": "stream",
     "text": [
      "[[0 0]\n",
      " [0 0]\n",
      " [0 0]\n",
      " [0 0]\n",
      " [0 0]\n",
      " [0 0]\n",
      " [0 0]\n",
      " [1 1]\n",
      " [0 0]\n",
      " [1 0]\n",
      " [0 0]\n",
      " [0 0]\n",
      " [0 0]\n",
      " [0 0]\n",
      " [0 0]\n",
      " [1 0]\n",
      " [1 0]\n",
      " [0 0]\n",
      " [1 1]\n",
      " [0 0]\n",
      " [0 0]\n",
      " [1 1]\n",
      " [0 0]\n",
      " [1 1]\n",
      " [0 0]\n",
      " [0 1]\n",
      " [0 0]\n",
      " [0 0]\n",
      " [0 0]\n",
      " [0 0]\n",
      " [0 0]\n",
      " [0 1]\n",
      " [1 1]\n",
      " [0 0]\n",
      " [0 0]\n",
      " [0 0]\n",
      " [0 0]\n",
      " [0 0]\n",
      " [0 0]\n",
      " [1 1]\n",
      " [0 0]\n",
      " [0 0]\n",
      " [0 0]\n",
      " [0 0]\n",
      " [1 1]\n",
      " [0 0]\n",
      " [0 0]\n",
      " [1 1]\n",
      " [0 0]\n",
      " [1 1]\n",
      " [1 1]\n",
      " [0 0]\n",
      " [0 0]\n",
      " [1 0]\n",
      " [1 1]\n",
      " [1 1]\n",
      " [0 0]\n",
      " [0 0]\n",
      " [1 1]\n",
      " [0 0]\n",
      " [0 0]\n",
      " [1 1]\n",
      " [0 0]\n",
      " [1 1]\n",
      " [0 0]\n",
      " [1 1]\n",
      " [0 0]\n",
      " [0 0]\n",
      " [0 0]\n",
      " [0 0]\n",
      " [1 1]\n",
      " [0 0]\n",
      " [0 0]\n",
      " [1 1]\n",
      " [0 0]\n",
      " [0 0]\n",
      " [0 0]\n",
      " [0 0]\n",
      " [1 1]\n",
      " [1 1]\n",
      " [1 1]\n",
      " [1 0]\n",
      " [0 0]\n",
      " [0 0]\n",
      " [1 1]\n",
      " [0 1]\n",
      " [0 0]\n",
      " [1 1]\n",
      " [1 1]\n",
      " [0 0]\n",
      " [0 0]\n",
      " [1 1]\n",
      " [0 0]\n",
      " [0 0]\n",
      " [0 0]\n",
      " [0 1]\n",
      " [0 0]\n",
      " [1 1]\n",
      " [1 1]\n",
      " [1 1]]\n"
     ]
    }
   ],
   "source": [
    "y_pred = classifier.predict(X_test) #X_test has already undergone feature scaling\n",
    "_y_pred = y_pred.reshape(len(y_pred),1) #Convert 1D -> 2D\n",
    "_y_test = y_test.reshape(len(y_test),1) #Convert 1D -> 2D\n",
    "print(np.concatenate((_y_pred, _y_test),1)) #Side by side depiciton of predicted vs actual results expected"
   ]
  },
  {
   "cell_type": "markdown",
   "id": "64bf7c49",
   "metadata": {
    "papermill": {
     "duration": 0.008225,
     "end_time": "2023-09-04T11:37:44.103266",
     "exception": false,
     "start_time": "2023-09-04T11:37:44.095041",
     "status": "completed"
    },
    "tags": []
   },
   "source": [
    "<a id=\"7\"></a>\n",
    "# 7. Confusion Matrix\n",
    "\n",
    "[Go back to Index](#index)"
   ]
  },
  {
   "cell_type": "markdown",
   "id": "8b6bf5e5",
   "metadata": {
    "papermill": {
     "duration": 0.00832,
     "end_time": "2023-09-04T11:37:44.130843",
     "exception": false,
     "start_time": "2023-09-04T11:37:44.122523",
     "status": "completed"
    },
    "tags": []
   },
   "source": [
    "<a href=\"https://towardsdatascience.com/understanding-confusion-matrix-a9ad42dcfd62\">Confusion Matrix Explained</a>\n",
    "\n",
    "<a href=\"https://datascience.stackexchange.com/questions/28426/train-accuracy-vs-test-accuracy-vs-confusion-matrix\">confusion matrix vs accuracy_score</a>"
   ]
  },
  {
   "cell_type": "code",
   "execution_count": 11,
   "id": "ddb06729",
   "metadata": {
    "execution": {
     "iopub.execute_input": "2023-09-04T11:37:44.149756Z",
     "iopub.status.busy": "2023-09-04T11:37:44.149040Z",
     "iopub.status.idle": "2023-09-04T11:37:44.156735Z",
     "shell.execute_reply": "2023-09-04T11:37:44.155761Z"
    },
    "papermill": {
     "duration": 0.019392,
     "end_time": "2023-09-04T11:37:44.158632",
     "exception": false,
     "start_time": "2023-09-04T11:37:44.139240",
     "status": "completed"
    },
    "tags": []
   },
   "outputs": [
    {
     "data": {
      "text/plain": [
       "array([[63,  5],\n",
       "       [ 4, 28]])"
      ]
     },
     "execution_count": 11,
     "metadata": {},
     "output_type": "execute_result"
    }
   ],
   "source": [
    "confusion_matrix(y_test, y_pred)"
   ]
  },
  {
   "cell_type": "markdown",
   "id": "6d3470b6",
   "metadata": {
    "papermill": {
     "duration": 0.008271,
     "end_time": "2023-09-04T11:37:44.175654",
     "exception": false,
     "start_time": "2023-09-04T11:37:44.167383",
     "status": "completed"
    },
    "tags": []
   },
   "source": [
    "### Note\n",
    "\n",
    "* TP:= 63 correct predictions of class (1)\n",
    "* FP:= 5 incorrect predictions of class (0)\n",
    "* FP:= 4 incorrect predictions of class (1)\n",
    "* TN:= 28 correct predictions of class (0)\n",
    "\n",
    "* TP + TN = 91 = total accuracy"
   ]
  },
  {
   "cell_type": "code",
   "execution_count": 12,
   "id": "e242bfbf",
   "metadata": {
    "execution": {
     "iopub.execute_input": "2023-09-04T11:37:44.195119Z",
     "iopub.status.busy": "2023-09-04T11:37:44.194481Z",
     "iopub.status.idle": "2023-09-04T11:37:44.200344Z",
     "shell.execute_reply": "2023-09-04T11:37:44.199661Z"
    },
    "papermill": {
     "duration": 0.017958,
     "end_time": "2023-09-04T11:37:44.202248",
     "exception": false,
     "start_time": "2023-09-04T11:37:44.184290",
     "status": "completed"
    },
    "tags": []
   },
   "outputs": [
    {
     "data": {
      "text/plain": [
       "0.91"
      ]
     },
     "execution_count": 12,
     "metadata": {},
     "output_type": "execute_result"
    }
   ],
   "source": [
    "accuracy_score(y_test, y_pred)"
   ]
  },
  {
   "cell_type": "markdown",
   "id": "eda56623",
   "metadata": {
    "papermill": {
     "duration": 0.008659,
     "end_time": "2023-09-04T11:37:44.219706",
     "exception": false,
     "start_time": "2023-09-04T11:37:44.211047",
     "status": "completed"
    },
    "tags": []
   },
   "source": [
    "<a id=\"8\"></a>\n",
    "# 8. Visualization\n",
    "\n",
    "[Go back to Index](#index)"
   ]
  },
  {
   "cell_type": "markdown",
   "id": "014a292c",
   "metadata": {
    "papermill": {
     "duration": 0.008573,
     "end_time": "2023-09-04T11:37:44.237200",
     "exception": false,
     "start_time": "2023-09-04T11:37:44.228627",
     "status": "completed"
    },
    "tags": []
   },
   "source": [
    "<a id=\"8.1\"></a>\n",
    "## 8.1 Training Results\n",
    "\n",
    "[Go back to Index](#index)"
   ]
  },
  {
   "cell_type": "code",
   "execution_count": 13,
   "id": "0936ffde",
   "metadata": {
    "execution": {
     "iopub.execute_input": "2023-09-04T11:37:44.256578Z",
     "iopub.status.busy": "2023-09-04T11:37:44.255973Z",
     "iopub.status.idle": "2023-09-04T11:37:44.320211Z",
     "shell.execute_reply": "2023-09-04T11:37:44.318998Z"
    },
    "papermill": {
     "duration": 0.077211,
     "end_time": "2023-09-04T11:37:44.323148",
     "exception": false,
     "start_time": "2023-09-04T11:37:44.245937",
     "status": "completed"
    },
    "tags": []
   },
   "outputs": [],
   "source": [
    "from matplotlib.colors import ListedColormap\n",
    "X_set, y_set = sc.inverse_transform(X_train), y_train\n",
    "X1, X2 = np.meshgrid(np.arange(start = X_set[:, 0].min() - 10, stop = X_set[:, 0].max() + 10, step = 1),\n",
    "                     np.arange(start = X_set[:, 1].min() - 1000, stop = X_set[:, 1].max() + 1000, step = 1))"
   ]
  },
  {
   "cell_type": "code",
   "execution_count": 14,
   "id": "71792fe0",
   "metadata": {
    "execution": {
     "iopub.execute_input": "2023-09-04T11:37:44.343589Z",
     "iopub.status.busy": "2023-09-04T11:37:44.342933Z",
     "iopub.status.idle": "2023-09-04T11:37:49.988032Z",
     "shell.execute_reply": "2023-09-04T11:37:49.986839Z"
    },
    "papermill": {
     "duration": 5.65815,
     "end_time": "2023-09-04T11:37:49.990747",
     "exception": false,
     "start_time": "2023-09-04T11:37:44.332597",
     "status": "completed"
    },
    "tags": []
   },
   "outputs": [],
   "source": [
    "y12_pred = classifier.predict(sc.transform(np.array([X1.ravel(), X2.ravel()]).T)).reshape(X1.shape)"
   ]
  },
  {
   "cell_type": "code",
   "execution_count": 15,
   "id": "423c883a",
   "metadata": {
    "execution": {
     "iopub.execute_input": "2023-09-04T11:37:50.011217Z",
     "iopub.status.busy": "2023-09-04T11:37:50.010135Z",
     "iopub.status.idle": "2023-09-04T11:37:52.335296Z",
     "shell.execute_reply": "2023-09-04T11:37:52.334243Z"
    },
    "papermill": {
     "duration": 2.338044,
     "end_time": "2023-09-04T11:37:52.337972",
     "exception": false,
     "start_time": "2023-09-04T11:37:49.999928",
     "status": "completed"
    },
    "tags": []
   },
   "outputs": [
    {
     "name": "stderr",
     "output_type": "stream",
     "text": [
      "/tmp/ipykernel_20/224499679.py:11: UserWarning: *c* argument looks like a single numeric RGB or RGBA sequence, which should be avoided as value-mapping will have precedence in case its length matches with *x* & *y*.  Please use the *color* keyword-argument or provide a 2D array with a single row if you intend to specify the same RGB or RGBA value for all points.\n",
      "  plt.scatter(X_set[y_set == j, 0], X_set[y_set == j, 1], c = ListedColormap(('red', 'green'))(i), label = j)\n"
     ]
    },
    {
     "data": {
      "image/png": "[encoded data removed]",
      "text/plain": [
       "<Figure size 640x480 with 1 Axes>"
      ]
     },
     "metadata": {},
     "output_type": "display_data"
    }
   ],
   "source": [
    "plt.title('Decision Tree (Classifier)')\n",
    "plt.xlabel('Age')\n",
    "plt.ylabel('Estimated Salary')\n",
    "plt.legend()\n",
    "\n",
    "plt.contourf(X1, X2, y12_pred,\n",
    "             alpha = 0.75, cmap = ListedColormap(('red', 'green')))\n",
    "plt.xlim(X1.min(), X1.max())\n",
    "plt.ylim(X2.min(), X2.max())\n",
    "for i, j in enumerate(np.unique(y_set)):\n",
    "    plt.scatter(X_set[y_set == j, 0], X_set[y_set == j, 1], c = ListedColormap(('red', 'green'))(i), label = j)\n",
    "\n",
    "plt.show()"
   ]
  },
  {
   "cell_type": "markdown",
   "id": "4f53863e",
   "metadata": {
    "papermill": {
     "duration": 0.009893,
     "end_time": "2023-09-04T11:37:52.358060",
     "exception": false,
     "start_time": "2023-09-04T11:37:52.348167",
     "status": "completed"
    },
    "tags": []
   },
   "source": [
    "<a id=\"8.2\"></a>\n",
    "## 8.2 Test Results\n",
    "\n",
    "[Go back to Index](#index)"
   ]
  },
  {
   "cell_type": "code",
   "execution_count": 16,
   "id": "38915b76",
   "metadata": {
    "execution": {
     "iopub.execute_input": "2023-09-04T11:37:52.379238Z",
     "iopub.status.busy": "2023-09-04T11:37:52.378834Z",
     "iopub.status.idle": "2023-09-04T11:37:52.421272Z",
     "shell.execute_reply": "2023-09-04T11:37:52.420255Z"
    },
    "papermill": {
     "duration": 0.056003,
     "end_time": "2023-09-04T11:37:52.423862",
     "exception": false,
     "start_time": "2023-09-04T11:37:52.367859",
     "status": "completed"
    },
    "tags": []
   },
   "outputs": [],
   "source": [
    "from matplotlib.colors import ListedColormap\n",
    "X_set, y_set = sc.inverse_transform(X_test), y_test\n",
    "X1, X2 = np.meshgrid(np.arange(start = X_set[:, 0].min() - 10, stop = X_set[:, 0].max() + 10, step = 1),\n",
    "                     np.arange(start = X_set[:, 1].min() - 1000, stop = X_set[:, 1].max() + 1000, step = 1))"
   ]
  },
  {
   "cell_type": "code",
   "execution_count": 17,
   "id": "646fe7f0",
   "metadata": {
    "execution": {
     "iopub.execute_input": "2023-09-04T11:37:52.500250Z",
     "iopub.status.busy": "2023-09-04T11:37:52.499399Z",
     "iopub.status.idle": "2023-09-04T11:37:58.077136Z",
     "shell.execute_reply": "2023-09-04T11:37:58.075973Z"
    },
    "papermill": {
     "duration": 5.591558,
     "end_time": "2023-09-04T11:37:58.079759",
     "exception": false,
     "start_time": "2023-09-04T11:37:52.488201",
     "status": "completed"
    },
    "tags": []
   },
   "outputs": [],
   "source": [
    "y12_pred = classifier.predict(sc.transform(np.array([X1.ravel(), X2.ravel()]).T)).reshape(X1.shape)"
   ]
  },
  {
   "cell_type": "code",
   "execution_count": 18,
   "id": "86033002",
   "metadata": {
    "execution": {
     "iopub.execute_input": "2023-09-04T11:37:58.101333Z",
     "iopub.status.busy": "2023-09-04T11:37:58.100941Z",
     "iopub.status.idle": "2023-09-04T11:38:00.419900Z",
     "shell.execute_reply": "2023-09-04T11:38:00.418795Z"
    },
    "papermill": {
     "duration": 2.332215,
     "end_time": "2023-09-04T11:38:00.422032",
     "exception": false,
     "start_time": "2023-09-04T11:37:58.089817",
     "status": "completed"
    },
    "tags": []
   },
   "outputs": [
    {
     "name": "stderr",
     "output_type": "stream",
     "text": [
      "/tmp/ipykernel_20/621416509.py:5: UserWarning: *c* argument looks like a single numeric RGB or RGBA sequence, which should be avoided as value-mapping will have precedence in case its length matches with *x* & *y*.  Please use the *color* keyword-argument or provide a 2D array with a single row if you intend to specify the same RGB or RGBA value for all points.\n",
      "  plt.scatter(X_set[y_set == j, 0], X_set[y_set == j, 1], c = ListedColormap(('red', 'green'))(i), label = j)\n"
     ]
    },
    {
     "data": {
      "image/png": "[encoded data removed]",
      "text/plain": [
       "<Figure size 640x480 with 1 Axes>"
      ]
     },
     "metadata": {},
     "output_type": "display_data"
    }
   ],
   "source": [
    "plt.contourf(X1, X2, y12_pred, alpha = 0.75, cmap = ListedColormap(('red', 'green')))\n",
    "plt.xlim(X1.min(), X1.max())\n",
    "plt.ylim(X2.min(), X2.max())\n",
    "for i, j in enumerate(np.unique(y_set)):\n",
    "    plt.scatter(X_set[y_set == j, 0], X_set[y_set == j, 1], c = ListedColormap(('red', 'green'))(i), label = j)\n",
    "plt.title('Decision Tree Classifer (Test Set)')\n",
    "plt.xlabel('Age')\n",
    "plt.ylabel('Estimated Salary')\n",
    "plt.legend()\n",
    "plt.show()"
   ]
  }
 ],
 "kernelspec": {
  "display_name": "Python 3",
  "language": "python",
  "name": "python3"
 },
 "language_info": {
  "codemirror_mode": {
   "name": "ipython",
   "version": 3
  },
  "file_extension": ".py",
  "mimetype": "text/x-python",
  "name": "python",
  "nbconvert_exporter": "python",
  "pygments_lexer": "ipython3",
  "version": "3.6.4"
 },
 "metadata": {
  "kernelspec": {
   "display_name": "Python 3",
   "language": "python",
   "name": "python3"
  },
  "language_info": {
   "codemirror_mode": {
    "name": "ipython",
    "version": 3
   },
   "file_extension": ".py",
   "mimetype": "text/x-python",
   "name": "python",
   "nbconvert_exporter": "python",
   "pygments_lexer": "ipython3",
   "version": "3.10.12"
  },
  "papermill": {
   "default_parameters": {},
   "duration": 22.462487,
   "end_time": "2023-09-04T11:38:00.953113",
   "environment_variables": {},
   "exception": null,
   "input_path": "__notebook__.ipynb",
   "output_path": "__notebook__.ipynb",
   "parameters": {},
   "start_time": "2023-09-04T11:37:38.490626",
   "version": "2.4.0"
  }
 },
 "nbformat": 4,
 "nbformat_minor": 5
}
