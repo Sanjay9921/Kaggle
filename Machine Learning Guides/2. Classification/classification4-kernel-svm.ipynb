{
 "cells": [
  {
   "cell_type": "code",
   "execution_count": 1,
   "id": "269664f7",
   "metadata": {
    "_cell_guid": "b1076dfc-b9ad-4769-8c92-a6c4dae69d19",
    "_uuid": "8f2839f25d086af736a60e9eeb907d3b93b6e0e5",
    "execution": {
     "iopub.execute_input": "2023-08-30T18:17:26.931937Z",
     "iopub.status.busy": "2023-08-30T18:17:26.931484Z",
     "iopub.status.idle": "2023-08-30T18:17:26.957206Z",
     "shell.execute_reply": "2023-08-30T18:17:26.956255Z"
    },
    "papermill": {
     "duration": 0.044799,
     "end_time": "2023-08-30T18:17:26.959754",
     "exception": false,
     "start_time": "2023-08-30T18:17:26.914955",
     "status": "completed"
    },
    "tags": []
   },
   "outputs": [
    {
     "name": "stdout",
     "output_type": "stream",
     "text": [
      "/kaggle/input/social-network-ads/Social_Network_Ads.csv\n"
     ]
    }
   ],
   "source": [
    "# This Python 3 environment comes with many helpful analytics libraries installed\n",
    "# It is defined by the kaggle/python Docker image: https://github.com/kaggle/docker-python\n",
    "# For example, here's several helpful packages to load\n",
    "\n",
    "import numpy as np # linear algebra\n",
    "import pandas as pd # data processing, CSV file I/O (e.g. pd.read_csv)\n",
    "\n",
    "# Input data files are available in the read-only \"../input/\" directory\n",
    "# For example, running this (by clicking run or pressing Shift+Enter) will list all files under the input directory\n",
    "\n",
    "import os\n",
    "for dirname, _, filenames in os.walk('/kaggle/input'):\n",
    "    for filename in filenames:\n",
    "        print(os.path.join(dirname, filename))\n",
    "\n",
    "# You can write up to 20GB to the current directory (/kaggle/working/) that gets preserved as output when you create a version using \"Save & Run All\" \n",
    "# You can also write temporary files to /kaggle/temp/, but they won't be saved outside of the current session"
   ]
  },
  {
   "cell_type": "markdown",
   "id": "fd3c53a6",
   "metadata": {
    "papermill": {
     "duration": 0.012441,
     "end_time": "2023-08-30T18:17:26.985295",
     "exception": false,
     "start_time": "2023-08-30T18:17:26.972854",
     "status": "completed"
    },
    "tags": []
   },
   "source": [
    "# Credits and Links\n",
    "\n",
    "* UDEMY - Machine Learning A-Z <sup>TM</sup>*"
   ]
  },
  {
   "cell_type": "markdown",
   "id": "e4c7b428",
   "metadata": {
    "papermill": {
     "duration": 0.013766,
     "end_time": "2023-08-30T18:17:27.011907",
     "exception": false,
     "start_time": "2023-08-30T18:17:26.998141",
     "status": "completed"
    },
    "tags": []
   },
   "source": [
    "<a id=\"index\"></a>\n",
    "# Table of Content\n",
    "\n",
    "1. [Importing Libraries](#1)\n",
    "2. [Importing Dataset](#2)\n",
    "3. [Splitting the dataset into Train/Test](#3)\n",
    "4. [Feature Scaling](#4)\n",
    "5. [Kernel SVM Training (Non Linear)](#5)\n",
    "6. [Prediction](#6)\n",
    "    - [New Result](#6.1)\n",
    "    - [Test Result](#6.2)\n",
    "7. [Confusion Matrix](#7)\n",
    "6. [Visualization](#8)\n",
    "    - [Training set results](#8.1)\n",
    "    - [Test set results](#8.2)"
   ]
  },
  {
   "cell_type": "markdown",
   "id": "e406ea14",
   "metadata": {
    "papermill": {
     "duration": 0.01231,
     "end_time": "2023-08-30T18:17:27.038986",
     "exception": false,
     "start_time": "2023-08-30T18:17:27.026676",
     "status": "completed"
    },
    "tags": []
   },
   "source": [
    "<a id=\"1\"></a>\n",
    "# 1. Importing Libraries\n",
    "\n",
    "[Go back to Index](#index)"
   ]
  },
  {
   "cell_type": "code",
   "execution_count": 2,
   "id": "d2d22117",
   "metadata": {
    "execution": {
     "iopub.execute_input": "2023-08-30T18:17:27.067081Z",
     "iopub.status.busy": "2023-08-30T18:17:27.066651Z",
     "iopub.status.idle": "2023-08-30T18:17:28.944450Z",
     "shell.execute_reply": "2023-08-30T18:17:28.942795Z"
    },
    "papermill": {
     "duration": 1.895647,
     "end_time": "2023-08-30T18:17:28.947479",
     "exception": false,
     "start_time": "2023-08-30T18:17:27.051832",
     "status": "completed"
    },
    "tags": []
   },
   "outputs": [
    {
     "name": "stderr",
     "output_type": "stream",
     "text": [
      "/opt/conda/lib/python3.10/site-packages/scipy/__init__.py:146: UserWarning: A NumPy version >=1.16.5 and <1.23.0 is required for this version of SciPy (detected version 1.23.5\n",
      "  warnings.warn(f\"A NumPy version >={np_minversion} and <{np_maxversion}\"\n"
     ]
    }
   ],
   "source": [
    "#1. General\n",
    "import pandas as pd\n",
    "import numpy as np\n",
    "import os\n",
    "import matplotlib.pyplot as plt\n",
    "%matplotlib inline\n",
    "\n",
    "#2. Data Preprocessing\n",
    "##2.1 Fill Missing Data\n",
    "from sklearn.impute import SimpleImputer\n",
    "\n",
    "##2.2 Encoding\n",
    "from sklearn.compose import ColumnTransformer\n",
    "from sklearn.preprocessing import OneHotEncoder\n",
    "from sklearn.preprocessing import LabelEncoder\n",
    "\n",
    "##2.3 Splitting Train and Test\n",
    "from sklearn.model_selection import train_test_split\n",
    "\n",
    "##2.4 Feature Scaling\n",
    "from sklearn.preprocessing import StandardScaler\n",
    "\n",
    "#3. (SV)M (C)lassifier - SVC\n",
    "from sklearn.svm import SVC\n",
    "\n",
    "#4. Scikit Confusion Matrix\n",
    "from sklearn.metrics import confusion_matrix, accuracy_score"
   ]
  },
  {
   "cell_type": "markdown",
   "id": "1fff65d9",
   "metadata": {
    "papermill": {
     "duration": 0.01251,
     "end_time": "2023-08-30T18:17:28.973337",
     "exception": false,
     "start_time": "2023-08-30T18:17:28.960827",
     "status": "completed"
    },
    "tags": []
   },
   "source": [
    "<a id=\"2\"></a>\n",
    "# 2. Importing Dataset\n",
    "\n",
    "[Go back to Index](#index)"
   ]
  },
  {
   "cell_type": "code",
   "execution_count": 3,
   "id": "333f83cd",
   "metadata": {
    "execution": {
     "iopub.execute_input": "2023-08-30T18:17:29.002650Z",
     "iopub.status.busy": "2023-08-30T18:17:29.002121Z",
     "iopub.status.idle": "2023-08-30T18:17:29.032713Z",
     "shell.execute_reply": "2023-08-30T18:17:29.031408Z"
    },
    "papermill": {
     "duration": 0.048041,
     "end_time": "2023-08-30T18:17:29.035546",
     "exception": false,
     "start_time": "2023-08-30T18:17:28.987505",
     "status": "completed"
    },
    "tags": []
   },
   "outputs": [],
   "source": [
    "# Dataset:= Combined Cycle Powerplant.csv\n",
    "df = pd.read_csv('/kaggle/input/social-network-ads/Social_Network_Ads.csv')\n",
    "X = df.iloc[:, :-1].values\n",
    "y = df.iloc[:, -1].values"
   ]
  },
  {
   "cell_type": "markdown",
   "id": "a5a5f270",
   "metadata": {
    "papermill": {
     "duration": 0.013162,
     "end_time": "2023-08-30T18:17:29.061769",
     "exception": false,
     "start_time": "2023-08-30T18:17:29.048607",
     "status": "completed"
    },
    "tags": []
   },
   "source": [
    "<a id=\"3\"></a>\n",
    "# 3. Splitting the dataset into Train/Test\n",
    "\n",
    "[Go back to Index](#index)"
   ]
  },
  {
   "cell_type": "code",
   "execution_count": 4,
   "id": "4140fc49",
   "metadata": {
    "execution": {
     "iopub.execute_input": "2023-08-30T18:17:29.089648Z",
     "iopub.status.busy": "2023-08-30T18:17:29.089187Z",
     "iopub.status.idle": "2023-08-30T18:17:29.098623Z",
     "shell.execute_reply": "2023-08-30T18:17:29.097319Z"
    },
    "papermill": {
     "duration": 0.026593,
     "end_time": "2023-08-30T18:17:29.101308",
     "exception": false,
     "start_time": "2023-08-30T18:17:29.074715",
     "status": "completed"
    },
    "tags": []
   },
   "outputs": [],
   "source": [
    "X_train, X_test, y_train, y_test = train_test_split(X, y, test_size=0.25, random_state=0)"
   ]
  },
  {
   "cell_type": "markdown",
   "id": "e920260e",
   "metadata": {
    "papermill": {
     "duration": 0.01309,
     "end_time": "2023-08-30T18:17:29.127700",
     "exception": false,
     "start_time": "2023-08-30T18:17:29.114610",
     "status": "completed"
    },
    "tags": []
   },
   "source": [
    "<a id=\"4\"></a>\n",
    "# 4. Feature Scaling\n",
    "\n",
    "[Go back to Index](#index)"
   ]
  },
  {
   "cell_type": "code",
   "execution_count": 5,
   "id": "c37ca892",
   "metadata": {
    "execution": {
     "iopub.execute_input": "2023-08-30T18:17:29.155933Z",
     "iopub.status.busy": "2023-08-30T18:17:29.155476Z",
     "iopub.status.idle": "2023-08-30T18:17:29.162031Z",
     "shell.execute_reply": "2023-08-30T18:17:29.160186Z"
    },
    "papermill": {
     "duration": 0.023696,
     "end_time": "2023-08-30T18:17:29.164772",
     "exception": false,
     "start_time": "2023-08-30T18:17:29.141076",
     "status": "completed"
    },
    "tags": []
   },
   "outputs": [],
   "source": [
    "sc = StandardScaler()"
   ]
  },
  {
   "cell_type": "code",
   "execution_count": 6,
   "id": "e9da6435",
   "metadata": {
    "execution": {
     "iopub.execute_input": "2023-08-30T18:17:29.194198Z",
     "iopub.status.busy": "2023-08-30T18:17:29.193758Z",
     "iopub.status.idle": "2023-08-30T18:17:29.204080Z",
     "shell.execute_reply": "2023-08-30T18:17:29.202663Z"
    },
    "papermill": {
     "duration": 0.028742,
     "end_time": "2023-08-30T18:17:29.206638",
     "exception": false,
     "start_time": "2023-08-30T18:17:29.177896",
     "status": "completed"
    },
    "tags": []
   },
   "outputs": [],
   "source": [
    "X_train = sc.fit_transform(X_train)\n",
    "X_test = sc.transform(X_test)"
   ]
  },
  {
   "cell_type": "markdown",
   "id": "6ef6bd91",
   "metadata": {
    "papermill": {
     "duration": 0.01311,
     "end_time": "2023-08-30T18:17:29.233272",
     "exception": false,
     "start_time": "2023-08-30T18:17:29.220162",
     "status": "completed"
    },
    "tags": []
   },
   "source": [
    "<a id=\"5\"></a>\n",
    "\n",
    "# 5. Kernel Support Vector Machine (Non Linear)\n",
    "\n",
    "[Go back to Index](#index)"
   ]
  },
  {
   "attachments": {
    "7b5ad3b2-93e8-4518-9a97-23b611e909b7.png": {
     "image/png": "[encoded data removed]"
    }
   },
   "cell_type": "markdown",
   "id": "884b8288",
   "metadata": {
    "papermill": {
     "duration": 0.012572,
     "end_time": "2023-08-30T18:17:29.258960",
     "exception": false,
     "start_time": "2023-08-30T18:17:29.246388",
     "status": "completed"
    },
    "tags": []
   },
   "source": [
    "![image.png](attachment:7b5ad3b2-93e8-4518-9a97-23b611e909b7.png)"
   ]
  },
  {
   "cell_type": "markdown",
   "id": "c0061079",
   "metadata": {
    "papermill": {
     "duration": 0.012609,
     "end_time": "2023-08-30T18:17:29.285120",
     "exception": false,
     "start_time": "2023-08-30T18:17:29.272511",
     "status": "completed"
    },
    "tags": []
   },
   "source": [
    "This is the Radial Gaussian Function (rbf) that is used in the non linear Kernel SVM"
   ]
  },
  {
   "cell_type": "code",
   "execution_count": 7,
   "id": "c53e0afd",
   "metadata": {
    "execution": {
     "iopub.execute_input": "2023-08-30T18:17:29.312559Z",
     "iopub.status.busy": "2023-08-30T18:17:29.312035Z",
     "iopub.status.idle": "2023-08-30T18:17:29.317519Z",
     "shell.execute_reply": "2023-08-30T18:17:29.316301Z"
    },
    "papermill": {
     "duration": 0.022117,
     "end_time": "2023-08-30T18:17:29.320003",
     "exception": false,
     "start_time": "2023-08-30T18:17:29.297886",
     "status": "completed"
    },
    "tags": []
   },
   "outputs": [],
   "source": [
    "#linear classifier\n",
    "classifier = SVC(kernel=\"rbf\", random_state=0)"
   ]
  },
  {
   "cell_type": "code",
   "execution_count": 8,
   "id": "749d4279",
   "metadata": {
    "execution": {
     "iopub.execute_input": "2023-08-30T18:17:29.348236Z",
     "iopub.status.busy": "2023-08-30T18:17:29.347839Z",
     "iopub.status.idle": "2023-08-30T18:17:29.368487Z",
     "shell.execute_reply": "2023-08-30T18:17:29.367228Z"
    },
    "papermill": {
     "duration": 0.037466,
     "end_time": "2023-08-30T18:17:29.371062",
     "exception": false,
     "start_time": "2023-08-30T18:17:29.333596",
     "status": "completed"
    },
    "tags": []
   },
   "outputs": [
    {
     "data": {
      "text/html": [
       "<style>#sk-container-id-1 {color: black;background-color: white;}#sk-container-id-1 pre{padding: 0;}#sk-container-id-1 div.sk-toggleable {background-color: white;}#sk-container-id-1 label.sk-toggleable__label {cursor: pointer;display: block;width: 100%;margin-bottom: 0;padding: 0.3em;box-sizing: border-box;text-align: center;}#sk-container-id-1 label.sk-toggleable__label-arrow:before {content: \"▸\";float: left;margin-right: 0.25em;color: #696969;}#sk-container-id-1 label.sk-toggleable__label-arrow:hover:before {color: black;}#sk-container-id-1 div.sk-estimator:hover label.sk-toggleable__label-arrow:before {color: black;}#sk-container-id-1 div.sk-toggleable__content {max-height: 0;max-width: 0;overflow: hidden;text-align: left;background-color: #f0f8ff;}#sk-container-id-1 div.sk-toggleable__content pre {margin: 0.2em;color: black;border-radius: 0.25em;background-color: #f0f8ff;}#sk-container-id-1 input.sk-toggleable__control:checked~div.sk-toggleable__content {max-height: 200px;max-width: 100%;overflow: auto;}#sk-container-id-1 input.sk-toggleable__control:checked~label.sk-toggleable__label-arrow:before {content: \"▾\";}#sk-container-id-1 div.sk-estimator input.sk-toggleable__control:checked~label.sk-toggleable__label {background-color: #d4ebff;}#sk-container-id-1 div.sk-label input.sk-toggleable__control:checked~label.sk-toggleable__label {background-color: #d4ebff;}#sk-container-id-1 input.sk-hidden--visually {border: 0;clip: rect(1px 1px 1px 1px);clip: rect(1px, 1px, 1px, 1px);height: 1px;margin: -1px;overflow: hidden;padding: 0;position: absolute;width: 1px;}#sk-container-id-1 div.sk-estimator {font-family: monospace;background-color: #f0f8ff;border: 1px dotted black;border-radius: 0.25em;box-sizing: border-box;margin-bottom: 0.5em;}#sk-container-id-1 div.sk-estimator:hover {background-color: #d4ebff;}#sk-container-id-1 div.sk-parallel-item::after {content: \"\";width: 100%;border-bottom: 1px solid gray;flex-grow: 1;}#sk-container-id-1 div.sk-label:hover label.sk-toggleable__label {background-color: #d4ebff;}#sk-container-id-1 div.sk-serial::before {content: \"\";position: absolute;border-left: 1px solid gray;box-sizing: border-box;top: 0;bottom: 0;left: 50%;z-index: 0;}#sk-container-id-1 div.sk-serial {display: flex;flex-direction: column;align-items: center;background-color: white;padding-right: 0.2em;padding-left: 0.2em;position: relative;}#sk-container-id-1 div.sk-item {position: relative;z-index: 1;}#sk-container-id-1 div.sk-parallel {display: flex;align-items: stretch;justify-content: center;background-color: white;position: relative;}#sk-container-id-1 div.sk-item::before, #sk-container-id-1 div.sk-parallel-item::before {content: \"\";position: absolute;border-left: 1px solid gray;box-sizing: border-box;top: 0;bottom: 0;left: 50%;z-index: -1;}#sk-container-id-1 div.sk-parallel-item {display: flex;flex-direction: column;z-index: 1;position: relative;background-color: white;}#sk-container-id-1 div.sk-parallel-item:first-child::after {align-self: flex-end;width: 50%;}#sk-container-id-1 div.sk-parallel-item:last-child::after {align-self: flex-start;width: 50%;}#sk-container-id-1 div.sk-parallel-item:only-child::after {width: 0;}#sk-container-id-1 div.sk-dashed-wrapped {border: 1px dashed gray;margin: 0 0.4em 0.5em 0.4em;box-sizing: border-box;padding-bottom: 0.4em;background-color: white;}#sk-container-id-1 div.sk-label label {font-family: monospace;font-weight: bold;display: inline-block;line-height: 1.2em;}#sk-container-id-1 div.sk-label-container {text-align: center;}#sk-container-id-1 div.sk-container {/* jupyter's `normalize.less` sets `[hidden] { display: none; }` but bootstrap.min.css set `[hidden] { display: none !important; }` so we also need the `!important` here to be able to override the default hidden behavior on the sphinx rendered scikit-learn.org. See: https://github.com/scikit-learn/scikit-learn/issues/21755 */display: inline-block !important;position: relative;}#sk-container-id-1 div.sk-text-repr-fallback {display: none;}</style><div id=\"sk-container-id-1\" class=\"sk-top-container\"><div class=\"sk-text-repr-fallback\"><pre>SVC(random_state=0)</pre><b>In a Jupyter environment, please rerun this cell to show the HTML representation or trust the notebook. <br />On GitHub, the HTML representation is unable to render, please try loading this page with nbviewer.org.</b></div><div class=\"sk-container\" hidden><div class=\"sk-item\"><div class=\"sk-estimator sk-toggleable\"><input class=\"sk-toggleable__control sk-hidden--visually\" id=\"sk-estimator-id-1\" type=\"checkbox\" checked><label for=\"sk-estimator-id-1\" class=\"sk-toggleable__label sk-toggleable__label-arrow\">SVC</label><div class=\"sk-toggleable__content\"><pre>SVC(random_state=0)</pre></div></div></div></div></div>"
      ],
      "text/plain": [
       "SVC(random_state=0)"
      ]
     },
     "execution_count": 8,
     "metadata": {},
     "output_type": "execute_result"
    }
   ],
   "source": [
    "classifier.fit(X_train, y_train)"
   ]
  },
  {
   "cell_type": "markdown",
   "id": "ebfa5c92",
   "metadata": {
    "papermill": {
     "duration": 0.012985,
     "end_time": "2023-08-30T18:17:29.397309",
     "exception": false,
     "start_time": "2023-08-30T18:17:29.384324",
     "status": "completed"
    },
    "tags": []
   },
   "source": [
    "<a id=\"6\"></a>\n",
    "# 6. Prediction\n",
    "\n",
    "[Go back to Index](#index)"
   ]
  },
  {
   "cell_type": "markdown",
   "id": "9a10c303",
   "metadata": {
    "papermill": {
     "duration": 0.013168,
     "end_time": "2023-08-30T18:17:29.423841",
     "exception": false,
     "start_time": "2023-08-30T18:17:29.410673",
     "status": "completed"
    },
    "tags": []
   },
   "source": [
    "<a id=\"6.1\"></a>\n",
    "## 6.1 Predicting a new value\n",
    "\n",
    "[Go back to Index](#index)"
   ]
  },
  {
   "cell_type": "code",
   "execution_count": 9,
   "id": "67e0c3a1",
   "metadata": {
    "execution": {
     "iopub.execute_input": "2023-08-30T18:17:29.453161Z",
     "iopub.status.busy": "2023-08-30T18:17:29.452729Z",
     "iopub.status.idle": "2023-08-30T18:17:29.462239Z",
     "shell.execute_reply": "2023-08-30T18:17:29.460988Z"
    },
    "papermill": {
     "duration": 0.027568,
     "end_time": "2023-08-30T18:17:29.464776",
     "exception": false,
     "start_time": "2023-08-30T18:17:29.437208",
     "status": "completed"
    },
    "tags": []
   },
   "outputs": [
    {
     "data": {
      "text/plain": [
       "array([0])"
      ]
     },
     "execution_count": 9,
     "metadata": {},
     "output_type": "execute_result"
    }
   ],
   "source": [
    "#Remember to put 2D array as input\n",
    "#[[Age, Salary]] -> 1 or 0 output\n",
    "#classifier.predict([[30, 87000]]) -> Feature scaling is missing -> wrong output !\n",
    "classifier.predict(sc.transform([[30, 87000]]))"
   ]
  },
  {
   "cell_type": "markdown",
   "id": "5c21ef9f",
   "metadata": {
    "papermill": {
     "duration": 0.013153,
     "end_time": "2023-08-30T18:17:29.491358",
     "exception": false,
     "start_time": "2023-08-30T18:17:29.478205",
     "status": "completed"
    },
    "tags": []
   },
   "source": [
    "<a id=\"6.2\"></a>\n",
    "## 6.2 Predicting X_test\n",
    "\n",
    "[Go back to Index](#index)"
   ]
  },
  {
   "cell_type": "code",
   "execution_count": 10,
   "id": "a7fd1649",
   "metadata": {
    "execution": {
     "iopub.execute_input": "2023-08-30T18:17:29.520632Z",
     "iopub.status.busy": "2023-08-30T18:17:29.519820Z",
     "iopub.status.idle": "2023-08-30T18:17:29.529795Z",
     "shell.execute_reply": "2023-08-30T18:17:29.527758Z"
    },
    "papermill": {
     "duration": 0.027638,
     "end_time": "2023-08-30T18:17:29.532356",
     "exception": false,
     "start_time": "2023-08-30T18:17:29.504718",
     "status": "completed"
    },
    "tags": []
   },
   "outputs": [
    {
     "name": "stdout",
     "output_type": "stream",
     "text": [
      "[[0 0]\n",
      " [0 0]\n",
      " [0 0]\n",
      " [0 0]\n",
      " [0 0]\n",
      " [0 0]\n",
      " [0 0]\n",
      " [1 1]\n",
      " [0 0]\n",
      " [1 0]\n",
      " [0 0]\n",
      " [0 0]\n",
      " [0 0]\n",
      " [0 0]\n",
      " [0 0]\n",
      " [1 0]\n",
      " [0 0]\n",
      " [0 0]\n",
      " [1 1]\n",
      " [0 0]\n",
      " [0 0]\n",
      " [1 1]\n",
      " [0 0]\n",
      " [1 1]\n",
      " [0 0]\n",
      " [1 1]\n",
      " [0 0]\n",
      " [0 0]\n",
      " [0 0]\n",
      " [0 0]\n",
      " [0 0]\n",
      " [0 1]\n",
      " [1 1]\n",
      " [0 0]\n",
      " [0 0]\n",
      " [0 0]\n",
      " [0 0]\n",
      " [0 0]\n",
      " [0 0]\n",
      " [1 1]\n",
      " [0 0]\n",
      " [0 0]\n",
      " [0 0]\n",
      " [0 0]\n",
      " [1 1]\n",
      " [0 0]\n",
      " [0 0]\n",
      " [1 1]\n",
      " [0 0]\n",
      " [1 1]\n",
      " [1 1]\n",
      " [0 0]\n",
      " [0 0]\n",
      " [1 0]\n",
      " [1 1]\n",
      " [1 1]\n",
      " [0 0]\n",
      " [0 0]\n",
      " [1 1]\n",
      " [0 0]\n",
      " [0 0]\n",
      " [1 1]\n",
      " [0 0]\n",
      " [1 1]\n",
      " [0 0]\n",
      " [1 1]\n",
      " [0 0]\n",
      " [0 0]\n",
      " [0 0]\n",
      " [0 0]\n",
      " [1 1]\n",
      " [0 0]\n",
      " [0 0]\n",
      " [1 1]\n",
      " [0 0]\n",
      " [0 0]\n",
      " [0 0]\n",
      " [0 0]\n",
      " [1 1]\n",
      " [1 1]\n",
      " [1 1]\n",
      " [1 0]\n",
      " [0 0]\n",
      " [0 0]\n",
      " [1 1]\n",
      " [0 1]\n",
      " [0 0]\n",
      " [1 1]\n",
      " [1 1]\n",
      " [0 0]\n",
      " [0 0]\n",
      " [1 1]\n",
      " [0 0]\n",
      " [0 0]\n",
      " [0 0]\n",
      " [0 1]\n",
      " [0 0]\n",
      " [1 1]\n",
      " [1 1]\n",
      " [1 1]]\n"
     ]
    }
   ],
   "source": [
    "y_pred = classifier.predict(X_test) #X_test has already undergone feature scaling\n",
    "_y_pred = y_pred.reshape(len(y_pred),1) #Convert 1D -> 2D\n",
    "_y_test = y_test.reshape(len(y_test),1) #Convert 1D -> 2D\n",
    "print(np.concatenate((_y_pred, _y_test),1)) #Side by side depiciton of predicted vs actual results expected"
   ]
  },
  {
   "cell_type": "markdown",
   "id": "413b3f2a",
   "metadata": {
    "papermill": {
     "duration": 0.013368,
     "end_time": "2023-08-30T18:17:29.560575",
     "exception": false,
     "start_time": "2023-08-30T18:17:29.547207",
     "status": "completed"
    },
    "tags": []
   },
   "source": [
    "<a id=\"7\"></a>\n",
    "# 7. Confusion Matrix\n",
    "\n",
    "[Go back to Index](#index)"
   ]
  },
  {
   "cell_type": "markdown",
   "id": "a2bd8d79",
   "metadata": {
    "papermill": {
     "duration": 0.01329,
     "end_time": "2023-08-30T18:17:29.587350",
     "exception": false,
     "start_time": "2023-08-30T18:17:29.574060",
     "status": "completed"
    },
    "tags": []
   },
   "source": [
    "<a href=\"https://towardsdatascience.com/understanding-confusion-matrix-a9ad42dcfd62\">Confusion Matrix Explained</a>\n",
    "\n",
    "<a href=\"https://datascience.stackexchange.com/questions/28426/train-accuracy-vs-test-accuracy-vs-confusion-matrix\">confusion matrix vs accuracy_score</a>"
   ]
  },
  {
   "cell_type": "code",
   "execution_count": 11,
   "id": "7f68e91b",
   "metadata": {
    "execution": {
     "iopub.execute_input": "2023-08-30T18:17:29.616536Z",
     "iopub.status.busy": "2023-08-30T18:17:29.615694Z",
     "iopub.status.idle": "2023-08-30T18:17:29.626674Z",
     "shell.execute_reply": "2023-08-30T18:17:29.625467Z"
    },
    "papermill": {
     "duration": 0.028486,
     "end_time": "2023-08-30T18:17:29.629277",
     "exception": false,
     "start_time": "2023-08-30T18:17:29.600791",
     "status": "completed"
    },
    "tags": []
   },
   "outputs": [
    {
     "data": {
      "text/plain": [
       "array([[64,  4],\n",
       "       [ 3, 29]])"
      ]
     },
     "execution_count": 11,
     "metadata": {},
     "output_type": "execute_result"
    }
   ],
   "source": [
    "confusion_matrix(y_test, y_pred)"
   ]
  },
  {
   "cell_type": "markdown",
   "id": "3be14509",
   "metadata": {
    "papermill": {
     "duration": 0.013424,
     "end_time": "2023-08-30T18:17:29.656610",
     "exception": false,
     "start_time": "2023-08-30T18:17:29.643186",
     "status": "completed"
    },
    "tags": []
   },
   "source": [
    "### Note\n",
    "\n",
    "* TP:= 64 correct predictions of class (1)\n",
    "* FP:= 4 incorrect predictions of class (0)\n",
    "* FP:= 3 incorrect predictions of class (1)\n",
    "* TN:= 29 correct predictions of class (0)\n",
    "\n",
    "* TP + TN = 93 = total accuracy"
   ]
  },
  {
   "cell_type": "code",
   "execution_count": 12,
   "id": "d5b7b302",
   "metadata": {
    "execution": {
     "iopub.execute_input": "2023-08-30T18:17:29.685775Z",
     "iopub.status.busy": "2023-08-30T18:17:29.685302Z",
     "iopub.status.idle": "2023-08-30T18:17:29.694622Z",
     "shell.execute_reply": "2023-08-30T18:17:29.693321Z"
    },
    "papermill": {
     "duration": 0.026768,
     "end_time": "2023-08-30T18:17:29.697005",
     "exception": false,
     "start_time": "2023-08-30T18:17:29.670237",
     "status": "completed"
    },
    "tags": []
   },
   "outputs": [
    {
     "data": {
      "text/plain": [
       "0.93"
      ]
     },
     "execution_count": 12,
     "metadata": {},
     "output_type": "execute_result"
    }
   ],
   "source": [
    "accuracy_score(y_test, y_pred)"
   ]
  },
  {
   "cell_type": "markdown",
   "id": "3c399532",
   "metadata": {
    "papermill": {
     "duration": 0.013339,
     "end_time": "2023-08-30T18:17:29.724076",
     "exception": false,
     "start_time": "2023-08-30T18:17:29.710737",
     "status": "completed"
    },
    "tags": []
   },
   "source": [
    "<a id=\"8\"></a>\n",
    "# 8. Visualization\n",
    "\n",
    "[Go back to Index](#index)"
   ]
  },
  {
   "cell_type": "markdown",
   "id": "dd25850d",
   "metadata": {
    "papermill": {
     "duration": 0.013356,
     "end_time": "2023-08-30T18:17:29.751535",
     "exception": false,
     "start_time": "2023-08-30T18:17:29.738179",
     "status": "completed"
    },
    "tags": []
   },
   "source": [
    "<a id=\"8.1\"></a>\n",
    "## 8.1 Training Results\n",
    "\n",
    "[Go back to Index](#index)"
   ]
  },
  {
   "cell_type": "code",
   "execution_count": 13,
   "id": "e1ca9dd0",
   "metadata": {
    "execution": {
     "iopub.execute_input": "2023-08-30T18:17:29.781952Z",
     "iopub.status.busy": "2023-08-30T18:17:29.781515Z",
     "iopub.status.idle": "2023-08-30T18:17:29.876207Z",
     "shell.execute_reply": "2023-08-30T18:17:29.874959Z"
    },
    "papermill": {
     "duration": 0.113268,
     "end_time": "2023-08-30T18:17:29.879050",
     "exception": false,
     "start_time": "2023-08-30T18:17:29.765782",
     "status": "completed"
    },
    "tags": []
   },
   "outputs": [],
   "source": [
    "from matplotlib.colors import ListedColormap\n",
    "X_set, y_set = sc.inverse_transform(X_train), y_train\n",
    "X1, X2 = np.meshgrid(np.arange(start = X_set[:, 0].min() - 10, stop = X_set[:, 0].max() + 10, step = 1),\n",
    "                     np.arange(start = X_set[:, 1].min() - 1000, stop = X_set[:, 1].max() + 1000, step = 1))"
   ]
  },
  {
   "cell_type": "code",
   "execution_count": 14,
   "id": "13a0a54f",
   "metadata": {
    "execution": {
     "iopub.execute_input": "2023-08-30T18:17:29.909632Z",
     "iopub.status.busy": "2023-08-30T18:17:29.909129Z",
     "iopub.status.idle": "2023-08-30T18:18:07.809435Z",
     "shell.execute_reply": "2023-08-30T18:18:07.808185Z"
    },
    "papermill": {
     "duration": 37.919607,
     "end_time": "2023-08-30T18:18:07.812678",
     "exception": false,
     "start_time": "2023-08-30T18:17:29.893071",
     "status": "completed"
    },
    "tags": []
   },
   "outputs": [],
   "source": [
    "y12_pred = classifier.predict(sc.transform(np.array([X1.ravel(), X2.ravel()]).T)).reshape(X1.shape)"
   ]
  },
  {
   "cell_type": "code",
   "execution_count": 15,
   "id": "8f08ca71",
   "metadata": {
    "execution": {
     "iopub.execute_input": "2023-08-30T18:18:07.842476Z",
     "iopub.status.busy": "2023-08-30T18:18:07.842023Z",
     "iopub.status.idle": "2023-08-30T18:18:10.006751Z",
     "shell.execute_reply": "2023-08-30T18:18:10.005040Z"
    },
    "papermill": {
     "duration": 2.18293,
     "end_time": "2023-08-30T18:18:10.009671",
     "exception": false,
     "start_time": "2023-08-30T18:18:07.826741",
     "status": "completed"
    },
    "tags": []
   },
   "outputs": [
    {
     "name": "stderr",
     "output_type": "stream",
     "text": [
      "/tmp/ipykernel_20/2344726442.py:11: UserWarning: *c* argument looks like a single numeric RGB or RGBA sequence, which should be avoided as value-mapping will have precedence in case its length matches with *x* & *y*.  Please use the *color* keyword-argument or provide a 2D array with a single row if you intend to specify the same RGB or RGBA value for all points.\n",
      "  plt.scatter(X_set[y_set == j, 0], X_set[y_set == j, 1], c = ListedColormap(('red', 'green'))(i), label = j)\n"
     ]
    },
    {
     "data": {
      "image/png": "[encoded data removed]",
      "text/plain": [
       "<Figure size 640x480 with 1 Axes>"
      ]
     },
     "metadata": {},
     "output_type": "display_data"
    }
   ],
   "source": [
    "plt.title('Kernel SVM (Training set)')\n",
    "plt.xlabel('Age')\n",
    "plt.ylabel('Estimated Salary')\n",
    "plt.legend()\n",
    "\n",
    "plt.contourf(X1, X2, y12_pred,\n",
    "             alpha = 0.75, cmap = ListedColormap(('red', 'green')))\n",
    "plt.xlim(X1.min(), X1.max())\n",
    "plt.ylim(X2.min(), X2.max())\n",
    "for i, j in enumerate(np.unique(y_set)):\n",
    "    plt.scatter(X_set[y_set == j, 0], X_set[y_set == j, 1], c = ListedColormap(('red', 'green'))(i), label = j)\n",
    "\n",
    "plt.show()"
   ]
  },
  {
   "cell_type": "markdown",
   "id": "6e8c006d",
   "metadata": {
    "papermill": {
     "duration": 0.015292,
     "end_time": "2023-08-30T18:18:10.042051",
     "exception": false,
     "start_time": "2023-08-30T18:18:10.026759",
     "status": "completed"
    },
    "tags": []
   },
   "source": [
    "<a id=\"8.2\"></a>\n",
    "## 8.2 Test Results\n",
    "\n",
    "[Go back to Index](#index)"
   ]
  },
  {
   "cell_type": "code",
   "execution_count": 16,
   "id": "22879042",
   "metadata": {
    "execution": {
     "iopub.execute_input": "2023-08-30T18:18:10.074184Z",
     "iopub.status.busy": "2023-08-30T18:18:10.073757Z",
     "iopub.status.idle": "2023-08-30T18:18:10.144133Z",
     "shell.execute_reply": "2023-08-30T18:18:10.142719Z"
    },
    "papermill": {
     "duration": 0.089832,
     "end_time": "2023-08-30T18:18:10.146966",
     "exception": false,
     "start_time": "2023-08-30T18:18:10.057134",
     "status": "completed"
    },
    "tags": []
   },
   "outputs": [],
   "source": [
    "from matplotlib.colors import ListedColormap\n",
    "X_set, y_set = sc.inverse_transform(X_test), y_test\n",
    "X1, X2 = np.meshgrid(np.arange(start = X_set[:, 0].min() - 10, stop = X_set[:, 0].max() + 10, step = 1),\n",
    "                     np.arange(start = X_set[:, 1].min() - 1000, stop = X_set[:, 1].max() + 1000, step = 1))"
   ]
  },
  {
   "cell_type": "code",
   "execution_count": 17,
   "id": "6816326b",
   "metadata": {
    "execution": {
     "iopub.execute_input": "2023-08-30T18:18:10.179202Z",
     "iopub.status.busy": "2023-08-30T18:18:10.178759Z",
     "iopub.status.idle": "2023-08-30T18:18:48.742434Z",
     "shell.execute_reply": "2023-08-30T18:18:48.740796Z"
    },
    "papermill": {
     "duration": 38.583156,
     "end_time": "2023-08-30T18:18:48.745613",
     "exception": false,
     "start_time": "2023-08-30T18:18:10.162457",
     "status": "completed"
    },
    "tags": []
   },
   "outputs": [],
   "source": [
    "y12_pred = classifier.predict(sc.transform(np.array([X1.ravel(), X2.ravel()]).T)).reshape(X1.shape)"
   ]
  },
  {
   "cell_type": "code",
   "execution_count": 18,
   "id": "c8241346",
   "metadata": {
    "execution": {
     "iopub.execute_input": "2023-08-30T18:18:48.781288Z",
     "iopub.status.busy": "2023-08-30T18:18:48.780505Z",
     "iopub.status.idle": "2023-08-30T18:18:51.022753Z",
     "shell.execute_reply": "2023-08-30T18:18:51.021242Z"
    },
    "papermill": {
     "duration": 2.263798,
     "end_time": "2023-08-30T18:18:51.026035",
     "exception": false,
     "start_time": "2023-08-30T18:18:48.762237",
     "status": "completed"
    },
    "tags": []
   },
   "outputs": [
    {
     "name": "stderr",
     "output_type": "stream",
     "text": [
      "/tmp/ipykernel_20/1634956467.py:5: UserWarning: *c* argument looks like a single numeric RGB or RGBA sequence, which should be avoided as value-mapping will have precedence in case its length matches with *x* & *y*.  Please use the *color* keyword-argument or provide a 2D array with a single row if you intend to specify the same RGB or RGBA value for all points.\n",
      "  plt.scatter(X_set[y_set == j, 0], X_set[y_set == j, 1], c = ListedColormap(('red', 'green'))(i), label = j)\n"
     ]
    },
    {
     "data": {
      "image/png": "[encoded data removed]",
      "text/plain": [
       "<Figure size 640x480 with 1 Axes>"
      ]
     },
     "metadata": {},
     "output_type": "display_data"
    }
   ],
   "source": [
    "plt.contourf(X1, X2, y12_pred, alpha = 0.75, cmap = ListedColormap(('red', 'green')))\n",
    "plt.xlim(X1.min(), X1.max())\n",
    "plt.ylim(X2.min(), X2.max())\n",
    "for i, j in enumerate(np.unique(y_set)):\n",
    "    plt.scatter(X_set[y_set == j, 0], X_set[y_set == j, 1], c = ListedColormap(('red', 'green'))(i), label = j)\n",
    "plt.title('Kernel SVM (Test set)')\n",
    "plt.xlabel('Age')\n",
    "plt.ylabel('Estimated Salary')\n",
    "plt.legend()\n",
    "plt.show()"
   ]
  }
 ],
 "kernelspec": {
  "display_name": "Python 3",
  "language": "python",
  "name": "python3"
 },
 "language_info": {
  "codemirror_mode": {
   "name": "ipython",
   "version": 3
  },
  "file_extension": ".py",
  "mimetype": "text/x-python",
  "name": "python",
  "nbconvert_exporter": "python",
  "pygments_lexer": "ipython3",
  "version": "3.6.4"
 },
 "metadata": {
  "kernelspec": {
   "display_name": "Python 3",
   "language": "python",
   "name": "python3"
  },
  "language_info": {
   "codemirror_mode": {
    "name": "ipython",
    "version": 3
   },
   "file_extension": ".py",
   "mimetype": "text/x-python",
   "name": "python",
   "nbconvert_exporter": "python",
   "pygments_lexer": "ipython3",
   "version": "3.10.12"
  },
  "papermill": {
   "default_parameters": {},
   "duration": 100.994623,
   "end_time": "2023-08-30T18:18:53.379540",
   "environment_variables": {},
   "exception": null,
   "input_path": "__notebook__.ipynb",
   "output_path": "__notebook__.ipynb",
   "parameters": {},
   "start_time": "2023-08-30T18:17:12.384917",
   "version": "2.4.0"
  }
 },
 "nbformat": 4,
 "nbformat_minor": 5
}
