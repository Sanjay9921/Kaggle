{
 "cells": [
  {
   "cell_type": "code",
   "execution_count": 1,
   "id": "a98f22c0",
   "metadata": {
    "_cell_guid": "b1076dfc-b9ad-4769-8c92-a6c4dae69d19",
    "_uuid": "8f2839f25d086af736a60e9eeb907d3b93b6e0e5",
    "execution": {
     "iopub.execute_input": "2023-08-31T17:00:08.490429Z",
     "iopub.status.busy": "2023-08-31T17:00:08.490063Z",
     "iopub.status.idle": "2023-08-31T17:00:08.508682Z",
     "shell.execute_reply": "2023-08-31T17:00:08.507908Z"
    },
    "papermill": {
     "duration": 0.031451,
     "end_time": "2023-08-31T17:00:08.510925",
     "exception": false,
     "start_time": "2023-08-31T17:00:08.479474",
     "status": "completed"
    },
    "tags": []
   },
   "outputs": [
    {
     "name": "stdout",
     "output_type": "stream",
     "text": [
      "/kaggle/input/social-network-ads/Social_Network_Ads.csv\n"
     ]
    }
   ],
   "source": [
    "# This Python 3 environment comes with many helpful analytics libraries installed\n",
    "# It is defined by the kaggle/python Docker image: https://github.com/kaggle/docker-python\n",
    "# For example, here's several helpful packages to load\n",
    "\n",
    "import numpy as np # linear algebra\n",
    "import pandas as pd # data processing, CSV file I/O (e.g. pd.read_csv)\n",
    "\n",
    "# Input data files are available in the read-only \"../input/\" directory\n",
    "# For example, running this (by clicking run or pressing Shift+Enter) will list all files under the input directory\n",
    "\n",
    "import os\n",
    "for dirname, _, filenames in os.walk('/kaggle/input'):\n",
    "    for filename in filenames:\n",
    "        print(os.path.join(dirname, filename))\n",
    "\n",
    "# You can write up to 20GB to the current directory (/kaggle/working/) that gets preserved as output when you create a version using \"Save & Run All\" \n",
    "# You can also write temporary files to /kaggle/temp/, but they won't be saved outside of the current session"
   ]
  },
  {
   "cell_type": "markdown",
   "id": "8144926f",
   "metadata": {
    "papermill": {
     "duration": 0.008201,
     "end_time": "2023-08-31T17:00:08.527916",
     "exception": false,
     "start_time": "2023-08-31T17:00:08.519715",
     "status": "completed"
    },
    "tags": []
   },
   "source": [
    "# Credits and Links\n",
    "\n",
    "* UDEMY - Machine Learning A-Z <sup>TM</sup>*"
   ]
  },
  {
   "cell_type": "markdown",
   "id": "7370fa9a",
   "metadata": {
    "papermill": {
     "duration": 0.007854,
     "end_time": "2023-08-31T17:00:08.544103",
     "exception": false,
     "start_time": "2023-08-31T17:00:08.536249",
     "status": "completed"
    },
    "tags": []
   },
   "source": [
    "<a id=\"index\"></a>\n",
    "# Table of Content\n",
    "\n",
    "1. [Importing Libraries](#1)\n",
    "2. [Importing Dataset](#2)\n",
    "3. [Splitting the dataset into Train/Test](#3)\n",
    "4. [Feature Scaling](#4)\n",
    "5. [Decision Tree Classifier](#5)\n",
    "6. [Prediction](#6)\n",
    "    - [New Result](#6.1)\n",
    "    - [Test Result](#6.2)\n",
    "7. [Confusion Matrix](#7)\n",
    "6. [Visualization](#8)\n",
    "    - [Training set results](#8.1)\n",
    "    - [Test set results](#8.2)"
   ]
  },
  {
   "cell_type": "markdown",
   "id": "f0a43ecd",
   "metadata": {
    "papermill": {
     "duration": 0.007767,
     "end_time": "2023-08-31T17:00:08.560076",
     "exception": false,
     "start_time": "2023-08-31T17:00:08.552309",
     "status": "completed"
    },
    "tags": []
   },
   "source": [
    "<a id=\"1\"></a>\n",
    "# 1. Importing Libraries\n",
    "\n",
    "[Go back to Index](#index)"
   ]
  },
  {
   "cell_type": "code",
   "execution_count": 2,
   "id": "093fa519",
   "metadata": {
    "execution": {
     "iopub.execute_input": "2023-08-31T17:00:08.580450Z",
     "iopub.status.busy": "2023-08-31T17:00:08.579816Z",
     "iopub.status.idle": "2023-08-31T17:00:10.156061Z",
     "shell.execute_reply": "2023-08-31T17:00:10.155139Z"
    },
    "papermill": {
     "duration": 1.588733,
     "end_time": "2023-08-31T17:00:10.158614",
     "exception": false,
     "start_time": "2023-08-31T17:00:08.569881",
     "status": "completed"
    },
    "tags": []
   },
   "outputs": [
    {
     "name": "stderr",
     "output_type": "stream",
     "text": [
      "/opt/conda/lib/python3.10/site-packages/scipy/__init__.py:146: UserWarning: A NumPy version >=1.16.5 and <1.23.0 is required for this version of SciPy (detected version 1.23.5\n",
      "  warnings.warn(f\"A NumPy version >={np_minversion} and <{np_maxversion}\"\n"
     ]
    }
   ],
   "source": [
    "#1. General\n",
    "import pandas as pd\n",
    "import numpy as np\n",
    "import os\n",
    "import matplotlib.pyplot as plt\n",
    "%matplotlib inline\n",
    "\n",
    "#2. Data Preprocessing\n",
    "##2.1 Fill Missing Data\n",
    "from sklearn.impute import SimpleImputer\n",
    "\n",
    "##2.2 Encoding\n",
    "from sklearn.compose import ColumnTransformer\n",
    "from sklearn.preprocessing import OneHotEncoder\n",
    "from sklearn.preprocessing import LabelEncoder\n",
    "\n",
    "##2.3 Splitting Train and Test\n",
    "from sklearn.model_selection import train_test_split\n",
    "\n",
    "##2.4 Feature Scaling\n",
    "from sklearn.preprocessing import StandardScaler\n",
    "\n",
    "#3. Decision Tree (Classifier)\n",
    "from sklearn.tree import DecisionTreeClassifier\n",
    "\n",
    "#4. Scikit Confusion Matrix\n",
    "from sklearn.metrics import confusion_matrix, accuracy_score"
   ]
  },
  {
   "cell_type": "markdown",
   "id": "761fc58b",
   "metadata": {
    "papermill": {
     "duration": 0.008225,
     "end_time": "2023-08-31T17:00:10.175794",
     "exception": false,
     "start_time": "2023-08-31T17:00:10.167569",
     "status": "completed"
    },
    "tags": []
   },
   "source": [
    "<a id=\"2\"></a>\n",
    "# 2. Importing Dataset\n",
    "\n",
    "[Go back to Index](#index)"
   ]
  },
  {
   "cell_type": "code",
   "execution_count": 3,
   "id": "85a64ed7",
   "metadata": {
    "execution": {
     "iopub.execute_input": "2023-08-31T17:00:10.194226Z",
     "iopub.status.busy": "2023-08-31T17:00:10.193811Z",
     "iopub.status.idle": "2023-08-31T17:00:10.214917Z",
     "shell.execute_reply": "2023-08-31T17:00:10.214029Z"
    },
    "papermill": {
     "duration": 0.033013,
     "end_time": "2023-08-31T17:00:10.217287",
     "exception": false,
     "start_time": "2023-08-31T17:00:10.184274",
     "status": "completed"
    },
    "tags": []
   },
   "outputs": [],
   "source": [
    "# Dataset:= Combined Cycle Powerplant.csv\n",
    "df = pd.read_csv('/kaggle/input/social-network-ads/Social_Network_Ads.csv')\n",
    "X = df.iloc[:, :-1].values\n",
    "y = df.iloc[:, -1].values"
   ]
  },
  {
   "cell_type": "markdown",
   "id": "07b2f595",
   "metadata": {
    "papermill": {
     "duration": 0.008275,
     "end_time": "2023-08-31T17:00:10.234420",
     "exception": false,
     "start_time": "2023-08-31T17:00:10.226145",
     "status": "completed"
    },
    "tags": []
   },
   "source": [
    "<a id=\"3\"></a>\n",
    "# 3. Splitting the dataset into Train/Test\n",
    "\n",
    "[Go back to Index](#index)"
   ]
  },
  {
   "cell_type": "code",
   "execution_count": 4,
   "id": "eea47259",
   "metadata": {
    "execution": {
     "iopub.execute_input": "2023-08-31T17:00:10.253259Z",
     "iopub.status.busy": "2023-08-31T17:00:10.252656Z",
     "iopub.status.idle": "2023-08-31T17:00:10.260960Z",
     "shell.execute_reply": "2023-08-31T17:00:10.259772Z"
    },
    "papermill": {
     "duration": 0.020544,
     "end_time": "2023-08-31T17:00:10.263605",
     "exception": false,
     "start_time": "2023-08-31T17:00:10.243061",
     "status": "completed"
    },
    "tags": []
   },
   "outputs": [],
   "source": [
    "X_train, X_test, y_train, y_test = train_test_split(X, y, test_size=0.25, random_state=0)"
   ]
  },
  {
   "cell_type": "markdown",
   "id": "3ce04220",
   "metadata": {
    "papermill": {
     "duration": 0.008495,
     "end_time": "2023-08-31T17:00:10.280533",
     "exception": false,
     "start_time": "2023-08-31T17:00:10.272038",
     "status": "completed"
    },
    "tags": []
   },
   "source": [
    "<a id=\"4\"></a>\n",
    "# 4. Feature Scaling\n",
    "\n",
    "[Go back to Index](#index)"
   ]
  },
  {
   "cell_type": "code",
   "execution_count": 5,
   "id": "58b3df07",
   "metadata": {
    "execution": {
     "iopub.execute_input": "2023-08-31T17:00:10.300430Z",
     "iopub.status.busy": "2023-08-31T17:00:10.299682Z",
     "iopub.status.idle": "2023-08-31T17:00:10.303929Z",
     "shell.execute_reply": "2023-08-31T17:00:10.303129Z"
    },
    "papermill": {
     "duration": 0.016994,
     "end_time": "2023-08-31T17:00:10.305811",
     "exception": false,
     "start_time": "2023-08-31T17:00:10.288817",
     "status": "completed"
    },
    "tags": []
   },
   "outputs": [],
   "source": [
    "sc = StandardScaler()"
   ]
  },
  {
   "cell_type": "code",
   "execution_count": 6,
   "id": "bb036cb2",
   "metadata": {
    "execution": {
     "iopub.execute_input": "2023-08-31T17:00:10.327121Z",
     "iopub.status.busy": "2023-08-31T17:00:10.326258Z",
     "iopub.status.idle": "2023-08-31T17:00:10.334570Z",
     "shell.execute_reply": "2023-08-31T17:00:10.333417Z"
    },
    "papermill": {
     "duration": 0.022001,
     "end_time": "2023-08-31T17:00:10.337017",
     "exception": false,
     "start_time": "2023-08-31T17:00:10.315016",
     "status": "completed"
    },
    "tags": []
   },
   "outputs": [],
   "source": [
    "X_train = sc.fit_transform(X_train)\n",
    "X_test = sc.transform(X_test)"
   ]
  },
  {
   "cell_type": "markdown",
   "id": "cb5e8b1e",
   "metadata": {
    "papermill": {
     "duration": 0.012389,
     "end_time": "2023-08-31T17:00:10.360519",
     "exception": false,
     "start_time": "2023-08-31T17:00:10.348130",
     "status": "completed"
    },
    "tags": []
   },
   "source": [
    "<a id=\"5\"></a>\n",
    "# 5. Support Vector Machine\n",
    "\n",
    "[Go back to Index](#index)"
   ]
  },
  {
   "cell_type": "code",
   "execution_count": 7,
   "id": "7a55eb15",
   "metadata": {
    "execution": {
     "iopub.execute_input": "2023-08-31T17:00:10.387291Z",
     "iopub.status.busy": "2023-08-31T17:00:10.386234Z",
     "iopub.status.idle": "2023-08-31T17:00:10.392549Z",
     "shell.execute_reply": "2023-08-31T17:00:10.390750Z"
    },
    "papermill": {
     "duration": 0.022979,
     "end_time": "2023-08-31T17:00:10.396024",
     "exception": false,
     "start_time": "2023-08-31T17:00:10.373045",
     "status": "completed"
    },
    "tags": []
   },
   "outputs": [],
   "source": [
    "#linear classifier\n",
    "classifier = DecisionTreeClassifier(criterion=\"entropy\", random_state=0)"
   ]
  },
  {
   "cell_type": "code",
   "execution_count": 8,
   "id": "cd1b700a",
   "metadata": {
    "execution": {
     "iopub.execute_input": "2023-08-31T17:00:10.414972Z",
     "iopub.status.busy": "2023-08-31T17:00:10.414569Z",
     "iopub.status.idle": "2023-08-31T17:00:10.430716Z",
     "shell.execute_reply": "2023-08-31T17:00:10.429631Z"
    },
    "papermill": {
     "duration": 0.028059,
     "end_time": "2023-08-31T17:00:10.433111",
     "exception": false,
     "start_time": "2023-08-31T17:00:10.405052",
     "status": "completed"
    },
    "tags": []
   },
   "outputs": [
    {
     "data": {
      "text/html": [
       "<style>#sk-container-id-1 {color: black;background-color: white;}#sk-container-id-1 pre{padding: 0;}#sk-container-id-1 div.sk-toggleable {background-color: white;}#sk-container-id-1 label.sk-toggleable__label {cursor: pointer;display: block;width: 100%;margin-bottom: 0;padding: 0.3em;box-sizing: border-box;text-align: center;}#sk-container-id-1 label.sk-toggleable__label-arrow:before {content: \"▸\";float: left;margin-right: 0.25em;color: #696969;}#sk-container-id-1 label.sk-toggleable__label-arrow:hover:before {color: black;}#sk-container-id-1 div.sk-estimator:hover label.sk-toggleable__label-arrow:before {color: black;}#sk-container-id-1 div.sk-toggleable__content {max-height: 0;max-width: 0;overflow: hidden;text-align: left;background-color: #f0f8ff;}#sk-container-id-1 div.sk-toggleable__content pre {margin: 0.2em;color: black;border-radius: 0.25em;background-color: #f0f8ff;}#sk-container-id-1 input.sk-toggleable__control:checked~div.sk-toggleable__content {max-height: 200px;max-width: 100%;overflow: auto;}#sk-container-id-1 input.sk-toggleable__control:checked~label.sk-toggleable__label-arrow:before {content: \"▾\";}#sk-container-id-1 div.sk-estimator input.sk-toggleable__control:checked~label.sk-toggleable__label {background-color: #d4ebff;}#sk-container-id-1 div.sk-label input.sk-toggleable__control:checked~label.sk-toggleable__label {background-color: #d4ebff;}#sk-container-id-1 input.sk-hidden--visually {border: 0;clip: rect(1px 1px 1px 1px);clip: rect(1px, 1px, 1px, 1px);height: 1px;margin: -1px;overflow: hidden;padding: 0;position: absolute;width: 1px;}#sk-container-id-1 div.sk-estimator {font-family: monospace;background-color: #f0f8ff;border: 1px dotted black;border-radius: 0.25em;box-sizing: border-box;margin-bottom: 0.5em;}#sk-container-id-1 div.sk-estimator:hover {background-color: #d4ebff;}#sk-container-id-1 div.sk-parallel-item::after {content: \"\";width: 100%;border-bottom: 1px solid gray;flex-grow: 1;}#sk-container-id-1 div.sk-label:hover label.sk-toggleable__label {background-color: #d4ebff;}#sk-container-id-1 div.sk-serial::before {content: \"\";position: absolute;border-left: 1px solid gray;box-sizing: border-box;top: 0;bottom: 0;left: 50%;z-index: 0;}#sk-container-id-1 div.sk-serial {display: flex;flex-direction: column;align-items: center;background-color: white;padding-right: 0.2em;padding-left: 0.2em;position: relative;}#sk-container-id-1 div.sk-item {position: relative;z-index: 1;}#sk-container-id-1 div.sk-parallel {display: flex;align-items: stretch;justify-content: center;background-color: white;position: relative;}#sk-container-id-1 div.sk-item::before, #sk-container-id-1 div.sk-parallel-item::before {content: \"\";position: absolute;border-left: 1px solid gray;box-sizing: border-box;top: 0;bottom: 0;left: 50%;z-index: -1;}#sk-container-id-1 div.sk-parallel-item {display: flex;flex-direction: column;z-index: 1;position: relative;background-color: white;}#sk-container-id-1 div.sk-parallel-item:first-child::after {align-self: flex-end;width: 50%;}#sk-container-id-1 div.sk-parallel-item:last-child::after {align-self: flex-start;width: 50%;}#sk-container-id-1 div.sk-parallel-item:only-child::after {width: 0;}#sk-container-id-1 div.sk-dashed-wrapped {border: 1px dashed gray;margin: 0 0.4em 0.5em 0.4em;box-sizing: border-box;padding-bottom: 0.4em;background-color: white;}#sk-container-id-1 div.sk-label label {font-family: monospace;font-weight: bold;display: inline-block;line-height: 1.2em;}#sk-container-id-1 div.sk-label-container {text-align: center;}#sk-container-id-1 div.sk-container {/* jupyter's `normalize.less` sets `[hidden] { display: none; }` but bootstrap.min.css set `[hidden] { display: none !important; }` so we also need the `!important` here to be able to override the default hidden behavior on the sphinx rendered scikit-learn.org. See: https://github.com/scikit-learn/scikit-learn/issues/21755 */display: inline-block !important;position: relative;}#sk-container-id-1 div.sk-text-repr-fallback {display: none;}</style><div id=\"sk-container-id-1\" class=\"sk-top-container\"><div class=\"sk-text-repr-fallback\"><pre>DecisionTreeClassifier(criterion=&#x27;entropy&#x27;, random_state=0)</pre><b>In a Jupyter environment, please rerun this cell to show the HTML representation or trust the notebook. <br />On GitHub, the HTML representation is unable to render, please try loading this page with nbviewer.org.</b></div><div class=\"sk-container\" hidden><div class=\"sk-item\"><div class=\"sk-estimator sk-toggleable\"><input class=\"sk-toggleable__control sk-hidden--visually\" id=\"sk-estimator-id-1\" type=\"checkbox\" checked><label for=\"sk-estimator-id-1\" class=\"sk-toggleable__label sk-toggleable__label-arrow\">DecisionTreeClassifier</label><div class=\"sk-toggleable__content\"><pre>DecisionTreeClassifier(criterion=&#x27;entropy&#x27;, random_state=0)</pre></div></div></div></div></div>"
      ],
      "text/plain": [
       "DecisionTreeClassifier(criterion='entropy', random_state=0)"
      ]
     },
     "execution_count": 8,
     "metadata": {},
     "output_type": "execute_result"
    }
   ],
   "source": [
    "classifier.fit(X_train, y_train)"
   ]
  },
  {
   "cell_type": "markdown",
   "id": "559263b3",
   "metadata": {
    "papermill": {
     "duration": 0.008604,
     "end_time": "2023-08-31T17:00:10.450362",
     "exception": false,
     "start_time": "2023-08-31T17:00:10.441758",
     "status": "completed"
    },
    "tags": []
   },
   "source": [
    "<a id=\"6\"></a>\n",
    "# 6. Prediction\n",
    "\n",
    "[Go back to Index](#index)"
   ]
  },
  {
   "cell_type": "markdown",
   "id": "7df91bb4",
   "metadata": {
    "papermill": {
     "duration": 0.00826,
     "end_time": "2023-08-31T17:00:10.467299",
     "exception": false,
     "start_time": "2023-08-31T17:00:10.459039",
     "status": "completed"
    },
    "tags": []
   },
   "source": [
    "<a id=\"6.1\"></a>\n",
    "## 6.1 Predicting a new value\n",
    "\n",
    "[Go back to Index](#index)"
   ]
  },
  {
   "cell_type": "code",
   "execution_count": 9,
   "id": "82e325d5",
   "metadata": {
    "execution": {
     "iopub.execute_input": "2023-08-31T17:00:10.487044Z",
     "iopub.status.busy": "2023-08-31T17:00:10.486271Z",
     "iopub.status.idle": "2023-08-31T17:00:10.494203Z",
     "shell.execute_reply": "2023-08-31T17:00:10.493125Z"
    },
    "papermill": {
     "duration": 0.019851,
     "end_time": "2023-08-31T17:00:10.496281",
     "exception": false,
     "start_time": "2023-08-31T17:00:10.476430",
     "status": "completed"
    },
    "tags": []
   },
   "outputs": [
    {
     "data": {
      "text/plain": [
       "array([0])"
      ]
     },
     "execution_count": 9,
     "metadata": {},
     "output_type": "execute_result"
    }
   ],
   "source": [
    "#Remember to put 2D array as input\n",
    "#[[Age, Salary]] -> 1 or 0 output\n",
    "#classifier.predict([[30, 87000]]) -> Feature scaling is missing -> wrong output !\n",
    "classifier.predict(sc.transform([[30, 87000]]))"
   ]
  },
  {
   "cell_type": "markdown",
   "id": "dd8ba9fe",
   "metadata": {
    "papermill": {
     "duration": 0.009138,
     "end_time": "2023-08-31T17:00:10.514025",
     "exception": false,
     "start_time": "2023-08-31T17:00:10.504887",
     "status": "completed"
    },
    "tags": []
   },
   "source": [
    "<a id=\"6.2\"></a>\n",
    "## 6.2 Predicting X_test\n",
    "\n",
    "[Go back to Index](#index)"
   ]
  },
  {
   "cell_type": "code",
   "execution_count": 10,
   "id": "202e6592",
   "metadata": {
    "execution": {
     "iopub.execute_input": "2023-08-31T17:00:10.534452Z",
     "iopub.status.busy": "2023-08-31T17:00:10.534010Z",
     "iopub.status.idle": "2023-08-31T17:00:10.541537Z",
     "shell.execute_reply": "2023-08-31T17:00:10.540372Z"
    },
    "papermill": {
     "duration": 0.020029,
     "end_time": "2023-08-31T17:00:10.544060",
     "exception": false,
     "start_time": "2023-08-31T17:00:10.524031",
     "status": "completed"
    },
    "tags": []
   },
   "outputs": [
    {
     "name": "stdout",
     "output_type": "stream",
     "text": [
      "[[0 0]\n",
      " [0 0]\n",
      " [0 0]\n",
      " [0 0]\n",
      " [0 0]\n",
      " [0 0]\n",
      " [0 0]\n",
      " [1 1]\n",
      " [0 0]\n",
      " [0 0]\n",
      " [0 0]\n",
      " [0 0]\n",
      " [0 0]\n",
      " [1 0]\n",
      " [0 0]\n",
      " [1 0]\n",
      " [1 0]\n",
      " [0 0]\n",
      " [1 1]\n",
      " [0 0]\n",
      " [0 0]\n",
      " [1 1]\n",
      " [0 0]\n",
      " [1 1]\n",
      " [0 0]\n",
      " [0 1]\n",
      " [0 0]\n",
      " [0 0]\n",
      " [0 0]\n",
      " [0 0]\n",
      " [0 0]\n",
      " [0 1]\n",
      " [1 1]\n",
      " [0 0]\n",
      " [0 0]\n",
      " [0 0]\n",
      " [0 0]\n",
      " [0 0]\n",
      " [0 0]\n",
      " [1 1]\n",
      " [0 0]\n",
      " [0 0]\n",
      " [0 0]\n",
      " [0 0]\n",
      " [1 1]\n",
      " [0 0]\n",
      " [0 0]\n",
      " [1 1]\n",
      " [0 0]\n",
      " [1 1]\n",
      " [1 1]\n",
      " [0 0]\n",
      " [0 0]\n",
      " [1 0]\n",
      " [1 1]\n",
      " [1 1]\n",
      " [0 0]\n",
      " [0 0]\n",
      " [1 1]\n",
      " [0 0]\n",
      " [0 0]\n",
      " [1 1]\n",
      " [0 0]\n",
      " [1 1]\n",
      " [0 0]\n",
      " [1 1]\n",
      " [0 0]\n",
      " [0 0]\n",
      " [0 0]\n",
      " [1 0]\n",
      " [1 1]\n",
      " [0 0]\n",
      " [0 0]\n",
      " [1 1]\n",
      " [0 0]\n",
      " [0 0]\n",
      " [0 0]\n",
      " [0 0]\n",
      " [1 1]\n",
      " [1 1]\n",
      " [1 1]\n",
      " [1 0]\n",
      " [0 0]\n",
      " [0 0]\n",
      " [1 1]\n",
      " [0 1]\n",
      " [0 0]\n",
      " [1 1]\n",
      " [1 1]\n",
      " [0 0]\n",
      " [0 0]\n",
      " [1 1]\n",
      " [0 0]\n",
      " [0 0]\n",
      " [0 0]\n",
      " [1 1]\n",
      " [0 0]\n",
      " [1 1]\n",
      " [1 1]\n",
      " [1 1]]\n"
     ]
    }
   ],
   "source": [
    "y_pred = classifier.predict(X_test) #X_test has already undergone feature scaling\n",
    "_y_pred = y_pred.reshape(len(y_pred),1) #Convert 1D -> 2D\n",
    "_y_test = y_test.reshape(len(y_test),1) #Convert 1D -> 2D\n",
    "print(np.concatenate((_y_pred, _y_test),1)) #Side by side depiciton of predicted vs actual results expected"
   ]
  },
  {
   "cell_type": "markdown",
   "id": "241eb688",
   "metadata": {
    "papermill": {
     "duration": 0.008431,
     "end_time": "2023-08-31T17:00:10.561608",
     "exception": false,
     "start_time": "2023-08-31T17:00:10.553177",
     "status": "completed"
    },
    "tags": []
   },
   "source": [
    "<a id=\"7\"></a>\n",
    "# 7. Confusion Matrix\n",
    "\n",
    "[Go back to Index](#index)"
   ]
  },
  {
   "cell_type": "markdown",
   "id": "81d34eb7",
   "metadata": {
    "papermill": {
     "duration": 0.008628,
     "end_time": "2023-08-31T17:00:10.578867",
     "exception": false,
     "start_time": "2023-08-31T17:00:10.570239",
     "status": "completed"
    },
    "tags": []
   },
   "source": [
    "<a href=\"https://towardsdatascience.com/understanding-confusion-matrix-a9ad42dcfd62\">Confusion Matrix Explained</a>\n",
    "\n",
    "<a href=\"https://datascience.stackexchange.com/questions/28426/train-accuracy-vs-test-accuracy-vs-confusion-matrix\">confusion matrix vs accuracy_score</a>"
   ]
  },
  {
   "cell_type": "code",
   "execution_count": 11,
   "id": "37f5edd1",
   "metadata": {
    "execution": {
     "iopub.execute_input": "2023-08-31T17:00:10.598052Z",
     "iopub.status.busy": "2023-08-31T17:00:10.597652Z",
     "iopub.status.idle": "2023-08-31T17:00:10.607217Z",
     "shell.execute_reply": "2023-08-31T17:00:10.606076Z"
    },
    "papermill": {
     "duration": 0.022199,
     "end_time": "2023-08-31T17:00:10.609752",
     "exception": false,
     "start_time": "2023-08-31T17:00:10.587553",
     "status": "completed"
    },
    "tags": []
   },
   "outputs": [
    {
     "data": {
      "text/plain": [
       "array([[62,  6],\n",
       "       [ 3, 29]])"
      ]
     },
     "execution_count": 11,
     "metadata": {},
     "output_type": "execute_result"
    }
   ],
   "source": [
    "confusion_matrix(y_test, y_pred)"
   ]
  },
  {
   "cell_type": "markdown",
   "id": "a5f9a262",
   "metadata": {
    "papermill": {
     "duration": 0.00863,
     "end_time": "2023-08-31T17:00:10.627705",
     "exception": false,
     "start_time": "2023-08-31T17:00:10.619075",
     "status": "completed"
    },
    "tags": []
   },
   "source": [
    "### Note\n",
    "\n",
    "* TP:= 62 correct predictions of class (1)\n",
    "* FP:= 6 incorrect predictions of class (0)\n",
    "* FP:= 3 incorrect predictions of class (1)\n",
    "* TN:= 29 correct predictions of class (0)\n",
    "\n",
    "* TP + TN = 91 = total accuracy"
   ]
  },
  {
   "cell_type": "code",
   "execution_count": 12,
   "id": "603ca2de",
   "metadata": {
    "execution": {
     "iopub.execute_input": "2023-08-31T17:00:10.647246Z",
     "iopub.status.busy": "2023-08-31T17:00:10.646800Z",
     "iopub.status.idle": "2023-08-31T17:00:10.655288Z",
     "shell.execute_reply": "2023-08-31T17:00:10.654265Z"
    },
    "papermill": {
     "duration": 0.020842,
     "end_time": "2023-08-31T17:00:10.657497",
     "exception": false,
     "start_time": "2023-08-31T17:00:10.636655",
     "status": "completed"
    },
    "tags": []
   },
   "outputs": [
    {
     "data": {
      "text/plain": [
       "0.91"
      ]
     },
     "execution_count": 12,
     "metadata": {},
     "output_type": "execute_result"
    }
   ],
   "source": [
    "accuracy_score(y_test, y_pred)"
   ]
  },
  {
   "cell_type": "markdown",
   "id": "a1c94a93",
   "metadata": {
    "papermill": {
     "duration": 0.008788,
     "end_time": "2023-08-31T17:00:10.675700",
     "exception": false,
     "start_time": "2023-08-31T17:00:10.666912",
     "status": "completed"
    },
    "tags": []
   },
   "source": [
    "<a id=\"8\"></a>\n",
    "# 8. Visualization\n",
    "\n",
    "[Go back to Index](#index)"
   ]
  },
  {
   "cell_type": "markdown",
   "id": "c58f17ce",
   "metadata": {
    "papermill": {
     "duration": 0.008627,
     "end_time": "2023-08-31T17:00:10.693392",
     "exception": false,
     "start_time": "2023-08-31T17:00:10.684765",
     "status": "completed"
    },
    "tags": []
   },
   "source": [
    "<a id=\"8.1\"></a>\n",
    "## 8.1 Training Results\n",
    "\n",
    "[Go back to Index](#index)"
   ]
  },
  {
   "cell_type": "code",
   "execution_count": 13,
   "id": "7c419805",
   "metadata": {
    "execution": {
     "iopub.execute_input": "2023-08-31T17:00:10.713569Z",
     "iopub.status.busy": "2023-08-31T17:00:10.712570Z",
     "iopub.status.idle": "2023-08-31T17:00:10.775405Z",
     "shell.execute_reply": "2023-08-31T17:00:10.774205Z"
    },
    "papermill": {
     "duration": 0.075821,
     "end_time": "2023-08-31T17:00:10.778077",
     "exception": false,
     "start_time": "2023-08-31T17:00:10.702256",
     "status": "completed"
    },
    "tags": []
   },
   "outputs": [],
   "source": [
    "from matplotlib.colors import ListedColormap\n",
    "X_set, y_set = sc.inverse_transform(X_train), y_train\n",
    "X1, X2 = np.meshgrid(np.arange(start = X_set[:, 0].min() - 10, stop = X_set[:, 0].max() + 10, step = 1),\n",
    "                     np.arange(start = X_set[:, 1].min() - 1000, stop = X_set[:, 1].max() + 1000, step = 1))"
   ]
  },
  {
   "cell_type": "code",
   "execution_count": 14,
   "id": "098d45e4",
   "metadata": {
    "execution": {
     "iopub.execute_input": "2023-08-31T17:00:10.798740Z",
     "iopub.status.busy": "2023-08-31T17:00:10.797815Z",
     "iopub.status.idle": "2023-08-31T17:00:11.416245Z",
     "shell.execute_reply": "2023-08-31T17:00:11.415175Z"
    },
    "papermill": {
     "duration": 0.631674,
     "end_time": "2023-08-31T17:00:11.418947",
     "exception": false,
     "start_time": "2023-08-31T17:00:10.787273",
     "status": "completed"
    },
    "tags": []
   },
   "outputs": [],
   "source": [
    "y12_pred = classifier.predict(sc.transform(np.array([X1.ravel(), X2.ravel()]).T)).reshape(X1.shape)"
   ]
  },
  {
   "cell_type": "code",
   "execution_count": 15,
   "id": "3993df34",
   "metadata": {
    "execution": {
     "iopub.execute_input": "2023-08-31T17:00:11.439551Z",
     "iopub.status.busy": "2023-08-31T17:00:11.439183Z",
     "iopub.status.idle": "2023-08-31T17:00:13.651101Z",
     "shell.execute_reply": "2023-08-31T17:00:13.649989Z"
    },
    "papermill": {
     "duration": 2.225366,
     "end_time": "2023-08-31T17:00:13.653900",
     "exception": false,
     "start_time": "2023-08-31T17:00:11.428534",
     "status": "completed"
    },
    "tags": []
   },
   "outputs": [
    {
     "name": "stderr",
     "output_type": "stream",
     "text": [
      "/tmp/ipykernel_20/224499679.py:11: UserWarning: *c* argument looks like a single numeric RGB or RGBA sequence, which should be avoided as value-mapping will have precedence in case its length matches with *x* & *y*.  Please use the *color* keyword-argument or provide a 2D array with a single row if you intend to specify the same RGB or RGBA value for all points.\n",
      "  plt.scatter(X_set[y_set == j, 0], X_set[y_set == j, 1], c = ListedColormap(('red', 'green'))(i), label = j)\n"
     ]
    },
    {
     "data": {
      "image/png": "[encoded data removed]",
      "text/plain": [
       "<Figure size 640x480 with 1 Axes>"
      ]
     },
     "metadata": {},
     "output_type": "display_data"
    }
   ],
   "source": [
    "plt.title('Decision Tree (Classifier)')\n",
    "plt.xlabel('Age')\n",
    "plt.ylabel('Estimated Salary')\n",
    "plt.legend()\n",
    "\n",
    "plt.contourf(X1, X2, y12_pred,\n",
    "             alpha = 0.75, cmap = ListedColormap(('red', 'green')))\n",
    "plt.xlim(X1.min(), X1.max())\n",
    "plt.ylim(X2.min(), X2.max())\n",
    "for i, j in enumerate(np.unique(y_set)):\n",
    "    plt.scatter(X_set[y_set == j, 0], X_set[y_set == j, 1], c = ListedColormap(('red', 'green'))(i), label = j)\n",
    "\n",
    "plt.show()"
   ]
  },
  {
   "cell_type": "markdown",
   "id": "3a61ee4f",
   "metadata": {
    "papermill": {
     "duration": 0.010503,
     "end_time": "2023-08-31T17:00:13.674331",
     "exception": false,
     "start_time": "2023-08-31T17:00:13.663828",
     "status": "completed"
    },
    "tags": []
   },
   "source": [
    "<a id=\"8.2\"></a>\n",
    "## 8.2 Test Results\n",
    "\n",
    "[Go back to Index](#index)"
   ]
  },
  {
   "cell_type": "code",
   "execution_count": 16,
   "id": "8434ac3e",
   "metadata": {
    "execution": {
     "iopub.execute_input": "2023-08-31T17:00:13.696272Z",
     "iopub.status.busy": "2023-08-31T17:00:13.695642Z",
     "iopub.status.idle": "2023-08-31T17:00:13.740060Z",
     "shell.execute_reply": "2023-08-31T17:00:13.738965Z"
    },
    "papermill": {
     "duration": 0.058431,
     "end_time": "2023-08-31T17:00:13.742636",
     "exception": false,
     "start_time": "2023-08-31T17:00:13.684205",
     "status": "completed"
    },
    "tags": []
   },
   "outputs": [],
   "source": [
    "from matplotlib.colors import ListedColormap\n",
    "X_set, y_set = sc.inverse_transform(X_test), y_test\n",
    "X1, X2 = np.meshgrid(np.arange(start = X_set[:, 0].min() - 10, stop = X_set[:, 0].max() + 10, step = 1),\n",
    "                     np.arange(start = X_set[:, 1].min() - 1000, stop = X_set[:, 1].max() + 1000, step = 1))"
   ]
  },
  {
   "cell_type": "code",
   "execution_count": 17,
   "id": "5443a704",
   "metadata": {
    "execution": {
     "iopub.execute_input": "2023-08-31T17:00:13.764629Z",
     "iopub.status.busy": "2023-08-31T17:00:13.764255Z",
     "iopub.status.idle": "2023-08-31T17:00:14.328362Z",
     "shell.execute_reply": "2023-08-31T17:00:14.327251Z"
    },
    "papermill": {
     "duration": 0.578055,
     "end_time": "2023-08-31T17:00:14.331044",
     "exception": false,
     "start_time": "2023-08-31T17:00:13.752989",
     "status": "completed"
    },
    "tags": []
   },
   "outputs": [],
   "source": [
    "y12_pred = classifier.predict(sc.transform(np.array([X1.ravel(), X2.ravel()]).T)).reshape(X1.shape)"
   ]
  },
  {
   "cell_type": "code",
   "execution_count": 18,
   "id": "9d91e481",
   "metadata": {
    "execution": {
     "iopub.execute_input": "2023-08-31T17:00:14.353589Z",
     "iopub.status.busy": "2023-08-31T17:00:14.353224Z",
     "iopub.status.idle": "2023-08-31T17:00:16.574794Z",
     "shell.execute_reply": "2023-08-31T17:00:16.573624Z"
    },
    "papermill": {
     "duration": 2.236127,
     "end_time": "2023-08-31T17:00:16.577272",
     "exception": false,
     "start_time": "2023-08-31T17:00:14.341145",
     "status": "completed"
    },
    "tags": []
   },
   "outputs": [
    {
     "name": "stderr",
     "output_type": "stream",
     "text": [
      "/tmp/ipykernel_20/621416509.py:5: UserWarning: *c* argument looks like a single numeric RGB or RGBA sequence, which should be avoided as value-mapping will have precedence in case its length matches with *x* & *y*.  Please use the *color* keyword-argument or provide a 2D array with a single row if you intend to specify the same RGB or RGBA value for all points.\n",
      "  plt.scatter(X_set[y_set == j, 0], X_set[y_set == j, 1], c = ListedColormap(('red', 'green'))(i), label = j)\n"
     ]
    },
    {
     "data": {
      "image/png": "[encoded data removed]",
      "text/plain": [
       "<Figure size 640x480 with 1 Axes>"
      ]
     },
     "metadata": {},
     "output_type": "display_data"
    }
   ],
   "source": [
    "plt.contourf(X1, X2, y12_pred, alpha = 0.75, cmap = ListedColormap(('red', 'green')))\n",
    "plt.xlim(X1.min(), X1.max())\n",
    "plt.ylim(X2.min(), X2.max())\n",
    "for i, j in enumerate(np.unique(y_set)):\n",
    "    plt.scatter(X_set[y_set == j, 0], X_set[y_set == j, 1], c = ListedColormap(('red', 'green'))(i), label = j)\n",
    "plt.title('Decision Tree Classifer (Test Set)')\n",
    "plt.xlabel('Age')\n",
    "plt.ylabel('Estimated Salary')\n",
    "plt.legend()\n",
    "plt.show()"
   ]
  }
 ],
 "kernelspec": {
  "display_name": "Python 3",
  "language": "python",
  "name": "python3"
 },
 "language_info": {
  "codemirror_mode": {
   "name": "ipython",
   "version": 3
  },
  "file_extension": ".py",
  "mimetype": "text/x-python",
  "name": "python",
  "nbconvert_exporter": "python",
  "pygments_lexer": "ipython3",
  "version": "3.6.4"
 },
 "metadata": {
  "kernelspec": {
   "display_name": "Python 3",
   "language": "python",
   "name": "python3"
  },
  "language_info": {
   "codemirror_mode": {
    "name": "ipython",
    "version": 3
   },
   "file_extension": ".py",
   "mimetype": "text/x-python",
   "name": "python",
   "nbconvert_exporter": "python",
   "pygments_lexer": "ipython3",
   "version": "3.10.12"
  },
  "papermill": {
   "default_parameters": {},
   "duration": 18.75796,
   "end_time": "2023-08-31T17:00:17.512405",
   "environment_variables": {},
   "exception": null,
   "input_path": "__notebook__.ipynb",
   "output_path": "__notebook__.ipynb",
   "parameters": {},
   "start_time": "2023-08-31T16:59:58.754445",
   "version": "2.4.0"
  }
 },
 "nbformat": 4,
 "nbformat_minor": 5
}
